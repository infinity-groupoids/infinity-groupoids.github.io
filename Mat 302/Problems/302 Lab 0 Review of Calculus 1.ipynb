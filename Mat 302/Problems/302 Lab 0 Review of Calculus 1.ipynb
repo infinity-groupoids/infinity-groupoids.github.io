{
 "cells": [
  {
   "cell_type": "markdown",
   "id": "1127c260",
   "metadata": {},
   "source": [
    "# <center> Lab 0 Examples \n",
    "## <center>    Calculus 1 Review\n",
    "    \n",
    "This Lab should be used in addition to tutorial 2. Students who didn't use Jupyter in Calculus 1, should do both Tutorial 2 and this Lab. Students who have done Jupyter labs in the past should do this Lab, but are encoranged to review Tutorial 2 as well. It is also encouraged to share all Examples Labs from Calculus 1 with students.\n",
    "\n",
    "**Video**: https://youtu.be/T-peF8uOzIA\n",
    "    \n",
    "\n",
    "We start with importing all needed libraries. We will use NumPy, SymPy and Matlplotlib. We will also add a variable for SymPy."
   ]
  },
  {
   "cell_type": "code",
   "execution_count": 12,
   "id": "43770021",
   "metadata": {},
   "outputs": [
    {
     "data": {
      "text/latex": [
       "$\\displaystyle x$"
      ],
      "text/plain": [
       "x"
      ]
     },
     "execution_count": 12,
     "metadata": {},
     "output_type": "execute_result"
    }
   ],
   "source": [
    "import numpy as np\n",
    "import sympy as sp\n",
    "from matplotlib import pyplot as plt\n",
    "from numpy.polynomial import *\n",
    "\n",
    "\n",
    "sp.var('x')"
   ]
  },
  {
   "cell_type": "markdown",
   "id": "b46396cc",
   "metadata": {},
   "source": [
    "#### Example 1 - Limits and lambdify\n",
    "\n",
    "Let $f(x)=\\frac{sin(x-2)}{x-2}$. Let's find the limit at $x=2$ and let's plot the graph.\n",
    "\n",
    "Note: we can find `limit` using command that is in SymPy, but ploting SymPy functions is tricky. To plot, it is easier to use NumPy function. Command `lambdify` allows us to convert from SymPy to NumPy."
   ]
  },
  {
   "cell_type": "code",
   "execution_count": 13,
   "id": "f6c775bf",
   "metadata": {},
   "outputs": [
    {
     "name": "stdout",
     "output_type": "stream",
     "text": [
      "Limit at x=2 is  1\n"
     ]
    }
   ],
   "source": [
    "f=(sp.sin(x-2))/(x-2)\n",
    "L=sp.limit(f, x, 2, '+-')  # +-  means it is two sided limit. One sided limits, you can use either just + or just -\n",
    "print(\"Limit at x=2 is \", L)"
   ]
  },
  {
   "cell_type": "markdown",
   "id": "daaf8952",
   "metadata": {},
   "source": [
    "Now the graph:"
   ]
  },
  {
   "cell_type": "code",
   "execution_count": 14,
   "id": "7af40108",
   "metadata": {},
   "outputs": [
    {
     "data": {
      "image/png": "[encoded data removed]",
      "text/plain": [
       "<Figure size 640x480 with 1 Axes>"
      ]
     },
     "metadata": {},
     "output_type": "display_data"
    }
   ],
   "source": [
    "fn=sp.lambdify(x,f,'numpy')\n",
    "\n",
    "xval=np.linspace(0,4,1000)\n",
    "\n",
    "fig=plt.figure()\n",
    "\n",
    "plt.plot(xval,fn(xval), color='blue',label=\"Function\")\n",
    "plt.plot(2,L, marker=\"o\", color='red')         # marker allows us to highligh individual points.\n",
    "plt.grid()\n",
    "\n",
    "plt.title(\"Function and Limit\")\n",
    "\n",
    "plt.show()"
   ]
  },
  {
   "cell_type": "markdown",
   "id": "57292a6c",
   "metadata": {},
   "source": [
    "**Note:** If we need to find limit at infinity we can use `sp.oo` for $\\infty$, and `-sp.oo` for $-\\infty$:"
   ]
  },
  {
   "cell_type": "code",
   "execution_count": 15,
   "id": "f29b8b4a",
   "metadata": {},
   "outputs": [
    {
     "data": {
      "text/latex": [
       "$\\displaystyle 0$"
      ],
      "text/plain": [
       "0"
      ]
     },
     "execution_count": 15,
     "metadata": {},
     "output_type": "execute_result"
    }
   ],
   "source": [
    "sp.limit(f,x,sp.oo)"
   ]
  },
  {
   "cell_type": "markdown",
   "id": "4d4b3563",
   "metadata": {},
   "source": [
    "#### Example 2 - Derivatives, Solve and Evaluation\n",
    " \n",
    "We can use SymPy to find derivatives as well.\n",
    "\n",
    "Let $f(x)=\\frac{e^x}{x^2-1}$. Let's find critical points.\n",
    "\n",
    "First thing we need to do is to find derivative:"
   ]
  },
  {
   "cell_type": "code",
   "execution_count": 16,
   "id": "7914938a",
   "metadata": {},
   "outputs": [
    {
     "data": {
      "text/latex": [
       "$\\displaystyle - \\frac{2 x e^{x}}{\\left(x^{2} - 1\\right)^{2}} + \\frac{e^{x}}{x^{2} - 1}$"
      ],
      "text/plain": [
       "-2*x*exp(x)/(x**2 - 1)**2 + exp(x)/(x**2 - 1)"
      ]
     },
     "execution_count": 16,
     "metadata": {},
     "output_type": "execute_result"
    }
   ],
   "source": [
    "f=(sp.exp(x))/(x**2-1)\n",
    "fd=f.diff(x)\n",
    "fd"
   ]
  },
  {
   "cell_type": "markdown",
   "id": "974f9adb",
   "metadata": {},
   "source": [
    "Now we need to find critical points by equating the derivative to zero and solving an equation. There are multiple ways to solve equation: `sp.solveset`, `sp.solve`, `sp.nsolve`, etc. First one is generally the best, but sometimes solutions are harder to read; the second command is outdated version of `solveset`, but sometimes solutions are easier to read; finally, last commands will estimate only one of the solution. You shouldn't really use `nsolve` unless first two commands can't find solutions because equation is too difficult. Another helpful commands here is `sp.N`. It will convert solutions into decimal form, making them easier to read or compare."
   ]
  },
  {
   "cell_type": "code",
   "execution_count": 17,
   "id": "a422909b",
   "metadata": {},
   "outputs": [
    {
     "data": {
      "text/latex": [
       "$\\displaystyle \\left\\{1 - \\sqrt{2}, 1 + \\sqrt{2}\\right\\}$"
      ],
      "text/plain": [
       "{1 - sqrt(2), 1 + sqrt(2)}"
      ]
     },
     "execution_count": 17,
     "metadata": {},
     "output_type": "execute_result"
    }
   ],
   "source": [
    "sp.solveset(fd,x)"
   ]
  },
  {
   "cell_type": "markdown",
   "id": "2710c9ed",
   "metadata": {},
   "source": [
    "Those are precise solution. If we need to see decimal form:"
   ]
  },
  {
   "cell_type": "code",
   "execution_count": 18,
   "id": "3f7cdeab",
   "metadata": {},
   "outputs": [
    {
     "data": {
      "text/latex": [
       "$\\displaystyle \\left\\{-0.414213562373095, 2.41421356237309\\right\\}$"
      ],
      "text/plain": [
       "{-0.414213562373095, 2.41421356237309}"
      ]
     },
     "execution_count": 18,
     "metadata": {},
     "output_type": "execute_result"
    }
   ],
   "source": [
    "sp.N(sp.solveset(fd,x))"
   ]
  },
  {
   "cell_type": "markdown",
   "id": "203b8baa",
   "metadata": {},
   "source": [
    "What about second derivative?"
   ]
  },
  {
   "cell_type": "code",
   "execution_count": 19,
   "id": "b10217df",
   "metadata": {},
   "outputs": [
    {
     "data": {
      "text/latex": [
       "$\\displaystyle \\frac{\\left(- \\frac{4 x}{x^{2} - 1} + 1 + \\frac{2 \\cdot \\left(\\frac{4 x^{2}}{x^{2} - 1} - 1\\right)}{x^{2} - 1}\\right) e^{x}}{x^{2} - 1}$"
      ],
      "text/plain": [
       "(-4*x/(x**2 - 1) + 1 + 2*(4*x**2/(x**2 - 1) - 1)/(x**2 - 1))*exp(x)/(x**2 - 1)"
      ]
     },
     "execution_count": 19,
     "metadata": {},
     "output_type": "execute_result"
    }
   ],
   "source": [
    "f.diff(x,2)"
   ]
  },
  {
   "cell_type": "markdown",
   "id": "5b5c22eb",
   "metadata": {},
   "source": [
    "We can also evaluate our functions at any value. There are few ways of doing it. If you have the NumPy type function, it is pretty straighforward. You just write they way you would write on paper. If it is SymPy, you can use `.subs()`. For example, let's evaluate $f(x)$ at one of the critical points.\n",
    "\n",
    "In SymPy:"
   ]
  },
  {
   "cell_type": "code",
   "execution_count": 20,
   "id": "c78bbcbd",
   "metadata": {},
   "outputs": [
    {
     "data": {
      "text/latex": [
       "$\\displaystyle \\frac{1}{\\left(-1 + \\left(1 - \\sqrt{2}\\right)^{2}\\right) e^{-1 + \\sqrt{2}}}$"
      ],
      "text/plain": [
       "exp(1 - sqrt(2))/(-1 + (1 - sqrt(2))**2)"
      ]
     },
     "execution_count": 20,
     "metadata": {},
     "output_type": "execute_result"
    }
   ],
   "source": [
    "f.subs(x,1-sp.sqrt(2))"
   ]
  },
  {
   "cell_type": "code",
   "execution_count": 21,
   "id": "2a670ee7",
   "metadata": {},
   "outputs": [
    {
     "data": {
      "text/latex": [
       "$\\displaystyle -0.797728347691777$"
      ],
      "text/plain": [
       "-0.797728347691777"
      ]
     },
     "execution_count": 21,
     "metadata": {},
     "output_type": "execute_result"
    }
   ],
   "source": [
    "sp.N(f.subs(x,1-sp.sqrt(2)))"
   ]
  },
  {
   "cell_type": "markdown",
   "id": "50099805",
   "metadata": {},
   "source": [
    "In NumPy:"
   ]
  },
  {
   "cell_type": "code",
   "execution_count": 22,
   "id": "c77423a0",
   "metadata": {},
   "outputs": [
    {
     "data": {
      "text/plain": [
       "-0.797728347691777"
      ]
     },
     "execution_count": 22,
     "metadata": {},
     "output_type": "execute_result"
    }
   ],
   "source": [
    "fn=sp.lambdify(x,f)\n",
    "\n",
    "fn(1-np.sqrt(2))"
   ]
  },
  {
   "cell_type": "markdown",
   "id": "505bed96",
   "metadata": {},
   "source": [
    "#### Example 3 - Integration\n",
    "\n",
    "SymPy allows us to integrate as well using `sp.integrate`.\n",
    "\n",
    "Let's find $\\int (\\sin(x)-x) dx$ and $\\int_0^1 (\\sin(x)-x) dx$"
   ]
  },
  {
   "cell_type": "code",
   "execution_count": 23,
   "id": "b2bd1d73",
   "metadata": {},
   "outputs": [
    {
     "data": {
      "text/latex": [
       "$\\displaystyle - \\frac{x^{2}}{2} - \\cos{\\left(x \\right)}$"
      ],
      "text/plain": [
       "-x**2/2 - cos(x)"
      ]
     },
     "execution_count": 23,
     "metadata": {},
     "output_type": "execute_result"
    }
   ],
   "source": [
    "f=sp.sin(x)-x\n",
    "sp.integrate(f,x)"
   ]
  },
  {
   "cell_type": "markdown",
   "id": "c6264c8f",
   "metadata": {},
   "source": [
    "As you can see, \"+C\" is not being shown.\n",
    "\n",
    "Now the definite integral:"
   ]
  },
  {
   "cell_type": "code",
   "execution_count": 24,
   "id": "1ab19481",
   "metadata": {},
   "outputs": [
    {
     "data": {
      "text/latex": [
       "$\\displaystyle \\frac{1}{2} - \\cos{\\left(1 \\right)}$"
      ],
      "text/plain": [
       "1/2 - cos(1)"
      ]
     },
     "execution_count": 24,
     "metadata": {},
     "output_type": "execute_result"
    }
   ],
   "source": [
    "sp.integrate(f,(x,0,1))"
   ]
  },
  {
   "cell_type": "code",
   "execution_count": 25,
   "id": "287e7240",
   "metadata": {},
   "outputs": [
    {
     "data": {
      "text/latex": [
       "$\\displaystyle -0.0403023058681397$"
      ],
      "text/plain": [
       "-0.0403023058681397"
      ]
     },
     "execution_count": 25,
     "metadata": {},
     "output_type": "execute_result"
    }
   ],
   "source": [
    "sp.N(sp.integrate(f,(x,0,1)))"
   ]
  },
  {
   "cell_type": "markdown",
   "id": "72e77f12",
   "metadata": {},
   "source": [
    "#### Example 4 - Polynomials and Models\n",
    "\n",
    "The stopping distance $T$ of an automobile, on dry, level pavement, traveling at the speed $v$ (in kilometers per hour) is the distance $R$ (in meters) the car travels during the reaction time of the driver plus the distance $B$ (in meters) the car travels after the breaks are applied. The table below shows the results of an experiment\n",
    "$$\n",
    "\\begin{aligned}\n",
    "\\begin{array}{|c|c|c|c|c|c|}\n",
    "\\hline \\hline \n",
    "v & 20 & 40 & 60 & 80 &100 \\\\\n",
    "\\hline \n",
    "R & 8.3 & 16.7 & 25.0 & 33.3 & 41.7\\\\\n",
    "\\hline\n",
    "B & 2.3 & 9.0 & 20.2 & 35.8 & 55.9\\\\\n",
    "\\hline\n",
    "\\end{array}\n",
    "\\end{aligned}\n",
    "$$\n",
    "\n",
    "The goal of this problem is to find a linear model for $R$ and quadratic model for $B$, then find $T$ and few other things about $T$.\n",
    "\n",
    "\n",
    "To start, let's create 3 arrays with our values:"
   ]
  },
  {
   "cell_type": "code",
   "execution_count": 26,
   "id": "39ace283",
   "metadata": {},
   "outputs": [],
   "source": [
    "v=[20,40,60,80,100]\n",
    "R=[8.3,16.7, 25.0,33.3,41.7]\n",
    "B=[2.3,9.0,20.2,35.8,55.9]"
   ]
  },
  {
   "cell_type": "markdown",
   "id": "860c69d8",
   "metadata": {},
   "source": [
    "Next, we will use NumPy to create a linear model for R and quadratic one for B. \n",
    "\n",
    "NumPy has a sublibrary `polynomial` that can do a lot of nice things with polynomials. To avoid writing `np.polynomial.Polynomial` all the time you should add this sublibrary separatelly. In this Lab, we have already added it right away with all its own other sublibraries."
   ]
  },
  {
   "cell_type": "code",
   "execution_count": 27,
   "id": "e94c2aba",
   "metadata": {},
   "outputs": [],
   "source": [
    "xval=np.linspace(0,100,1000)   # we are avoiding using v or x here, because we have other uses for those.\n",
    "\n",
    "# Next two commands create the models. Which in reality are just coefficients of your polynomial model.\n",
    "Rmodel=polynomial.polyfit(v,R,1) # 1 at the end is the degree of the model. Here it is 1, so it is linear.\n",
    "Bmodel=polynomial.polyfit(v,B,2)\n",
    "\n",
    "# Next two commands evaluate your models at xval. This is useful for plotting.\n",
    "Rfit=polynomial.polyval(xval,Rmodel)\n",
    "Bfit=polynomial.polyval(xval,Bmodel)"
   ]
  },
  {
   "cell_type": "markdown",
   "id": "307f0b06",
   "metadata": {},
   "source": [
    "Lets plot each one of them together with the actual data to see how well they fit. We will use a new commands `scatter` to plot individual points:"
   ]
  },
  {
   "cell_type": "code",
   "execution_count": 28,
   "id": "4950e921",
   "metadata": {},
   "outputs": [
    {
     "data": {
      "image/png": "[encoded data removed]",
      "text/plain": [
       "<Figure size 640x480 with 1 Axes>"
      ]
     },
     "metadata": {},
     "output_type": "display_data"
    }
   ],
   "source": [
    "fig=plt.figure()\n",
    "\n",
    "plt.scatter(v,R, color='red')\n",
    "plt.plot(xval,Rfit, color= 'blue')\n",
    "\n",
    "plt.title(\"Model for R\")\n",
    "plt.xlabel('Velocity')\n",
    "plt.ylabel('Reaction time distance')\n",
    "plt.grid()\n",
    "\n",
    "plt.axhline(0, color='black', lw=2)  # horizontal line to create horizontal axis\n",
    "plt.axvline(0, color='black', lw=2)  # vertical line to create vertical axis\n",
    "\n",
    "plt.show()"
   ]
  },
  {
   "cell_type": "markdown",
   "id": "3895ccd3",
   "metadata": {},
   "source": [
    "Let's look at Rmodel and Bmodel. Recall, they both contain coefficients of corresponding polynomial models:"
   ]
  },
  {
   "cell_type": "code",
   "execution_count": 29,
   "id": "e78a205c",
   "metadata": {},
   "outputs": [
    {
     "name": "stdout",
     "output_type": "stream",
     "text": [
      "Coef of B Model =  [0.04       0.00142857 0.00557143]\n",
      "Coef of R Model =  [-0.02   0.417]\n"
     ]
    }
   ],
   "source": [
    "print(\"Coef of B Model = \", Bmodel)\n",
    "print(\"Coef of R Model = \", Rmodel)"
   ]
  },
  {
   "cell_type": "markdown",
   "id": "27f0ea86",
   "metadata": {},
   "source": [
    "Let's create our polynomial functions and add them to get model for T. We can use `Polynomial` command that will take the coefficients and make a polynomial out of them."
   ]
  },
  {
   "cell_type": "code",
   "execution_count": 30,
   "id": "b48a1ccd",
   "metadata": {},
   "outputs": [
    {
     "data": {
      "text/latex": [
       "$x \\mapsto \\text{0.02} + \\text{0.41842857}\\,x + \\text{0.00557143}\\,x^{2}$"
      ],
      "text/plain": [
       "Polynomial([0.02      , 0.41842857, 0.00557143], domain=[-1.,  1.], window=[-1.,  1.], symbol='x')"
      ]
     },
     "execution_count": 30,
     "metadata": {},
     "output_type": "execute_result"
    }
   ],
   "source": [
    "Bpoly=Polynomial(Bmodel)\n",
    "Rpoly=Polynomial(Rmodel)\n",
    "\n",
    "Tpoly=Bpoly+Rpoly\n",
    "Tpoly"
   ]
  },
  {
   "cell_type": "markdown",
   "id": "6be2b958",
   "metadata": {},
   "source": [
    "Now, let's find derivative of $T$. We will continue here to use Polynomial library instead of SymPy"
   ]
  },
  {
   "cell_type": "code",
   "execution_count": 31,
   "id": "aa6e1b34",
   "metadata": {},
   "outputs": [
    {
     "data": {
      "text/latex": [
       "$x \\mapsto \\text{0.41842857} + \\text{0.01114286}\\,x$"
      ],
      "text/plain": [
       "Polynomial([0.41842857, 0.01114286], domain=[-1.,  1.], window=[-1.,  1.], symbol='x')"
      ]
     },
     "execution_count": 31,
     "metadata": {},
     "output_type": "execute_result"
    }
   ],
   "source": [
    "Td=Tpoly.deriv()\n",
    "Td"
   ]
  },
  {
   "cell_type": "markdown",
   "id": "c5b138a3",
   "metadata": {},
   "source": [
    "Now the critical points."
   ]
  },
  {
   "cell_type": "code",
   "execution_count": 32,
   "id": "4a2cf49c",
   "metadata": {},
   "outputs": [
    {
     "data": {
      "text/plain": [
       "array([-37.55128205])"
      ]
     },
     "execution_count": 32,
     "metadata": {},
     "output_type": "execute_result"
    }
   ],
   "source": [
    "Polynomial.roots(Td)"
   ]
  },
  {
   "cell_type": "markdown",
   "id": "76b8b3e4",
   "metadata": {},
   "source": [
    "Second derivative of $T$:"
   ]
  },
  {
   "cell_type": "code",
   "execution_count": 33,
   "id": "922f5e13",
   "metadata": {},
   "outputs": [
    {
     "data": {
      "text/latex": [
       "$x \\mapsto \\text{0.01114286}$"
      ],
      "text/plain": [
       "Polynomial([0.01114286], domain=[-1.,  1.], window=[-1.,  1.], symbol='x')"
      ]
     },
     "execution_count": 33,
     "metadata": {},
     "output_type": "execute_result"
    }
   ],
   "source": [
    "Td2=Tpoly.deriv(2)\n",
    "Td2"
   ]
  },
  {
   "cell_type": "markdown",
   "id": "e39a775c",
   "metadata": {},
   "source": [
    "Now let's find the integral of $T$:"
   ]
  },
  {
   "cell_type": "code",
   "execution_count": 34,
   "id": "b640a5aa",
   "metadata": {},
   "outputs": [
    {
     "data": {
      "text/latex": [
       "$x \\mapsto \\color{LightGray}{\\text{0.0}} + \\text{0.02}\\,x + \\text{0.20921429}\\,x^{2} + \\text{0.00185714}\\,x^{3}$"
      ],
      "text/plain": [
       "Polynomial([0.        , 0.02      , 0.20921429, 0.00185714], domain=[-1.,  1.], window=[-1.,  1.], symbol='x')"
      ]
     },
     "execution_count": 34,
     "metadata": {},
     "output_type": "execute_result"
    }
   ],
   "source": [
    "antid=Tpoly.integ()\n",
    "antid"
   ]
  },
  {
   "cell_type": "markdown",
   "id": "a0674a7b",
   "metadata": {},
   "source": [
    "Let's evaluate it between $v=0$ and $v=100$:"
   ]
  },
  {
   "cell_type": "code",
   "execution_count": 35,
   "id": "b4260fe0",
   "metadata": {},
   "outputs": [
    {
     "data": {
      "text/plain": [
       "3951.2857142857138"
      ]
     },
     "execution_count": 35,
     "metadata": {},
     "output_type": "execute_result"
    }
   ],
   "source": [
    "antid(100)-antid(0)"
   ]
  },
  {
   "cell_type": "markdown",
   "id": "5f8c54fd",
   "metadata": {},
   "source": [
    "#### Final notes\n",
    "\n",
    "If you want to see how to do implicit differentiation, you should look through Lab 3 Examples from Calculus 1."
   ]
  }
 ],
 "metadata": {
  "kernelspec": {
   "display_name": "Python 3 (ipykernel)",
   "language": "python",
   "name": "python3"
  },
  "language_info": {
   "codemirror_mode": {
    "name": "ipython",
    "version": 3
   },
   "file_extension": ".py",
   "mimetype": "text/x-python",
   "name": "python",
   "nbconvert_exporter": "python",
   "pygments_lexer": "ipython3",
   "version": "3.11.5"
  }
 },
 "nbformat": 4,
 "nbformat_minor": 5
}
