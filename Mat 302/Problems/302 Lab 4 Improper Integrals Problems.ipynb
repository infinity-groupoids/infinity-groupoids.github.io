{
 "cells": [
  {
   "cell_type": "markdown",
   "id": "5977bc11",
   "metadata": {},
   "source": [
    "# <center> Lab 4 Problems \n",
    "\n",
    "## <center> Improper Integrals\n",
    "\n",
    "Add all needed libraries. "
   ]
  },
  {
   "cell_type": "code",
   "execution_count": null,
   "id": "cec71d7b",
   "metadata": {},
   "outputs": [],
   "source": []
  },
  {
   "cell_type": "markdown",
   "id": "4c02311d",
   "metadata": {},
   "source": [
    "### Problem 1\n",
    "\n",
    "The average height of American men between 20 and 29 years old is 69 inches with standard deviation of\n",
    "3 inches. If one such person is chosen at random, the probability that his height is between $n$ inches and $m$\n",
    "inches is given by the following integral:\n",
    "$$P(n<x<m)=\\int_n^m\\frac{1}{3\\sqrt{2\\pi}}\\cdot e^{\\frac{-(x-69)^2}{18}}dx$$\n",
    "\n",
    "**a.** Graph the integrand function (the one inside the integral) between $x = 58$ and $x = 80$. [The integrand function is called Probability Density Fuunction or PDF for short.]\n",
    "\n",
    "What is the total area\n",
    "under curve ($n$ is $-\\infty$ and $m$ is $\\infty$)?"
   ]
  },
  {
   "cell_type": "code",
   "execution_count": null,
   "id": "0e9697cd",
   "metadata": {},
   "outputs": [],
   "source": []
  },
  {
   "cell_type": "code",
   "execution_count": null,
   "id": "6397ac54",
   "metadata": {},
   "outputs": [],
   "source": []
  },
  {
   "cell_type": "code",
   "execution_count": null,
   "id": "7fef3d36",
   "metadata": {},
   "outputs": [],
   "source": []
  },
  {
   "cell_type": "markdown",
   "id": "7837d7dd",
   "metadata": {},
   "source": [
    "**b.** Find the probability that the height of a random chosen man from this group is above 6 feet (72 inches). Draw the the graph of PDF again, but this time shading the area corresponding to the probability found in this part of the problem."
   ]
  },
  {
   "cell_type": "code",
   "execution_count": null,
   "id": "719abfb1",
   "metadata": {},
   "outputs": [],
   "source": []
  },
  {
   "cell_type": "code",
   "execution_count": null,
   "id": "666a59fe",
   "metadata": {},
   "outputs": [],
   "source": []
  },
  {
   "cell_type": "markdown",
   "id": "ba24917a",
   "metadata": {},
   "source": [
    "**c.** What is more likely, picking a person whose height is between 69 and 72 inches, or a person whose height\n",
    "is below 67 inches?"
   ]
  },
  {
   "cell_type": "code",
   "execution_count": null,
   "id": "122f292b",
   "metadata": {},
   "outputs": [],
   "source": []
  },
  {
   "cell_type": "code",
   "execution_count": null,
   "id": "31fc4468",
   "metadata": {},
   "outputs": [],
   "source": []
  },
  {
   "cell_type": "markdown",
   "id": "463daa8b",
   "metadata": {},
   "source": [
    "**Answer:**"
   ]
  },
  {
   "cell_type": "markdown",
   "id": "ab49217f",
   "metadata": {},
   "source": [
    "**d.** Another important function in statistic related to PDF\n",
    "is called cumulative PDF. For this example, it is given by the following function:\n",
    "\n",
    "$$ c(t)=\\int_{-\\infty}^t \\frac{1}{3\\sqrt{2\\pi}}\\cdot e^{\\frac{-(x-69)^2}{18}}dx$$\n",
    "\n",
    "Define this function and graph it between $t = 58$ and $t = 80$. What does $c(t)$ represent? Based on\n",
    "everything you have seen in this problem, how do you think we can get PDF if we know what cumulative\n",
    "PDF is?"
   ]
  },
  {
   "cell_type": "code",
   "execution_count": null,
   "id": "408430c9",
   "metadata": {},
   "outputs": [],
   "source": []
  },
  {
   "cell_type": "code",
   "execution_count": null,
   "id": "3389ba80",
   "metadata": {
    "scrolled": false
   },
   "outputs": [],
   "source": []
  },
  {
   "cell_type": "markdown",
   "id": "e534e502",
   "metadata": {},
   "source": [
    "**Answer:** "
   ]
  },
  {
   "cell_type": "markdown",
   "id": "b634d71e",
   "metadata": {},
   "source": [
    "### Problem 2\n",
    "\n",
    "Consider the following family of function:\n",
    "$$f_n(x)=\\frac{4}{1+\\tan^n(x)}$$\n",
    "\n",
    "**a.** Now, consider integrals of those functions: $\\int_0^{\\pi/2}f_n(x)dx$. Why are these integrals improper?"
   ]
  },
  {
   "cell_type": "markdown",
   "id": "052fcfc8",
   "metadata": {},
   "source": [
    "**Answer:** "
   ]
  },
  {
   "cell_type": "markdown",
   "id": "35822eb5",
   "metadata": {},
   "source": [
    "**b.** Graph $f_n(x)$ for $n = 3, 6, 16, 30$ in the 2 by 2 grid. Looking at the graphs, approximate the area to which the areas under $f_n(x)$ between 0 and\n",
    "$\\pi/2$ approach as $n \\rightarrow \\infty$. Explain how you got the answer."
   ]
  },
  {
   "cell_type": "code",
   "execution_count": null,
   "id": "787a1ae6",
   "metadata": {},
   "outputs": [],
   "source": []
  },
  {
   "cell_type": "code",
   "execution_count": null,
   "id": "2211c7a7",
   "metadata": {},
   "outputs": [],
   "source": []
  },
  {
   "cell_type": "markdown",
   "id": "59e12908",
   "metadata": {},
   "source": [
    "**Answer:** "
   ]
  },
  {
   "cell_type": "markdown",
   "id": "0d70f973",
   "metadata": {},
   "source": [
    "**c.** Calculate\n",
    "$\\int_0^{\\pi/2}f_n(x)dx$ for $n = 3,6,15,30$; and then consider a limit of your answers as\n",
    "$n \\rightarrow \\infty$. How does your answer compare to your answer in part b?\n",
    "[Note: do not use `sp.limit` here. You can figure out the limit by looking at the sequence of the values]"
   ]
  },
  {
   "cell_type": "code",
   "execution_count": null,
   "id": "bade2461",
   "metadata": {},
   "outputs": [],
   "source": []
  },
  {
   "cell_type": "code",
   "execution_count": null,
   "id": "22ac071b",
   "metadata": {},
   "outputs": [],
   "source": []
  },
  {
   "cell_type": "code",
   "execution_count": null,
   "id": "4ca43095",
   "metadata": {},
   "outputs": [],
   "source": []
  },
  {
   "cell_type": "code",
   "execution_count": null,
   "id": "c0bd088a",
   "metadata": {},
   "outputs": [],
   "source": []
  },
  {
   "cell_type": "markdown",
   "id": "cac38757",
   "metadata": {},
   "source": [
    "**Answer:** All integrals seems to equal to Pi, so it would seem the area would approach Pi as n gets larger as we predicted in part b."
   ]
  },
  {
   "cell_type": "markdown",
   "id": "feffef3f",
   "metadata": {},
   "source": [
    "### Problem 3\n",
    "\n",
    "We will consider the following function: $f(x)=\\frac{\\sin(x)}{x}$\n",
    "\n",
    "**a.** Plot $f(x)$, $1/x$ and $-1/x$ on the same graph between x = 1 and x = 40 to see the relationship between\n",
    "these functions."
   ]
  },
  {
   "cell_type": "code",
   "execution_count": null,
   "id": "05b1df5f",
   "metadata": {},
   "outputs": [],
   "source": []
  },
  {
   "cell_type": "code",
   "execution_count": null,
   "id": "09a70dac",
   "metadata": {},
   "outputs": [],
   "source": []
  },
  {
   "cell_type": "markdown",
   "id": "c9cba395",
   "metadata": {},
   "source": [
    "**b.** Is integral $\\int_1^{\\infty} \\frac{1}{x} dx$ divergent?"
   ]
  },
  {
   "cell_type": "code",
   "execution_count": null,
   "id": "5be9ebf6",
   "metadata": {},
   "outputs": [],
   "source": []
  },
  {
   "cell_type": "markdown",
   "id": "ecd5aca4",
   "metadata": {},
   "source": [
    "**Answer:** "
   ]
  },
  {
   "cell_type": "markdown",
   "id": "9ee71491",
   "metadata": {},
   "source": [
    "**c.** Evaluate integral of $f(x)$ between $x = 1$ and $\\infty$. Since you get a number, it means it is a convergent\n",
    "integral. Why do you think it is convergent in spite of integral of $1/x$ being divergent? Why Comparison Test can not be used here?"
   ]
  },
  {
   "cell_type": "code",
   "execution_count": null,
   "id": "3d770ac6",
   "metadata": {},
   "outputs": [],
   "source": []
  },
  {
   "cell_type": "markdown",
   "id": "10d4b475",
   "metadata": {},
   "source": [
    "**Answer:** "
   ]
  },
  {
   "cell_type": "markdown",
   "id": "961cb504",
   "metadata": {},
   "source": [
    "**d.** Notice that the integral of $f(x)$ between $x = 0$ and $x = 1$ is also improper. Why?"
   ]
  },
  {
   "cell_type": "markdown",
   "id": "ec4ddc64",
   "metadata": {},
   "source": [
    "**Answer:** "
   ]
  },
  {
   "cell_type": "markdown",
   "id": "d8f1665b",
   "metadata": {},
   "source": [
    "**e.** Evaluate integral of $f(x)$ between $x = 0$ and $x = 1$. Is it convergent or divergent integral?"
   ]
  },
  {
   "cell_type": "code",
   "execution_count": null,
   "id": "4c694c59",
   "metadata": {},
   "outputs": [],
   "source": []
  },
  {
   "cell_type": "markdown",
   "id": "abe7c531",
   "metadata": {},
   "source": [
    "**Answer:** "
   ]
  },
  {
   "cell_type": "markdown",
   "id": "365ea694",
   "metadata": {},
   "source": [
    "**f.** Finally evaluate integral of $f(x)$ between $-\\infty$ and $\\infty$. (Don't use `sp.N` here)"
   ]
  },
  {
   "cell_type": "code",
   "execution_count": null,
   "id": "f6ed711a",
   "metadata": {},
   "outputs": [],
   "source": []
  }
 ],
 "metadata": {
  "kernelspec": {
   "display_name": "Python 3 (ipykernel)",
   "language": "python",
   "name": "python3"
  },
  "language_info": {
   "codemirror_mode": {
    "name": "ipython",
    "version": 3
   },
   "file_extension": ".py",
   "mimetype": "text/x-python",
   "name": "python",
   "nbconvert_exporter": "python",
   "pygments_lexer": "ipython3",
   "version": "3.9.15"
  }
 },
 "nbformat": 4,
 "nbformat_minor": 5
}
