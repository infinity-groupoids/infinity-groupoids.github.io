{
 "cells": [
  {
   "cell_type": "markdown",
   "id": "16b3a395",
   "metadata": {},
   "source": [
    "# <center> Lab 5 Problems \n",
    "## <center> Sequences and Series \n",
    "Add all needed libraries. "
   ]
  },
  {
   "cell_type": "code",
   "execution_count": null,
   "id": "0dbf9b85",
   "metadata": {},
   "outputs": [],
   "source": []
  },
  {
   "cell_type": "markdown",
   "id": "3a5b0057",
   "metadata": {},
   "source": [
    "### Problem 1\n",
    "\n",
    "In this problem we will consider few sequences of sine function. We know that often we can compare sequence $\\{a_n\\}_{n=1}^{\\infty}$ to a continuous function $f(x)$ such that $f(n)=a_n$ for all $n$. Moreover if the limit $\\lim_{x\\rightarrow \\infty} f(x)$ converges then so is the limit of the sequence. However, the reverse is not always true. You will see one such example in this problem."
   ]
  },
  {
   "cell_type": "markdown",
   "id": "91013abd",
   "metadata": {},
   "source": [
    "**a.**\n",
    "\n",
    "Let $a_n=sin(n)$ for $n=1,2,3,...$ be a sequence.\n",
    "\n",
    "a) Plot first 100 points of this sequence. Then plot first 1,000 points. Does this sequence look convergent?\n",
    "\n",
    "b) Try to find limit of this sequence using `limit` command and using `limit_seq` command. What does your answer mean?\n",
    "\n"
   ]
  },
  {
   "cell_type": "code",
   "execution_count": null,
   "id": "feede72b",
   "metadata": {},
   "outputs": [],
   "source": []
  },
  {
   "cell_type": "code",
   "execution_count": null,
   "id": "baa5528c",
   "metadata": {},
   "outputs": [],
   "source": []
  },
  {
   "cell_type": "code",
   "execution_count": null,
   "id": "63ed8cde",
   "metadata": {},
   "outputs": [],
   "source": []
  },
  {
   "cell_type": "markdown",
   "id": "381dd2f1",
   "metadata": {},
   "source": [
    "**Answer:** "
   ]
  },
  {
   "cell_type": "code",
   "execution_count": null,
   "id": "fc823b6b",
   "metadata": {},
   "outputs": [],
   "source": []
  },
  {
   "cell_type": "code",
   "execution_count": null,
   "id": "efb2ef0c",
   "metadata": {},
   "outputs": [],
   "source": []
  },
  {
   "cell_type": "markdown",
   "id": "2a32ceeb",
   "metadata": {},
   "source": [
    "**Answer:**  "
   ]
  },
  {
   "cell_type": "markdown",
   "id": "4acfff03",
   "metadata": {},
   "source": [
    "**b.**\n",
    "\n",
    "Let $b_n=sin(\\pi n)$ for $n=1,2,3,...$ be a sequence.\n",
    "\n",
    "a) Plot first 1,000 points. Does this sequence look convergent?\n",
    "\n",
    "b) Try to find limit of this sequence using `limit` command and using `limit_seq` command. What does your answer mean?\n",
    "\n"
   ]
  },
  {
   "cell_type": "code",
   "execution_count": null,
   "id": "625beece",
   "metadata": {},
   "outputs": [],
   "source": []
  },
  {
   "cell_type": "code",
   "execution_count": null,
   "id": "ca9b096a",
   "metadata": {
    "scrolled": false
   },
   "outputs": [],
   "source": []
  },
  {
   "cell_type": "markdown",
   "id": "0e36ce48",
   "metadata": {},
   "source": [
    "**Answer:** "
   ]
  },
  {
   "cell_type": "code",
   "execution_count": null,
   "id": "fa3110d2",
   "metadata": {},
   "outputs": [],
   "source": []
  },
  {
   "cell_type": "code",
   "execution_count": null,
   "id": "71f2a4c2",
   "metadata": {},
   "outputs": [],
   "source": []
  },
  {
   "cell_type": "markdown",
   "id": "0da66048",
   "metadata": {},
   "source": [
    "**Answer:** "
   ]
  },
  {
   "cell_type": "markdown",
   "id": "30b49a16",
   "metadata": {},
   "source": [
    "### Problem 2\n",
    "\n",
    "Let $a_n=(1+1/n)^{n^p}$, where $p$ is some positive real number. In this problem we will analyse how convergence of this sequence depends on $p$.\n",
    "\n",
    "**a.** Let $p=1$. Plot first 100 terms of the sequence and find the limit of the sequence. Is it convergent?"
   ]
  },
  {
   "cell_type": "code",
   "execution_count": null,
   "id": "ed9cc947",
   "metadata": {},
   "outputs": [],
   "source": []
  },
  {
   "cell_type": "code",
   "execution_count": null,
   "id": "4595199a",
   "metadata": {},
   "outputs": [],
   "source": []
  },
  {
   "cell_type": "markdown",
   "id": "57bd926d",
   "metadata": {},
   "source": [
    "**Answer:** "
   ]
  },
  {
   "cell_type": "markdown",
   "id": "8f9fb887",
   "metadata": {},
   "source": [
    "**b.** Repeat the problem for $p=1.1$ and $p=0.9$"
   ]
  },
  {
   "cell_type": "code",
   "execution_count": null,
   "id": "6597d90a",
   "metadata": {
    "scrolled": false
   },
   "outputs": [],
   "source": []
  },
  {
   "cell_type": "code",
   "execution_count": null,
   "id": "1522eaff",
   "metadata": {},
   "outputs": [],
   "source": []
  },
  {
   "cell_type": "markdown",
   "id": "3db64945",
   "metadata": {},
   "source": [
    "**Answer:** "
   ]
  },
  {
   "cell_type": "code",
   "execution_count": null,
   "id": "8c65160b",
   "metadata": {},
   "outputs": [],
   "source": []
  },
  {
   "cell_type": "code",
   "execution_count": null,
   "id": "ba2ff4b4",
   "metadata": {},
   "outputs": [],
   "source": []
  },
  {
   "cell_type": "markdown",
   "id": "e770973c",
   "metadata": {},
   "source": [
    "**Answer:** "
   ]
  },
  {
   "cell_type": "markdown",
   "id": "2c4cf750",
   "metadata": {},
   "source": [
    "**c.** Repeat the problem for $p=1.0001$ and $p=0.9999$"
   ]
  },
  {
   "cell_type": "code",
   "execution_count": null,
   "id": "afaff72c",
   "metadata": {},
   "outputs": [],
   "source": []
  },
  {
   "cell_type": "code",
   "execution_count": null,
   "id": "9d549bab",
   "metadata": {},
   "outputs": [],
   "source": []
  },
  {
   "cell_type": "markdown",
   "id": "d0b24669",
   "metadata": {},
   "source": [
    "**Answer:** "
   ]
  },
  {
   "cell_type": "code",
   "execution_count": null,
   "id": "c11817d7",
   "metadata": {},
   "outputs": [],
   "source": []
  },
  {
   "cell_type": "code",
   "execution_count": null,
   "id": "e256cb2c",
   "metadata": {
    "scrolled": true
   },
   "outputs": [],
   "source": []
  },
  {
   "cell_type": "markdown",
   "id": "688e37db",
   "metadata": {},
   "source": [
    "**Answer:** "
   ]
  },
  {
   "cell_type": "markdown",
   "id": "c8f7d246",
   "metadata": {},
   "source": [
    "**d.** What can you say about convergence of of $a_n$ when $p>0$?"
   ]
  },
  {
   "cell_type": "markdown",
   "id": "2c596e92",
   "metadata": {},
   "source": [
    "**Answer:** "
   ]
  },
  {
   "cell_type": "markdown",
   "id": "1567db7a",
   "metadata": {},
   "source": [
    "### Problem 3\n",
    "\n",
    "In this problem you will be give a few different series. For each of the series below plot its first 50 terms and its first 50 partial sums. Your goal is to determine convergence of series. If needed use computation commands to help you with determination. After you have determined the convergence or divergence based on plots and computations, how would you prove this using convergence tests learned in class?\n",
    "\n",
    "**a.** $\\sum_{n=1}^{\\infty}\\sin(1/n)$"
   ]
  },
  {
   "cell_type": "code",
   "execution_count": null,
   "id": "d45950ce",
   "metadata": {
    "scrolled": false
   },
   "outputs": [],
   "source": []
  },
  {
   "cell_type": "code",
   "execution_count": null,
   "id": "d83fcf9b",
   "metadata": {
    "scrolled": true
   },
   "outputs": [],
   "source": []
  },
  {
   "cell_type": "code",
   "execution_count": null,
   "id": "feb7d830",
   "metadata": {
    "scrolled": false
   },
   "outputs": [],
   "source": []
  },
  {
   "cell_type": "code",
   "execution_count": null,
   "id": "5c0907da",
   "metadata": {},
   "outputs": [],
   "source": []
  },
  {
   "cell_type": "code",
   "execution_count": null,
   "id": "b718c437",
   "metadata": {},
   "outputs": [],
   "source": []
  },
  {
   "cell_type": "markdown",
   "id": "0fbf7bee",
   "metadata": {},
   "source": [
    "**Answer:** "
   ]
  },
  {
   "cell_type": "markdown",
   "id": "ea4dbe05",
   "metadata": {},
   "source": [
    "**b.** $\\sum_{n=1}^{\\infty}(-1)^n\\frac{4}{2n+1}$"
   ]
  },
  {
   "cell_type": "code",
   "execution_count": null,
   "id": "27c307de",
   "metadata": {
    "scrolled": false
   },
   "outputs": [],
   "source": []
  },
  {
   "cell_type": "code",
   "execution_count": null,
   "id": "ce8a8d38",
   "metadata": {
    "scrolled": true
   },
   "outputs": [],
   "source": []
  },
  {
   "cell_type": "code",
   "execution_count": null,
   "id": "f5cc4d41",
   "metadata": {},
   "outputs": [],
   "source": []
  },
  {
   "cell_type": "markdown",
   "id": "d62637b2",
   "metadata": {},
   "source": [
    "**Answer:** "
   ]
  },
  {
   "cell_type": "markdown",
   "id": "a64f8389",
   "metadata": {},
   "source": [
    "**c.** $\\sum_{n=1}^{\\infty}\\frac{n^2}{n!}$ [Note: For factorial we can use `sp.factorial(n)` and `mm.factorial(n)`]"
   ]
  },
  {
   "cell_type": "code",
   "execution_count": null,
   "id": "25a3e0db",
   "metadata": {
    "scrolled": false
   },
   "outputs": [],
   "source": []
  },
  {
   "cell_type": "code",
   "execution_count": null,
   "id": "22f2b227",
   "metadata": {
    "scrolled": false
   },
   "outputs": [],
   "source": []
  },
  {
   "cell_type": "code",
   "execution_count": null,
   "id": "e6b18da9",
   "metadata": {},
   "outputs": [],
   "source": []
  },
  {
   "cell_type": "code",
   "execution_count": null,
   "id": "eb903041",
   "metadata": {},
   "outputs": [],
   "source": []
  },
  {
   "cell_type": "markdown",
   "id": "20b016e2",
   "metadata": {},
   "source": [
    "**Asnwer:** "
   ]
  },
  {
   "cell_type": "markdown",
   "id": "55fafabb",
   "metadata": {},
   "source": [
    "**d.** $\\sum_{n=1}^{\\infty}\\frac{\\ln(n)}{n}$"
   ]
  },
  {
   "cell_type": "code",
   "execution_count": null,
   "id": "da53f5c1",
   "metadata": {},
   "outputs": [],
   "source": []
  },
  {
   "cell_type": "code",
   "execution_count": null,
   "id": "228c4304",
   "metadata": {},
   "outputs": [],
   "source": []
  },
  {
   "cell_type": "code",
   "execution_count": null,
   "id": "7f4a54b1",
   "metadata": {},
   "outputs": [],
   "source": []
  },
  {
   "cell_type": "code",
   "execution_count": null,
   "id": "0222ab21",
   "metadata": {},
   "outputs": [],
   "source": []
  },
  {
   "cell_type": "markdown",
   "id": "f519c8c0",
   "metadata": {},
   "source": [
    "**Answer:** "
   ]
  }
 ],
 "metadata": {
  "kernelspec": {
   "display_name": "Python 3 (ipykernel)",
   "language": "python",
   "name": "python3"
  },
  "language_info": {
   "codemirror_mode": {
    "name": "ipython",
    "version": 3
   },
   "file_extension": ".py",
   "mimetype": "text/x-python",
   "name": "python",
   "nbconvert_exporter": "python",
   "pygments_lexer": "ipython3",
   "version": "3.9.15"
  }
 },
 "nbformat": 4,
 "nbformat_minor": 5
}
