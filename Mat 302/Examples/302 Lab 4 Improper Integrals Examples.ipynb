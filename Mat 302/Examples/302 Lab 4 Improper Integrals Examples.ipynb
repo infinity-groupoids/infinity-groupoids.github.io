{
 "cells": [
  {
   "cell_type": "markdown",
   "id": "69ba99e4",
   "metadata": {},
   "source": [
    "# <center> Lab 4 Examples \n",
    "    \n",
    "## <center> Improper Integrals\n",
    "\n",
    "**Video:** https://youtu.be/iuwZkvL_UPM"
   ]
  },
  {
   "cell_type": "code",
   "execution_count": 1,
   "id": "bcc3e9c9",
   "metadata": {},
   "outputs": [
    {
     "data": {
      "text/latex": [
       "$\\displaystyle t$"
      ],
      "text/plain": [
       "t"
      ]
     },
     "execution_count": 1,
     "metadata": {},
     "output_type": "execute_result"
    }
   ],
   "source": [
    "import matplotlib.pyplot as plt\n",
    "import numpy as np\n",
    "import sympy as sp\n",
    "from numpy.polynomial import *\n",
    "sp.var('x')\n",
    "sp.var('t', positive=True)\n"
   ]
  },
  {
   "cell_type": "markdown",
   "id": "64b34063",
   "metadata": {},
   "source": [
    "Note above that we defined few extra variables. Variables $t$ and $n$ have few extra conditions. These conditions can be violated if needed, but by default SymPy will use them. \n",
    "\n",
    "In this example file we will look at how to deal with complicated functions that are defined through integration. At the same time we will consider improper integrals. \n",
    "The function we will consider here is called Gamma function. While Sympy does have a separate command to define this function (see below), here we will define it through integrals.\n",
    "\n",
    "Here is the definition:\n",
    "$$\\Gamma(t)=\\int_0^{\\infty}x^{t-1}e^{-x}dx$$\n",
    "\n",
    "With Sympy we can define this function quite easily. Notice that we are using $t$ that was defined to be positive. In general, it doesn't have to be positive, but it makes evaluations and conversion to NumPy easier. Moreover, we will violate this condition in a few examples later. [Note: the part about $t$ will not be needed for the assignment. This is just for this examples file]"
   ]
  },
  {
   "cell_type": "code",
   "execution_count": 2,
   "id": "9e536437",
   "metadata": {},
   "outputs": [
    {
     "data": {
      "text/latex": [
       "$\\displaystyle \\Gamma\\left(t\\right)$"
      ],
      "text/plain": [
       "gamma(t)"
      ]
     },
     "execution_count": 2,
     "metadata": {},
     "output_type": "execute_result"
    }
   ],
   "source": [
    "sp.gamma(t)    ## SymPy Gamma Function"
   ]
  },
  {
   "cell_type": "code",
   "execution_count": 3,
   "id": "96c09776",
   "metadata": {
    "scrolled": true
   },
   "outputs": [
    {
     "data": {
      "text/latex": [
       "$\\displaystyle \\Gamma\\left(t\\right)$"
      ],
      "text/plain": [
       "gamma(t)"
      ]
     },
     "execution_count": 3,
     "metadata": {},
     "output_type": "execute_result"
    }
   ],
   "source": [
    "inside=x**(t-1)*sp.exp(-x)\n",
    "\n",
    "g=sp.integrate(inside,(x,0,sp.oo))\n",
    "g"
   ]
  },
  {
   "cell_type": "markdown",
   "id": "ecd62bb5",
   "metadata": {},
   "source": [
    "Let's evaluate it at a couple of points."
   ]
  },
  {
   "cell_type": "code",
   "execution_count": 4,
   "id": "5db88f8b",
   "metadata": {
    "scrolled": true
   },
   "outputs": [
    {
     "name": "stdout",
     "output_type": "stream",
     "text": [
      "Gamma(4)= 6\n",
      "Gamma(-0.5)= -3.54490770181103\n",
      "Gamma(-1)= zoo\n"
     ]
    }
   ],
   "source": [
    "print(\"Gamma(4)=\",g.subs(t,4))\n",
    "print(\"Gamma(-0.5)=\",g.subs(t,-0.5))\n",
    "print(\"Gamma(-1)=\", g.subs(t,-1))"
   ]
  },
  {
   "cell_type": "markdown",
   "id": "95591d5d",
   "metadata": {},
   "source": [
    "As you can see, we can ignore condition that $t$ is positive. \n",
    "\n",
    "Next, let's try to convert it to NumPy and plot."
   ]
  },
  {
   "cell_type": "code",
   "execution_count": 6,
   "id": "e2ba1a72",
   "metadata": {},
   "outputs": [
    {
     "ename": "TypeError",
     "evalue": "only size-1 arrays can be converted to Python scalars",
     "output_type": "error",
     "traceback": [
      "\u001b[1;31m---------------------------------------------------------------------------\u001b[0m",
      "\u001b[1;31mTypeError\u001b[0m                                 Traceback (most recent call last)",
      "Cell \u001b[1;32mIn[6], line 6\u001b[0m\n\u001b[0;32m      3\u001b[0m fig\u001b[38;5;241m=\u001b[39mplt\u001b[38;5;241m.\u001b[39mfigure()\n\u001b[0;32m      5\u001b[0m xval\u001b[38;5;241m=\u001b[39mnp\u001b[38;5;241m.\u001b[39mlinspace(\u001b[38;5;241m-\u001b[39m\u001b[38;5;241m0.95\u001b[39m,\u001b[38;5;241m4\u001b[39m,\u001b[38;5;241m1000\u001b[39m)\n\u001b[1;32m----> 6\u001b[0m plt\u001b[38;5;241m.\u001b[39mplot(xval,gn(xval), color\u001b[38;5;241m=\u001b[39m \u001b[38;5;124m'\u001b[39m\u001b[38;5;124mblue\u001b[39m\u001b[38;5;124m'\u001b[39m)\n\u001b[0;32m      8\u001b[0m plt\u001b[38;5;241m.\u001b[39mtitle(\u001b[38;5;124m\"\u001b[39m\u001b[38;5;124mGamma Function\u001b[39m\u001b[38;5;124m\"\u001b[39m)\n\u001b[0;32m      9\u001b[0m plt\u001b[38;5;241m.\u001b[39mxlabel(\u001b[38;5;124m'\u001b[39m\u001b[38;5;124mt\u001b[39m\u001b[38;5;124m'\u001b[39m)\n",
      "File \u001b[1;32m<lambdifygenerated-2>:2\u001b[0m, in \u001b[0;36m_lambdifygenerated\u001b[1;34m(t)\u001b[0m\n\u001b[0;32m      1\u001b[0m \u001b[38;5;28;01mdef\u001b[39;00m \u001b[38;5;21m_lambdifygenerated\u001b[39m(t):\n\u001b[1;32m----> 2\u001b[0m     \u001b[38;5;28;01mreturn\u001b[39;00m gamma(t)\n",
      "\u001b[1;31mTypeError\u001b[0m: only size-1 arrays can be converted to Python scalars"
     ]
    },
    {
     "data": {
      "text/plain": [
       "<Figure size 640x480 with 0 Axes>"
      ]
     },
     "metadata": {},
     "output_type": "display_data"
    }
   ],
   "source": [
    "gn=sp.lambdify(t,g,'numpy')\n",
    "\n",
    "fig=plt.figure()\n",
    "\n",
    "xval=np.linspace(-0.95,4,1000)\n",
    "plt.plot(xval,gn(xval), color= 'blue')\n",
    "\n",
    "plt.title(\"Gamma Function\")\n",
    "plt.xlabel('t')\n",
    "plt.grid()\n",
    "\n",
    "plt.axhline(0, color='black', lw=2)  \n",
    "\n",
    "plt.show()"
   ]
  },
  {
   "cell_type": "markdown",
   "id": "0c8e4cdd",
   "metadata": {},
   "source": [
    "As you can see, something is wrong. The definition of the function is too complicated to get a good conversion to NumPy type function for plots. We have to do an extra step to fix this. This is the same thing we do when we defined piecewise function. We have to use `vectorize`:"
   ]
  },
  {
   "cell_type": "code",
   "execution_count": 7,
   "id": "f1ce6fff",
   "metadata": {},
   "outputs": [
    {
     "data": {
      "image/png": "[encoded data removed]",
      "text/plain": [
       "<Figure size 640x480 with 1 Axes>"
      ]
     },
     "metadata": {},
     "output_type": "display_data"
    }
   ],
   "source": [
    "gn=sp.lambdify(t,g,'numpy')\n",
    "gn=np.vectorize(gn)\n",
    "\n",
    "fig=plt.figure()\n",
    "\n",
    "xval=np.linspace(-2.51,5,1000)      # you have to be careful with xval as this function have many discontinuities.\n",
    "plt.plot(xval,gn(xval), color= 'blue')\n",
    "\n",
    "plt.title(\"Gamma Function\")\n",
    "plt.xlabel('t')\n",
    "plt.ylim(-10,10)\n",
    "plt.grid()\n",
    "\n",
    "plt.axhline(0, color='black', lw=2)  \n",
    "\n",
    "plt.show()"
   ]
  },
  {
   "cell_type": "markdown",
   "id": "ca81a95a",
   "metadata": {},
   "source": [
    "As a side note, here are a few more values of Gamma function. Can you guess the pattern? (Answers are at the end of this file, so think about it before you scroll there)"
   ]
  },
  {
   "cell_type": "code",
   "execution_count": 8,
   "id": "1d9a9851",
   "metadata": {},
   "outputs": [
    {
     "name": "stdout",
     "output_type": "stream",
     "text": [
      "1.0 1.0 2.0 6.0 24.0 120.0 720.0\n"
     ]
    }
   ],
   "source": [
    "print(gn(1), gn(2), gn(3), gn(4), gn(5), gn(6), gn(7))"
   ]
  },
  {
   "cell_type": "code",
   "execution_count": 9,
   "id": "63c64c39",
   "metadata": {},
   "outputs": [
    {
     "name": "stdout",
     "output_type": "stream",
     "text": [
      "3.1415926535897927\n",
      "3.1415926535897936\n",
      "3.141592653589794\n"
     ]
    }
   ],
   "source": [
    "print(gn(1/2)**2)\n",
    "print(4*gn(3/2)**2)\n",
    "print((16/9)*gn(5/2)**2)"
   ]
  },
  {
   "cell_type": "markdown",
   "id": "37f3c336",
   "metadata": {},
   "source": [
    "We can use Gamma function as any other function. We can take its derivative or integrate. (Note: it is much easier to just use SymPy command of Gamma function for these things, but not every function out there has its own SymPy command). Let's quickly find the integral of Gamma function between t=1/2 and 2. Additionally, let's shade the region represented by this area using `fill_between`."
   ]
  },
  {
   "cell_type": "code",
   "execution_count": 10,
   "id": "8ad2a1d1",
   "metadata": {},
   "outputs": [
    {
     "data": {
      "text/latex": [
       "$\\displaystyle 1.56097222985996$"
      ],
      "text/plain": [
       "1.56097222985996"
      ]
     },
     "execution_count": 10,
     "metadata": {},
     "output_type": "execute_result"
    }
   ],
   "source": [
    "sp.N(sp.integrate(g,(t,1/2,2)))"
   ]
  },
  {
   "cell_type": "code",
   "execution_count": 12,
   "id": "7cb45c5e",
   "metadata": {},
   "outputs": [
    {
     "data": {
      "image/png": "[encoded data removed]",
      "text/plain": [
       "<Figure size 640x480 with 1 Axes>"
      ]
     },
     "metadata": {},
     "output_type": "display_data"
    }
   ],
   "source": [
    "fig=plt.figure()\n",
    "\n",
    "xval=np.linspace(0.001,3,1000)      # you have to be careful with xval as this function have many discontinuities.\n",
    "plt.plot(xval,gn(xval), color= 'blue')\n",
    "\n",
    "# Notice we have to define range for fill_between separately.\n",
    "xval2=np.linspace(0.5,2,1000)\n",
    "plt.fill_between(xval2,gn(xval2), alpha=0.3)\n",
    "\n",
    "plt.title(\"Gamma Function\")\n",
    "plt.xlabel('t')\n",
    "plt.ylim(0,10)\n",
    "plt.grid()\n",
    "\n",
    "plt.axhline(0, color='black', lw=2)  \n",
    "\n",
    "plt.show()"
   ]
  },
  {
   "cell_type": "markdown",
   "id": "70d176bc",
   "metadata": {},
   "source": [
    "Answer to pattern question:\n",
    "\n",
    "   \n",
    "1. The first pattern is factorial. Notice that when t is a non-negative integer, $\\Gamma(t) = (t-1)!$. For example, $\\Gamma(5)=(5-1)!=4!=4*3*2*1=24$. Another way to write this is $\\Gamma(t)=(t-1)*\\Gamma(t-1)$. We will use this alternative way in the next part.\n",
    "    \n",
    "2. Second pattern is actually something that behaves like a factorial too. First value we have $\\Gamma^2(1/2)=\\pi$, so $\\Gamma(1/2)=\\sqrt{\\pi}$. Then using pattern from the first part, we get $\\Gamma(3/2)=1/2*\\Gamma(1/2)=1/2*\\sqrt{\\pi}$. So, $4*\\Gamma^2(3/2)=\\pi$. You get get third value in the same way using $\\Gamma(5/2)=3/2*\\Gamma(3/2)$.\n",
    "\n",
    "For these reasons, sometimes people call Gamma function a generalized factorial.\n",
    "\n",
    "Try to play around with this function. For example, see if you can deduce from above what is $\\Gamma(-1/2)$, and then confirm you answer using Jupyter."
   ]
  },
  {
   "cell_type": "code",
   "execution_count": null,
   "id": "7a6ffe17",
   "metadata": {},
   "outputs": [],
   "source": []
  }
 ],
 "metadata": {
  "kernelspec": {
   "display_name": "Python 3 (ipykernel)",
   "language": "python",
   "name": "python3"
  },
  "language_info": {
   "codemirror_mode": {
    "name": "ipython",
    "version": 3
   },
   "file_extension": ".py",
   "mimetype": "text/x-python",
   "name": "python",
   "nbconvert_exporter": "python",
   "pygments_lexer": "ipython3",
   "version": "3.11.5"
  }
 },
 "nbformat": 4,
 "nbformat_minor": 5
}
