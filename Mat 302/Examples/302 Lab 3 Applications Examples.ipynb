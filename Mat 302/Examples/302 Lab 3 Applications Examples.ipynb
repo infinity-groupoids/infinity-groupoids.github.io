{
 "cells": [
  {
   "cell_type": "markdown",
   "id": "fd0301fd",
   "metadata": {},
   "source": [
    "# <center> Lab 3 Examples \n",
    "## <center>    Applications\n",
    "    \n",
    "Lab 3 is mostly about applications of integration in physics. From point of view of Jupyter, there isn't much new here. All you need is the things we already learned in the previous labs plus the theory from the class. \n",
    "    \n",
    "In this Example file we will show how to create a parametrized family of functions and how to plot multiple plots at the same time. This will be needed for one of the problems.\n",
    "\n",
    "**Video**: https://youtu.be/eUwDg2feZyM\n",
    "    \n",
    "Let's start with adding usual libraries."
   ]
  },
  {
   "cell_type": "code",
   "execution_count": 1,
   "id": "b6356279",
   "metadata": {},
   "outputs": [
    {
     "data": {
      "text/latex": [
       "$\\displaystyle x$"
      ],
      "text/plain": [
       "x"
      ]
     },
     "execution_count": 1,
     "metadata": {},
     "output_type": "execute_result"
    }
   ],
   "source": [
    "import matplotlib.pyplot as plt\n",
    "import numpy as np\n",
    "import sympy as sp\n",
    "from numpy.polynomial import *\n",
    "sp.var('x')\n"
   ]
  },
  {
   "cell_type": "markdown",
   "id": "5529e0b6",
   "metadata": {},
   "source": [
    "### **Example 1.** Defining the family\n",
    "\n",
    "Suppose we have a family of functions $f_n(x)=nxe^{-nx^2}$. The parameter $n$ is always going to be a positive integer. For each $n$, we will have a slightly different function. For example, $f_1(x)=xe^{-x^2}$, $f_2(x)=2xe^{-2x^2}$, etc. We can use SymPy to define all of these functions at the same time by treating $n$ as a variable that can take on only positive integer values:\n",
    "\n"
   ]
  },
  {
   "cell_type": "code",
   "execution_count": 2,
   "id": "df366c72",
   "metadata": {},
   "outputs": [
    {
     "data": {
      "text/latex": [
       "$\\displaystyle n x e^{- n x^{2}}$"
      ],
      "text/plain": [
       "n*x*exp(-n*x**2)"
      ]
     },
     "execution_count": 2,
     "metadata": {},
     "output_type": "execute_result"
    }
   ],
   "source": [
    "sp.var('n', integer=True, positive=True, nonzero=True)\n",
    "fn=n*x*sp.exp(-n*x**2)\n",
    "fn"
   ]
  },
  {
   "cell_type": "markdown",
   "id": "491c2913",
   "metadata": {},
   "source": [
    "Let's see some of these functions:"
   ]
  },
  {
   "cell_type": "code",
   "execution_count": 3,
   "id": "e1fc6232",
   "metadata": {},
   "outputs": [
    {
     "data": {
      "text/latex": [
       "$\\displaystyle 2 x e^{- 2 x^{2}}$"
      ],
      "text/plain": [
       "2*x*exp(-2*x**2)"
      ]
     },
     "execution_count": 3,
     "metadata": {},
     "output_type": "execute_result"
    }
   ],
   "source": [
    "f2=fn.subs(n,2)\n",
    "f2"
   ]
  },
  {
   "cell_type": "code",
   "execution_count": 4,
   "id": "3bd57e98",
   "metadata": {},
   "outputs": [
    {
     "data": {
      "text/latex": [
       "$\\displaystyle \\frac{2}{e^{2}}$"
      ],
      "text/plain": [
       "2*exp(-2)"
      ]
     },
     "execution_count": 4,
     "metadata": {},
     "output_type": "execute_result"
    }
   ],
   "source": [
    "f2.subs(x,1)"
   ]
  },
  {
   "cell_type": "code",
   "execution_count": 5,
   "id": "cc97392c",
   "metadata": {
    "scrolled": true
   },
   "outputs": [
    {
     "data": {
      "text/latex": [
       "$\\displaystyle \\frac{3}{e^{9}}$"
      ],
      "text/plain": [
       "3*exp(-9)"
      ]
     },
     "execution_count": 5,
     "metadata": {},
     "output_type": "execute_result"
    }
   ],
   "source": [
    "fn.subs([(n,1),(x,3)])   # here n=1 and x=3"
   ]
  },
  {
   "cell_type": "code",
   "execution_count": 6,
   "id": "e039a760",
   "metadata": {},
   "outputs": [
    {
     "data": {
      "text/latex": [
       "$\\displaystyle 0.000370229412260039$"
      ],
      "text/plain": [
       "0.000370229412260039"
      ]
     },
     "execution_count": 6,
     "metadata": {},
     "output_type": "execute_result"
    }
   ],
   "source": [
    "sp.N(fn.subs([(n,1),(x,3)]))  # don't forget about sp.N. It can be helpful"
   ]
  },
  {
   "cell_type": "markdown",
   "id": "1bda6e2b",
   "metadata": {},
   "source": [
    "Let's find a limit of $f_n(x)$ as $x$ goes to infinity. We can do it separately for each $n$ and look for pattern, or we can just find a general formula.\n",
    "So, separately:"
   ]
  },
  {
   "cell_type": "code",
   "execution_count": 7,
   "id": "e68cd8f2",
   "metadata": {},
   "outputs": [
    {
     "data": {
      "text/latex": [
       "$\\displaystyle 0$"
      ],
      "text/plain": [
       "0"
      ]
     },
     "execution_count": 7,
     "metadata": {},
     "output_type": "execute_result"
    }
   ],
   "source": [
    "sp.limit(fn.subs(n,1), x, sp.oo)"
   ]
  },
  {
   "cell_type": "code",
   "execution_count": 8,
   "id": "b4ea0dfc",
   "metadata": {},
   "outputs": [
    {
     "data": {
      "text/latex": [
       "$\\displaystyle 0$"
      ],
      "text/plain": [
       "0"
      ]
     },
     "execution_count": 8,
     "metadata": {},
     "output_type": "execute_result"
    }
   ],
   "source": [
    "sp.limit(fn.subs(n,2), x, sp.oo)"
   ]
  },
  {
   "cell_type": "code",
   "execution_count": 9,
   "id": "f4de6aa4",
   "metadata": {},
   "outputs": [
    {
     "data": {
      "text/latex": [
       "$\\displaystyle 0$"
      ],
      "text/plain": [
       "0"
      ]
     },
     "execution_count": 9,
     "metadata": {},
     "output_type": "execute_result"
    }
   ],
   "source": [
    "sp.limit(fn.subs(n,3), x, sp.oo)"
   ]
  },
  {
   "cell_type": "markdown",
   "id": "331f4230",
   "metadata": {},
   "source": [
    "As we can see, the limit seems to be always 0. So, we can guess that the limit equal to 0. We could have done this in one step:"
   ]
  },
  {
   "cell_type": "code",
   "execution_count": 10,
   "id": "fc451b5b",
   "metadata": {},
   "outputs": [
    {
     "data": {
      "text/latex": [
       "$\\displaystyle 0$"
      ],
      "text/plain": [
       "0"
      ]
     },
     "execution_count": 10,
     "metadata": {},
     "output_type": "execute_result"
    }
   ],
   "source": [
    "sp.limit(fn,x,sp.oo)"
   ]
  },
  {
   "cell_type": "markdown",
   "id": "ae458c6b",
   "metadata": {},
   "source": [
    "### **Example 2.** Plotting\n",
    "\n",
    "Next, let's try to plot first 6 functions at the same time, but on different plots. We will arange them in the 2 by 3 grid (2 rows and 3 columns). To create multiple plots, we can use subplots command. You should have seen it in the tutorial file before.\n",
    "\n",
    "Another thing that we have to point out is that we need to lambdify the whole family as we did in other labs. We can either lambdify each part separatelly like so:\n",
    "\n",
    "`f1n=sp.lambdify(x,fn.subs(n,1))`\n",
    "\n",
    "`f2n=sp.lambdify(x,fn.subs(n,2))`\n",
    "etc.\n",
    "\n",
    "Or, we can do this to the whole family at once treating $n$ as another variable:\n",
    "\n",
    "`fnn=sp.lambdify((n,x),fn)`"
   ]
  },
  {
   "cell_type": "code",
   "execution_count": 14,
   "id": "f31c551e",
   "metadata": {},
   "outputs": [],
   "source": [
    "fnn=sp.lambdify((n,x),fn)   "
   ]
  },
  {
   "cell_type": "code",
   "execution_count": 15,
   "id": "9e4d5e49",
   "metadata": {},
   "outputs": [
    {
     "data": {
      "text/plain": [
       "0.2706705664732254"
      ]
     },
     "execution_count": 15,
     "metadata": {},
     "output_type": "execute_result"
    }
   ],
   "source": [
    "fnn(2,1)   # this is f2(1)"
   ]
  },
  {
   "cell_type": "code",
   "execution_count": 16,
   "id": "8b1fc2db",
   "metadata": {},
   "outputs": [
    {
     "data": {
      "text/plain": [
       "0.708549829111522"
      ]
     },
     "execution_count": 16,
     "metadata": {},
     "output_type": "execute_result"
    }
   ],
   "source": [
    "fnn(3,0.5)  # this is f3(0.5)"
   ]
  },
  {
   "cell_type": "markdown",
   "id": "5f1c34be",
   "metadata": {},
   "source": [
    "Now let's plot first 6 functions on the interval $[0,2]$. Keep note of how we create subplots:\n",
    "`((ax1, ax2, ax3), (ax4, ax5,ax6))` this part defines axis of each subplot. Each  triple is a row, so we have two rows, each with 3 entries. This part has to be repeated on the other side of equal sign: `2,3`.\n",
    "\n",
    "Next, `sharex=True, sharey=True` means all graphs will use the same scale for x-axis and y-axis. It is possible to share only one of those if needed.\n",
    "\n",
    "Finally, we will also fill the area between the graph and x-axis by using `fill_between` command. The first entry there `xval` denote x-axis (as in between which x-values we have to fill), and the second entry (e.g. `fnn(1,xval)`) denotes the graph."
   ]
  },
  {
   "cell_type": "code",
   "execution_count": 18,
   "id": "3a035796",
   "metadata": {},
   "outputs": [
    {
     "data": {
      "image/png": "[encoded data removed]",
      "text/plain": [
       "<Figure size 1000x600 with 6 Axes>"
      ]
     },
     "metadata": {},
     "output_type": "display_data"
    }
   ],
   "source": [
    "fig, ((ax1, ax2, ax3), (ax4, ax5,ax6)) = plt.subplots(nrows=2, ncols=3, sharex=True, sharey=True, figsize=(10, 6))\n",
    "\n",
    "\n",
    "xval=np.linspace(0,2,1000)\n",
    "\n",
    "\n",
    "ax1.plot(xval,fnn(1,xval), color='blue')\n",
    "ax1.fill_between(xval, fnn(1,xval), alpha=0.3)\n",
    "ax1.grid()\n",
    "ax1.title.set_text(\"f_1\")\n",
    "\n",
    "ax2.plot(xval,fnn(2,xval), color='blue')\n",
    "ax2.fill_between(xval, fnn(2,xval), alpha=0.3)\n",
    "ax2.grid()\n",
    "ax2.title.set_text(\"f_2\")\n",
    "\n",
    "ax3.plot(xval,fnn(3,xval), color='blue')\n",
    "ax3.fill_between(xval, fnn(3,xval), alpha=0.3)\n",
    "ax3.grid()\n",
    "ax3.title.set_text(\"f_3\")\n",
    "\n",
    "ax4.plot(xval,fnn(4,xval), color='blue')\n",
    "ax4.fill_between(xval, fnn(4,xval), alpha=0.3)\n",
    "ax4.grid()\n",
    "ax4.title.set_text(\"f_4\")\n",
    "\n",
    "ax5.plot(xval,fnn(5,xval), color='blue')\n",
    "ax5.fill_between(xval, fnn(5,xval), alpha=0.3)\n",
    "ax5.grid()\n",
    "ax5.title.set_text(\"f_5\")\n",
    "\n",
    "ax6.plot(xval,fnn(6,xval), color='blue')\n",
    "ax6.fill_between(xval, fnn(6,xval), alpha=0.3)\n",
    "ax6.grid()\n",
    "ax6.title.set_text(\"f_6\")\n",
    "\n",
    "plt.show()"
   ]
  },
  {
   "cell_type": "markdown",
   "id": "99d002d6",
   "metadata": {},
   "source": [
    "Note that we have repeated the same 4 lines of code 6 times. You may wonder if we can do better using loops. And we can! We can use `enumerate` to go over all axes while counting those axis. Note that `enumerate` goes over lists and since we have a 2 by 3 array of axes, we have to flatten in to a list. For that we use `.flat` method. Also, take a note of how we create our titles. Here `%i` means we are going to place an integer in that place, which is later defined to be `%(i+1)`."
   ]
  },
  {
   "cell_type": "code",
   "execution_count": 19,
   "id": "548127eb",
   "metadata": {},
   "outputs": [
    {
     "data": {
      "image/png": "[encoded data removed]",
      "text/plain": [
       "<Figure size 1000x600 with 6 Axes>"
      ]
     },
     "metadata": {},
     "output_type": "display_data"
    }
   ],
   "source": [
    "fig, axis = plt.subplots(nrows=2, ncols=3, sharex=True, sharey=True, figsize=(10, 6))\n",
    "\n",
    "xval=np.linspace(0,2,1000)\n",
    "\n",
    "for i, ax in enumerate(axis.flat):\n",
    "    ax.plot(xval,fnn(i+1,xval), color='blue')\n",
    "    ax.fill_between(xval, fnn(i+1,xval), alpha=0.3)\n",
    "    ax.grid()\n",
    "    ax.title.set_text(\"f_%i\" %(i+1))\n",
    "\n",
    "plt.show()"
   ]
  },
  {
   "cell_type": "markdown",
   "id": "03c7e3a2",
   "metadata": {},
   "source": [
    "### **Example 3.** Example with integration\n",
    "\n",
    "Now let's find the blue areas and see how it changes as $n$ gets larger. First seperately:"
   ]
  },
  {
   "cell_type": "code",
   "execution_count": 20,
   "id": "349fe520",
   "metadata": {},
   "outputs": [
    {
     "data": {
      "text/latex": [
       "$\\displaystyle 0.490842180555633$"
      ],
      "text/plain": [
       "0.490842180555633"
      ]
     },
     "execution_count": 20,
     "metadata": {},
     "output_type": "execute_result"
    }
   ],
   "source": [
    "sp.N(sp.integrate(fn.subs(n,1),(x,0,2)))"
   ]
  },
  {
   "cell_type": "code",
   "execution_count": 21,
   "id": "44b0dbfb",
   "metadata": {},
   "outputs": [
    {
     "data": {
      "text/latex": [
       "$\\displaystyle 0.499832268686049$"
      ],
      "text/plain": [
       "0.499832268686049"
      ]
     },
     "execution_count": 21,
     "metadata": {},
     "output_type": "execute_result"
    }
   ],
   "source": [
    "sp.N(sp.integrate(fn.subs(n,2),(x,0,2)))"
   ]
  },
  {
   "cell_type": "code",
   "execution_count": 22,
   "id": "26df6c4d",
   "metadata": {},
   "outputs": [
    {
     "data": {
      "text/latex": [
       "$\\displaystyle 0.499996927893823$"
      ],
      "text/plain": [
       "0.499996927893823"
      ]
     },
     "execution_count": 22,
     "metadata": {},
     "output_type": "execute_result"
    }
   ],
   "source": [
    "sp.N(sp.integrate(fn.subs(n,3),(x,0,2)))"
   ]
  },
  {
   "cell_type": "markdown",
   "id": "1a108939",
   "metadata": {},
   "source": [
    "As we can see, the integral seems to be approaching to 0.5. Let's confirm it by using general formula:"
   ]
  },
  {
   "cell_type": "code",
   "execution_count": 23,
   "id": "486a0493",
   "metadata": {},
   "outputs": [
    {
     "data": {
      "text/latex": [
       "$\\displaystyle \\frac{1}{2} - \\frac{e^{- 4 n}}{2}$"
      ],
      "text/plain": [
       "1/2 - exp(-4*n)/2"
      ]
     },
     "execution_count": 23,
     "metadata": {},
     "output_type": "execute_result"
    }
   ],
   "source": [
    "area=sp.integrate(fn,(x,0,2))\n",
    "area"
   ]
  },
  {
   "cell_type": "markdown",
   "id": "ef1182c2",
   "metadata": {},
   "source": [
    "And if we take the limit of it as $n$ goes to infinity:"
   ]
  },
  {
   "cell_type": "code",
   "execution_count": 24,
   "id": "94b893e4",
   "metadata": {},
   "outputs": [
    {
     "data": {
      "text/latex": [
       "$\\displaystyle \\frac{1}{2}$"
      ],
      "text/plain": [
       "1/2"
      ]
     },
     "execution_count": 24,
     "metadata": {},
     "output_type": "execute_result"
    }
   ],
   "source": [
    "sp.limit(area,n,sp.oo)"
   ]
  },
  {
   "cell_type": "markdown",
   "id": "0dcc6b78",
   "metadata": {},
   "source": [
    "### **Example 4.** Example with differentiation\n",
    "\n",
    "Let's find the coordinate for the maximum of all of the function in the family that we see on the graph. We will do it for a general formula and then also take a limit."
   ]
  },
  {
   "cell_type": "code",
   "execution_count": 25,
   "id": "2872e96d",
   "metadata": {},
   "outputs": [
    {
     "data": {
      "text/latex": [
       "$\\displaystyle - 2 n^{2} x^{2} e^{- n x^{2}} + n e^{- n x^{2}}$"
      ],
      "text/plain": [
       "-2*n**2*x**2*exp(-n*x**2) + n*exp(-n*x**2)"
      ]
     },
     "execution_count": 25,
     "metadata": {},
     "output_type": "execute_result"
    }
   ],
   "source": [
    "der_fn=fn.diff(x)\n",
    "der_fn"
   ]
  },
  {
   "cell_type": "code",
   "execution_count": 26,
   "id": "01404049",
   "metadata": {},
   "outputs": [
    {
     "data": {
      "text/latex": [
       "$\\displaystyle \\left\\{- \\frac{\\sqrt{2}}{2 \\sqrt{n}}, \\frac{\\sqrt{2}}{2 \\sqrt{n}}\\right\\}$"
      ],
      "text/plain": [
       "{-sqrt(2)/(2*sqrt(n)), sqrt(2)/(2*sqrt(n))}"
      ]
     },
     "execution_count": 26,
     "metadata": {},
     "output_type": "execute_result"
    }
   ],
   "source": [
    "sp.solveset(der_fn,x)"
   ]
  },
  {
   "cell_type": "markdown",
   "id": "b7f3f60c",
   "metadata": {},
   "source": [
    "We can see, that we have two critical points. The one we see on the graph is the positive one."
   ]
  },
  {
   "cell_type": "code",
   "execution_count": 27,
   "id": "a7d1a20f",
   "metadata": {},
   "outputs": [
    {
     "data": {
      "text/latex": [
       "$\\displaystyle \\frac{\\sqrt{2}}{2 \\sqrt{n}}$"
      ],
      "text/plain": [
       "sqrt(2)/(2*sqrt(n))"
      ]
     },
     "execution_count": 27,
     "metadata": {},
     "output_type": "execute_result"
    }
   ],
   "source": [
    "crit_n=sp.sqrt(2)/(2*sp.sqrt(n))\n",
    "crit_n"
   ]
  },
  {
   "cell_type": "code",
   "execution_count": 28,
   "id": "1bb93870",
   "metadata": {},
   "outputs": [
    {
     "data": {
      "text/latex": [
       "$\\displaystyle \\frac{\\sqrt{2} \\sqrt{n}}{2 e^{\\frac{1}{2}}}$"
      ],
      "text/plain": [
       "sqrt(2)*sqrt(n)*exp(-1/2)/2"
      ]
     },
     "execution_count": 28,
     "metadata": {},
     "output_type": "execute_result"
    }
   ],
   "source": [
    "value_n=fn.subs(x,crit_n)\n",
    "value_n"
   ]
  },
  {
   "cell_type": "markdown",
   "id": "08041af2",
   "metadata": {},
   "source": [
    "Let's list first 3 coordinates. Let's use print command to make a nice statements:"
   ]
  },
  {
   "cell_type": "code",
   "execution_count": 29,
   "id": "ac386ec2",
   "metadata": {},
   "outputs": [
    {
     "name": "stdout",
     "output_type": "stream",
     "text": [
      "Maximum of f_1 is at ( 0.707106781186548 , 0.428881942480353 )\n",
      "Maximum of f_2 is at ( 0.500000000000000 , 0.606530659712633 )\n",
      "Maximum of f_3 is at ( 0.408248290463863 , 0.742845314824805 )\n"
     ]
    }
   ],
   "source": [
    "print('Maximum of f_1 is at (',sp.N(crit_n.subs(n,1)),',',sp.N(value_n.subs(n,1)),')')\n",
    "print('Maximum of f_2 is at (',sp.N(crit_n.subs(n,2)),',',sp.N(value_n.subs(n,2)),')')\n",
    "print('Maximum of f_3 is at (',sp.N(crit_n.subs(n,3)),',',sp.N(value_n.subs(n,3)),')')"
   ]
  },
  {
   "cell_type": "markdown",
   "id": "88086a57",
   "metadata": {},
   "source": [
    "FInally, let's find where does this extrema approaches as n gets larger"
   ]
  },
  {
   "cell_type": "code",
   "execution_count": 30,
   "id": "f8801211",
   "metadata": {},
   "outputs": [
    {
     "name": "stdout",
     "output_type": "stream",
     "text": [
      "As n gets larger, the coordinate of the extrema goes to ( 0 , oo )\n"
     ]
    }
   ],
   "source": [
    "crit_inf=sp.limit(crit_n, n, sp.oo)\n",
    "value_inf=sp.limit(value_n, n, sp.oo)\n",
    "\n",
    "print('As n gets larger, the coordinate of the extrema goes to (',crit_inf, ',', value_inf,')')"
   ]
  },
  {
   "cell_type": "code",
   "execution_count": null,
   "id": "590487f0",
   "metadata": {},
   "outputs": [],
   "source": []
  }
 ],
 "metadata": {
  "kernelspec": {
   "display_name": "Python 3 (ipykernel)",
   "language": "python",
   "name": "python3"
  },
  "language_info": {
   "codemirror_mode": {
    "name": "ipython",
    "version": 3
   },
   "file_extension": ".py",
   "mimetype": "text/x-python",
   "name": "python",
   "nbconvert_exporter": "python",
   "pygments_lexer": "ipython3",
   "version": "3.11.5"
  }
 },
 "nbformat": 4,
 "nbformat_minor": 5
}
