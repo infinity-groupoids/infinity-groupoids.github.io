{
 "cells": [
  {
   "cell_type": "markdown",
   "id": "7b43280a",
   "metadata": {},
   "source": [
    "# <center> Lab 5 Examples \n",
    "## <center>    Sequences and Series\n",
    "\n",
    "In this Lab we will learn how to work with sequences and series, how to determine their convergence and the difficulty of determining convergence of infinite series. We will also introduce a new library `mpmath`. \n",
    "\n",
    "**Video**: https://youtu.be/V6QhEakwyvw"
   ]
  },
  {
   "cell_type": "code",
   "execution_count": 1,
   "id": "ed4b2356",
   "metadata": {},
   "outputs": [
    {
     "data": {
      "text/latex": [
       "$\\displaystyle n$"
      ],
      "text/plain": [
       "n"
      ]
     },
     "execution_count": 1,
     "metadata": {},
     "output_type": "execute_result"
    }
   ],
   "source": [
    "import matplotlib.pyplot as plt\n",
    "import numpy as np\n",
    "import sympy as sp\n",
    "import mpmath as mm        #  <---- New Library\n",
    "\n",
    "sp.var('n')\n"
   ]
  },
  {
   "cell_type": "markdown",
   "id": "57b04cc3",
   "metadata": {},
   "source": [
    "## 1. Sequences and their limits\n",
    "\n",
    "To define the sequence and find their limits, we will use SymPy library. Suppose we have a sequence $a_n=\\frac{1}{2n+1}$. We want to define it, plot first 30 terms and find the limit. First, we define it:"
   ]
  },
  {
   "cell_type": "code",
   "execution_count": 2,
   "id": "1fe417fb",
   "metadata": {},
   "outputs": [
    {
     "data": {
      "text/latex": [
       "$\\displaystyle \\left[\\frac{1}{3}, \\frac{1}{5}, \\frac{1}{7}, \\frac{1}{9}, \\ldots\\right]$"
      ],
      "text/plain": [
       "SeqFormula(1/(2*n + 1), (n, 1, oo))"
      ]
     },
     "execution_count": 2,
     "metadata": {},
     "output_type": "execute_result"
    }
   ],
   "source": [
    "an=sp.sequence(1/(2*n+1), (n,1,sp.oo))\n",
    "an"
   ]
  },
  {
   "cell_type": "markdown",
   "id": "a3cce9f6",
   "metadata": {},
   "source": [
    "Next, let's plot first 30 terms:"
   ]
  },
  {
   "cell_type": "code",
   "execution_count": 4,
   "id": "d4ea2404",
   "metadata": {},
   "outputs": [
    {
     "data": {
      "image/png": "[encoded data removed]",
      "text/plain": [
       "<Figure size 640x480 with 1 Axes>"
      ]
     },
     "metadata": {},
     "output_type": "display_data"
    }
   ],
   "source": [
    "nval=np.arange(1,31,1)                   # Note upper bound is 31, since last number isn't being used.\n",
    "\n",
    "fig=plt.figure()\n",
    "\n",
    "plt.scatter(nval,an[:30], color='red')   # an[:30] means take first 30 elements. This is the same syntax as for lists and arrays.\n",
    "\n",
    "\n",
    "plt.title(\"a_n=1/(2n+1), 1<n<30\")\n",
    "plt.xlabel('n')\n",
    "plt.ylabel('a_n')\n",
    "plt.grid()\n",
    "\n",
    "plt.show()"
   ]
  },
  {
   "cell_type": "markdown",
   "id": "cc739a1a",
   "metadata": {},
   "source": [
    "Finally, let's find the limit. You can't use `an` directly because it is a list object. We need to use it as a expression of the n-th term. For that we will use `.formula` method."
   ]
  },
  {
   "cell_type": "code",
   "execution_count": 5,
   "id": "3e85b79d",
   "metadata": {},
   "outputs": [
    {
     "data": {
      "text/latex": [
       "$\\displaystyle 0$"
      ],
      "text/plain": [
       "0"
      ]
     },
     "execution_count": 5,
     "metadata": {},
     "output_type": "execute_result"
    }
   ],
   "source": [
    "sp.limit_seq(an.formula,n)"
   ]
  },
  {
   "cell_type": "markdown",
   "id": "3e80c915",
   "metadata": {},
   "source": [
    "The command `limit_seq` assumes $n$ is an integer already. We can use regular limit as well, but it will not assume that, which may lead to incorrect answers sometimes."
   ]
  },
  {
   "cell_type": "code",
   "execution_count": 6,
   "id": "47f69ce4",
   "metadata": {},
   "outputs": [
    {
     "data": {
      "text/latex": [
       "$\\displaystyle 0$"
      ],
      "text/plain": [
       "0"
      ]
     },
     "execution_count": 6,
     "metadata": {},
     "output_type": "execute_result"
    }
   ],
   "source": [
    "sp.limit(an.formula,n,sp.oo)"
   ]
  },
  {
   "cell_type": "markdown",
   "id": "b767a272",
   "metadata": {},
   "source": [
    "## 2. Series and Partial Sums\n",
    "\n",
    "Suppose we have a infinite series $\\sum_{n=1}^{\\infty} \\frac{(-1)^n}{n}$. Our goal here is to look at first 30 partial sums for this series. We start by defining expression of terms and then a sequence of partial sums:"
   ]
  },
  {
   "cell_type": "code",
   "execution_count": 7,
   "id": "617a7477",
   "metadata": {},
   "outputs": [
    {
     "data": {
      "text/plain": [
       "[Sum((-1)**n/n, (n, 1, 1)),\n",
       " Sum((-1)**n/n, (n, 1, 2)),\n",
       " Sum((-1)**n/n, (n, 1, 3)),\n",
       " Sum((-1)**n/n, (n, 1, 4)),\n",
       " Sum((-1)**n/n, (n, 1, 5)),\n",
       " Sum((-1)**n/n, (n, 1, 6)),\n",
       " Sum((-1)**n/n, (n, 1, 7)),\n",
       " Sum((-1)**n/n, (n, 1, 8)),\n",
       " Sum((-1)**n/n, (n, 1, 9)),\n",
       " Sum((-1)**n/n, (n, 1, 10)),\n",
       " Sum((-1)**n/n, (n, 1, 11)),\n",
       " Sum((-1)**n/n, (n, 1, 12)),\n",
       " Sum((-1)**n/n, (n, 1, 13)),\n",
       " Sum((-1)**n/n, (n, 1, 14)),\n",
       " Sum((-1)**n/n, (n, 1, 15)),\n",
       " Sum((-1)**n/n, (n, 1, 16)),\n",
       " Sum((-1)**n/n, (n, 1, 17)),\n",
       " Sum((-1)**n/n, (n, 1, 18)),\n",
       " Sum((-1)**n/n, (n, 1, 19)),\n",
       " Sum((-1)**n/n, (n, 1, 20)),\n",
       " Sum((-1)**n/n, (n, 1, 21)),\n",
       " Sum((-1)**n/n, (n, 1, 22)),\n",
       " Sum((-1)**n/n, (n, 1, 23)),\n",
       " Sum((-1)**n/n, (n, 1, 24)),\n",
       " Sum((-1)**n/n, (n, 1, 25)),\n",
       " Sum((-1)**n/n, (n, 1, 26)),\n",
       " Sum((-1)**n/n, (n, 1, 27)),\n",
       " Sum((-1)**n/n, (n, 1, 28)),\n",
       " Sum((-1)**n/n, (n, 1, 29)),\n",
       " Sum((-1)**n/n, (n, 1, 30))]"
      ]
     },
     "execution_count": 7,
     "metadata": {},
     "output_type": "execute_result"
    }
   ],
   "source": [
    "an=(-1)**n/n\n",
    "\n",
    "PartialSums = [sp.Sum(an, (n, 1, k)) for k in np.arange(1,31,1)]\n",
    "PartialSums"
   ]
  },
  {
   "cell_type": "markdown",
   "id": "b765ce77",
   "metadata": {},
   "source": [
    "Note, we defined it as a list of sums from 1 to $k$ as $k$ changes from 1 to 30. For example, here is a sixth term:"
   ]
  },
  {
   "cell_type": "code",
   "execution_count": 8,
   "id": "2fd1ef7a",
   "metadata": {},
   "outputs": [
    {
     "data": {
      "text/latex": [
       "$\\displaystyle \\sum_{n=1}^{6} \\frac{\\left(-1\\right)^{n}}{n}$"
      ],
      "text/plain": [
       "Sum((-1)**n/n, (n, 1, 6))"
      ]
     },
     "execution_count": 8,
     "metadata": {},
     "output_type": "execute_result"
    }
   ],
   "source": [
    "PartialSums[5]"
   ]
  },
  {
   "cell_type": "code",
   "execution_count": 9,
   "id": "e6f45e89",
   "metadata": {},
   "outputs": [
    {
     "data": {
      "text/latex": [
       "$\\displaystyle -0.616666666666667$"
      ],
      "text/plain": [
       "-0.616666666666667"
      ]
     },
     "execution_count": 9,
     "metadata": {},
     "output_type": "execute_result"
    }
   ],
   "source": [
    "sp.N(PartialSums[5])"
   ]
  },
  {
   "cell_type": "markdown",
   "id": "36da5530",
   "metadata": {},
   "source": [
    "Now, let's plot it. This is similar to what we did with sequences:"
   ]
  },
  {
   "cell_type": "code",
   "execution_count": 10,
   "id": "a1ca10f9",
   "metadata": {},
   "outputs": [
    {
     "data": {
      "image/png": "[encoded data removed]",
      "text/plain": [
       "<Figure size 640x480 with 1 Axes>"
      ]
     },
     "metadata": {},
     "output_type": "display_data"
    }
   ],
   "source": [
    "nval=np.arange(1,31,1)\n",
    "\n",
    "fig=plt.figure()\n",
    "\n",
    "plt.scatter(nval,PartialSums[:], color='red')\n",
    "\n",
    "\n",
    "plt.title(\"Partial sums, 1<=n<=30\")\n",
    "plt.xlabel('n')\n",
    "plt.ylabel('Sums')\n",
    "plt.grid()\n",
    "\n",
    "plt.show()"
   ]
  },
  {
   "cell_type": "markdown",
   "id": "95be3081",
   "metadata": {},
   "source": [
    "From the graph we can see that the sum seems to converge to something around -0.7 or -0.69. We can try evaluating the limit of partial sums. However, using limit of the sequence will not work as our partial sum sequence is not infinite. We will use different methods. First one is `sp.summation` and another method is `mm.nsum` from the new library:"
   ]
  },
  {
   "cell_type": "code",
   "execution_count": 11,
   "id": "549a3014",
   "metadata": {},
   "outputs": [
    {
     "data": {
      "text/latex": [
       "$\\displaystyle -0.693147180559945$"
      ],
      "text/plain": [
       "-0.693147180559945"
      ]
     },
     "execution_count": 11,
     "metadata": {},
     "output_type": "execute_result"
    }
   ],
   "source": [
    "sp.N(sp.summation(an,(n,1,sp.oo)))"
   ]
  },
  {
   "cell_type": "code",
   "execution_count": 12,
   "id": "841e4c05",
   "metadata": {},
   "outputs": [
    {
     "data": {
      "text/plain": [
       "mpf('-0.69314718055994529')"
      ]
     },
     "execution_count": 12,
     "metadata": {},
     "output_type": "execute_result"
    }
   ],
   "source": [
    "mm.nsum(lambda n: (-1)**n/n, [1, mm.inf])"
   ]
  },
  {
   "cell_type": "markdown",
   "id": "890f30b5",
   "metadata": {},
   "source": [
    "We got the same answer in both case and it matches what we see on the plot. This confirms convergence.\n",
    "\n",
    "Note about `nsum`: It is a different math library, so if you need to use more complicated functions like sine for instance, you have to use its own sine function (e.g. `mm.sin(n)`). Inside, the `nsum` commands we used `lambda`, this is the same as what we did before when we defined functions through it. Finally, the interval `[1, mm.inf]` is the the interval of integers over which we take aur partial sums. In this case with start with $n=1$ and end with $n=\\infty$"
   ]
  },
  {
   "cell_type": "markdown",
   "id": "610a0e8c",
   "metadata": {},
   "source": [
    "## 3. Limitation of technology in determining convergence of series"
   ]
  },
  {
   "cell_type": "markdown",
   "id": "fd8f43fe",
   "metadata": {},
   "source": [
    "Unfortunatelly, there isn't a universal way of determining whether the series converges or diverges. This means methods discussed above may fail. Let's look a a couple of examples and see what we can say about it.\n",
    "\n",
    "**1.** $\\sum_{n=1}^{\\infty}\\frac{1}{n}$"
   ]
  },
  {
   "cell_type": "code",
   "execution_count": 13,
   "id": "a8b1889f",
   "metadata": {},
   "outputs": [],
   "source": [
    "an=1/n"
   ]
  },
  {
   "cell_type": "code",
   "execution_count": 14,
   "id": "093ce4b2",
   "metadata": {},
   "outputs": [
    {
     "data": {
      "text/latex": [
       "$\\displaystyle \\infty$"
      ],
      "text/plain": [
       "oo"
      ]
     },
     "execution_count": 14,
     "metadata": {},
     "output_type": "execute_result"
    }
   ],
   "source": [
    "sp.N(sp.summation(an,(n,1,sp.oo)))"
   ]
  },
  {
   "cell_type": "code",
   "execution_count": 15,
   "id": "a366b28f",
   "metadata": {},
   "outputs": [
    {
     "data": {
      "text/plain": [
       "mpf('9.4633820989410271')"
      ]
     },
     "execution_count": 15,
     "metadata": {},
     "output_type": "execute_result"
    }
   ],
   "source": [
    "mm.nsum(lambda n: 1/n,[1, mm.inf])"
   ]
  },
  {
   "cell_type": "markdown",
   "id": "267939c3",
   "metadata": {},
   "source": [
    "In this case, `sp.summation` worked well, but `nsum` failed. Command `nsum` will never tell you whether the sum is divergent. It will just calculate partial sums for some large $n$. But if the series is convergent, it will compute the limit quite fast."
   ]
  },
  {
   "cell_type": "markdown",
   "id": "8575066e",
   "metadata": {},
   "source": [
    "**2.** $\\sum_{n=1}^{\\infty}sin(n)$"
   ]
  },
  {
   "cell_type": "code",
   "execution_count": 16,
   "id": "f38f96df",
   "metadata": {},
   "outputs": [
    {
     "data": {
      "text/latex": [
       "$\\displaystyle 1.0 \\cdot 10^{129}$"
      ],
      "text/plain": [
       "0.e+129"
      ]
     },
     "execution_count": 16,
     "metadata": {},
     "output_type": "execute_result"
    }
   ],
   "source": [
    "an=sp.sin(n)\n",
    "sp.N(sp.summation(an,(n,1,sp.oo)))"
   ]
  },
  {
   "cell_type": "code",
   "execution_count": 17,
   "id": "dbd86e0a",
   "metadata": {},
   "outputs": [
    {
     "data": {
      "text/plain": [
       "mpf('0.915243860856226')"
      ]
     },
     "execution_count": 17,
     "metadata": {},
     "output_type": "execute_result"
    }
   ],
   "source": [
    "mm.nsum(lambda n: mm.sin(n),[1, mm.inf])"
   ]
  },
  {
   "cell_type": "markdown",
   "id": "fccea06b",
   "metadata": {},
   "source": [
    "In this case, both gave us some numbers. However, notice they are different. This suggests that the series is divergent, since if it was convergent, we would have gotten similar answers. Another thing of note in this example, notice how much faster `nsum` provided the answer in comparison to `summation`.\n",
    "We could have also used graphs of partial sums to make our analysis even more precise. "
   ]
  },
  {
   "cell_type": "markdown",
   "id": "b21fb608",
   "metadata": {},
   "source": [
    "Final note: These limitation highlight something very important. We have to understand theory when we are analysing results. Just because command gives us the answer doesn't mean it is a correct answer. Therefore, while the use of technology is incredibly helpful, it has to be used cautiously. You have to always question the result and make sure that it makes sense. "
   ]
  }
 ],
 "metadata": {
  "kernelspec": {
   "display_name": "Python 3 (ipykernel)",
   "language": "python",
   "name": "python3"
  },
  "language_info": {
   "codemirror_mode": {
    "name": "ipython",
    "version": 3
   },
   "file_extension": ".py",
   "mimetype": "text/x-python",
   "name": "python",
   "nbconvert_exporter": "python",
   "pygments_lexer": "ipython3",
   "version": "3.11.5"
  }
 },
 "nbformat": 4,
 "nbformat_minor": 5
}
