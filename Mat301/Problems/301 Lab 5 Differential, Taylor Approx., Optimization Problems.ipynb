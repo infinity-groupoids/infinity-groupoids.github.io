{
 "cells": [
  {
   "cell_type": "markdown",
   "id": "98e4ddea",
   "metadata": {},
   "source": [
    "## <center> Lab 5 Problems \n",
    "    \n",
    "Add needed libraries and variables. Besides $x$, create SymPy variables for $a$, $b$, $c$ and $d$ as well"
   ]
  },
  {
   "cell_type": "code",
   "execution_count": null,
   "id": "ad408587",
   "metadata": {},
   "outputs": [],
   "source": []
  },
  {
   "cell_type": "markdown",
   "id": "f42b6cfa",
   "metadata": {},
   "source": [
    "### Problem 1\n",
    "\n",
    "Let $f(x)=x^3+2$\n",
    "\n",
    "**a.** Find $dy$ when $x=1$ and $dx=0.1$"
   ]
  },
  {
   "cell_type": "code",
   "execution_count": null,
   "id": "4784526f",
   "metadata": {},
   "outputs": [],
   "source": []
  },
  {
   "cell_type": "markdown",
   "id": "790fe11c",
   "metadata": {},
   "source": [
    "**b.** Find $\\Delta y$ when $x=1$ and $\\Delta x=0.1$"
   ]
  },
  {
   "cell_type": "code",
   "execution_count": null,
   "id": "ae0cba3b",
   "metadata": {},
   "outputs": [],
   "source": []
  },
  {
   "cell_type": "markdown",
   "id": "660e0a64",
   "metadata": {},
   "source": [
    "**c.** Let’s see what this means graphically. Graph on the same plot $f(x)$, tangent line to $f(x)$ at $x = 1$, a\n",
    "vertical line at $x = 1 + dx$ and a horizontal line $y = f(1)$. \n",
    "Note three points of intersection of vertical line (VL) with horizontal line (HL), tangent line (TL) and\n",
    "$f(x)$. Distance between HL and intersection of VL and TL is $dy$, and distance between HL and intersection\n",
    "of VL and $f(x)$ is $\\Delta y$.\n",
    "\n",
    "Recommended range for $x$ is from 0.99 to 1.11\n"
   ]
  },
  {
   "cell_type": "code",
   "execution_count": null,
   "id": "7d494c72",
   "metadata": {},
   "outputs": [],
   "source": []
  },
  {
   "cell_type": "code",
   "execution_count": null,
   "id": "833e74fb",
   "metadata": {},
   "outputs": [],
   "source": []
  },
  {
   "cell_type": "markdown",
   "id": "f7a1a427",
   "metadata": {},
   "source": [
    "**d.** Find the difference between $dy$ and $\\Delta y$"
   ]
  },
  {
   "cell_type": "code",
   "execution_count": null,
   "id": "db7d3eef",
   "metadata": {},
   "outputs": [],
   "source": []
  },
  {
   "cell_type": "markdown",
   "id": "a128ccba",
   "metadata": {},
   "source": [
    "**e.** Repeat parts **c** and **d** with $dx=0.05$"
   ]
  },
  {
   "cell_type": "code",
   "execution_count": null,
   "id": "70dc7a58",
   "metadata": {},
   "outputs": [],
   "source": []
  },
  {
   "cell_type": "code",
   "execution_count": null,
   "id": "ca7ef34b",
   "metadata": {},
   "outputs": [],
   "source": []
  },
  {
   "cell_type": "markdown",
   "id": "d789f44d",
   "metadata": {},
   "source": [
    "**f.** What do the final answers (the differences) in part **d** and **e** tell us?"
   ]
  },
  {
   "cell_type": "markdown",
   "id": "447abb05",
   "metadata": {},
   "source": [
    "**Answer:** "
   ]
  },
  {
   "cell_type": "markdown",
   "id": "77395285",
   "metadata": {},
   "source": [
    "### Problem 2\n",
    "\n",
    "***See Examples file for explanation about this problem***\n",
    "\n",
    "Let $f(x)=e^x$. You will be approximating $f(x)$ and $x=0$.\n",
    "\n",
    "**a.** Find a constant function $T0(x)$ that agrees with $f(x)$ at $x=0$. Plot both $f(x)$ and $T0(x)$ on the same graph with $x \\in(-3,3)$. Also, limit your $y$'s between -1 and 10."
   ]
  },
  {
   "cell_type": "code",
   "execution_count": null,
   "id": "8dd03298",
   "metadata": {},
   "outputs": [],
   "source": []
  },
  {
   "cell_type": "code",
   "execution_count": null,
   "id": "183495b8",
   "metadata": {},
   "outputs": [],
   "source": []
  },
  {
   "cell_type": "markdown",
   "id": "64a0443a",
   "metadata": {},
   "source": [
    "**b.** Find $T1(x)=T0(x)+ax$ (linear approximation) at $x=0$. Then plot $f(x)$ and $T1(x)$ on the same graph."
   ]
  },
  {
   "cell_type": "code",
   "execution_count": null,
   "id": "59f5fb09",
   "metadata": {},
   "outputs": [],
   "source": []
  },
  {
   "cell_type": "code",
   "execution_count": null,
   "id": "61d4a21b",
   "metadata": {},
   "outputs": [],
   "source": []
  },
  {
   "cell_type": "code",
   "execution_count": null,
   "id": "b22b7d9f",
   "metadata": {},
   "outputs": [],
   "source": []
  },
  {
   "cell_type": "code",
   "execution_count": null,
   "id": "294b5bba",
   "metadata": {},
   "outputs": [],
   "source": []
  },
  {
   "cell_type": "markdown",
   "id": "ffdce207",
   "metadata": {},
   "source": [
    "**c.** Next, find quadratic approximation $T2(x)=T1(x)+bx^2$ at $x=0$. Then plot $f(x)$ and $T2(x)$ on the same graph."
   ]
  },
  {
   "cell_type": "code",
   "execution_count": null,
   "id": "f3b4c641",
   "metadata": {},
   "outputs": [],
   "source": []
  },
  {
   "cell_type": "code",
   "execution_count": null,
   "id": "332a68bb",
   "metadata": {},
   "outputs": [],
   "source": []
  },
  {
   "cell_type": "code",
   "execution_count": null,
   "id": "dd9434ff",
   "metadata": {},
   "outputs": [],
   "source": []
  },
  {
   "cell_type": "code",
   "execution_count": null,
   "id": "eb1e7090",
   "metadata": {},
   "outputs": [],
   "source": []
  },
  {
   "cell_type": "markdown",
   "id": "4a644624",
   "metadata": {},
   "source": [
    "**d.** Find cubic approximation $T3(x) = T2(x) + cx^3$. Then plot $f(x)$ and $T3(x)$\n"
   ]
  },
  {
   "cell_type": "code",
   "execution_count": null,
   "id": "a25d9098",
   "metadata": {},
   "outputs": [],
   "source": []
  },
  {
   "cell_type": "code",
   "execution_count": null,
   "id": "f75a94e9",
   "metadata": {
    "scrolled": true
   },
   "outputs": [],
   "source": []
  },
  {
   "cell_type": "code",
   "execution_count": null,
   "id": "966ff139",
   "metadata": {},
   "outputs": [],
   "source": []
  },
  {
   "cell_type": "code",
   "execution_count": null,
   "id": "a4336898",
   "metadata": {},
   "outputs": [],
   "source": []
  },
  {
   "cell_type": "markdown",
   "id": "08836745",
   "metadata": {},
   "source": [
    "**e.** One more time for quartic approximation $T4(x)=T3(x)+dx^4$. Notice that as we add more terms our approximation gets better, but only near the chosen point."
   ]
  },
  {
   "cell_type": "code",
   "execution_count": null,
   "id": "a2e542ff",
   "metadata": {},
   "outputs": [],
   "source": []
  },
  {
   "cell_type": "code",
   "execution_count": null,
   "id": "c1519e3d",
   "metadata": {},
   "outputs": [],
   "source": []
  },
  {
   "cell_type": "code",
   "execution_count": null,
   "id": "1a074f76",
   "metadata": {},
   "outputs": [],
   "source": []
  },
  {
   "cell_type": "code",
   "execution_count": null,
   "id": "0ffb5852",
   "metadata": {},
   "outputs": [],
   "source": []
  },
  {
   "cell_type": "markdown",
   "id": "00b91c06",
   "metadata": {},
   "source": [
    "### Problem 3\n",
    "\n",
    "Repeat the problem 2 for $f(x) = cos(x)$ at $x = 0$. Note: some derivative will end up being equal zero.\n",
    "That’s ok. You just will not have some of the terms. In fact, cosine is an even function, and you will see\n",
    "that precisely the terms with odd powers will disappear.\n"
   ]
  },
  {
   "cell_type": "markdown",
   "id": "4732f825",
   "metadata": {},
   "source": [
    "**a.**"
   ]
  },
  {
   "cell_type": "code",
   "execution_count": null,
   "id": "9af3da2b",
   "metadata": {},
   "outputs": [],
   "source": []
  },
  {
   "cell_type": "markdown",
   "id": "9bb9bec9",
   "metadata": {},
   "source": [
    "**b.**"
   ]
  },
  {
   "cell_type": "code",
   "execution_count": null,
   "id": "0d07ac2f",
   "metadata": {},
   "outputs": [],
   "source": []
  },
  {
   "cell_type": "code",
   "execution_count": null,
   "id": "7bd8fdc9",
   "metadata": {},
   "outputs": [],
   "source": []
  },
  {
   "cell_type": "code",
   "execution_count": null,
   "id": "61484d82",
   "metadata": {},
   "outputs": [],
   "source": []
  },
  {
   "cell_type": "code",
   "execution_count": null,
   "id": "5a08a223",
   "metadata": {},
   "outputs": [],
   "source": []
  },
  {
   "cell_type": "markdown",
   "id": "21899eac",
   "metadata": {},
   "source": [
    "**c.**"
   ]
  },
  {
   "cell_type": "code",
   "execution_count": null,
   "id": "1db09f12",
   "metadata": {},
   "outputs": [],
   "source": []
  },
  {
   "cell_type": "code",
   "execution_count": null,
   "id": "67635308",
   "metadata": {},
   "outputs": [],
   "source": []
  },
  {
   "cell_type": "code",
   "execution_count": null,
   "id": "d695b801",
   "metadata": {},
   "outputs": [],
   "source": []
  },
  {
   "cell_type": "code",
   "execution_count": null,
   "id": "7e203ac8",
   "metadata": {},
   "outputs": [],
   "source": []
  },
  {
   "cell_type": "markdown",
   "id": "cf283416",
   "metadata": {},
   "source": [
    "**d.**"
   ]
  },
  {
   "cell_type": "code",
   "execution_count": null,
   "id": "9b85d99d",
   "metadata": {},
   "outputs": [],
   "source": []
  },
  {
   "cell_type": "code",
   "execution_count": null,
   "id": "01ef9c27",
   "metadata": {},
   "outputs": [],
   "source": []
  },
  {
   "cell_type": "code",
   "execution_count": null,
   "id": "c3acf6b8",
   "metadata": {},
   "outputs": [],
   "source": []
  },
  {
   "cell_type": "code",
   "execution_count": null,
   "id": "4c33312b",
   "metadata": {},
   "outputs": [],
   "source": []
  },
  {
   "cell_type": "markdown",
   "id": "3f918a28",
   "metadata": {},
   "source": [
    "**e.**"
   ]
  },
  {
   "cell_type": "code",
   "execution_count": null,
   "id": "103861ec",
   "metadata": {},
   "outputs": [],
   "source": []
  },
  {
   "cell_type": "code",
   "execution_count": null,
   "id": "b56dd8c7",
   "metadata": {},
   "outputs": [],
   "source": []
  },
  {
   "cell_type": "code",
   "execution_count": null,
   "id": "d0260eae",
   "metadata": {},
   "outputs": [],
   "source": []
  },
  {
   "cell_type": "code",
   "execution_count": null,
   "id": "74574f83",
   "metadata": {},
   "outputs": [],
   "source": []
  },
  {
   "cell_type": "markdown",
   "id": "8d6d000f",
   "metadata": {},
   "source": [
    "### Problem 4\n",
    "\n",
    "*Note: For this problem, you need to recall modeling (Lab 2). Also, don't forget needed library*\n",
    "\n",
    "In the table below we can see on average how many cans a worker makes on the can factory after $t$ consecutive hours:\n",
    "$$\n",
    "\\begin{aligned}\n",
    "&\\begin{array}{|c|c|c|c|c|c|c|c|c|c|c|c|}\n",
    "\\hline \\hline \n",
    "t & 0 & 1 & 2 & 3 & 4 & 5 & 6 & 7 & 8 & 9 & 10  \\\\\n",
    "\\hline \n",
    "C & 0 & 70 & 160 & 260 & 370 & 480 & 580 &  660 & 730 & 780 & 800\\\\\n",
    "\\hline\n",
    "\\end{array}\n",
    "\\end{aligned}\n",
    "$$\n",
    "\n",
    "**a.** Find a cubic polynomial model for $C(t)$ and plot it."
   ]
  },
  {
   "cell_type": "code",
   "execution_count": null,
   "id": "f7e56ada",
   "metadata": {},
   "outputs": [],
   "source": []
  },
  {
   "cell_type": "code",
   "execution_count": null,
   "id": "b8c92987",
   "metadata": {},
   "outputs": [],
   "source": []
  },
  {
   "cell_type": "markdown",
   "id": "604553d3",
   "metadata": {},
   "source": [
    "**b.** Find $C'(t)$ and plot it. Does the name \"efficiency of a worker\" make sense for $C'(t)$? Why?"
   ]
  },
  {
   "cell_type": "code",
   "execution_count": null,
   "id": "7180423d",
   "metadata": {},
   "outputs": [],
   "source": []
  },
  {
   "cell_type": "code",
   "execution_count": null,
   "id": "9a899151",
   "metadata": {},
   "outputs": [],
   "source": []
  },
  {
   "cell_type": "markdown",
   "id": "c445e521",
   "metadata": {},
   "source": [
    "**Answer:** "
   ]
  },
  {
   "cell_type": "markdown",
   "id": "cb5ecc82",
   "metadata": {},
   "source": [
    "**c.** Find time that maximizes efficiency."
   ]
  },
  {
   "cell_type": "code",
   "execution_count": null,
   "id": "07b864fd",
   "metadata": {},
   "outputs": [],
   "source": []
  },
  {
   "cell_type": "code",
   "execution_count": null,
   "id": "80bacf84",
   "metadata": {},
   "outputs": [],
   "source": []
  },
  {
   "cell_type": "markdown",
   "id": "c18c47c9",
   "metadata": {},
   "source": [
    "**Answer:** "
   ]
  },
  {
   "cell_type": "markdown",
   "id": "a1552705",
   "metadata": {},
   "source": [
    "**d.** What does the point found in part c. represent on the graph of $C(t)$?"
   ]
  },
  {
   "cell_type": "markdown",
   "id": "6d22bc19",
   "metadata": {},
   "source": [
    "**Answer:** "
   ]
  }
 ],
 "metadata": {
  "kernelspec": {
   "display_name": "Python 3 (ipykernel)",
   "language": "python",
   "name": "python3"
  },
  "language_info": {
   "codemirror_mode": {
    "name": "ipython",
    "version": 3
   },
   "file_extension": ".py",
   "mimetype": "text/x-python",
   "name": "python",
   "nbconvert_exporter": "python",
   "pygments_lexer": "ipython3",
   "version": "3.9.15"
  }
 },
 "nbformat": 4,
 "nbformat_minor": 5
}
