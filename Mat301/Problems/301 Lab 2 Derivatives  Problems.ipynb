{
  "cells": [
    {
      "cell_type": "markdown",
      "id": "f423fe38",
      "metadata": {
        "id": "f423fe38"
      },
      "source": [
        "# <center> Lab 2 Problems\n",
        "    \n",
        "Do not forget to add libraries. You can copy them from Examples set. You can also add the line for making $x$ a variable symbol for SymPy.\n",
        "    \n",
        "\n",
        "You can add more cells as needed."
      ]
    },
    {
      "cell_type": "code",
      "execution_count": null,
      "id": "49d10cac",
      "metadata": {
        "id": "49d10cac"
      },
      "outputs": [],
      "source": []
    },
    {
      "cell_type": "markdown",
      "id": "e2cc6e96",
      "metadata": {
        "id": "e2cc6e96"
      },
      "source": [
        "### Problem 1\n",
        "\n",
        "Let $f(x)=x^3-x^2-3x+1$\n",
        "\n",
        "**a.** Create $f(x)$ and find $f'(x)$."
      ]
    },
    {
      "cell_type": "code",
      "execution_count": null,
      "id": "95f990f3",
      "metadata": {
        "id": "95f990f3"
      },
      "outputs": [],
      "source": []
    },
    {
      "cell_type": "markdown",
      "id": "a6e04709",
      "metadata": {
        "id": "a6e04709"
      },
      "source": [
        "**b.** Plot both $f(x)$ and $f'(x)$ on the same graph for $x$ between $-2$ and $2.5$."
      ]
    },
    {
      "cell_type": "code",
      "execution_count": null,
      "id": "79fd5fb1",
      "metadata": {
        "id": "79fd5fb1"
      },
      "outputs": [],
      "source": []
    },
    {
      "cell_type": "markdown",
      "id": "4e763ef8",
      "metadata": {
        "id": "4e763ef8"
      },
      "source": [
        "**c.** Based on the two graphs, describe what is happening to $f(x)$ when $f'(x)=0$."
      ]
    },
    {
      "cell_type": "markdown",
      "id": "3966803c",
      "metadata": {
        "id": "3966803c"
      },
      "source": [
        "**Answer:**"
      ]
    },
    {
      "cell_type": "markdown",
      "id": "8da9bbd3",
      "metadata": {
        "id": "8da9bbd3"
      },
      "source": [
        "**d.** Find all real $x$'s for which $f'(x)=0$"
      ]
    },
    {
      "cell_type": "code",
      "execution_count": null,
      "id": "3a9ad014",
      "metadata": {
        "id": "3a9ad014"
      },
      "outputs": [],
      "source": []
    },
    {
      "cell_type": "markdown",
      "id": "bacadc66",
      "metadata": {
        "id": "bacadc66"
      },
      "source": [
        "### Problem 2\n",
        "\n",
        "This problem is designed to show you that you can't always trust the graph drawn by computer (or even\n",
        "more so, person). Sometimes, you need to understand why you see or don't see something.\n",
        "\n",
        "Let $$f(x)=\\frac{2}{1+e^{1/x}}.$$\n",
        "\n",
        "**a.** Define using SymPy and plot it between $x=-5$ and $x=5$. Add grid and title to the graph."
      ]
    },
    {
      "cell_type": "code",
      "execution_count": null,
      "id": "b7f3d5d6",
      "metadata": {
        "id": "b7f3d5d6"
      },
      "outputs": [],
      "source": [
        "\n"
      ]
    },
    {
      "cell_type": "markdown",
      "id": "4694e863",
      "metadata": {
        "id": "4694e863"
      },
      "source": [
        "**b.** Based on the graph only, is there a place where f(x) is not differentiable? Where?"
      ]
    },
    {
      "cell_type": "markdown",
      "id": "225f6aa0",
      "metadata": {
        "id": "225f6aa0"
      },
      "source": [
        "**Answer:**"
      ]
    },
    {
      "cell_type": "markdown",
      "id": "c6642962",
      "metadata": {
        "id": "c6642962"
      },
      "source": [
        "**c.** Find derivative of $f(x)$ and plot it wih the same range."
      ]
    },
    {
      "cell_type": "code",
      "execution_count": null,
      "id": "70b2f75f",
      "metadata": {
        "id": "70b2f75f"
      },
      "outputs": [],
      "source": []
    },
    {
      "cell_type": "code",
      "execution_count": null,
      "id": "28d19327",
      "metadata": {
        "id": "28d19327"
      },
      "outputs": [],
      "source": []
    },
    {
      "cell_type": "markdown",
      "id": "eaa3240d",
      "metadata": {
        "id": "eaa3240d"
      },
      "source": [
        "**d.**\n",
        "1. Does the graph of $f'(x)$ look continuous at $x=0$?\n",
        "2. Is $f'(x)$ continuous at $x=0$? Why or why not?\n",
        "3. Is $f(x)$ differentiable at $x=0$? Why or why not?"
      ]
    },
    {
      "cell_type": "markdown",
      "id": "6d7fc24a",
      "metadata": {
        "id": "6d7fc24a"
      },
      "source": [
        "**Answers:**\n",
        "\n",
        "    1.\n",
        "    \n",
        "    2.\n",
        "    \n",
        "    3."
      ]
    },
    {
      "cell_type": "markdown",
      "id": "24eee172",
      "metadata": {
        "id": "24eee172"
      },
      "source": [
        "### Problem 3\n",
        "\n",
        "A buoy in a water oscillates according to a simple harmonic motion given by $s(t) = A\\cos(wt)$, where $A$\n",
        "is the amplitude (half the distance from the lowest point to the highest) and $w$ controls period ( period=$\\frac{2\\pi}{w}$ ).\n",
        "Suppose the buoy moves the total of 4 feet from lowest to highest point and has the period of 10 seconds.\n",
        "\n",
        "**a.** Find $s(t)$ and plot the graph of $s(t)$ between $t=0$ and $t=10$."
      ]
    },
    {
      "cell_type": "code",
      "execution_count": null,
      "id": "0d28e045",
      "metadata": {
        "id": "0d28e045"
      },
      "outputs": [],
      "source": []
    },
    {
      "cell_type": "code",
      "execution_count": null,
      "id": "e98d6d90",
      "metadata": {
        "id": "e98d6d90"
      },
      "outputs": [],
      "source": []
    },
    {
      "cell_type": "markdown",
      "id": "2cf62835",
      "metadata": {
        "id": "2cf62835"
      },
      "source": [
        "**b.** What is the initial height of the buoy? When the buoy's height is zero the first time?\n"
      ]
    },
    {
      "cell_type": "code",
      "execution_count": null,
      "id": "78745900",
      "metadata": {
        "id": "78745900"
      },
      "outputs": [],
      "source": []
    },
    {
      "cell_type": "code",
      "execution_count": null,
      "id": "27aaae74",
      "metadata": {
        "id": "27aaae74"
      },
      "outputs": [],
      "source": []
    },
    {
      "cell_type": "markdown",
      "id": "6599894e",
      "metadata": {
        "id": "6599894e"
      },
      "source": [
        "**Answer:**"
      ]
    },
    {
      "cell_type": "markdown",
      "id": "b6638543",
      "metadata": {
        "id": "b6638543"
      },
      "source": [
        "**c.** Find velocity and acceleration functions of the buoy."
      ]
    },
    {
      "cell_type": "code",
      "execution_count": null,
      "id": "ca2ee677",
      "metadata": {
        "id": "ca2ee677"
      },
      "outputs": [],
      "source": []
    },
    {
      "cell_type": "code",
      "execution_count": null,
      "id": "53ad23ba",
      "metadata": {
        "id": "53ad23ba"
      },
      "outputs": [],
      "source": []
    },
    {
      "cell_type": "markdown",
      "id": "a575f83b",
      "metadata": {
        "id": "a575f83b"
      },
      "source": [
        "**d.** Compute velocity and acceleration of the buoy when its height is zero."
      ]
    },
    {
      "cell_type": "code",
      "execution_count": null,
      "id": "bedbb2e9",
      "metadata": {
        "id": "bedbb2e9"
      },
      "outputs": [],
      "source": []
    },
    {
      "cell_type": "code",
      "execution_count": null,
      "id": "a493d541",
      "metadata": {
        "id": "a493d541"
      },
      "outputs": [],
      "source": []
    },
    {
      "cell_type": "markdown",
      "id": "07227040",
      "metadata": {
        "id": "07227040"
      },
      "source": [
        "### Problem 4\n",
        "\n",
        "The table below shows the national health care expenditures $h$ (in billions of dollars) in the U.S. and the\n",
        "population $p$ (in millions) of the U.S. from 2008 to 2013 ($t$ is the time with $t = 8$ representing 2008). (Note: in\n",
        "this problem, for plotting choose $t$ range that make sense for this problem. Look at the table.)\n",
        "\n",
        "$$\n",
        "\\begin{aligned}\n",
        "&\\begin{array}{|c|c|c|c|c|c|c|}\n",
        "\\hline \\hline\n",
        "t & 8 & 9 & 10 & 11 & 12 & 13 \\\\\n",
        "\\hline\n",
        "h & 2414 & 2506 & 2604 & 2705 & 2817 & 2919 \\\\\n",
        "\\hline\n",
        "p & 304 & 307 & 309 & 311 & 313 & 315 \\\\\n",
        "\\hline\n",
        "\\end{array}\n",
        "\\end{aligned}\n",
        "$$\n",
        "\n",
        "**a.** Find the linear models for $h$ and $p$: $h(t) = at + b$ and $p(t) = ct + d$."
      ]
    },
    {
      "cell_type": "code",
      "execution_count": null,
      "id": "4f75a2ae",
      "metadata": {
        "id": "4f75a2ae"
      },
      "outputs": [],
      "source": []
    },
    {
      "cell_type": "code",
      "execution_count": null,
      "id": "acb61267",
      "metadata": {
        "id": "acb61267"
      },
      "outputs": [],
      "source": []
    },
    {
      "cell_type": "code",
      "execution_count": null,
      "id": "8e91161d",
      "metadata": {
        "id": "8e91161d"
      },
      "outputs": [],
      "source": []
    },
    {
      "cell_type": "code",
      "execution_count": null,
      "id": "90ce1521",
      "metadata": {
        "id": "90ce1521"
      },
      "outputs": [],
      "source": []
    },
    {
      "cell_type": "markdown",
      "id": "d44435f6",
      "metadata": {
        "id": "d44435f6"
      },
      "source": [
        "**b.** Plot both models on the different graphs inlcuding individual points."
      ]
    },
    {
      "cell_type": "code",
      "execution_count": null,
      "id": "b32c0b95",
      "metadata": {
        "id": "b32c0b95"
      },
      "outputs": [],
      "source": []
    },
    {
      "cell_type": "code",
      "execution_count": null,
      "id": "3749c996",
      "metadata": {
        "id": "3749c996"
      },
      "outputs": [],
      "source": []
    },
    {
      "cell_type": "markdown",
      "id": "62460efa",
      "metadata": {
        "id": "62460efa"
      },
      "source": [
        "**c.** Let $A(t) = \\frac{h(t)}{p(t)}$. Plot $A(t)$. What does $A(t)$ represent?\n",
        "\n",
        "*Note: You should create $A(t)$ manually. Don't divide your \"poly\" functions*."
      ]
    },
    {
      "cell_type": "code",
      "execution_count": null,
      "id": "7f72fecc",
      "metadata": {
        "id": "7f72fecc"
      },
      "outputs": [],
      "source": []
    },
    {
      "cell_type": "code",
      "execution_count": null,
      "id": "0202e585",
      "metadata": {
        "id": "0202e585"
      },
      "outputs": [],
      "source": []
    },
    {
      "cell_type": "markdown",
      "id": "f4732176",
      "metadata": {
        "id": "f4732176"
      },
      "source": [
        "**Answer:**"
      ]
    },
    {
      "cell_type": "markdown",
      "id": "eab68a33",
      "metadata": {
        "id": "eab68a33"
      },
      "source": [
        "**d.** Find $A'(t)$ and plot it. What does $A'(t)$ represent? What can we say about $A(t)$?"
      ]
    },
    {
      "cell_type": "code",
      "execution_count": null,
      "id": "a996d5b6",
      "metadata": {
        "id": "a996d5b6"
      },
      "outputs": [],
      "source": []
    },
    {
      "cell_type": "code",
      "execution_count": null,
      "id": "d19f9269",
      "metadata": {
        "id": "d19f9269"
      },
      "outputs": [],
      "source": []
    },
    {
      "cell_type": "markdown",
      "id": "81713df9",
      "metadata": {
        "id": "81713df9"
      },
      "source": [
        "**Answer:**"
      ]
    },
    {
      "cell_type": "code",
      "execution_count": null,
      "id": "aa32c08b",
      "metadata": {
        "id": "aa32c08b"
      },
      "outputs": [],
      "source": []
    }
  ],
  "metadata": {
    "kernelspec": {
      "display_name": "Python 3 (ipykernel)",
      "language": "python",
      "name": "python3"
    },
    "language_info": {
      "codemirror_mode": {
        "name": "ipython",
        "version": 3
      },
      "file_extension": ".py",
      "mimetype": "text/x-python",
      "name": "python",
      "nbconvert_exporter": "python",
      "pygments_lexer": "ipython3",
      "version": "3.11.5"
    },
    "colab": {
      "provenance": []
    }
  },
  "nbformat": 4,
  "nbformat_minor": 5
}