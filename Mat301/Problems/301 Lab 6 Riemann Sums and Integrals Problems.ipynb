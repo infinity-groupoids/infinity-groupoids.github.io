{
 "cells": [
  {
   "cell_type": "markdown",
   "id": "01f822ee",
   "metadata": {},
   "source": [
    "# <center> Lab 6 Problems \n",
    "## <center> Riemann Sums and Integrals\n",
    "    \n",
    "Add needed libraries and variables."
   ]
  },
  {
   "cell_type": "code",
   "execution_count": null,
   "id": "bac32e89",
   "metadata": {},
   "outputs": [],
   "source": []
  },
  {
   "cell_type": "markdown",
   "id": "d306208d",
   "metadata": {},
   "source": [
    "Add LeftBox and RightBox functions from Examples file:"
   ]
  },
  {
   "cell_type": "code",
   "execution_count": null,
   "id": "61046856",
   "metadata": {},
   "outputs": [],
   "source": []
  },
  {
   "cell_type": "code",
   "execution_count": null,
   "id": "98ff1243",
   "metadata": {},
   "outputs": [],
   "source": []
  },
  {
   "cell_type": "markdown",
   "id": "47be153f",
   "metadata": {},
   "source": [
    "### Problem 1\n",
    "\n",
    "Let $f(x)=x^2+1$. We are going to estimate the area under $f(x)$ on the interval $[0, 2]$.\n",
    "\n",
    "**a.** Plot $f(x)$ with left-hand sum using with 8, 16 and 50 intervals, between $x = 0$ and $x = 2$."
   ]
  },
  {
   "cell_type": "code",
   "execution_count": null,
   "id": "32b98906",
   "metadata": {},
   "outputs": [],
   "source": []
  },
  {
   "cell_type": "code",
   "execution_count": null,
   "id": "63b08e27",
   "metadata": {},
   "outputs": [],
   "source": []
  },
  {
   "cell_type": "code",
   "execution_count": null,
   "id": "7286f518",
   "metadata": {},
   "outputs": [],
   "source": []
  },
  {
   "cell_type": "code",
   "execution_count": null,
   "id": "b1ab576e",
   "metadata": {},
   "outputs": [],
   "source": []
  },
  {
   "cell_type": "markdown",
   "id": "5075c84c",
   "metadata": {},
   "source": [
    "**b.** Repeat part **a** for right-hand sum"
   ]
  },
  {
   "cell_type": "code",
   "execution_count": null,
   "id": "b80c2c8f",
   "metadata": {},
   "outputs": [],
   "source": []
  },
  {
   "cell_type": "code",
   "execution_count": null,
   "id": "cab6c867",
   "metadata": {},
   "outputs": [],
   "source": []
  },
  {
   "cell_type": "code",
   "execution_count": null,
   "id": "7748a43c",
   "metadata": {},
   "outputs": [],
   "source": []
  },
  {
   "cell_type": "markdown",
   "id": "e35686fd",
   "metadata": {},
   "source": [
    "**c.** Note that righthand sum and lefthand sum gave us total area of rectangles which is only an estimation\n",
    "of actual area under the curve. If we want to have more precise area, we can just increase the amount of\n",
    "rectangles. The actual area in this particular case is somewhere between right-hand sum and left-hand sum.\n",
    "\n",
    "Use best approximations from above parts to create  an interval that contains the actual area. Then find the actual area by finding the integral of $f(x)$ between $x = 0$ and $x = 2$."
   ]
  },
  {
   "cell_type": "markdown",
   "id": "e10265c3",
   "metadata": {},
   "source": [
    "**Answer:** "
   ]
  },
  {
   "cell_type": "code",
   "execution_count": null,
   "id": "259f2f0d",
   "metadata": {},
   "outputs": [],
   "source": []
  },
  {
   "cell_type": "markdown",
   "id": "26723ef4",
   "metadata": {},
   "source": [
    "### Problem 2\n",
    "\n",
    "Let $g(x)=\\frac{1}{\\sqrt{x-\\sin(x)}}$ defined on the interval $[1, 2]$.\n",
    "\n",
    "This is a bit more complicated function. In fact, there is no direct way to find the integral for this function\n",
    "manually, and so we can’t find the area under the graph manually. The only thing that is possible to do is\n",
    "to estimate using Riemann sums, or use technology. In this problem, we will be using only left-hand sum.\n",
    "\n",
    "**a.** Plot $g(x)$ with left-hand sum using with 10, 20, 50 and 100 intervals, between $x = 1$ and $x = 2$."
   ]
  },
  {
   "cell_type": "code",
   "execution_count": null,
   "id": "ce497e8a",
   "metadata": {},
   "outputs": [],
   "source": []
  },
  {
   "cell_type": "code",
   "execution_count": null,
   "id": "12d5e4a2",
   "metadata": {},
   "outputs": [],
   "source": []
  },
  {
   "cell_type": "code",
   "execution_count": null,
   "id": "1f08ad45",
   "metadata": {},
   "outputs": [],
   "source": []
  },
  {
   "cell_type": "code",
   "execution_count": null,
   "id": "1b47787c",
   "metadata": {},
   "outputs": [],
   "source": []
  },
  {
   "cell_type": "code",
   "execution_count": null,
   "id": "1c9045a9",
   "metadata": {},
   "outputs": [],
   "source": []
  },
  {
   "cell_type": "markdown",
   "id": "d8ae80ba",
   "metadata": {},
   "source": [
    "**b.** Guess to what value does the area approaches?\n",
    "Then confirm your answer by finding the integral of $g(x)$ between $x = 1$ and $x = 2$."
   ]
  },
  {
   "cell_type": "markdown",
   "id": "a78eef13",
   "metadata": {},
   "source": [
    "**Answer:** "
   ]
  },
  {
   "cell_type": "code",
   "execution_count": null,
   "id": "42429b1a",
   "metadata": {},
   "outputs": [],
   "source": []
  },
  {
   "cell_type": "markdown",
   "id": "6543efd5",
   "metadata": {},
   "source": [
    "### Problem 3\n",
    "\n",
    "This problem is bit harder. So far we used left-hand sums and right-hand sum. In this problem we will use mid-point sums. \n",
    "\n",
    "**a**. Create a new function (`def`) that plots and computes area using midpoint of each subinterval instead of left endpoint or right endpoint. \n",
    "\n",
    "Hint: you can reuse LeftBox function. All you have to do is replace x_left computation so that it uses midpoints (i would recommend changing the names of some of the variables from \"left\" to \"mid\" for example, to avoid confusion). Moreover, you should remove `align='edge'` from the bar plot so that bar chart uses inputs as midpoints."
   ]
  },
  {
   "cell_type": "code",
   "execution_count": null,
   "id": "fcb085b8",
   "metadata": {},
   "outputs": [],
   "source": []
  },
  {
   "cell_type": "markdown",
   "id": "a4997529",
   "metadata": {},
   "source": [
    "**b.** Compute Midpoint Sum for $f(x)=x^2+1$ on interval $[0,2]$ with N=20. How does it compare to corresponding left-hand sum and right-hand sum for N=50 and the actual answers in Problem 1?"
   ]
  },
  {
   "cell_type": "code",
   "execution_count": null,
   "id": "3e0e0e26",
   "metadata": {},
   "outputs": [],
   "source": []
  },
  {
   "cell_type": "markdown",
   "id": "27047987",
   "metadata": {},
   "source": [
    "**Answer:** "
   ]
  },
  {
   "cell_type": "markdown",
   "id": "fc8e3a12",
   "metadata": {},
   "source": [
    "### Problem 4\n",
    "\n",
    "An experimental vehicle is tested on a straight track. It starts from rest and its velocity $v$ (in meters per\n",
    "second) is recorded every 10 seconds for 1 minute:\n",
    "\n",
    "$$\n",
    "\\begin{aligned}\n",
    "&\\begin{array}{|c|c|c|c|c|c|c|c|}\n",
    "\\hline \\hline \n",
    "t & 0 & 10 & 20 & 30 & 40 & 50 & 60   \\\\\n",
    "\\hline \n",
    "v & 0 & 5 & 21 & 40 & 62 & 78 & 83 \\\\\n",
    "\\hline\n",
    "\\end{array}\n",
    "\\end{aligned}\n",
    "$$\n",
    "\n",
    "**a.** Find a cubic polynomial model for $v(t)$ and plot it."
   ]
  },
  {
   "cell_type": "code",
   "execution_count": null,
   "id": "2392c884",
   "metadata": {},
   "outputs": [],
   "source": []
  },
  {
   "cell_type": "code",
   "execution_count": null,
   "id": "2d407865",
   "metadata": {},
   "outputs": [],
   "source": []
  },
  {
   "cell_type": "markdown",
   "id": "d8b9d930",
   "metadata": {},
   "source": [
    "**b.** Approximate the distance traveled by vehicle during the test using integration."
   ]
  },
  {
   "cell_type": "code",
   "execution_count": null,
   "id": "2110c444",
   "metadata": {},
   "outputs": [],
   "source": []
  },
  {
   "cell_type": "markdown",
   "id": "3d647e52",
   "metadata": {},
   "source": [
    "**Answer:** "
   ]
  },
  {
   "cell_type": "markdown",
   "id": "b6c7be65",
   "metadata": {},
   "source": [
    "**c.** What is the average velocity of the vehicle during the test?"
   ]
  },
  {
   "cell_type": "code",
   "execution_count": null,
   "id": "efb5d87d",
   "metadata": {},
   "outputs": [],
   "source": []
  },
  {
   "cell_type": "markdown",
   "id": "cf8c8531",
   "metadata": {},
   "source": [
    "**Answer:** "
   ]
  },
  {
   "cell_type": "code",
   "execution_count": null,
   "id": "bcc0778a",
   "metadata": {},
   "outputs": [],
   "source": []
  }
 ],
 "metadata": {
  "kernelspec": {
   "display_name": "Python 3 (ipykernel)",
   "language": "python",
   "name": "python3"
  },
  "language_info": {
   "codemirror_mode": {
    "name": "ipython",
    "version": 3
   },
   "file_extension": ".py",
   "mimetype": "text/x-python",
   "name": "python",
   "nbconvert_exporter": "python",
   "pygments_lexer": "ipython3",
   "version": "3.9.15"
  }
 },
 "nbformat": 4,
 "nbformat_minor": 5
}
