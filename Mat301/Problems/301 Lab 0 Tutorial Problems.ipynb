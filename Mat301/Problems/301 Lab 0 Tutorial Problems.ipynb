{
 "cells": [
  {
   "cell_type": "markdown",
   "id": "6aaaffc6",
   "metadata": {},
   "source": [
    "# <center> Lab 0 Problems \n",
    "    \n",
    "In this Lab all needed libraries will be added. In the future, you will be adding them yourself. Do not forget to run the cell to import the libraries. \n",
    "   \n",
    "   "
   ]
  },
  {
   "cell_type": "code",
   "execution_count": 1,
   "id": "b36c0a01",
   "metadata": {},
   "outputs": [],
   "source": [
    "import numpy as np\n",
    "import matplotlib.pyplot as plt"
   ]
  },
  {
   "cell_type": "markdown",
   "id": "47e50370",
   "metadata": {},
   "source": [
    "### Problem 1\n",
    "\n",
    "\n",
    "**a.** Compute $3+5*(4-2)$"
   ]
  },
  {
   "cell_type": "code",
   "execution_count": null,
   "id": "dac358e7",
   "metadata": {},
   "outputs": [],
   "source": []
  },
  {
   "cell_type": "markdown",
   "id": "389115f5",
   "metadata": {},
   "source": [
    "**b.** Compute $\\sin(\\ln(3))$    (Hint: $\\ln()$ is in the NumPy as `np.log()`"
   ]
  },
  {
   "cell_type": "code",
   "execution_count": null,
   "id": "3d5ebefe",
   "metadata": {},
   "outputs": [],
   "source": []
  },
  {
   "cell_type": "markdown",
   "id": "bf32bc0a",
   "metadata": {},
   "source": [
    "**c.** Compute $e^2+3^2$    (There are two way to define exponential. Generally  `np.exp()` is a better approach)"
   ]
  },
  {
   "cell_type": "code",
   "execution_count": null,
   "id": "78210ff3",
   "metadata": {},
   "outputs": [],
   "source": []
  },
  {
   "cell_type": "markdown",
   "id": "0bb23afb",
   "metadata": {},
   "source": [
    "### Problem 2\n",
    "\n",
    "**a.** Create an array of integers from 1 to 10 and print it."
   ]
  },
  {
   "cell_type": "code",
   "execution_count": null,
   "id": "a476a4e4",
   "metadata": {},
   "outputs": [],
   "source": []
  },
  {
   "cell_type": "markdown",
   "id": "f186c797",
   "metadata": {},
   "source": [
    "**b.** Create a for loop adding all elements of array from part **a**."
   ]
  },
  {
   "cell_type": "code",
   "execution_count": null,
   "id": "d00f0fc2",
   "metadata": {},
   "outputs": [],
   "source": []
  },
  {
   "cell_type": "markdown",
   "id": "bb5d3856",
   "metadata": {},
   "source": [
    "**c.** Divide all elements of array from part **a** by the total you found in part **b**. Print your answer."
   ]
  },
  {
   "cell_type": "code",
   "execution_count": null,
   "id": "e7ba27d5",
   "metadata": {},
   "outputs": [],
   "source": []
  },
  {
   "cell_type": "markdown",
   "id": "e73a8129",
   "metadata": {},
   "source": [
    "### Problem 3\n",
    "\n",
    "**a.** Create the function that takes an input $x$ and returns $sin(x)+cos(2x)$. Name this function \"wave\":"
   ]
  },
  {
   "cell_type": "code",
   "execution_count": null,
   "id": "49087c50",
   "metadata": {},
   "outputs": [],
   "source": []
  },
  {
   "cell_type": "markdown",
   "id": "be073396",
   "metadata": {},
   "source": [
    "**b.** Evaluate wave function at $x=0$"
   ]
  },
  {
   "cell_type": "code",
   "execution_count": null,
   "id": "d9f8d6d9",
   "metadata": {},
   "outputs": [],
   "source": []
  },
  {
   "cell_type": "markdown",
   "id": "bc267da0",
   "metadata": {},
   "source": [
    "Create a list of 10 equally distributed numbers between $0$ and $\\pi$. Then evaluate wave function at those values."
   ]
  },
  {
   "cell_type": "code",
   "execution_count": null,
   "id": "f701cc6b",
   "metadata": {},
   "outputs": [],
   "source": []
  },
  {
   "cell_type": "markdown",
   "id": "90b656dd",
   "metadata": {},
   "source": [
    "**d.** Create a simple graph of wave function between $-2\\pi$ and $2\\pi$. Hint: create a list of x-values, and your y-values will be `wave(x)`."
   ]
  },
  {
   "cell_type": "code",
   "execution_count": null,
   "id": "0d813a98",
   "metadata": {},
   "outputs": [],
   "source": []
  }
 ],
 "metadata": {
  "kernelspec": {
   "display_name": "Python 3 (ipykernel)",
   "language": "python",
   "name": "python3"
  },
  "language_info": {
   "codemirror_mode": {
    "name": "ipython",
    "version": 3
   },
   "file_extension": ".py",
   "mimetype": "text/x-python",
   "name": "python",
   "nbconvert_exporter": "python",
   "pygments_lexer": "ipython3",
   "version": "3.11.5"
  }
 },
 "nbformat": 4,
 "nbformat_minor": 5
}
