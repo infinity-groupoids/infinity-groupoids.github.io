{
 "cells": [
  {
   "cell_type": "markdown",
   "id": "98e4ddea",
   "metadata": {},
   "source": [
    "# <center> Lab 3 Problems \n",
    "### <center> Implicit Differentiation and Newton's Method\n",
    "    \n",
    "Add needed libraries and variables. Remember if you need more cells, you can add them on your own"
   ]
  },
  {
   "cell_type": "code",
   "execution_count": null,
   "id": "ad408587",
   "metadata": {},
   "outputs": [],
   "source": []
  },
  {
   "cell_type": "markdown",
   "id": "f42b6cfa",
   "metadata": {},
   "source": [
    "### Problem 1\n",
    "\n",
    "Consider the curve $x^3-4xy+2y^2=0$.\n",
    "\n",
    "**a.** Plot the curve. "
   ]
  },
  {
   "cell_type": "code",
   "execution_count": null,
   "id": "acd61ee7",
   "metadata": {},
   "outputs": [],
   "source": []
  },
  {
   "cell_type": "markdown",
   "id": "468bd6e0",
   "metadata": {},
   "source": [
    "**b.** How many points are on the graph with the $x$-coordinate $x=1$?"
   ]
  },
  {
   "cell_type": "markdown",
   "id": "4d7e27bf",
   "metadata": {},
   "source": [
    "**Answer:** "
   ]
  },
  {
   "cell_type": "markdown",
   "id": "3625301b",
   "metadata": {},
   "source": [
    "**c.** Find the $y$-coordinates of all points whose $x$-coordinate is 1."
   ]
  },
  {
   "cell_type": "code",
   "execution_count": null,
   "id": "2c822792",
   "metadata": {},
   "outputs": [],
   "source": []
  },
  {
   "cell_type": "markdown",
   "id": "d5b31233",
   "metadata": {},
   "source": [
    "**d.** Find derivative $\\frac{dy}{dx}$."
   ]
  },
  {
   "cell_type": "code",
   "execution_count": null,
   "id": "ad42aaed",
   "metadata": {},
   "outputs": [],
   "source": []
  },
  {
   "cell_type": "markdown",
   "id": "b755af04",
   "metadata": {},
   "source": [
    "**e.** Evaluate derivative at all points whose $x$-coordinate is 1. Print your answer in decimal notation. "
   ]
  },
  {
   "cell_type": "code",
   "execution_count": null,
   "id": "216f8cbc",
   "metadata": {},
   "outputs": [],
   "source": []
  },
  {
   "cell_type": "code",
   "execution_count": null,
   "id": "01bb13b4",
   "metadata": {},
   "outputs": [],
   "source": []
  },
  {
   "cell_type": "markdown",
   "id": "f756c460",
   "metadata": {},
   "source": [
    "### Problem 2\n",
    "\n",
    "Consider the curve $y^2+x^3=2$.\n",
    "\n",
    "**a.** Plot the curve."
   ]
  },
  {
   "cell_type": "code",
   "execution_count": null,
   "id": "458191f7",
   "metadata": {},
   "outputs": [],
   "source": []
  },
  {
   "cell_type": "markdown",
   "id": "7aa47d82",
   "metadata": {},
   "source": [
    "**b.** Find derivative at all points whose $x$-coordinate is 1."
   ]
  },
  {
   "cell_type": "code",
   "execution_count": null,
   "id": "77563df7",
   "metadata": {},
   "outputs": [],
   "source": []
  },
  {
   "cell_type": "markdown",
   "id": "215560d6",
   "metadata": {},
   "source": [
    "**c.** Find equations of tangent lines at all points you found in part **b**."
   ]
  },
  {
   "cell_type": "code",
   "execution_count": null,
   "id": "d41a3b07",
   "metadata": {},
   "outputs": [],
   "source": []
  },
  {
   "cell_type": "code",
   "execution_count": null,
   "id": "bcbf3c88",
   "metadata": {},
   "outputs": [],
   "source": []
  },
  {
   "cell_type": "markdown",
   "id": "0612a86f",
   "metadata": {},
   "source": [
    "**d.** Plot the curve and both tangent lines on the same graph."
   ]
  },
  {
   "cell_type": "code",
   "execution_count": null,
   "id": "a8a3e6cb",
   "metadata": {
    "scrolled": false
   },
   "outputs": [],
   "source": []
  },
  {
   "cell_type": "markdown",
   "id": "a8726fcf",
   "metadata": {},
   "source": [
    "#### NOTE\n",
    "The next two questions are about Newton's Method. This is one of the methods used for locating zeros of\n",
    "functions and is one of the applications of derivatives. The next two problems will guide you through this method: first one\n",
    "showing you how it works and second one showing you how it can fail. In these two questions you will need\n",
    "an equation of the tangent line for $f(x)$ at the point $x = c$; it is given by $T(x) = f(c) + f'(c)(x-c)$\n",
    "\n",
    "\n",
    "### Problem 3\n",
    "\n",
    "Let $f(x) = x^3 − 2x − 2.$\n",
    "\n",
    "**a.** Plot the graph of $f(x)$ with $x \\in (−3,3)$"
   ]
  },
  {
   "cell_type": "code",
   "execution_count": null,
   "id": "c434e0a0",
   "metadata": {},
   "outputs": [],
   "source": []
  },
  {
   "cell_type": "markdown",
   "id": "c32a943a",
   "metadata": {},
   "source": [
    "**b.** From the graph, you should see that there is a zero and it is somewhere between 1 and 2. We will try to\n",
    "approximate this zero. So, let’s pick $x = 2$ as our initial approximation. Now, find the tangent line at $x = 2$,\n",
    "then plot tangent line and $f(x)$ on the same graph with $x \\in (1.5,2.5)$."
   ]
  },
  {
   "cell_type": "code",
   "execution_count": null,
   "id": "a3d41d1c",
   "metadata": {},
   "outputs": [],
   "source": []
  },
  {
   "cell_type": "code",
   "execution_count": null,
   "id": "e89c9338",
   "metadata": {},
   "outputs": [],
   "source": []
  },
  {
   "cell_type": "markdown",
   "id": "5b79bf49",
   "metadata": {},
   "source": [
    "**c.** Notice that the $x$-intersection of the tangent line is closer to the zero of $f(x)$ than our initial approximation 2. Find the zero of the tangent line (intersection of it with $x$-axis)."
   ]
  },
  {
   "cell_type": "code",
   "execution_count": null,
   "id": "57ff0372",
   "metadata": {},
   "outputs": [],
   "source": []
  },
  {
   "cell_type": "markdown",
   "id": "68b7d040",
   "metadata": {},
   "source": [
    "**d.** Repeat steps **b** and **c** using the new point from part **c** as a new approximation. So, find the tangent line at\n",
    "the new point, draw the graph of tangent line with $f(x)$, and then find the new zero of the new tangent line. You should limit your $x$ values to appropriate range, so that it is a bit easier to see the zero.\n"
   ]
  },
  {
   "cell_type": "code",
   "execution_count": null,
   "id": "5477765a",
   "metadata": {},
   "outputs": [],
   "source": []
  },
  {
   "cell_type": "code",
   "execution_count": null,
   "id": "61c2b821",
   "metadata": {},
   "outputs": [],
   "source": []
  },
  {
   "cell_type": "markdown",
   "id": "28a7b6e2",
   "metadata": {},
   "source": [
    "**e.** Last approximation should be good enough. Confirm it by finding the actual zero of $f(x)$ between 1 and 2. How good was our approximation? (How many digits after decimal point are the same?)"
   ]
  },
  {
   "cell_type": "code",
   "execution_count": null,
   "id": "59906353",
   "metadata": {},
   "outputs": [],
   "source": []
  },
  {
   "cell_type": "code",
   "execution_count": null,
   "id": "7ea00e88",
   "metadata": {},
   "outputs": [],
   "source": []
  },
  {
   "cell_type": "markdown",
   "id": "bf73eb88",
   "metadata": {},
   "source": [
    "**Answer:** "
   ]
  },
  {
   "cell_type": "markdown",
   "id": "55f8354b",
   "metadata": {},
   "source": [
    "### Problem 4\n",
    "\n",
    "In this problem we will use the same $f(x) = x^3 − 2x − 2$, but we will start at the different point. The goal\n",
    "of the problem is to see that we have to be careful which point we pick.\n",
    "\n",
    "**a.** Let the starting point be $x = 0$. Find the tangent line at $x = 0$, plot it together with the graph of $f(x)$\n",
    "using with $x$ between -2 and 2. Then find the zero of this tangent line."
   ]
  },
  {
   "cell_type": "code",
   "execution_count": null,
   "id": "29dc477d",
   "metadata": {},
   "outputs": [],
   "source": []
  },
  {
   "cell_type": "code",
   "execution_count": null,
   "id": "4dcc740a",
   "metadata": {},
   "outputs": [],
   "source": []
  },
  {
   "cell_type": "markdown",
   "id": "f4884ec2",
   "metadata": {},
   "source": [
    "**b.** Repeat part **a.** using new point that you just found in part **a.**"
   ]
  },
  {
   "cell_type": "code",
   "execution_count": null,
   "id": "7204bed1",
   "metadata": {},
   "outputs": [],
   "source": []
  },
  {
   "cell_type": "code",
   "execution_count": null,
   "id": "32acad34",
   "metadata": {},
   "outputs": [],
   "source": []
  },
  {
   "cell_type": "markdown",
   "id": "8562f408",
   "metadata": {},
   "source": [
    "**c.** After you found the second point, you should be able to see the problem. What would happen if we\n",
    "continue this process? Will we ever find the zero of the function?"
   ]
  },
  {
   "cell_type": "markdown",
   "id": "2ce8e8d9",
   "metadata": {},
   "source": [
    "**Answer:** "
   ]
  }
 ],
 "metadata": {
  "kernelspec": {
   "display_name": "Python 3 (ipykernel)",
   "language": "python",
   "name": "python3"
  },
  "language_info": {
   "codemirror_mode": {
    "name": "ipython",
    "version": 3
   },
   "file_extension": ".py",
   "mimetype": "text/x-python",
   "name": "python",
   "nbconvert_exporter": "python",
   "pygments_lexer": "ipython3",
   "version": "3.9.15"
  }
 },
 "nbformat": 4,
 "nbformat_minor": 5
}
