{
 "cells": [
  {
   "cell_type": "markdown",
   "id": "6aaaffc6",
   "metadata": {},
   "source": [
    "# <center> Lab 1 Problems \n",
    "    \n",
    "Do not forget to add libraries. You can copy them from Examples set. You can also add the line for making $x$ a variable symbol for SymPy.\n",
    "    \n",
    "\n",
    "You can add more cells as needed."
   ]
  },
  {
   "cell_type": "code",
   "execution_count": null,
   "id": "b36c0a01",
   "metadata": {},
   "outputs": [],
   "source": []
  },
  {
   "cell_type": "markdown",
   "id": "47e50370",
   "metadata": {},
   "source": [
    "### Problem 1\n",
    "\n",
    "Let $h(x)=\\frac{x^2-4}{x-2}$. We want to estimate a limit of $h(x)$ as x aproaches to 2.\n",
    "\n",
    "**a.** Create a function $h(x)$ using `def`"
   ]
  },
  {
   "cell_type": "code",
   "execution_count": null,
   "id": "dac358e7",
   "metadata": {},
   "outputs": [],
   "source": []
  },
  {
   "cell_type": "markdown",
   "id": "389115f5",
   "metadata": {},
   "source": [
    "**b.** Create a list of numbers that approach to 2 from left and the right."
   ]
  },
  {
   "cell_type": "code",
   "execution_count": null,
   "id": "3d5ebefe",
   "metadata": {},
   "outputs": [],
   "source": []
  },
  {
   "cell_type": "markdown",
   "id": "bf32bc0a",
   "metadata": {},
   "source": [
    "**c.** Plot both right and left lists. To what value does the graph seem to approach on both sides?"
   ]
  },
  {
   "cell_type": "code",
   "execution_count": null,
   "id": "78210ff3",
   "metadata": {},
   "outputs": [],
   "source": []
  },
  {
   "cell_type": "markdown",
   "id": "37aa928f",
   "metadata": {},
   "source": [
    "**Answer:** "
   ]
  },
  {
   "cell_type": "markdown",
   "id": "7b86ae2c",
   "metadata": {},
   "source": [
    "**d.** Confirm your guess by finding the actual limit using SymPy"
   ]
  },
  {
   "cell_type": "code",
   "execution_count": null,
   "id": "8de7c9e6",
   "metadata": {},
   "outputs": [],
   "source": []
  },
  {
   "cell_type": "markdown",
   "id": "0bb23afb",
   "metadata": {},
   "source": [
    "### Problem 2\n",
    "\n",
    "Let $g(x)=\\frac{\\cos(x)-1}{x}$. Estimate limit of $g(x)$ as x aproaches to 0 from the left similarly to Problem 1.\n"
   ]
  },
  {
   "cell_type": "code",
   "execution_count": null,
   "id": "a476a4e4",
   "metadata": {},
   "outputs": [],
   "source": []
  },
  {
   "cell_type": "markdown",
   "id": "e73a8129",
   "metadata": {},
   "source": [
    "### Problem 3\n",
    "\n",
    "Let $$g(x) = \\begin{cases} \n",
    "          x^2-x-1.5 & x < 2 \\\\\n",
    "          cos(x)+sin(x) & x \\geq 2 \n",
    "       \\end{cases}\n",
    "    $$\n",
    "\n",
    "**a.** Create the function and two sequences of values approaching to $x=2$ on both sides and plot them to see whether $g(x)$ is continuous. If the answer is not clear, try to make your sequence more precise."
   ]
  },
  {
   "cell_type": "code",
   "execution_count": null,
   "id": "49087c50",
   "metadata": {},
   "outputs": [],
   "source": []
  },
  {
   "cell_type": "markdown",
   "id": "90b656dd",
   "metadata": {},
   "source": [
    "**b.** Based on part **a.** try to guess whether the function is continuous or not at $x=2$. (For this part it is not important whether your guess is right or wrong, but write why you think your answer is right)"
   ]
  },
  {
   "cell_type": "markdown",
   "id": "65dd6742",
   "metadata": {},
   "source": [
    "**Answer:**"
   ]
  },
  {
   "cell_type": "markdown",
   "id": "82646d9d",
   "metadata": {},
   "source": [
    "**c.** Use SymPy to find both left and right limit. Is the function continuous?"
   ]
  },
  {
   "cell_type": "code",
   "execution_count": null,
   "id": "05513d66",
   "metadata": {},
   "outputs": [],
   "source": []
  },
  {
   "cell_type": "markdown",
   "id": "ae9501f3",
   "metadata": {},
   "source": [
    "**Answer:**"
   ]
  },
  {
   "cell_type": "markdown",
   "id": "fb5d6b82",
   "metadata": {},
   "source": [
    "### Problem 4\n",
    "\n",
    "Let \n",
    "$$h(x) = \\begin{cases} \n",
    "          \\frac{\\sin(x)}{x} & x < 0 \\\\\n",
    "          \\cos(x^2) & x \\geq 0 \n",
    "       \\end{cases}\n",
    "    $$\n",
    "    \n",
    "Explore behaviour of $h(x)$ near $x=0$ similarly to problem 3."
   ]
  },
  {
   "cell_type": "code",
   "execution_count": null,
   "id": "dc44b997",
   "metadata": {},
   "outputs": [],
   "source": []
  },
  {
   "cell_type": "markdown",
   "id": "9e91189a",
   "metadata": {},
   "source": [
    "### Problem 5\n",
    "\n",
    "Let $h(x)=x\\sin(1/x)$. \n",
    "\n",
    "**a.** Plot $h(x)$ between $x=-2$ and $x=2$"
   ]
  },
  {
   "cell_type": "code",
   "execution_count": null,
   "id": "ec8e6c34",
   "metadata": {},
   "outputs": [],
   "source": []
  },
  {
   "cell_type": "markdown",
   "id": "5fa65d2a",
   "metadata": {},
   "source": [
    "**b.** Find the limit of $h(x)$ as $x$ approaches $0$."
   ]
  },
  {
   "cell_type": "code",
   "execution_count": null,
   "id": "23bb50de",
   "metadata": {},
   "outputs": [],
   "source": []
  },
  {
   "cell_type": "markdown",
   "id": "7da742bb",
   "metadata": {},
   "source": [
    "**c.** Is $h(x)$ continuous at $x=0$? Why or why not?"
   ]
  },
  {
   "cell_type": "markdown",
   "id": "01a29a4e",
   "metadata": {},
   "source": [
    "**Answer:**"
   ]
  },
  {
   "cell_type": "markdown",
   "id": "6c63c2f8",
   "metadata": {},
   "source": [
    "### Problem 6  (I.V.T.)\n",
    "\n",
    "Let $f(x)=x^3+x^2-2x-2$\n",
    "\n",
    "**a.** Evaluate $f(1)$ and $f(2)$. Looking at these values, can we conclude that there is a zero of $f(x)$ between $x=1$ and $x=2$? Why?"
   ]
  },
  {
   "cell_type": "code",
   "execution_count": null,
   "id": "fde3d65a",
   "metadata": {},
   "outputs": [],
   "source": []
  },
  {
   "cell_type": "markdown",
   "id": "059d7fb0",
   "metadata": {},
   "source": [
    "**Answer:** "
   ]
  },
  {
   "cell_type": "markdown",
   "id": "94b40e79",
   "metadata": {},
   "source": [
    "**b.** To narrow down the location of zero. Evaluate $f(1.5)$. Where is the zero now: [1,1.5] or [1.5,2]?"
   ]
  },
  {
   "cell_type": "code",
   "execution_count": null,
   "id": "15d26789",
   "metadata": {},
   "outputs": [],
   "source": []
  },
  {
   "cell_type": "markdown",
   "id": "d30d45e6",
   "metadata": {},
   "source": [
    "**Answer:**"
   ]
  },
  {
   "cell_type": "markdown",
   "id": "6ca204af",
   "metadata": {},
   "source": [
    "**c.** Pick the interval with a zero from part b. and subdivide it further into two halves to narrow down the location of the zero. Then do it one more time. Write the final interval that must have a zero by I.V.T. (Add more cells as needed)"
   ]
  },
  {
   "cell_type": "code",
   "execution_count": null,
   "id": "6b424c42",
   "metadata": {},
   "outputs": [],
   "source": []
  },
  {
   "cell_type": "markdown",
   "id": "485e7b45",
   "metadata": {},
   "source": [
    "**Answer:**"
   ]
  }
 ],
 "metadata": {
  "kernelspec": {
   "display_name": "Python 3 (ipykernel)",
   "language": "python",
   "name": "python3"
  },
  "language_info": {
   "codemirror_mode": {
    "name": "ipython",
    "version": 3
   },
   "file_extension": ".py",
   "mimetype": "text/x-python",
   "name": "python",
   "nbconvert_exporter": "python",
   "pygments_lexer": "ipython3",
   "version": "3.11.5"
  }
 },
 "nbformat": 4,
 "nbformat_minor": 5
}
