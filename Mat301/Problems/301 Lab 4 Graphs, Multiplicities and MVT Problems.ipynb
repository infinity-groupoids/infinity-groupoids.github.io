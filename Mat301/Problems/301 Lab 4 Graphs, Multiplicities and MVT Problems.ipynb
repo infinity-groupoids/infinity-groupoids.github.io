{
 "cells": [
  {
   "cell_type": "markdown",
   "id": "01f822ee",
   "metadata": {},
   "source": [
    "# <center> Lab 4 Problems \n",
    "### <center> Graphs, Multiplicities and Mean Value Theorem\n",
    "    \n",
    "Add needed libraries and variables."
   ]
  },
  {
   "cell_type": "code",
   "execution_count": null,
   "id": "bac32e89",
   "metadata": {},
   "outputs": [],
   "source": []
  },
  {
   "cell_type": "markdown",
   "id": "47be153f",
   "metadata": {},
   "source": [
    "### Problem 1\n",
    "\n",
    "Let $f(x)=\\frac{x-1}{x^3+2x^2+1}$.\n",
    "\n",
    "**a.** Find $f'(x)$. Find and list all real critical points. Leave them in decimal form (you can round them off to the nearest hundredth.)"
   ]
  },
  {
   "cell_type": "code",
   "execution_count": null,
   "id": "651aa4ef",
   "metadata": {},
   "outputs": [],
   "source": []
  },
  {
   "cell_type": "code",
   "execution_count": null,
   "id": "4f4e0560",
   "metadata": {},
   "outputs": [],
   "source": []
  },
  {
   "cell_type": "markdown",
   "id": "1b5d2d23",
   "metadata": {},
   "source": [
    "**Answer:**"
   ]
  },
  {
   "cell_type": "markdown",
   "id": "fc137355",
   "metadata": {},
   "source": [
    "**b.** Find $f''(x)$. Find all real solutions to $f''(x)=0$. Leave them in decimal form (you can round them off to the nearest hundredth.)"
   ]
  },
  {
   "cell_type": "code",
   "execution_count": null,
   "id": "1301a783",
   "metadata": {},
   "outputs": [],
   "source": []
  },
  {
   "cell_type": "code",
   "execution_count": null,
   "id": "c541594e",
   "metadata": {
    "scrolled": false
   },
   "outputs": [],
   "source": []
  },
  {
   "cell_type": "markdown",
   "id": "7fa0a075",
   "metadata": {},
   "source": [
    "**Answer:**"
   ]
  },
  {
   "cell_type": "markdown",
   "id": "518f61b0",
   "metadata": {},
   "source": [
    "**c.** Find horizontal asymptote if any, by setting up correct limit."
   ]
  },
  {
   "cell_type": "code",
   "execution_count": null,
   "id": "7b132058",
   "metadata": {},
   "outputs": [],
   "source": []
  },
  {
   "cell_type": "markdown",
   "id": "c874b08a",
   "metadata": {},
   "source": [
    "**Answer:**"
   ]
  },
  {
   "cell_type": "markdown",
   "id": "0d1f2c0a",
   "metadata": {},
   "source": [
    "**d.** Plot $f(x)$ for $x \\in (-4,4)$ and $y\\in (-2,2)$. Based on results of part **a.** and **b.**, and the graph, list relative maximums, minimums and inflection points. \n"
   ]
  },
  {
   "cell_type": "code",
   "execution_count": null,
   "id": "4fe46336",
   "metadata": {
    "scrolled": false
   },
   "outputs": [],
   "source": []
  },
  {
   "cell_type": "markdown",
   "id": "6278565b",
   "metadata": {},
   "source": [
    "**Answer:**\n",
    "\n",
    "Maximums:\n",
    "\n",
    "Minimums: \n",
    "\n",
    "Inflection points: \n"
   ]
  },
  {
   "cell_type": "markdown",
   "id": "db31ee53",
   "metadata": {},
   "source": [
    "### Problem 2\n",
    "\n",
    "Let $f(x)=\\frac{2x-1}{\\sqrt{4x^2+x+1}}$.\n",
    "\n",
    "Repeat the work of problem 1 for $f(x)$. When graphing, plot for $x \\in (-10,10)$."
   ]
  },
  {
   "cell_type": "code",
   "execution_count": null,
   "id": "6ebd2db0",
   "metadata": {},
   "outputs": [],
   "source": []
  },
  {
   "cell_type": "code",
   "execution_count": null,
   "id": "ad865456",
   "metadata": {},
   "outputs": [],
   "source": []
  },
  {
   "cell_type": "markdown",
   "id": "b418f445",
   "metadata": {},
   "source": [
    "**Answer**: "
   ]
  },
  {
   "cell_type": "code",
   "execution_count": null,
   "id": "a1141342",
   "metadata": {},
   "outputs": [],
   "source": []
  },
  {
   "cell_type": "code",
   "execution_count": null,
   "id": "93351c67",
   "metadata": {},
   "outputs": [],
   "source": []
  },
  {
   "cell_type": "markdown",
   "id": "be1881a2",
   "metadata": {},
   "source": [
    "**Answer**: "
   ]
  },
  {
   "cell_type": "code",
   "execution_count": null,
   "id": "32864337",
   "metadata": {},
   "outputs": [],
   "source": []
  },
  {
   "cell_type": "markdown",
   "id": "6e5a94f0",
   "metadata": {},
   "source": [
    "**Answer:**"
   ]
  },
  {
   "cell_type": "code",
   "execution_count": null,
   "id": "e7e9f7e0",
   "metadata": {},
   "outputs": [],
   "source": []
  },
  {
   "cell_type": "markdown",
   "id": "0b3650c2",
   "metadata": {},
   "source": [
    "**Answer:**\n",
    "\n",
    "Maximums:\n",
    "\n",
    "Minimums: \n",
    "\n",
    "Inflection points: \n"
   ]
  },
  {
   "cell_type": "markdown",
   "id": "f591c410",
   "metadata": {},
   "source": [
    "### Problem 3\n",
    "\n",
    "Let $f(x)=-\\ln\\left(\\cos^{2}\\left(\\pi x\\right)\\right)$.\n",
    "\n",
    "**a.** Plot $f(x)$ for $x\\in(-1,1)$. Limit $y$ values to interval $(0,4)$. \n",
    "\n",
    "Are there any discontinuities in the interval $(-1,1)$?\n",
    "\n",
    "Can we apply Mean Value Theorem on the interval $[0, 0.25]$?"
   ]
  },
  {
   "cell_type": "code",
   "execution_count": null,
   "id": "7a3b4025",
   "metadata": {},
   "outputs": [],
   "source": []
  },
  {
   "cell_type": "markdown",
   "id": "f20673bb",
   "metadata": {},
   "source": [
    "**Answer:** "
   ]
  },
  {
   "cell_type": "markdown",
   "id": "9d044867",
   "metadata": {},
   "source": [
    "**b.** Find equation of the secant line between $x=0$ and $x=0.25$. "
   ]
  },
  {
   "cell_type": "code",
   "execution_count": null,
   "id": "e3317432",
   "metadata": {},
   "outputs": [],
   "source": []
  },
  {
   "cell_type": "code",
   "execution_count": null,
   "id": "523399d2",
   "metadata": {},
   "outputs": [],
   "source": []
  },
  {
   "cell_type": "markdown",
   "id": "ee35d09d",
   "metadata": {},
   "source": [
    "**c.** Find where $f'(x)$ equals to the slope of a secant line on $[0,0.25]$"
   ]
  },
  {
   "cell_type": "code",
   "execution_count": null,
   "id": "f19fc963",
   "metadata": {},
   "outputs": [],
   "source": []
  },
  {
   "cell_type": "code",
   "execution_count": null,
   "id": "002dbb15",
   "metadata": {},
   "outputs": [],
   "source": []
  },
  {
   "cell_type": "markdown",
   "id": "465e311e",
   "metadata": {},
   "source": [
    "**d.** Find equation of the tangent line at the point found in part **c**. Then graph $f(x)$, secant line and tangent line on the same plot. Use $x \\in [0,0.25]$"
   ]
  },
  {
   "cell_type": "code",
   "execution_count": null,
   "id": "184eec1c",
   "metadata": {},
   "outputs": [],
   "source": []
  },
  {
   "cell_type": "code",
   "execution_count": null,
   "id": "578c2598",
   "metadata": {},
   "outputs": [],
   "source": []
  },
  {
   "cell_type": "markdown",
   "id": "dbb4770a",
   "metadata": {},
   "source": [
    "### Problem 4\n",
    "\n",
    "Plot the given functions. Then try to guess the multiplicity of a zero at $x=0$. Finally, calculate the multiplicity of $x=0$. (See Examples for definition of multiplicity).\n",
    "\n",
    "**a.** $f(x)=x\\sin(x^2)$"
   ]
  },
  {
   "cell_type": "code",
   "execution_count": null,
   "id": "e0ef8bb9",
   "metadata": {},
   "outputs": [],
   "source": []
  },
  {
   "cell_type": "markdown",
   "id": "1f30cd6d",
   "metadata": {},
   "source": [
    "**Answer:** "
   ]
  },
  {
   "cell_type": "code",
   "execution_count": null,
   "id": "59d3208a",
   "metadata": {},
   "outputs": [],
   "source": []
  },
  {
   "cell_type": "markdown",
   "id": "309b1d3d",
   "metadata": {},
   "source": [
    "**b.** $f(x)=\\cos^3(x)-1$"
   ]
  },
  {
   "cell_type": "code",
   "execution_count": null,
   "id": "bf04567b",
   "metadata": {
    "scrolled": false
   },
   "outputs": [],
   "source": []
  },
  {
   "cell_type": "markdown",
   "id": "879a4f37",
   "metadata": {},
   "source": [
    "**Answer:** "
   ]
  },
  {
   "cell_type": "code",
   "execution_count": null,
   "id": "e583b05a",
   "metadata": {},
   "outputs": [],
   "source": []
  },
  {
   "cell_type": "markdown",
   "id": "af728da5",
   "metadata": {},
   "source": [
    "**c.** $f(x)=\\ln(x^2+1)$"
   ]
  },
  {
   "cell_type": "code",
   "execution_count": null,
   "id": "b4e64cdd",
   "metadata": {},
   "outputs": [],
   "source": []
  },
  {
   "cell_type": "markdown",
   "id": "5034d0b9",
   "metadata": {},
   "source": [
    "**Answer:** "
   ]
  },
  {
   "cell_type": "code",
   "execution_count": null,
   "id": "e689d315",
   "metadata": {},
   "outputs": [],
   "source": []
  },
  {
   "cell_type": "markdown",
   "id": "104f6568",
   "metadata": {},
   "source": [
    "**d.** $f(x)=e^x-1$"
   ]
  },
  {
   "cell_type": "code",
   "execution_count": null,
   "id": "c348d643",
   "metadata": {},
   "outputs": [],
   "source": []
  },
  {
   "cell_type": "markdown",
   "id": "dfa60b5d",
   "metadata": {},
   "source": [
    "**Answer:** "
   ]
  },
  {
   "cell_type": "code",
   "execution_count": null,
   "id": "433946f0",
   "metadata": {},
   "outputs": [],
   "source": []
  }
 ],
 "metadata": {
  "kernelspec": {
   "display_name": "Python 3 (ipykernel)",
   "language": "python",
   "name": "python3"
  },
  "language_info": {
   "codemirror_mode": {
    "name": "ipython",
    "version": 3
   },
   "file_extension": ".py",
   "mimetype": "text/x-python",
   "name": "python",
   "nbconvert_exporter": "python",
   "pygments_lexer": "ipython3",
   "version": "3.9.15"
  }
 },
 "nbformat": 4,
 "nbformat_minor": 5
}
