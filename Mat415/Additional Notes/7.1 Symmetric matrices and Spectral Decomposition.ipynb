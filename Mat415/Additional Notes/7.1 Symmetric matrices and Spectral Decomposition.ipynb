{
 "cells": [
  {
   "cell_type": "code",
   "execution_count": 2,
   "id": "8f1b70eb",
   "metadata": {},
   "outputs": [],
   "source": [
    "import matplotlib.pyplot as plt\n",
    "import numpy as np\n",
    "import sympy as sp\n",
    "from scipy import linalg as la\n",
    "sp.init_printing() \n",
    "import warnings\n",
    "warnings.filterwarnings(\"ignore\")\n"
   ]
  },
  {
   "cell_type": "markdown",
   "id": "27e4aee3",
   "metadata": {},
   "source": [
    "## Goals and Commands\n",
    "\n",
    "#### Goals\n",
    "1. Outer product\n",
    "2. Spectral decomposition\n",
    "\n",
    "\n",
    "#### Commands\n",
    "1. np.outer\n",
    "\n",
    "It will be useful here to introduce a new type of vector products. An outer product of two vectors ${\\bf u}$ and ${\\bf v}$ is defined to be ${\\bf u} \\otimes {\\bf v} = {\\bf u} \\cdot {\\bf v}^T$. Note that the outer product of two vectors in $\\mathbb{R}^n$ is an $n \\times n$ matrix"
   ]
  },
  {
   "cell_type": "code",
   "execution_count": 3,
   "id": "15f28ab2",
   "metadata": {},
   "outputs": [
    {
     "data": {
      "text/plain": [
       "array([[-1,  3,  5],\n",
       "       [-2,  6, 10],\n",
       "       [-3,  9, 15]])"
      ]
     },
     "execution_count": 3,
     "metadata": {},
     "output_type": "execute_result"
    }
   ],
   "source": [
    "u=np.array([1,2,3])\n",
    "v=np.array([-1,3,5])\n",
    "np.outer(u,v)"
   ]
  },
  {
   "cell_type": "markdown",
   "id": "0a970512",
   "metadata": {},
   "source": [
    "A useful rule: outer product of vector with itself is a symmetric matrix:"
   ]
  },
  {
   "cell_type": "code",
   "execution_count": 4,
   "id": "5c816a00",
   "metadata": {},
   "outputs": [
    {
     "data": {
      "text/plain": [
       "array([[ 1, -3, -5],\n",
       "       [-3,  9, 15],\n",
       "       [-5, 15, 25]])"
      ]
     },
     "execution_count": 4,
     "metadata": {},
     "output_type": "execute_result"
    }
   ],
   "source": [
    "np.outer(v,v)"
   ]
  },
  {
   "cell_type": "code",
   "execution_count": 5,
   "id": "999e18db",
   "metadata": {},
   "outputs": [
    {
     "data": {
      "text/plain": [
       "array([[1, 2, 3],\n",
       "       [2, 4, 6],\n",
       "       [3, 6, 9]])"
      ]
     },
     "execution_count": 5,
     "metadata": {},
     "output_type": "execute_result"
    }
   ],
   "source": [
    "np.outer(u,u)"
   ]
  },
  {
   "cell_type": "markdown",
   "id": "a4cac793",
   "metadata": {},
   "source": [
    "#### Example\n",
    "\n",
    "Perform Spectral Decomposition and check the result for $A=\\begin{bmatrix} 1 & 1 & 2 \\\\ 1 & 5 & 0 \\\\ 2 & 0 & 4 \\end{bmatrix}$\n",
    "\n",
    "#### Solution"
   ]
  },
  {
   "cell_type": "code",
   "execution_count": 15,
   "id": "51b07a47",
   "metadata": {},
   "outputs": [
    {
     "data": {
      "text/plain": [
       "array([[ 0.88765034, -0.39711255,  0.23319198],\n",
       "       [-0.17214786, -0.75578934, -0.63178128],\n",
       "       [-0.42713229, -0.52065737,  0.73923874]])"
      ]
     },
     "execution_count": 15,
     "metadata": {},
     "output_type": "execute_result"
    }
   ],
   "source": [
    "A=np.array([[1,1,2],[1,5,0],[2,0,4]])\n",
    "D, P = np.linalg.eig(A); P\n",
    "\n",
    "# Recall that P contains normalized eigenvectors."
   ]
  },
  {
   "cell_type": "code",
   "execution_count": 16,
   "id": "10d2c449",
   "metadata": {},
   "outputs": [
    {
     "data": {
      "text/plain": [
       "array([-0.15632517,  5.52542756,  4.63089761])"
      ]
     },
     "execution_count": 16,
     "metadata": {},
     "output_type": "execute_result"
    }
   ],
   "source": [
    "D"
   ]
  },
  {
   "cell_type": "code",
   "execution_count": 17,
   "id": "3ccd9f0f",
   "metadata": {},
   "outputs": [
    {
     "data": {
      "text/plain": [
       "array([[ 0.78792312, -0.15280711, -0.37914412],\n",
       "       [-0.15280711,  0.02963489,  0.07352991],\n",
       "       [-0.37914412,  0.07352991,  0.18244199]])"
      ]
     },
     "execution_count": 17,
     "metadata": {},
     "output_type": "execute_result"
    }
   ],
   "source": [
    "P0=np.outer(P[:,0], P[:,0]); P0"
   ]
  },
  {
   "cell_type": "code",
   "execution_count": 18,
   "id": "e95a6e34",
   "metadata": {},
   "outputs": [
    {
     "data": {
      "text/plain": [
       "array([[0.15769838, 0.30013343, 0.20675958],\n",
       "       [0.30013343, 0.57121753, 0.39350729],\n",
       "       [0.20675958, 0.39350729, 0.2710841 ]])"
      ]
     },
     "execution_count": 18,
     "metadata": {},
     "output_type": "execute_result"
    }
   ],
   "source": [
    "P1=np.outer(P[:,1], P[:,1]); P1"
   ]
  },
  {
   "cell_type": "code",
   "execution_count": 19,
   "id": "00ff696b",
   "metadata": {},
   "outputs": [
    {
     "data": {
      "text/plain": [
       "array([[ 0.0543785 , -0.14732633,  0.17238454],\n",
       "       [-0.14732633,  0.39914759, -0.4670372 ],\n",
       "       [ 0.17238454, -0.4670372 ,  0.54647391]])"
      ]
     },
     "execution_count": 19,
     "metadata": {},
     "output_type": "execute_result"
    }
   ],
   "source": [
    "P2=np.outer(P[:,2], P[:,2]); P2"
   ]
  },
  {
   "cell_type": "code",
   "execution_count": 20,
   "id": "8249b7fa",
   "metadata": {},
   "outputs": [
    {
     "data": {
      "text/plain": [
       "array([[1., 1., 2.],\n",
       "       [1., 5., 0.],\n",
       "       [2., 0., 4.]])"
      ]
     },
     "execution_count": 20,
     "metadata": {},
     "output_type": "execute_result"
    }
   ],
   "source": [
    "# Lets check our decomposition\n",
    "\n",
    "np.round(D[0]*P0+D[1]*P1+D[2]*P2)"
   ]
  },
  {
   "cell_type": "markdown",
   "id": "9387132a",
   "metadata": {},
   "source": [
    "#### End of solution\n"
   ]
  },
  {
   "cell_type": "markdown",
   "id": "36a52ab8-bcb3-4f5d-8095-54c47e4ba141",
   "metadata": {},
   "source": [
    "Notice that $P0$ is much smaller eigenvalue than the other two, so lets remove the term from the decomposition with that eigenvalue and see what we get:"
   ]
  },
  {
   "cell_type": "code",
   "execution_count": 22,
   "id": "1cdedca3-d4a5-46bf-a4db-2a51397d9f1b",
   "metadata": {
    "scrolled": true
   },
   "outputs": [
    {
     "data": {
      "text/plain": [
       "array([[1., 1., 2.],\n",
       "       [1., 5., 0.],\n",
       "       [2., 0., 4.]])"
      ]
     },
     "execution_count": 22,
     "metadata": {},
     "output_type": "execute_result"
    }
   ],
   "source": [
    "np.round(D[1]*P1+D[2]*P2)"
   ]
  },
  {
   "cell_type": "markdown",
   "id": "521a5610-58b3-4917-8093-26ce6467dc09",
   "metadata": {},
   "source": [
    "As you can see, it looks the same. In reality, it is not exactly the same, but it is very close to the original matrix. We dont see the difference because we round it off."
   ]
  }
 ],
 "metadata": {
  "kernelspec": {
   "display_name": "Python 3 (ipykernel)",
   "language": "python",
   "name": "python3"
  },
  "language_info": {
   "codemirror_mode": {
    "name": "ipython",
    "version": 3
   },
   "file_extension": ".py",
   "mimetype": "text/x-python",
   "name": "python",
   "nbconvert_exporter": "python",
   "pygments_lexer": "ipython3",
   "version": "3.11.5"
  }
 },
 "nbformat": 4,
 "nbformat_minor": 5
}
