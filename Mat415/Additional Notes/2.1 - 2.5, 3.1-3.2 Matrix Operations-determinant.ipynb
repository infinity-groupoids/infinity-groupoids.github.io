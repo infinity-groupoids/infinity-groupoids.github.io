{
 "cells": [
  {
   "cell_type": "code",
   "execution_count": 1,
   "id": "34cadea5",
   "metadata": {},
   "outputs": [
    {
     "data": {
      "image/png": "[encoded data removed]",
      "text/latex": [
       "$\\displaystyle \\left( a, \\  b, \\  c, \\  d, \\  e, \\  f, \\  g, \\  h, \\  i, \\  j, \\  k\\right)$"
      ],
      "text/plain": [
       "(a, b, c, d, e, f, g, h, i, j, k)"
      ]
     },
     "execution_count": 1,
     "metadata": {},
     "output_type": "execute_result"
    }
   ],
   "source": [
    "import matplotlib.pyplot as plt\n",
    "import numpy as np\n",
    "import sympy as sp\n",
    "from scipy import linalg as la\n",
    "sp.init_printing() \n",
    "import warnings\n",
    "warnings.filterwarnings(\"ignore\")\n",
    "\n",
    "\n",
    "\n",
    "#next line is so that we can use letters with SymPy matrix\n",
    "sp.var('a, b, c, d, e, f, g, h, i, j, k', real = True)"
   ]
  },
  {
   "cell_type": "markdown",
   "id": "da332a53",
   "metadata": {},
   "source": [
    "## Goals and Commands\n",
    "\n",
    "#### Goals\n",
    "1. Matrix operations\n",
    "2. Matrix inverse\n",
    "3. LU-factorization\n",
    "4. Determinants\n",
    "\n",
    "#### Commands\n",
    "1. Operator @\n",
    "2. np.linalg.inv, .inv\n",
    "3. Scipy.linalg library\n",
    "3. .lu, .lu_factor, .lu_solve\n",
    "4. .det\n"
   ]
  },
  {
   "cell_type": "markdown",
   "id": "45502481",
   "metadata": {},
   "source": [
    "### Matrix Multiplication\n",
    "\n",
    "Matrix multiplication is done the same way as matrix-vector multiplication, using @-symbol.\n",
    "\n",
    "#### Example\n",
    "\n",
    "Find AB, where $A=\\begin{bmatrix} 1 & 1 & 0 \\\\ 2 & 5 & -1 \\end{bmatrix}$ and $B=\\begin{bmatrix} 1 & 1 \\\\ 2 & 5 \\\\ 0 & 1 \\end{bmatrix}$. \n",
    "We will do it using both NumPy and SymPy:"
   ]
  },
  {
   "cell_type": "code",
   "execution_count": 2,
   "id": "c8c4fd1f",
   "metadata": {},
   "outputs": [
    {
     "data": {
      "text/plain": [
       "array([[ 3,  6],\n",
       "       [12, 26]])"
      ]
     },
     "execution_count": 2,
     "metadata": {},
     "output_type": "execute_result"
    }
   ],
   "source": [
    "A=np.array([[1,1,0],[2,5,-1]])\n",
    "B=np.array([[1,1],[2,5],[0,1]])\n",
    "A@B"
   ]
  },
  {
   "cell_type": "code",
   "execution_count": 3,
   "id": "94fea83c",
   "metadata": {},
   "outputs": [
    {
     "data": {
      "text/latex": [
       "$\\displaystyle \\left[\\begin{matrix}3 & 6\\\\12 & 26\\end{matrix}\\right]$"
      ],
      "text/plain": [
       "⎡3   6 ⎤\n",
       "⎢      ⎥\n",
       "⎣12  26⎦"
      ]
     },
     "execution_count": 3,
     "metadata": {},
     "output_type": "execute_result"
    }
   ],
   "source": [
    "A=sp.Matrix([[1,1,0],[2,5,-1]])\n",
    "B=sp.Matrix([[1,1],[2,5],[0,1]])\n",
    "A@B"
   ]
  },
  {
   "cell_type": "markdown",
   "id": "7d5208ac",
   "metadata": {},
   "source": [
    "#### End of example\n",
    "\n",
    "Adding matrices and multiplying them by scalars are straightforward."
   ]
  },
  {
   "cell_type": "code",
   "execution_count": 4,
   "id": "647d09f9",
   "metadata": {},
   "outputs": [
    {
     "data": {
      "text/plain": [
       "array([[ 9,  8],\n",
       "       [-1,  4]])"
      ]
     },
     "execution_count": 4,
     "metadata": {},
     "output_type": "execute_result"
    }
   ],
   "source": [
    "A=np.array([[1,2],[3,4]])\n",
    "B=np.array([[4,3], [-2,0]])\n",
    "A+2*B"
   ]
  },
  {
   "cell_type": "markdown",
   "id": "d1a5d563",
   "metadata": {},
   "source": [
    "To raise matrix to a power, we can use linalg library if we are using NumPy:"
   ]
  },
  {
   "cell_type": "code",
   "execution_count": 5,
   "id": "ea5668da",
   "metadata": {},
   "outputs": [
    {
     "data": {
      "text/plain": [
       "array([[ 7, 10],\n",
       "       [15, 22]])"
      ]
     },
     "execution_count": 5,
     "metadata": {},
     "output_type": "execute_result"
    }
   ],
   "source": [
    "np.linalg.matrix_power(A,2)"
   ]
  },
  {
   "cell_type": "markdown",
   "id": "df70bc03",
   "metadata": {},
   "source": [
    "In SymPy this is a bit simpler: "
   ]
  },
  {
   "cell_type": "code",
   "execution_count": 6,
   "id": "b1cb4ed7",
   "metadata": {},
   "outputs": [
    {
     "data": {
      "text/latex": [
       "$\\displaystyle \\left[\\begin{matrix}7 & 10\\\\15 & 22\\end{matrix}\\right]$"
      ],
      "text/plain": [
       "⎡7   10⎤\n",
       "⎢      ⎥\n",
       "⎣15  22⎦"
      ]
     },
     "execution_count": 6,
     "metadata": {},
     "output_type": "execute_result"
    }
   ],
   "source": [
    "A=sp.Matrix([[1,2],[3,4]])\n",
    "A**2"
   ]
  },
  {
   "cell_type": "markdown",
   "id": "02403dd5",
   "metadata": {},
   "source": [
    "Warning: in NumPy A**2 is not the same as A@A. Instead it squares every entry of the array.\n",
    "\n",
    "### Inverse\n",
    "\n",
    "To find the inverse of the matric we can use command `inv` from linalg library if we are using NumPy, or `.inv()` if we are using SymPy.\n",
    "\n",
    "#### Example:\n",
    "\n",
    "Find inverse of $A=\\begin{bmatrix} 1 & 1 & 4 \\\\ 2 & 5 & -1 \\\\ 0 & 2 & 1\\end{bmatrix}$ and $B=\\begin{bmatrix} a & b\\\\ c&d\\end{bmatrix}$"
   ]
  },
  {
   "cell_type": "code",
   "execution_count": 7,
   "id": "d19cd724",
   "metadata": {},
   "outputs": [
    {
     "data": {
      "text/plain": [
       "array([[ 1.4, -0.2, -0.2],\n",
       "       [-0.4,  0.2,  0.2],\n",
       "       [ 0.8, -0.4,  0.6]])"
      ]
     },
     "execution_count": 7,
     "metadata": {},
     "output_type": "execute_result"
    }
   ],
   "source": [
    "A=np.array([[1,1,0],[2,5,-1], [0,2,1]])\n",
    "np.linalg.inv(A)"
   ]
  },
  {
   "cell_type": "code",
   "execution_count": 8,
   "id": "84c01dbd",
   "metadata": {},
   "outputs": [
    {
     "data": {
      "text/latex": [
       "$\\displaystyle \\left[\\begin{matrix}\\frac{7}{5} & - \\frac{1}{5} & - \\frac{1}{5}\\\\- \\frac{2}{5} & \\frac{1}{5} & \\frac{1}{5}\\\\\\frac{4}{5} & - \\frac{2}{5} & \\frac{3}{5}\\end{matrix}\\right]$"
      ],
      "text/plain": [
       "⎡7/5   -1/5  -1/5⎤\n",
       "⎢                ⎥\n",
       "⎢-2/5  1/5   1/5 ⎥\n",
       "⎢                ⎥\n",
       "⎣4/5   -2/5  3/5 ⎦"
      ]
     },
     "execution_count": 8,
     "metadata": {},
     "output_type": "execute_result"
    }
   ],
   "source": [
    "A=sp.Matrix([[1,1,0],[2,5,-1], [0,2,1]])\n",
    "A.inv()"
   ]
  },
  {
   "cell_type": "code",
   "execution_count": 9,
   "id": "b7b1e394",
   "metadata": {},
   "outputs": [
    {
     "data": {
      "text/latex": [
       "$\\displaystyle \\left[\\begin{matrix}\\frac{d}{a d - b c} & - \\frac{b}{a d - b c}\\\\- \\frac{c}{a d - b c} & \\frac{a}{a d - b c}\\end{matrix}\\right]$"
      ],
      "text/plain": [
       "⎡    d         -b    ⎤\n",
       "⎢─────────  ─────────⎥\n",
       "⎢a⋅d - b⋅c  a⋅d - b⋅c⎥\n",
       "⎢                    ⎥\n",
       "⎢   -c          a    ⎥\n",
       "⎢─────────  ─────────⎥\n",
       "⎣a⋅d - b⋅c  a⋅d - b⋅c⎦"
      ]
     },
     "execution_count": 9,
     "metadata": {},
     "output_type": "execute_result"
    }
   ],
   "source": [
    "B=sp.Matrix([[a,b],[c,d]])\n",
    "B.inv()"
   ]
  },
  {
   "cell_type": "markdown",
   "id": "a93c7156",
   "metadata": {},
   "source": [
    "Next we introduce a new library -- SciPy.linalg. It is quite similar to numpy.linalg, but it has more commands in it. It works on numpy arrays, so you can use either library. However, some commands that we will need will come only from SciPy. For now, here is an example of finding inverse using SciPy. Reminder: we defined scipy.linalg as la"
   ]
  },
  {
   "cell_type": "code",
   "execution_count": 10,
   "id": "cb662fc6",
   "metadata": {},
   "outputs": [
    {
     "data": {
      "text/plain": [
       "array([[ 1.4, -0.2, -0.2],\n",
       "       [-0.4,  0.2,  0.2],\n",
       "       [ 0.8, -0.4,  0.6]])"
      ]
     },
     "execution_count": 10,
     "metadata": {},
     "output_type": "execute_result"
    }
   ],
   "source": [
    "A=np.array([[1,1,0],[2,5,-1], [0,2,1]])\n",
    "la.inv(A)"
   ]
  },
  {
   "cell_type": "markdown",
   "id": "3932290e",
   "metadata": {},
   "source": [
    "### LU factorization\n",
    "\n",
    "To perform LU factorization we need SciPy library.\n",
    "\n",
    "#### Example\n",
    "\n",
    "$A = \\begin{bmatrix} 1& 2& 3 \\\\ 1 & 9& 4 \\\\ 0 & 1 & 4\\end{bmatrix}$ Find LU-decoomposition of A"
   ]
  },
  {
   "cell_type": "code",
   "execution_count": 11,
   "id": "417b91ea",
   "metadata": {},
   "outputs": [
    {
     "name": "stdout",
     "output_type": "stream",
     "text": [
      "[[1. 0. 0.]\n",
      " [0. 1. 0.]\n",
      " [0. 0. 1.]]\n",
      "[[1.         0.         0.        ]\n",
      " [1.         1.         0.        ]\n",
      " [0.         0.14285714 1.        ]]\n",
      "[[1.         2.         3.        ]\n",
      " [0.         7.         1.        ]\n",
      " [0.         0.         3.85714286]]\n"
     ]
    }
   ],
   "source": [
    "A=np.array([[1,2,3],[1,9,4],[0,1,4]])\n",
    "P, L, U = la.lu(A)\n",
    "print(P)\n",
    "print(L)\n",
    "print(U)"
   ]
  },
  {
   "cell_type": "markdown",
   "id": "cb27a471",
   "metadata": {},
   "source": [
    "#### End of example\n",
    "\n",
    "As you can see, `la.lu` returns three matrices. L and U matricies are the lower and upper triangualar matrices that we were looking for. However, we also get matrix P. This is permutaion matrix and in fact, A=PLU. In this particualr case P is just identity and so it is not important, but in general it can swap some of the rows of A, so that LU factorization works out.\n",
    "\n",
    "If we need to actually solve linear systems using LU factorization, it is better to use `lu_factor` and `lu_solve` commands from scipy.linalg.\n",
    "\n",
    "`lu_factor` will perform LU factorization and return a matrix that combines lower part of L ignoring 1's from the main diagonal and upper part of U. It also returns a vector piv that holds information on which rows were swapped (more precisely, row i was interchanged with row piv[i])\n",
    "\n",
    "`lu_solve` then will use result of `lu_factor` to actually solve the system.\n",
    "\n",
    "#### Example\n",
    "\n",
    "Solve Solve $A {\\bf {x}} = {\\bf{b}}$ using LU factorization, were $A=\\begin{bmatrix} 2&-2&4 \\\\ 1&-3&1\\\\ 3&7&5 \\end{bmatrix}$ and ${\\bf{b}}=\\begin{bmatrix} 0\\\\-5\\\\7\\end{bmatrix}$\n",
    "\n"
   ]
  },
  {
   "cell_type": "code",
   "execution_count": 12,
   "id": "689783d6",
   "metadata": {},
   "outputs": [
    {
     "data": {
      "text/plain": [
       "array([-5.,  1.,  3.])"
      ]
     },
     "execution_count": 12,
     "metadata": {},
     "output_type": "execute_result"
    }
   ],
   "source": [
    "A=np.array([[2,-2,4],[1,-3,1],[3,7,5]])\n",
    "b=np.array([0,-5,7])\n",
    "\n",
    "lu,piv=la.lu_factor(A)\n",
    "x=la.lu_solve((lu, piv), b)\n",
    "x"
   ]
  },
  {
   "cell_type": "markdown",
   "id": "d66739c0",
   "metadata": {},
   "source": [
    "To make it a bit more clear what lu matrix is that is being returned by `lu_factor`, compare it to L and U matricies: "
   ]
  },
  {
   "cell_type": "code",
   "execution_count": 13,
   "id": "264a6b73",
   "metadata": {},
   "outputs": [
    {
     "data": {
      "text/latex": [
       "$\\displaystyle \\left( \\left[\\begin{matrix}1.0 & 0 & 0\\\\0.666666666666667 & 1.0 & 0\\\\0.333333333333333 & 0.8 & 1.0\\end{matrix}\\right], \\  \\left[\\begin{matrix}3.0 & 7.0 & 5.0\\\\0 & -6.66666666666667 & 0.666666666666667\\\\0 & 0 & -1.2\\end{matrix}\\right], \\  \\left[\\begin{matrix}3.0 & 7.0 & 5.0\\\\0.666666666666667 & -6.66666666666667 & 0.666666666666667\\\\0.333333333333333 & 0.8 & -1.2\\end{matrix}\\right]\\right)$"
      ],
      "text/plain": [
       "⎛⎡       1.0          0    0 ⎤  ⎡3.0         7.0                5.0       ⎤  ⎡\n",
       "⎜⎢                           ⎥  ⎢                                         ⎥  ⎢\n",
       "⎜⎢0.666666666666667  1.0   0 ⎥, ⎢ 0   -6.66666666666667  0.666666666666667⎥, ⎢\n",
       "⎜⎢                           ⎥  ⎢                                         ⎥  ⎢\n",
       "⎝⎣0.333333333333333  0.8  1.0⎦  ⎣ 0           0                -1.2       ⎦  ⎣\n",
       "\n",
       "       3.0                7.0                5.0       ⎤⎞\n",
       "                                                       ⎥⎟\n",
       "0.666666666666667  -6.66666666666667  0.666666666666667⎥⎟\n",
       "                                                       ⎥⎟\n",
       "0.333333333333333         0.8               -1.2       ⎦⎠"
      ]
     },
     "execution_count": 13,
     "metadata": {},
     "output_type": "execute_result"
    }
   ],
   "source": [
    "P, L, U = la.lu(A)\n",
    "sp.Matrix(L),sp.Matrix(U),sp.Matrix(lu)"
   ]
  },
  {
   "cell_type": "code",
   "execution_count": 14,
   "id": "e43a8d76",
   "metadata": {},
   "outputs": [
    {
     "data": {
      "text/plain": [
       "(array([[0., 1., 0.],\n",
       "        [0., 0., 1.],\n",
       "        [1., 0., 0.]]),\n",
       " array([2, 2, 2], dtype=int32))"
      ]
     },
     "execution_count": 14,
     "metadata": {},
     "output_type": "execute_result"
    }
   ],
   "source": [
    "P, piv  "
   ]
  },
  {
   "cell_type": "markdown",
   "id": "c1cf353b",
   "metadata": {},
   "source": [
    "Notice, piv is [2,2,2]. So if you start with identity matrix and then perform the following three swaps you will get matrix P:\n",
    "1.  Swap row 1 with row 2\n",
    "2.  Swap row 2 with row 2 (does nothing)\n",
    "3.  Swap row 3 with row 2\n",
    "\n",
    "#### End of example"
   ]
  },
  {
   "cell_type": "markdown",
   "id": "f0967689",
   "metadata": {},
   "source": [
    "In our last example, we will solve a large linear system in two different ways: directly solving it, and then solving it with LU factorization. We will also time each attempt to see which one is faster. \n",
    "\n",
    "\n",
    "\n",
    "#### Example\n",
    "\n",
    "Let $A$ be a big matrix given below:\n"
   ]
  },
  {
   "cell_type": "code",
   "execution_count": 15,
   "id": "2907a6fc",
   "metadata": {},
   "outputs": [
    {
     "data": {
      "text/latex": [
       "$\\displaystyle \\left[\\begin{matrix}4 & -1 & -1 & 0 & 0 & 0 & 0 & 3\\\\4 & 5 & 0 & 1 & 0 & 0 & 0 & 0\\\\4 & 0 & 4 & -1 & 3 & 0 & 0 & 0\\\\0 & 4 & 3 & 4 & 0 & -1 & 0 & 0\\\\0 & 0 & 4 & 0 & 4 & 3 & -1 & 0\\\\0 & 0 & 0 & 3 & -1 & 4 & 0 & -1\\\\0 & 0 & 0 & 0 & 4 & 0 & 4 & -1\\\\0 & 0 & 0 & 0 & 0 & 4 & -1 & 4\\end{matrix}\\right]$"
      ],
      "text/plain": [
       "⎡4  -1  -1  0   0   0   0   3 ⎤\n",
       "⎢                             ⎥\n",
       "⎢4  5   0   1   0   0   0   0 ⎥\n",
       "⎢                             ⎥\n",
       "⎢4  0   4   -1  3   0   0   0 ⎥\n",
       "⎢                             ⎥\n",
       "⎢0  4   3   4   0   -1  0   0 ⎥\n",
       "⎢                             ⎥\n",
       "⎢0  0   4   0   4   3   -1  0 ⎥\n",
       "⎢                             ⎥\n",
       "⎢0  0   0   3   -1  4   0   -1⎥\n",
       "⎢                             ⎥\n",
       "⎢0  0   0   0   4   0   4   -1⎥\n",
       "⎢                             ⎥\n",
       "⎣0  0   0   0   0   4   -1  4 ⎦"
      ]
     },
     "execution_count": 15,
     "metadata": {},
     "output_type": "execute_result"
    }
   ],
   "source": [
    "A=np.array([[4,-1,-1,0,0,0,0,3],[4,5,0,1,0,0,0,0],[4,0,4,-1,3,0,0,0],[0,4,3,4,0,-1,0,0],[0,0,4,0,4,3,-1,0],[0,0,0,3,-1,4,0,-1],[0,0,0,0,4,0,4,-1],[0,0,0,0,0,4,-1,4]])\n",
    "sp.Matrix(A)"
   ]
  },
  {
   "cell_type": "markdown",
   "id": "7937c38b",
   "metadata": {},
   "source": [
    "Let ${\\bf b}=(5,10,0,-10,5,5,0,5)$. Let's solve $A{\\bf x}={\\bf b}$"
   ]
  },
  {
   "cell_type": "code",
   "execution_count": 16,
   "id": "39e8af72",
   "metadata": {},
   "outputs": [],
   "source": [
    "b=np.array([5,10,0,-10,5,5,0,5])"
   ]
  },
  {
   "cell_type": "code",
   "execution_count": 17,
   "id": "61d89b97",
   "metadata": {},
   "outputs": [
    {
     "data": {
      "text/plain": [
       "array([ 1.5044607 ,  0.82749993, -3.64689762, -0.15534241,  2.80480176,\n",
       "        1.74793721, -3.1245718 , -1.27908016])"
      ]
     },
     "execution_count": 17,
     "metadata": {},
     "output_type": "execute_result"
    }
   ],
   "source": [
    "np.linalg.solve(A,b)"
   ]
  },
  {
   "cell_type": "code",
   "execution_count": 18,
   "id": "947480c1",
   "metadata": {},
   "outputs": [
    {
     "data": {
      "text/plain": [
       "array([ 1.5044607 ,  0.82749993, -3.64689762, -0.15534241,  2.80480176,\n",
       "        1.74793721, -3.1245718 , -1.27908016])"
      ]
     },
     "execution_count": 18,
     "metadata": {},
     "output_type": "execute_result"
    }
   ],
   "source": [
    "lu, piv = la.lu_factor(A)\n",
    "la.lu_solve((lu, piv), b)"
   ]
  },
  {
   "cell_type": "markdown",
   "id": "4024f8a0",
   "metadata": {},
   "source": [
    "So the answers are the same, which is good. Now lets find average execution time. We will do 40 runs, each consisting of 100 loops of each cell, and then find the average time of execution of a run."
   ]
  },
  {
   "cell_type": "code",
   "execution_count": 19,
   "id": "b21a141e",
   "metadata": {},
   "outputs": [
    {
     "name": "stdout",
     "output_type": "stream",
     "text": [
      "12.1 µs ± 1.42 µs per loop (mean ± std. dev. of 40 runs, 100 loops each)\n"
     ]
    }
   ],
   "source": [
    "%%timeit -n 100 -r 40 \n",
    "np.linalg.solve(A,b)\n"
   ]
  },
  {
   "cell_type": "code",
   "execution_count": 20,
   "id": "e82081c8",
   "metadata": {},
   "outputs": [
    {
     "name": "stdout",
     "output_type": "stream",
     "text": [
      "8.7 µs ± 2.5 µs per loop (mean ± std. dev. of 40 runs, 100 loops each)\n"
     ]
    }
   ],
   "source": [
    "%%timeit -n 100 -r 40\n",
    "lu, piv = la.lu_factor(A)\n",
    "la.lu_solve((lu, piv), b)\n"
   ]
  },
  {
   "cell_type": "markdown",
   "id": "8edc0df9",
   "metadata": {},
   "source": [
    "As you can see LU factorization method executes faster. For larger systems, time difference will increase."
   ]
  },
  {
   "cell_type": "markdown",
   "id": "461cdd2b",
   "metadata": {},
   "source": [
    "### Determinants\n",
    "\n",
    "There are of course commands to find determinant of the matrix directly. In SymPy it is `.det()` and in NumPy and SciPy its `.linalg.det`.\n",
    "\n",
    "#### Example\n",
    "\n",
    "Find determinant of $A=\\begin{bmatrix} 2&-2&4 \\\\ 1&-3&1\\\\ 3&7&5 \\end{bmatrix}$\n",
    "\n",
    "#### Solution"
   ]
  },
  {
   "cell_type": "code",
   "execution_count": 21,
   "id": "664f30ab",
   "metadata": {},
   "outputs": [
    {
     "data": {
      "image/png": "[encoded data removed]",
      "text/latex": [
       "$\\displaystyle 24.0$"
      ],
      "text/plain": [
       "24.000000000000004"
      ]
     },
     "execution_count": 21,
     "metadata": {},
     "output_type": "execute_result"
    }
   ],
   "source": [
    "A=np.array([[2,-2,4],[1,-3,1],[3,7,5]])\n",
    "np.linalg.det(A)"
   ]
  },
  {
   "cell_type": "code",
   "execution_count": 22,
   "id": "29a423f5",
   "metadata": {},
   "outputs": [
    {
     "data": {
      "image/png": "[encoded data removed]",
      "text/latex": [
       "$\\displaystyle 24$"
      ],
      "text/plain": [
       "24"
      ]
     },
     "execution_count": 22,
     "metadata": {},
     "output_type": "execute_result"
    }
   ],
   "source": [
    "B=sp.Matrix(A)\n",
    "B.det()"
   ]
  },
  {
   "cell_type": "markdown",
   "id": "1777f64b",
   "metadata": {},
   "source": [
    "#### End of Example\n"
   ]
  }
 ],
 "metadata": {
  "kernelspec": {
   "display_name": "Python 3 (ipykernel)",
   "language": "python",
   "name": "python3"
  },
  "language_info": {
   "codemirror_mode": {
    "name": "ipython",
    "version": 3
   },
   "file_extension": ".py",
   "mimetype": "text/x-python",
   "name": "python",
   "nbconvert_exporter": "python",
   "pygments_lexer": "ipython3",
   "version": "3.11.5"
  }
 },
 "nbformat": 4,
 "nbformat_minor": 5
}
