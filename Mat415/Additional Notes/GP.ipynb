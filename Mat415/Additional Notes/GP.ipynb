{
 "cells": [
  {
   "cell_type": "code",
   "execution_count": 1,
   "metadata": {},
   "outputs": [],
   "source": [
    "import numpy as np\n",
    "import sympy as sp\n",
    "from sympy import *\n",
    "init_printing(use_unicode=True)\n"
   ]
  },
  {
   "attachments": {
    "c9c94090-6b3b-4db9-b0c7-d2678870976f.png": {
     "image/png": "[encoded data removed]"
    }
   },
   "cell_type": "markdown",
   "metadata": {},
   "source": [
    "![GP1.png](attachment:c9c94090-6b3b-4db9-b0c7-d2678870976f.png)"
   ]
  },
  {
   "cell_type": "code",
   "execution_count": 9,
   "metadata": {},
   "outputs": [
    {
     "data": {
      "text/latex": [
       "$\\displaystyle \\left[\\begin{matrix}0 & 0.333333333333333 & 0.333333333333333 & 0 & 0 & 0 & 0\\\\1 & 0 & 0.333333333333333 & 0 & 0 & 0 & 0\\\\0 & 0 & 0 & 0.5 & 0 & 0 & 0\\\\0 & 0.333333333333333 & 0.333333333333333 & 0 & 0 & 0 & 0\\\\0 & 0 & 0 & 0.5 & 0 & 1 & 0\\\\0 & 0 & 0 & 0 & 1 & 0 & 0\\\\0 & 0.333333333333333 & 0 & 0 & 0 & 0 & 1\\end{matrix}\\right]$"
      ],
      "text/plain": [
       "⎡0  0.333333333333333  0.333333333333333   0   0  0  0⎤\n",
       "⎢                                                     ⎥\n",
       "⎢1          0          0.333333333333333   0   0  0  0⎥\n",
       "⎢                                                     ⎥\n",
       "⎢0          0                  0          0.5  0  0  0⎥\n",
       "⎢                                                     ⎥\n",
       "⎢0  0.333333333333333  0.333333333333333   0   0  0  0⎥\n",
       "⎢                                                     ⎥\n",
       "⎢0          0                  0          0.5  0  1  0⎥\n",
       "⎢                                                     ⎥\n",
       "⎢0          0                  0           0   1  0  0⎥\n",
       "⎢                                                     ⎥\n",
       "⎣0  0.333333333333333          0           0   0  0  1⎦"
      ]
     },
     "execution_count": 9,
     "metadata": {},
     "output_type": "execute_result"
    }
   ],
   "source": [
    "P=sp.Matrix([[0,1/3,1/3,0,0,0,0],[1,0,1/3,0,0,0,0],[0,0,0,1/2,0,0,0],[0,1/3,1/3,0,0,0,0],[0,0,0,1/2,0,1,0],[0,0,0,0,1,0,0],[0,1/3,0,0,0,0,1]])\n",
    "P"
   ]
  },
  {
   "cell_type": "code",
   "execution_count": 15,
   "metadata": {
    "scrolled": true
   },
   "outputs": [
    {
     "data": {
      "text/latex": [
       "$\\displaystyle \\left[\\begin{matrix}0.0185185185185185 & 0.0833333333333333 & 0.0895061728395062 & 0.037037037037037 & 0 & 0 & 0\\\\0.166666666666667 & 0.0462962962962963 & 0.101851851851852 & 0.0925925925925926 & 0 & 0 & 0\\\\0.0833333333333333 & 0.00925925925925926 & 0.037037037037037 & 0.0416666666666667 & 0 & 0 & 0\\\\0.0185185185185185 & 0.0833333333333333 & 0.0895061728395062 & 0.037037037037037 & 0 & 0 & 0\\\\0.25 & 0.00925925925925926 & 0.0925925925925926 & 0.625 & 0 & 1 & 0\\\\0 & 0.25 & 0.25 & 0.0277777777777778 & 1 & 0 & 0\\\\0.462962962962963 & 0.518518518518518 & 0.339506172839506 & 0.138888888888889 & 0 & 0 & 1\\end{matrix}\\right]$"
      ],
      "text/plain": [
       "⎡0.0185185185185185  0.0833333333333333   0.0895061728395062  0.03703703703703\n",
       "⎢                                                                             \n",
       "⎢0.166666666666667   0.0462962962962963   0.101851851851852   0.09259259259259\n",
       "⎢                                                                             \n",
       "⎢0.0833333333333333  0.00925925925925926  0.037037037037037   0.04166666666666\n",
       "⎢                                                                             \n",
       "⎢0.0185185185185185  0.0833333333333333   0.0895061728395062  0.03703703703703\n",
       "⎢                                                                             \n",
       "⎢       0.25         0.00925925925925926  0.0925925925925926        0.625     \n",
       "⎢                                                                             \n",
       "⎢        0                  0.25                 0.25         0.02777777777777\n",
       "⎢                                                                             \n",
       "⎣0.462962962962963    0.518518518518518   0.339506172839506   0.13888888888888\n",
       "\n",
       "7   0  0  0⎤\n",
       "           ⎥\n",
       "26  0  0  0⎥\n",
       "           ⎥\n",
       "67  0  0  0⎥\n",
       "           ⎥\n",
       "7   0  0  0⎥\n",
       "           ⎥\n",
       "    0  1  0⎥\n",
       "           ⎥\n",
       "78  1  0  0⎥\n",
       "           ⎥\n",
       "9   0  0  1⎦"
      ]
     },
     "execution_count": 15,
     "metadata": {},
     "output_type": "execute_result"
    }
   ],
   "source": [
    "P**5"
   ]
  },
  {
   "cell_type": "markdown",
   "metadata": {},
   "source": [
    "Problem 1: Not a regular MC. If we get to NODE 7 we are stuck there.\n",
    "\n",
    "Fix: If we get to absorbtion state, randomly jump to any other node"
   ]
  },
  {
   "cell_type": "code",
   "execution_count": 16,
   "metadata": {
    "scrolled": true
   },
   "outputs": [
    {
     "data": {
      "text/latex": [
       "$\\displaystyle \\left[\\begin{matrix}0 & 0.333333333333333 & 0.333333333333333 & 0 & 0 & 0 & \\frac{1}{7}\\\\1 & 0 & 0.333333333333333 & 0 & 0 & 0 & \\frac{1}{7}\\\\0 & 0 & 0 & 0.5 & 0 & 0 & \\frac{1}{7}\\\\0 & 0.333333333333333 & 0.333333333333333 & 0 & 0 & 0 & \\frac{1}{7}\\\\0 & 0 & 0 & 0.5 & 0 & 1 & \\frac{1}{7}\\\\0 & 0 & 0 & 0 & 1 & 0 & \\frac{1}{7}\\\\0 & 0.333333333333333 & 0 & 0 & 0 & 0 & \\frac{1}{7}\\end{matrix}\\right]$"
      ],
      "text/plain": [
       "⎡0  0.333333333333333  0.333333333333333   0   0  0  1/7⎤\n",
       "⎢                                                       ⎥\n",
       "⎢1          0          0.333333333333333   0   0  0  1/7⎥\n",
       "⎢                                                       ⎥\n",
       "⎢0          0                  0          0.5  0  0  1/7⎥\n",
       "⎢                                                       ⎥\n",
       "⎢0  0.333333333333333  0.333333333333333   0   0  0  1/7⎥\n",
       "⎢                                                       ⎥\n",
       "⎢0          0                  0          0.5  0  1  1/7⎥\n",
       "⎢                                                       ⎥\n",
       "⎢0          0                  0           0   1  0  1/7⎥\n",
       "⎢                                                       ⎥\n",
       "⎣0  0.333333333333333          0           0   0  0  1/7⎦"
      ]
     },
     "execution_count": 16,
     "metadata": {},
     "output_type": "execute_result"
    }
   ],
   "source": [
    "P[:,-1]=sp.ones(7,1)/7\n",
    "P"
   ]
  },
  {
   "cell_type": "code",
   "execution_count": 19,
   "metadata": {
    "scrolled": true
   },
   "outputs": [
    {
     "data": {
      "text/latex": [
       "$\\displaystyle \\left[\\begin{matrix}0.0476190476190476 & 0.205215419501134 & 0.182539682539683 & 0.0555555555555556 & 0 & 0 & 0.110625202461937\\\\0.380952380952381 & 0.125850340136054 & 0.182539682539683 & 0.166666666666667 & 0 & 0 & 0.15597667638484\\\\0.214285714285714 & 0.0306122448979592 & 0.0714285714285714 & 0.0833333333333333 & 0 & 0 & 0.0675413022351798\\\\0.0476190476190476 & 0.205215419501134 & 0.182539682539683 & 0.0555555555555556 & 0 & 0 & 0.110625202461937\\\\0.214285714285714 & 0.0782312925170068 & 0.0714285714285714 & 0.583333333333333 & 0 & 1 & 0.230806608357629\\\\0.0476190476190476 & 0.22108843537415 & 0.182539682539683 & 0 & 1 & 0 & 0.244412050534499\\\\0.0476190476190476 & 0.133786848072562 & 0.126984126984127 & 0.0555555555555556 & 0 & 0 & 0.080012957563978\\end{matrix}\\right]$"
      ],
      "text/plain": [
       "⎡0.0476190476190476  0.205215419501134   0.182539682539683   0.055555555555555\n",
       "⎢                                                                             \n",
       "⎢0.380952380952381   0.125850340136054   0.182539682539683   0.166666666666667\n",
       "⎢                                                                             \n",
       "⎢0.214285714285714   0.0306122448979592  0.0714285714285714  0.083333333333333\n",
       "⎢                                                                             \n",
       "⎢0.0476190476190476  0.205215419501134   0.182539682539683   0.055555555555555\n",
       "⎢                                                                             \n",
       "⎢0.214285714285714   0.0782312925170068  0.0714285714285714  0.583333333333333\n",
       "⎢                                                                             \n",
       "⎢0.0476190476190476   0.22108843537415   0.182539682539683           0        \n",
       "⎢                                                                             \n",
       "⎣0.0476190476190476  0.133786848072562   0.126984126984127   0.055555555555555\n",
       "\n",
       "6  0  0  0.110625202461937 ⎤\n",
       "                           ⎥\n",
       "   0  0   0.15597667638484 ⎥\n",
       "                           ⎥\n",
       "3  0  0  0.0675413022351798⎥\n",
       "                           ⎥\n",
       "6  0  0  0.110625202461937 ⎥\n",
       "                           ⎥\n",
       "   0  1  0.230806608357629 ⎥\n",
       "                           ⎥\n",
       "   1  0  0.244412050534499 ⎥\n",
       "                           ⎥\n",
       "6  0  0  0.080012957563978 ⎦"
      ]
     },
     "execution_count": 19,
     "metadata": {},
     "output_type": "execute_result"
    }
   ],
   "source": [
    "P**3"
   ]
  },
  {
   "cell_type": "markdown",
   "metadata": {},
   "source": [
    "Problem 2: While we fixed dangling node, we didn't actually fix loops. So we can get stuck anyway.\n",
    "\n",
    "Fix: We will give a small chance at any point to jump to any other node by introducing matrix $K$. The probability that we will jump randomly using $K$ is normally about $0.15$"
   ]
  },
  {
   "cell_type": "code",
   "execution_count": 22,
   "metadata": {},
   "outputs": [
    {
     "data": {
      "text/latex": [
       "$\\displaystyle \\left[\\begin{matrix}0.142857142857143 & 0.142857142857143 & 0.142857142857143 & 0.142857142857143 & 0.142857142857143 & 0.142857142857143 & 0.142857142857143\\\\0.142857142857143 & 0.142857142857143 & 0.142857142857143 & 0.142857142857143 & 0.142857142857143 & 0.142857142857143 & 0.142857142857143\\\\0.142857142857143 & 0.142857142857143 & 0.142857142857143 & 0.142857142857143 & 0.142857142857143 & 0.142857142857143 & 0.142857142857143\\\\0.142857142857143 & 0.142857142857143 & 0.142857142857143 & 0.142857142857143 & 0.142857142857143 & 0.142857142857143 & 0.142857142857143\\\\0.142857142857143 & 0.142857142857143 & 0.142857142857143 & 0.142857142857143 & 0.142857142857143 & 0.142857142857143 & 0.142857142857143\\\\0.142857142857143 & 0.142857142857143 & 0.142857142857143 & 0.142857142857143 & 0.142857142857143 & 0.142857142857143 & 0.142857142857143\\\\0.142857142857143 & 0.142857142857143 & 0.142857142857143 & 0.142857142857143 & 0.142857142857143 & 0.142857142857143 & 0.142857142857143\\end{matrix}\\right]$"
      ],
      "text/plain": [
       "⎡0.142857142857143  0.142857142857143  0.142857142857143  0.142857142857143  0\n",
       "⎢                                                                             \n",
       "⎢0.142857142857143  0.142857142857143  0.142857142857143  0.142857142857143  0\n",
       "⎢                                                                             \n",
       "⎢0.142857142857143  0.142857142857143  0.142857142857143  0.142857142857143  0\n",
       "⎢                                                                             \n",
       "⎢0.142857142857143  0.142857142857143  0.142857142857143  0.142857142857143  0\n",
       "⎢                                                                             \n",
       "⎢0.142857142857143  0.142857142857143  0.142857142857143  0.142857142857143  0\n",
       "⎢                                                                             \n",
       "⎢0.142857142857143  0.142857142857143  0.142857142857143  0.142857142857143  0\n",
       "⎢                                                                             \n",
       "⎣0.142857142857143  0.142857142857143  0.142857142857143  0.142857142857143  0\n",
       "\n",
       ".142857142857143  0.142857142857143  0.142857142857143⎤\n",
       "                                                      ⎥\n",
       ".142857142857143  0.142857142857143  0.142857142857143⎥\n",
       "                                                      ⎥\n",
       ".142857142857143  0.142857142857143  0.142857142857143⎥\n",
       "                                                      ⎥\n",
       ".142857142857143  0.142857142857143  0.142857142857143⎥\n",
       "                                                      ⎥\n",
       ".142857142857143  0.142857142857143  0.142857142857143⎥\n",
       "                                                      ⎥\n",
       ".142857142857143  0.142857142857143  0.142857142857143⎥\n",
       "                                                      ⎥\n",
       ".142857142857143  0.142857142857143  0.142857142857143⎦"
      ]
     },
     "execution_count": 22,
     "metadata": {},
     "output_type": "execute_result"
    }
   ],
   "source": [
    "K=1/7*sp.ones(7,7)\n",
    "K"
   ]
  },
  {
   "cell_type": "code",
   "execution_count": 24,
   "metadata": {},
   "outputs": [
    {
     "data": {
      "text/latex": [
       "$\\displaystyle \\left[\\begin{matrix}0.0214285714285714 & 0.304761904761905 & 0.304761904761905 & 0.0214285714285714 & 0.0214285714285714 & 0.0214285714285714 & 0.142857142857143\\\\0.871428571428571 & 0.0214285714285714 & 0.304761904761905 & 0.0214285714285714 & 0.0214285714285714 & 0.0214285714285714 & 0.142857142857143\\\\0.0214285714285714 & 0.0214285714285714 & 0.0214285714285714 & 0.446428571428571 & 0.0214285714285714 & 0.0214285714285714 & 0.142857142857143\\\\0.0214285714285714 & 0.304761904761905 & 0.304761904761905 & 0.0214285714285714 & 0.0214285714285714 & 0.0214285714285714 & 0.142857142857143\\\\0.0214285714285714 & 0.0214285714285714 & 0.0214285714285714 & 0.446428571428571 & 0.0214285714285714 & 0.871428571428571 & 0.142857142857143\\\\0.0214285714285714 & 0.0214285714285714 & 0.0214285714285714 & 0.0214285714285714 & 0.871428571428571 & 0.0214285714285714 & 0.142857142857143\\\\0.0214285714285714 & 0.304761904761905 & 0.0214285714285714 & 0.0214285714285714 & 0.0214285714285714 & 0.0214285714285714 & 0.142857142857143\\end{matrix}\\right]$"
      ],
      "text/plain": [
       "⎡0.0214285714285714  0.304761904761905   0.304761904761905   0.021428571428571\n",
       "⎢                                                                             \n",
       "⎢0.871428571428571   0.0214285714285714  0.304761904761905   0.021428571428571\n",
       "⎢                                                                             \n",
       "⎢0.0214285714285714  0.0214285714285714  0.0214285714285714  0.446428571428571\n",
       "⎢                                                                             \n",
       "⎢0.0214285714285714  0.304761904761905   0.304761904761905   0.021428571428571\n",
       "⎢                                                                             \n",
       "⎢0.0214285714285714  0.0214285714285714  0.0214285714285714  0.446428571428571\n",
       "⎢                                                                             \n",
       "⎢0.0214285714285714  0.0214285714285714  0.0214285714285714  0.021428571428571\n",
       "⎢                                                                             \n",
       "⎣0.0214285714285714  0.304761904761905   0.0214285714285714  0.021428571428571\n",
       "\n",
       "4  0.0214285714285714  0.0214285714285714  0.142857142857143⎤\n",
       "                                                            ⎥\n",
       "4  0.0214285714285714  0.0214285714285714  0.142857142857143⎥\n",
       "                                                            ⎥\n",
       "   0.0214285714285714  0.0214285714285714  0.142857142857143⎥\n",
       "                                                            ⎥\n",
       "4  0.0214285714285714  0.0214285714285714  0.142857142857143⎥\n",
       "                                                            ⎥\n",
       "   0.0214285714285714  0.871428571428571   0.142857142857143⎥\n",
       "                                                            ⎥\n",
       "4  0.871428571428571   0.0214285714285714  0.142857142857143⎥\n",
       "                                                            ⎥\n",
       "4  0.0214285714285714  0.0214285714285714  0.142857142857143⎦"
      ]
     },
     "execution_count": 24,
     "metadata": {},
     "output_type": "execute_result"
    }
   ],
   "source": [
    "G=0.85*P+0.15*K\n",
    "G"
   ]
  },
  {
   "cell_type": "markdown",
   "metadata": {},
   "source": [
    "This $G$ is a Google PageRank Matrix"
   ]
  },
  {
   "cell_type": "code",
   "execution_count": 25,
   "metadata": {},
   "outputs": [
    {
     "data": {
      "text/latex": [
       "$\\displaystyle \\left[\\begin{matrix}0.0785079733350109 & 0.0785079733350102 & 0.0785079733350106 & 0.0785079733350087 & 0.078507973335006 & 0.078507973335006 & 0.0785079733350093\\\\0.11317383169073 & 0.113173831690729 & 0.11317383169073 & 0.113173831690727 & 0.113173831690723 & 0.113173831690723 & 0.113173831690728\\\\0.0621880075506623 & 0.0621880075506618 & 0.0621880075506621 & 0.0621880075506607 & 0.0621880075506589 & 0.0621880075506589 & 0.0621880075506612\\\\0.0785079733350109 & 0.0785079733350102 & 0.0785079733350106 & 0.0785079733350087 & 0.078507973335006 & 0.078507973335006 & 0.0785079733350093\\\\0.312384884010338 & 0.312384908066442 & 0.312384904786063 & 0.312384869795373 & 0.312384939776769 & 0.312384852300033 & 0.312384898225311\\\\0.294349292215924 & 0.294349268159823 & 0.2943492714402 & 0.294349306430899 & 0.294349236449517 & 0.294349323926254 & 0.294349278000958\\\\0.060888037862323 & 0.0608880378623225 & 0.0608880378623228 & 0.0608880378623214 & 0.0608880378623194 & 0.0608880378623194 & 0.0608880378623218\\end{matrix}\\right]$"
      ],
      "text/plain": [
       "⎡0.0785079733350109  0.0785079733350102  0.0785079733350106  0.078507973335008\n",
       "⎢                                                                             \n",
       "⎢ 0.11317383169073   0.113173831690729    0.11317383169073   0.113173831690727\n",
       "⎢                                                                             \n",
       "⎢0.0621880075506623  0.0621880075506618  0.0621880075506621  0.062188007550660\n",
       "⎢                                                                             \n",
       "⎢0.0785079733350109  0.0785079733350102  0.0785079733350106  0.078507973335008\n",
       "⎢                                                                             \n",
       "⎢0.312384884010338   0.312384908066442   0.312384904786063   0.312384869795373\n",
       "⎢                                                                             \n",
       "⎢0.294349292215924   0.294349268159823    0.2943492714402    0.294349306430899\n",
       "⎢                                                                             \n",
       "⎣0.060888037862323   0.0608880378623225  0.0608880378623228  0.060888037862321\n",
       "\n",
       "7  0.078507973335006   0.078507973335006   0.0785079733350093⎤\n",
       "                                                             ⎥\n",
       "   0.113173831690723   0.113173831690723   0.113173831690728 ⎥\n",
       "                                                             ⎥\n",
       "7  0.0621880075506589  0.0621880075506589  0.0621880075506612⎥\n",
       "                                                             ⎥\n",
       "7  0.078507973335006   0.078507973335006   0.0785079733350093⎥\n",
       "                                                             ⎥\n",
       "   0.312384939776769   0.312384852300033   0.312384898225311 ⎥\n",
       "                                                             ⎥\n",
       "   0.294349236449517   0.294349323926254   0.294349278000958 ⎥\n",
       "                                                             ⎥\n",
       "4  0.0608880378623194  0.0608880378623194  0.0608880378623218⎦"
      ]
     },
     "execution_count": 25,
     "metadata": {},
     "output_type": "execute_result"
    }
   ],
   "source": [
    "G**100\n"
   ]
  },
  {
   "cell_type": "code",
   "execution_count": 27,
   "metadata": {},
   "outputs": [
    {
     "data": {
      "text/latex": [
       "$\\displaystyle \\left[\\begin{matrix}0.0785079733350109\\\\0.11317383169073\\\\0.0621880075506623\\\\0.0785079733350109\\\\0.312384884010338\\\\0.294349292215924\\\\0.060888037862323\\end{matrix}\\right]$"
      ],
      "text/plain": [
       "⎡0.0785079733350109⎤\n",
       "⎢                  ⎥\n",
       "⎢ 0.11317383169073 ⎥\n",
       "⎢                  ⎥\n",
       "⎢0.0621880075506623⎥\n",
       "⎢                  ⎥\n",
       "⎢0.0785079733350109⎥\n",
       "⎢                  ⎥\n",
       "⎢0.312384884010338 ⎥\n",
       "⎢                  ⎥\n",
       "⎢0.294349292215924 ⎥\n",
       "⎢                  ⎥\n",
       "⎣0.060888037862323 ⎦"
      ]
     },
     "execution_count": 27,
     "metadata": {},
     "output_type": "execute_result"
    }
   ],
   "source": [
    "G100=G**100\n",
    "G100.col(0)"
   ]
  },
  {
   "attachments": {
    "image.png": {
     "image/png": "[encoded data removed]"
    }
   },
   "cell_type": "markdown",
   "metadata": {},
   "source": [
    "## 8 node example:\n",
    "\n",
    "\n",
    "![image.png](attachment:image.png)"
   ]
  },
  {
   "cell_type": "code",
   "execution_count": 8,
   "metadata": {},
   "outputs": [
    {
     "data": {
      "text/latex": [
       "$\\displaystyle \\left[\\begin{matrix}0.263801602907496\\\\0.130865681235686\\\\0.130865681235686\\\\0.255579583111663\\\\0.0465589572625833\\\\0.115040937410289\\\\0.0385375568365979\\\\0.01875\\end{matrix}\\right]$"
      ],
      "text/plain": [
       "⎡0.263801602907496 ⎤\n",
       "⎢                  ⎥\n",
       "⎢0.130865681235686 ⎥\n",
       "⎢                  ⎥\n",
       "⎢0.130865681235686 ⎥\n",
       "⎢                  ⎥\n",
       "⎢0.255579583111663 ⎥\n",
       "⎢                  ⎥\n",
       "⎢0.0465589572625833⎥\n",
       "⎢                  ⎥\n",
       "⎢0.115040937410289 ⎥\n",
       "⎢                  ⎥\n",
       "⎢0.0385375568365979⎥\n",
       "⎢                  ⎥\n",
       "⎣     0.01875      ⎦"
      ]
     },
     "execution_count": 8,
     "metadata": {},
     "output_type": "execute_result"
    }
   ],
   "source": [
    "At=np.array([\n",
    "    [0,1/2,1/2,0,0,0,0,0],\n",
    "    [0,0,0,1,0,0,0,0],\n",
    "    [1/4,0,0,1/4,1/4,1/4,0,0],\n",
    "    [1,0,0,0,0,0,0,0],\n",
    "    [0,0,0,0,0,1/2,1/2,0],\n",
    "    [0,0,0,1,0,0,0,0],\n",
    "    [0,0,0,0,0,1,0,0],\n",
    "    [0,0,0,0,0,1,0,0]\n",
    "])\n",
    "A=At.T\n",
    "K=np.full((8, 8), 1/8)\n",
    "G=0.85*A+0.15*K\n",
    "Gp=sp.Matrix(G)**100\n",
    "Gp.col(0)"
   ]
  },
  {
   "cell_type": "code",
   "execution_count": null,
   "metadata": {},
   "outputs": [],
   "source": [
    "\n"
   ]
  },
  {
   "cell_type": "code",
   "execution_count": null,
   "metadata": {},
   "outputs": [],
   "source": []
  }
 ],
 "metadata": {
  "kernelspec": {
   "display_name": "Python 3 (ipykernel)",
   "language": "python",
   "name": "python3"
  },
  "language_info": {
   "codemirror_mode": {
    "name": "ipython",
    "version": 3
   },
   "file_extension": ".py",
   "mimetype": "text/x-python",
   "name": "python",
   "nbconvert_exporter": "python",
   "pygments_lexer": "ipython3",
   "version": "3.11.8"
  }
 },
 "nbformat": 4,
 "nbformat_minor": 4
}
