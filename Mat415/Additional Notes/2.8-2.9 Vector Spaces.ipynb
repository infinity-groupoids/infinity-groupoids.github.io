{
 "cells": [
  {
   "cell_type": "code",
   "execution_count": 1,
   "id": "5fed0f85",
   "metadata": {},
   "outputs": [],
   "source": [
    "import matplotlib.pyplot as plt\n",
    "import numpy as np\n",
    "import sympy as sp\n",
    "from scipy import linalg as la\n",
    "sp.init_printing() \n",
    "import warnings\n",
    "warnings.filterwarnings(\"ignore\")\n"
   ]
  },
  {
   "cell_type": "markdown",
   "id": "c34c494a",
   "metadata": {},
   "source": [
    "## Goals and Commands\n",
    "\n",
    "#### Goals\n",
    "1. Vector subspaces for a given matrix\n",
    "2. Basis and coordinate vectors\n",
    "\n",
    "#### Commands\n",
    "1. columnspace(), rowspace(), nullspace()\n",
    "2. la.null_space(A)\n",
    "\n",
    "\n",
    "The easiest way to get Null, Column and Row spaces of a matrix in Jupyter, is to use SymPy library. It already has all needed commands:"
   ]
  },
  {
   "cell_type": "code",
   "execution_count": 2,
   "id": "180a817d",
   "metadata": {},
   "outputs": [
    {
     "data": {
      "text/latex": [
       "$\\displaystyle \\left[\\begin{matrix}1 & 1 & 2\\\\2 & 5 & 0\\\\4 & 7 & 4\\end{matrix}\\right]$"
      ],
      "text/plain": [
       "⎡1  1  2⎤\n",
       "⎢       ⎥\n",
       "⎢2  5  0⎥\n",
       "⎢       ⎥\n",
       "⎣4  7  4⎦"
      ]
     },
     "execution_count": 2,
     "metadata": {},
     "output_type": "execute_result"
    }
   ],
   "source": [
    "A=sp.Matrix([[1,1,2],[2,5,0],[4,7,4]])\n",
    "A"
   ]
  },
  {
   "cell_type": "code",
   "execution_count": 3,
   "id": "95f6659c",
   "metadata": {},
   "outputs": [
    {
     "data": {
      "text/latex": [
       "$\\displaystyle \\left( \\left[\\begin{matrix}1 & 0 & \\frac{10}{3}\\\\0 & 1 & - \\frac{4}{3}\\\\0 & 0 & 0\\end{matrix}\\right], \\  \\left( 0, \\  1\\right)\\right)$"
      ],
      "text/plain": [
       "⎛⎡1  0  10/3⎤        ⎞\n",
       "⎜⎢          ⎥        ⎟\n",
       "⎜⎢0  1  -4/3⎥, (0, 1)⎟\n",
       "⎜⎢          ⎥        ⎟\n",
       "⎝⎣0  0   0  ⎦        ⎠"
      ]
     },
     "execution_count": 3,
     "metadata": {},
     "output_type": "execute_result"
    }
   ],
   "source": [
    "A.rref()    ## Let's check the pivot positions"
   ]
  },
  {
   "cell_type": "code",
   "execution_count": 4,
   "id": "25886bef",
   "metadata": {},
   "outputs": [
    {
     "data": {
      "text/latex": [
       "$\\displaystyle \\left[ \\left[\\begin{matrix}1\\\\2\\\\4\\end{matrix}\\right], \\  \\left[\\begin{matrix}1\\\\5\\\\7\\end{matrix}\\right]\\right]$"
      ],
      "text/plain": [
       "⎡⎡1⎤  ⎡1⎤⎤\n",
       "⎢⎢ ⎥  ⎢ ⎥⎥\n",
       "⎢⎢2⎥, ⎢5⎥⎥\n",
       "⎢⎢ ⎥  ⎢ ⎥⎥\n",
       "⎣⎣4⎦  ⎣7⎦⎦"
      ]
     },
     "execution_count": 4,
     "metadata": {},
     "output_type": "execute_result"
    }
   ],
   "source": [
    "A.columnspace()"
   ]
  },
  {
   "cell_type": "code",
   "execution_count": 5,
   "id": "83b577f2",
   "metadata": {},
   "outputs": [
    {
     "data": {
      "text/latex": [
       "$\\displaystyle \\left[ \\left[\\begin{matrix}1 & 1 & 2\\end{matrix}\\right], \\  \\left[\\begin{matrix}0 & 3 & -4\\end{matrix}\\right]\\right]$"
      ],
      "text/plain": [
       "[[1  1  2], [0  3  -4]]"
      ]
     },
     "execution_count": 5,
     "metadata": {},
     "output_type": "execute_result"
    }
   ],
   "source": [
    "A.rowspace()"
   ]
  },
  {
   "cell_type": "code",
   "execution_count": 6,
   "id": "762c8542",
   "metadata": {},
   "outputs": [
    {
     "data": {
      "text/latex": [
       "$\\displaystyle \\left[ \\left[\\begin{matrix}- \\frac{10}{3}\\\\\\frac{4}{3}\\\\1\\end{matrix}\\right]\\right]$"
      ],
      "text/plain": [
       "⎡⎡-10/3⎤⎤\n",
       "⎢⎢     ⎥⎥\n",
       "⎢⎢ 4/3 ⎥⎥\n",
       "⎢⎢     ⎥⎥\n",
       "⎣⎣  1  ⎦⎦"
      ]
     },
     "execution_count": 6,
     "metadata": {},
     "output_type": "execute_result"
    }
   ],
   "source": [
    "A.nullspace()"
   ]
  },
  {
   "cell_type": "markdown",
   "id": "66b479e0",
   "metadata": {},
   "source": [
    "As you can see, you get a list of vectors that form a basis of a given vector subspace.\n",
    "\n",
    "It is a possible to use SciPy.linalg library as well. Null space is easy:\n"
   ]
  },
  {
   "cell_type": "code",
   "execution_count": 7,
   "id": "fa86fd55",
   "metadata": {},
   "outputs": [
    {
     "data": {
      "text/plain": [
       "array([[-0.89442719],\n",
       "       [ 0.35777088],\n",
       "       [ 0.26832816]])"
      ]
     },
     "execution_count": 7,
     "metadata": {},
     "output_type": "execute_result"
    }
   ],
   "source": [
    "A=np.array([[1,1,2],[2,5,0],[4,7,4]])\n",
    "la.null_space(A)"
   ]
  },
  {
   "cell_type": "markdown",
   "id": "8fc8e3c1",
   "metadata": {},
   "source": [
    "#### Note: la.null_space is a very good way to solve homogeneous equation that has non-trivial solutions.\n",
    "\n",
    "#### Example\n",
    "\n",
    "Let $A=\\begin{bmatrix} 1 & 1 &-2 & 3 \\\\ 2 & 2 &-4 & 6\\\\-2 & -2 & 4 & -6 \\end{bmatrix}$. Solve $A{\\bf x}={\\bf 0}$.\n",
    "\n",
    "#### Solution"
   ]
  },
  {
   "cell_type": "code",
   "execution_count": 8,
   "id": "bdf6e763",
   "metadata": {},
   "outputs": [
    {
     "data": {
      "text/plain": [
       "array([[ 9.50380788e-01, -1.73521441e-01,  3.28938236e-16],\n",
       "       [-3.48120940e-03,  3.65131777e-01, -8.94427191e-01],\n",
       "       [ 6.96241879e-03, -7.30263554e-01, -4.47213595e-01],\n",
       "       [-3.10991580e-01, -5.50712481e-01,  4.17348070e-16]])"
      ]
     },
     "execution_count": 8,
     "metadata": {},
     "output_type": "execute_result"
    }
   ],
   "source": [
    "A=np.array([[1,1,-2,3],[2,2,-4,6],[-2,-2,4,-6]])\n",
    "la.null_space(A)"
   ]
  },
  {
   "cell_type": "markdown",
   "id": "5635dea6",
   "metadata": {},
   "source": [
    "#### End of Example\n",
    "\n",
    "There isn't a direct way to find Column and Row spaces using SciPy, so instead we have to use something called QR-factorization which we will discuss later. \n",
    "\n",
    "All questions on finding dimension of the vector subspace or determining whether a set of vectors forms basis for a vector subspace or finding coordinate vector of some vector given a basis. etc are easily solved using techniques we already have. Here is a small example dealing with some of these questions:\n",
    "\n",
    "#### Example\n",
    "\n",
    "Let $\\bf{a_1}=\\begin{bmatrix} 1 \\\\ 2 \\\\ 1 \\end{bmatrix}$, $\\bf{a_2}=\\begin{bmatrix} -1 \\\\ 3 \\\\ 2 \\end{bmatrix}$ and $\\bf{a_3}=\\begin{bmatrix} 4 \\\\ 5 \\\\ 5 \\end{bmatrix}$. Let $\\bf{b}=\\begin{bmatrix} 1 \\\\ -5 \\\\ 2 \\end{bmatrix}$.\n",
    "\n",
    "1. Check that a set $\\mathcal{A}=\\{\\bf{a_1},\\bf{a_2},\\bf{a_3}\\}$ form a basis for $\\mathbb{R}^3$.\n",
    "2. Find $\\mathcal{A}$-coordinate vector of $\\bf{b}$\n",
    "\n",
    "#### Solution\n",
    "1. \n",
    "While this is not necessary, I will write each vector as a row of the matrix and then take transpose. This is useful trick if you have hard time writing array with given column vectors"
   ]
  },
  {
   "cell_type": "code",
   "execution_count": 9,
   "id": "147c30c3",
   "metadata": {},
   "outputs": [
    {
     "data": {
      "text/latex": [
       "$\\displaystyle \\left( \\left[\\begin{matrix}1 & 0 & 0\\\\0 & 1 & 0\\\\0 & 0 & 1\\end{matrix}\\right], \\  \\left( 0, \\  1, \\  2\\right)\\right)$"
      ],
      "text/plain": [
       "⎛⎡1  0  0⎤           ⎞\n",
       "⎜⎢       ⎥           ⎟\n",
       "⎜⎢0  1  0⎥, (0, 1, 2)⎟\n",
       "⎜⎢       ⎥           ⎟\n",
       "⎝⎣0  0  1⎦           ⎠"
      ]
     },
     "execution_count": 9,
     "metadata": {},
     "output_type": "execute_result"
    }
   ],
   "source": [
    "At=sp.Matrix([[1,2,1],[-1,3,2],[4,5,5]])\n",
    "A=At.T\n",
    "A.rref()"
   ]
  },
  {
   "cell_type": "markdown",
   "id": "3d1c96c7",
   "metadata": {},
   "source": [
    "We have 3 linearly independent vectors in $\\mathbb{R}^3$, and so we have a basis for $\\mathbb{R}^3$.\n",
    "\n",
    "2.\n",
    "Now for a coordinate vector, we just need to solve a matrix equation:"
   ]
  },
  {
   "cell_type": "code",
   "execution_count": 10,
   "id": "ee995790",
   "metadata": {},
   "outputs": [
    {
     "data": {
      "text/latex": [
       "$\\displaystyle \\left[\\begin{matrix}- \\frac{47}{7}\\\\- \\frac{2}{7}\\\\\\frac{13}{7}\\end{matrix}\\right]$"
      ],
      "text/plain": [
       "⎡-47/7⎤\n",
       "⎢     ⎥\n",
       "⎢-2/7 ⎥\n",
       "⎢     ⎥\n",
       "⎣13/7 ⎦"
      ]
     },
     "execution_count": 10,
     "metadata": {},
     "output_type": "execute_result"
    }
   ],
   "source": [
    "b=sp.Matrix([1,-5,2])\n",
    "A.solve(b)"
   ]
  },
  {
   "cell_type": "markdown",
   "id": "5a394554",
   "metadata": {},
   "source": [
    "#### End of Example"
   ]
  },
  {
   "cell_type": "code",
   "execution_count": null,
   "id": "bc973444",
   "metadata": {},
   "outputs": [],
   "source": []
  }
 ],
 "metadata": {
  "kernelspec": {
   "display_name": "Python 3 (ipykernel)",
   "language": "python",
   "name": "python3"
  },
  "language_info": {
   "codemirror_mode": {
    "name": "ipython",
    "version": 3
   },
   "file_extension": ".py",
   "mimetype": "text/x-python",
   "name": "python",
   "nbconvert_exporter": "python",
   "pygments_lexer": "ipython3",
   "version": "3.11.5"
  }
 },
 "nbformat": 4,
 "nbformat_minor": 5
}
