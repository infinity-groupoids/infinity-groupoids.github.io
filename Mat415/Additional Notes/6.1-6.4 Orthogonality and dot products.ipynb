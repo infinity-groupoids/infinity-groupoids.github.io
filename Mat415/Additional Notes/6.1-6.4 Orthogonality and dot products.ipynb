{
  "cells": [
    {
      "cell_type": "code",
      "execution_count": 1,
      "id": "fabcb4e3",
      "metadata": {
        "id": "fabcb4e3"
      },
      "outputs": [],
      "source": [
        "import matplotlib.pyplot as plt\n",
        "import numpy as np\n",
        "import sympy as sp\n",
        "from scipy import linalg as la\n",
        "sp.init_printing()\n",
        "import warnings\n",
        "warnings.filterwarnings(\"ignore\")"
      ]
    },
    {
      "cell_type": "markdown",
      "id": "8ee19d19",
      "metadata": {
        "id": "8ee19d19"
      },
      "source": [
        "## Goals and Commands\n",
        "\n",
        "#### Goals\n",
        "1. Dot Producs\n",
        "2. Norm\n",
        "3. Gram-Schmidt Process\n",
        "4. QR-factorization\n",
        "\n",
        "#### Commands\n",
        "1. norm()\n",
        "2. GramSchmidt()\n",
        "3. linalg.qr()\n",
        "\n",
        "\n",
        "#### Dot Product\n",
        "There are few ways to do dot product in Jupyter:"
      ]
    },
    {
      "cell_type": "code",
      "execution_count": 3,
      "id": "37704a8a",
      "metadata": {
        "id": "37704a8a"
      },
      "outputs": [],
      "source": [
        "v=np.array([1,2,3])\n",
        "u=np.array([-1,2,5])"
      ]
    },
    {
      "cell_type": "code",
      "execution_count": 4,
      "id": "32df0cb5",
      "metadata": {
        "colab": {
          "base_uri": "https://localhost:8080/"
        },
        "id": "32df0cb5",
        "outputId": "f3321ca2-fa83-46a7-9528-53843925797c"
      },
      "outputs": [
        {
          "output_type": "execute_result",
          "data": {
            "text/plain": [
              "np.int64(18)"
            ]
          },
          "metadata": {},
          "execution_count": 4
        }
      ],
      "source": [
        "# matrix multiplication\n",
        "u@v"
      ]
    },
    {
      "cell_type": "code",
      "execution_count": 5,
      "id": "273362d6",
      "metadata": {
        "colab": {
          "base_uri": "https://localhost:8080/"
        },
        "id": "273362d6",
        "outputId": "32463b14-62b2-4823-a9a2-719a6c05441d"
      },
      "outputs": [
        {
          "output_type": "execute_result",
          "data": {
            "text/plain": [
              "np.int64(18)"
            ]
          },
          "metadata": {},
          "execution_count": 5
        }
      ],
      "source": [
        "# using inner product command (inner product is more general name for dot product)\n",
        "np.inner(u,v)"
      ]
    },
    {
      "cell_type": "code",
      "execution_count": 6,
      "id": "445375fa",
      "metadata": {
        "colab": {
          "base_uri": "https://localhost:8080/",
          "height": 39
        },
        "id": "445375fa",
        "outputId": "65a9aefd-4cbd-403f-b932-2af6c3d54c40"
      },
      "outputs": [
        {
          "output_type": "execute_result",
          "data": {
            "text/plain": [
              "[18]"
            ],
            "text/latex": "$\\displaystyle \\left[\\begin{matrix}18\\end{matrix}\\right]$"
          },
          "metadata": {},
          "execution_count": 6
        }
      ],
      "source": [
        "# Product with SymPy\n",
        "a=sp.Matrix(u)\n",
        "b=sp.Matrix(v)\n",
        "a.T*b"
      ]
    },
    {
      "cell_type": "markdown",
      "id": "3d4ad04f",
      "metadata": {
        "id": "3d4ad04f"
      },
      "source": [
        "To find norm is easy too:"
      ]
    },
    {
      "cell_type": "code",
      "execution_count": 7,
      "id": "211a406a",
      "metadata": {
        "colab": {
          "base_uri": "https://localhost:8080/",
          "height": 37
        },
        "id": "211a406a",
        "outputId": "03b57825-81ed-4778-bf8d-a4b3b268eb17"
      },
      "outputs": [
        {
          "output_type": "execute_result",
          "data": {
            "text/plain": [
              "np.float64(5.477225575051661)"
            ],
            "text/latex": "$\\displaystyle 5.47722557505166$"
          },
          "metadata": {},
          "execution_count": 7
        }
      ],
      "source": [
        "np.linalg.norm(u)"
      ]
    },
    {
      "cell_type": "code",
      "execution_count": 8,
      "id": "f5f9baef",
      "metadata": {
        "colab": {
          "base_uri": "https://localhost:8080/",
          "height": 37
        },
        "id": "f5f9baef",
        "outputId": "6857fca5-ec71-4c8f-96a9-7c2288f7c70a"
      },
      "outputs": [
        {
          "output_type": "execute_result",
          "data": {
            "text/plain": [
              "np.float64(5.477225575051661)"
            ],
            "text/latex": "$\\displaystyle 5.47722557505166$"
          },
          "metadata": {},
          "execution_count": 8
        }
      ],
      "source": [
        "la.norm(u)"
      ]
    },
    {
      "cell_type": "code",
      "execution_count": 11,
      "id": "671f51af",
      "metadata": {
        "colab": {
          "base_uri": "https://localhost:8080/",
          "height": 38
        },
        "id": "671f51af",
        "outputId": "d97f5539-1c67-49be-a09c-7b82952c9385"
      },
      "outputs": [
        {
          "output_type": "execute_result",
          "data": {
            "text/plain": [
              "√30"
            ],
            "text/latex": "$\\displaystyle \\sqrt{30}$"
          },
          "metadata": {},
          "execution_count": 11
        }
      ],
      "source": [
        "a.norm()"
      ]
    },
    {
      "cell_type": "markdown",
      "id": "e3c2044e",
      "metadata": {
        "id": "e3c2044e"
      },
      "source": [
        "### Example\n",
        "\n",
        "Let $A=\\begin{bmatrix} 1 & 1 & 2 \\\\ 2 & 5 & 0 \\\\ 4 & 7 & 4 \\end{bmatrix}$. Show that Row(A) is orthogonal to Nul(A)\n",
        "\n",
        "#### Solution"
      ]
    },
    {
      "cell_type": "code",
      "execution_count": 12,
      "id": "74a7a8e8",
      "metadata": {
        "colab": {
          "base_uri": "https://localhost:8080/",
          "height": 78
        },
        "id": "74a7a8e8",
        "outputId": "5db8d805-c3fe-4327-956f-224370de89a6"
      },
      "outputs": [
        {
          "output_type": "execute_result",
          "data": {
            "text/plain": [
              "⎛                         ⎡⎡-10/3⎤⎤⎞\n",
              "⎜                         ⎢⎢     ⎥⎥⎟\n",
              "⎜[[1  1  2], [0  3  -4]], ⎢⎢ 4/3 ⎥⎥⎟\n",
              "⎜                         ⎢⎢     ⎥⎥⎟\n",
              "⎝                         ⎣⎣  1  ⎦⎦⎠"
            ],
            "text/latex": "$\\displaystyle \\left( \\left[ \\left[\\begin{matrix}1 & 1 & 2\\end{matrix}\\right], \\  \\left[\\begin{matrix}0 & 3 & -4\\end{matrix}\\right]\\right], \\  \\left[ \\left[\\begin{matrix}- \\frac{10}{3}\\\\\\frac{4}{3}\\\\1\\end{matrix}\\right]\\right]\\right)$"
          },
          "metadata": {},
          "execution_count": 12
        }
      ],
      "source": [
        "A=sp.Matrix([[1,1,2],[2,5,0],[4,7,4]])\n",
        "row=A.rowspace()\n",
        "nul=A.nullspace()\n",
        "row,nul"
      ]
    },
    {
      "cell_type": "markdown",
      "id": "2e9f7c28",
      "metadata": {
        "id": "2e9f7c28"
      },
      "source": [
        "Note both row and nul are lists containing vectors, so we will have to use indecies. To check orthogonality we just need to find all pairwise dot products. Since, row contains row vectors, we don't need to use transpose:"
      ]
    },
    {
      "cell_type": "code",
      "execution_count": 13,
      "id": "8cb37b9d",
      "metadata": {
        "colab": {
          "base_uri": "https://localhost:8080/",
          "height": 39
        },
        "id": "8cb37b9d",
        "outputId": "1c519273-7b54-4589-faa3-58818827e59e"
      },
      "outputs": [
        {
          "output_type": "execute_result",
          "data": {
            "text/plain": [
              "[0]"
            ],
            "text/latex": "$\\displaystyle \\left[\\begin{matrix}0\\end{matrix}\\right]$"
          },
          "metadata": {},
          "execution_count": 13
        }
      ],
      "source": [
        "row[0]*nul[0]"
      ]
    },
    {
      "cell_type": "code",
      "execution_count": 14,
      "id": "013254a1",
      "metadata": {
        "colab": {
          "base_uri": "https://localhost:8080/",
          "height": 39
        },
        "id": "013254a1",
        "outputId": "f5460b04-6f2a-478e-8715-9e6a0ac9e9cb"
      },
      "outputs": [
        {
          "output_type": "execute_result",
          "data": {
            "text/plain": [
              "[0]"
            ],
            "text/latex": "$\\displaystyle \\left[\\begin{matrix}0\\end{matrix}\\right]$"
          },
          "metadata": {},
          "execution_count": 14
        }
      ],
      "source": [
        "row[1]*nul[0]"
      ]
    },
    {
      "cell_type": "markdown",
      "id": "86326801",
      "metadata": {
        "id": "86326801"
      },
      "source": [
        "Both dot products are zero. Hence, both spaces are orthogonal to each other.\n",
        "#### End of solution\n",
        "\n",
        "Next, lets explore null space commands in more details:"
      ]
    },
    {
      "cell_type": "code",
      "execution_count": 15,
      "id": "41b227f1",
      "metadata": {
        "colab": {
          "base_uri": "https://localhost:8080/"
        },
        "id": "41b227f1",
        "outputId": "312ced14-0c7b-4382-bcbf-b3beb6bd4d25"
      },
      "outputs": [
        {
          "output_type": "execute_result",
          "data": {
            "text/plain": [
              "array([[ 0.91287093,  0.        ],\n",
              "       [-0.18257419, -0.89442719],\n",
              "       [-0.36514837,  0.4472136 ]])"
            ]
          },
          "metadata": {},
          "execution_count": 15
        }
      ],
      "source": [
        "A=np.array([[1,1,2],[5,5,10],[4,4,8]])\n",
        "N=la.null_space(A)\n",
        "N"
      ]
    },
    {
      "cell_type": "code",
      "execution_count": 16,
      "id": "c220ea2e",
      "metadata": {
        "id": "c220ea2e"
      },
      "outputs": [],
      "source": [
        "v1=N[:,0]\n",
        "v2=N[:,1]"
      ]
    },
    {
      "cell_type": "code",
      "execution_count": 17,
      "id": "23855d0f",
      "metadata": {
        "colab": {
          "base_uri": "https://localhost:8080/",
          "height": 37
        },
        "id": "23855d0f",
        "outputId": "eb523a3e-0f6a-41c5-a355-35332a953ff2"
      },
      "outputs": [
        {
          "output_type": "execute_result",
          "data": {
            "text/plain": [
              "np.float64(-1.1102230246251565e-16)"
            ],
            "text/latex": "$\\displaystyle -1.11022302462516 \\cdot 10^{-16}$"
          },
          "metadata": {},
          "execution_count": 17
        }
      ],
      "source": [
        "v1@v2"
      ]
    },
    {
      "cell_type": "code",
      "execution_count": 18,
      "id": "47eaa48e",
      "metadata": {
        "colab": {
          "base_uri": "https://localhost:8080/",
          "height": 37
        },
        "id": "47eaa48e",
        "outputId": "73815277-e935-4c42-bbe5-dc48592facb8"
      },
      "outputs": [
        {
          "output_type": "execute_result",
          "data": {
            "text/plain": [
              "1.0"
            ],
            "text/latex": "$\\displaystyle 1.0$"
          },
          "metadata": {},
          "execution_count": 18
        }
      ],
      "source": [
        "la.norm(v1)"
      ]
    },
    {
      "cell_type": "code",
      "execution_count": 19,
      "id": "1226b2b0",
      "metadata": {
        "colab": {
          "base_uri": "https://localhost:8080/",
          "height": 37
        },
        "id": "1226b2b0",
        "outputId": "87fda5b3-1e13-4cf6-a302-8dfbde6ca3e1"
      },
      "outputs": [
        {
          "output_type": "execute_result",
          "data": {
            "text/plain": [
              "1.0"
            ],
            "text/latex": "$\\displaystyle 1.0$"
          },
          "metadata": {},
          "execution_count": 19
        }
      ],
      "source": [
        "la.norm(v2)"
      ]
    },
    {
      "cell_type": "markdown",
      "id": "b3c74859",
      "metadata": {
        "id": "b3c74859"
      },
      "source": [
        "As you can see, la.null_space produces a matrix whose columns form orthonormal basis for Null space. Note that v1@v2=1.11022302462516 e−16. While this not zero, it is very very close to zero. In fact, it isn't a zero only due to a rounding error.\n",
        "\n",
        "The SymPy version (nullspace() ) doesn't provide orthonormal basis.\n",
        "\n",
        "### Gram-Schmidt Process\n",
        "\n",
        "SymPy includes are direct way to do Gram-Schmidt process:\n",
        "\n",
        "#### Example\n",
        "\n",
        "Orthogonalize column space for $A=\\begin{bmatrix} 1 & 1 & 0 & 3\\\\ 2 & 5 & -1 & 3\\\\ 0 & 1 & 2 & 0\\end{bmatrix}$\n",
        "\n",
        "#### Solution"
      ]
    },
    {
      "cell_type": "code",
      "execution_count": 22,
      "id": "931a5907",
      "metadata": {
        "colab": {
          "base_uri": "https://localhost:8080/",
          "height": 78
        },
        "id": "931a5907",
        "outputId": "624c6301-141f-40e0-dbbe-0ccbb3ade9da"
      },
      "outputs": [
        {
          "output_type": "execute_result",
          "data": {
            "text/plain": [
              "⎡⎡1⎤  ⎡-6/5⎤  ⎡ 1  ⎤⎤\n",
              "⎢⎢ ⎥  ⎢    ⎥  ⎢    ⎥⎥\n",
              "⎢⎢2⎥, ⎢3/5 ⎥, ⎢-1/2⎥⎥\n",
              "⎢⎢ ⎥  ⎢    ⎥  ⎢    ⎥⎥\n",
              "⎣⎣0⎦  ⎣ 1  ⎦  ⎣3/2 ⎦⎦"
            ],
            "text/latex": "$\\displaystyle \\left[ \\left[\\begin{matrix}1\\\\2\\\\0\\end{matrix}\\right], \\  \\left[\\begin{matrix}- \\frac{6}{5}\\\\\\frac{3}{5}\\\\1\\end{matrix}\\right], \\  \\left[\\begin{matrix}1\\\\- \\frac{1}{2}\\\\\\frac{3}{2}\\end{matrix}\\right]\\right]$"
          },
          "metadata": {},
          "execution_count": 22
        }
      ],
      "source": [
        "A=sp.Matrix([[1,1,0,3],[2,5,-1,3],[0,1,2,0]])\n",
        "Col=A.columnspace()\n",
        "sp.GramSchmidt(Col)\n"
      ]
    },
    {
      "cell_type": "code",
      "execution_count": 23,
      "id": "015fa426",
      "metadata": {
        "colab": {
          "base_uri": "https://localhost:8080/",
          "height": 88
        },
        "id": "015fa426",
        "outputId": "e1c8faa6-63db-4235-cc97-0421258a9d7c"
      },
      "outputs": [
        {
          "output_type": "execute_result",
          "data": {
            "text/plain": [
              "⎡        ⎡-3⋅√70 ⎤  ⎡ √14 ⎤⎤\n",
              "⎢⎡ √5 ⎤  ⎢───────⎥  ⎢ ─── ⎥⎥\n",
              "⎢⎢ ── ⎥  ⎢  35   ⎥  ⎢  7  ⎥⎥\n",
              "⎢⎢ 5  ⎥  ⎢       ⎥  ⎢     ⎥⎥\n",
              "⎢⎢    ⎥  ⎢ 3⋅√70 ⎥  ⎢-√14 ⎥⎥\n",
              "⎢⎢2⋅√5⎥, ⎢ ───── ⎥, ⎢─────⎥⎥\n",
              "⎢⎢────⎥  ⎢  70   ⎥  ⎢ 14  ⎥⎥\n",
              "⎢⎢ 5  ⎥  ⎢       ⎥  ⎢     ⎥⎥\n",
              "⎢⎢    ⎥  ⎢  √70  ⎥  ⎢3⋅√14⎥⎥\n",
              "⎢⎣ 0  ⎦  ⎢  ───  ⎥  ⎢─────⎥⎥\n",
              "⎣        ⎣  14   ⎦  ⎣ 14  ⎦⎦"
            ],
            "text/latex": "$\\displaystyle \\left[ \\left[\\begin{matrix}\\frac{\\sqrt{5}}{5}\\\\\\frac{2 \\sqrt{5}}{5}\\\\0\\end{matrix}\\right], \\  \\left[\\begin{matrix}- \\frac{3 \\sqrt{70}}{35}\\\\\\frac{3 \\sqrt{70}}{70}\\\\\\frac{\\sqrt{70}}{14}\\end{matrix}\\right], \\  \\left[\\begin{matrix}\\frac{\\sqrt{14}}{7}\\\\- \\frac{\\sqrt{14}}{14}\\\\\\frac{3 \\sqrt{14}}{14}\\end{matrix}\\right]\\right]$"
          },
          "metadata": {},
          "execution_count": 23
        }
      ],
      "source": [
        "# Gram-Schmidt with normalization\n",
        "sp.GramSchmidt(Col, orthonormal=True)"
      ]
    },
    {
      "cell_type": "markdown",
      "id": "5ef2833f",
      "metadata": {
        "id": "5ef2833f"
      },
      "source": [
        "#### End of Solution\n",
        "\n",
        "### QR-factorization\n",
        "\n",
        "This is an important type of marix factorization for many reasons. One of them is that in A=QR, the columns of Q are orthonormal basis of Col(A). This, in one go, provides a way to find basis for column space and to orthogonalize a set of vectors using NumPy or SciPy. (Note while sympy can do QR factorization as well, usually you have to manually round numbers as it will always try to be precise and use roots. Therefore, usually NumPy is a prefered way).\n",
        "\n",
        "QR factorization will be even more important later when we discuss least-square approximation and PCA.\n",
        "\n",
        "#### Example\n",
        "\n",
        "Find orthonormal basis of $A=\\begin{bmatrix} 1 & 2 & 0 \\\\ 1 & 5 & 1 \\\\ 0 & -1 & 2 \\\\ 3& 3 & 0\\end{bmatrix}$  using QR-factorization\n",
        "\n",
        "#### Solution"
      ]
    },
    {
      "cell_type": "code",
      "execution_count": 34,
      "id": "86dcb44b",
      "metadata": {
        "id": "86dcb44b"
      },
      "outputs": [],
      "source": [
        "A=np.array([[1,2,0],[1,5,1],[0,-1,2], [3,3,0]])\n",
        "Q, R = np.linalg.qr(A)"
      ]
    },
    {
      "cell_type": "code",
      "execution_count": 35,
      "id": "1ad39f15",
      "metadata": {
        "colab": {
          "base_uri": "https://localhost:8080/"
        },
        "id": "1ad39f15",
        "outputId": "2248372b-4b83-498d-85a9-689ce50852af"
      },
      "outputs": [
        {
          "output_type": "execute_result",
          "data": {
            "text/plain": [
              "array([[-0.30151134, -0.1375409 ,  0.06625475],\n",
              "       [-0.30151134, -0.89401584, -0.25706844],\n",
              "       [-0.        ,  0.25215831, -0.96201901],\n",
              "       [-0.90453403,  0.34385225,  0.06360456]])"
            ]
          },
          "metadata": {},
          "execution_count": 35
        }
      ],
      "source": [
        "Q"
      ]
    },
    {
      "cell_type": "code",
      "execution_count": 36,
      "id": "bae35c6c",
      "metadata": {
        "colab": {
          "base_uri": "https://localhost:8080/"
        },
        "id": "bae35c6c",
        "outputId": "59ce9c8e-7db7-4a67-c04b-c64cac230437"
      },
      "outputs": [
        {
          "output_type": "execute_result",
          "data": {
            "text/plain": [
              "array([[-3.31662479, -4.82418151, -0.30151134],\n",
              "       [ 0.        , -3.96576257, -0.38969921],\n",
              "       [ 0.        ,  0.        , -2.18110647]])"
            ]
          },
          "metadata": {},
          "execution_count": 36
        }
      ],
      "source": [
        "R"
      ]
    },
    {
      "cell_type": "code",
      "execution_count": 37,
      "id": "5fc94875",
      "metadata": {
        "colab": {
          "base_uri": "https://localhost:8080/",
          "height": 37
        },
        "id": "5fc94875",
        "outputId": "1702a3d3-6167-463a-921a-c798ecfa2b8f"
      },
      "outputs": [
        {
          "output_type": "execute_result",
          "data": {
            "text/plain": [
              "(1.0, 1.0, 1.0)"
            ],
            "text/latex": "$\\displaystyle \\left( 1.0, \\  1.0, \\  1.0\\right)$"
          },
          "metadata": {},
          "execution_count": 37
        }
      ],
      "source": [
        "# Let's check the norms of columns of Q\n",
        "la.norm(Q[:,0]), la.norm(Q[:,1]), la.norm(Q[:,2])"
      ]
    },
    {
      "cell_type": "code",
      "execution_count": 38,
      "id": "32377c2a",
      "metadata": {
        "colab": {
          "base_uri": "https://localhost:8080/",
          "height": 39
        },
        "id": "32377c2a",
        "outputId": "68a12d96-98f2-41cb-ba8f-1c733db40385"
      },
      "outputs": [
        {
          "output_type": "execute_result",
          "data": {
            "text/plain": [
              "(8.326672684688674e-17, 0.0, 5.551115123125783e-17)"
            ],
            "text/latex": "$\\displaystyle \\left( 8.32667268468867 \\cdot 10^{-17}, \\  0.0, \\  5.55111512312578 \\cdot 10^{-17}\\right)$"
          },
          "metadata": {},
          "execution_count": 38
        }
      ],
      "source": [
        "# Let's check orthogonality\n",
        "Q[:,0]@Q[:,1], Q[:,0]@Q[:,2],Q[:,1]@Q[:,2]"
      ]
    },
    {
      "cell_type": "markdown",
      "id": "c4bef600",
      "metadata": {
        "id": "c4bef600"
      },
      "source": [
        "#### End of Solution\n",
        "\n",
        "Finally here is the SymPy way:"
      ]
    },
    {
      "cell_type": "code",
      "execution_count": 39,
      "id": "80005505",
      "metadata": {
        "colab": {
          "base_uri": "https://localhost:8080/",
          "height": 112
        },
        "id": "80005505",
        "outputId": "a908df65-6861-42fb-8dd2-fd3fdc07524a"
      },
      "outputs": [
        {
          "output_type": "execute_result",
          "data": {
            "text/plain": [
              "⎛⎡ √11    6⋅√1903    -25⋅√142379 ⎤                         ⎞\n",
              "⎜⎢ ───    ───────    ────────────⎥                         ⎟\n",
              "⎜⎢ 11      1903         142379   ⎥  ⎡     16⋅√11    √11   ⎤⎟\n",
              "⎜⎢                               ⎥  ⎢√11  ──────    ───   ⎥⎟\n",
              "⎜⎢ √11    39⋅√1903    97⋅√142379 ⎥  ⎢       11      11    ⎥⎟\n",
              "⎜⎢ ───    ────────    ────────── ⎥  ⎢                     ⎥⎟\n",
              "⎜⎢ 11       1903        142379   ⎥  ⎢     √1903   17⋅√1903⎥⎟\n",
              "⎜⎢                               ⎥, ⎢ 0   ─────   ────────⎥⎟\n",
              "⎜⎢        -√1903     363⋅√142379 ⎥  ⎢      11       1903  ⎥⎟\n",
              "⎜⎢  0     ───────    ─────────── ⎥  ⎢                     ⎥⎟\n",
              "⎜⎢          173        142379    ⎥  ⎢             √142379 ⎥⎟\n",
              "⎜⎢                               ⎥  ⎢ 0     0     ─────── ⎥⎟\n",
              "⎜⎢3⋅√11  -15⋅√1903   -24⋅√142379 ⎥  ⎣               173   ⎦⎟\n",
              "⎜⎢─────  ──────────  ────────────⎥                         ⎟\n",
              "⎝⎣ 11       1903        142379   ⎦                         ⎠"
            ],
            "text/latex": "$\\displaystyle \\left( \\left[\\begin{matrix}\\frac{\\sqrt{11}}{11} & \\frac{6 \\sqrt{1903}}{1903} & - \\frac{25 \\sqrt{142379}}{142379}\\\\\\frac{\\sqrt{11}}{11} & \\frac{39 \\sqrt{1903}}{1903} & \\frac{97 \\sqrt{142379}}{142379}\\\\0 & - \\frac{\\sqrt{1903}}{173} & \\frac{363 \\sqrt{142379}}{142379}\\\\\\frac{3 \\sqrt{11}}{11} & - \\frac{15 \\sqrt{1903}}{1903} & - \\frac{24 \\sqrt{142379}}{142379}\\end{matrix}\\right], \\  \\left[\\begin{matrix}\\sqrt{11} & \\frac{16 \\sqrt{11}}{11} & \\frac{\\sqrt{11}}{11}\\\\0 & \\frac{\\sqrt{1903}}{11} & \\frac{17 \\sqrt{1903}}{1903}\\\\0 & 0 & \\frac{\\sqrt{142379}}{173}\\end{matrix}\\right]\\right)$"
          },
          "metadata": {},
          "execution_count": 39
        }
      ],
      "source": [
        "sp.matrices.MatrixBase.QRdecomposition(sp.Matrix(A))"
      ]
    },
    {
      "cell_type": "code",
      "execution_count": null,
      "id": "39c34afa",
      "metadata": {
        "id": "39c34afa"
      },
      "outputs": [],
      "source": []
    }
  ],
  "metadata": {
    "kernelspec": {
      "display_name": "Python 3 (ipykernel)",
      "language": "python",
      "name": "python3"
    },
    "language_info": {
      "codemirror_mode": {
        "name": "ipython",
        "version": 3
      },
      "file_extension": ".py",
      "mimetype": "text/x-python",
      "name": "python",
      "nbconvert_exporter": "python",
      "pygments_lexer": "ipython3",
      "version": "3.11.5"
    },
    "colab": {
      "provenance": []
    }
  },
  "nbformat": 4,
  "nbformat_minor": 5
}