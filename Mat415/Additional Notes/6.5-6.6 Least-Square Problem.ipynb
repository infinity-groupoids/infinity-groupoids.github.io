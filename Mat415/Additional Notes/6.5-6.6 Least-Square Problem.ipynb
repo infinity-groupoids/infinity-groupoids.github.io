{
 "cells": [
  {
   "cell_type": "code",
   "execution_count": 1,
   "id": "834a02fe",
   "metadata": {},
   "outputs": [],
   "source": [
    "import matplotlib.pyplot as plt\n",
    "import numpy as np\n",
    "import sympy as sp\n",
    "from scipy import linalg as la\n",
    "sp.init_printing() \n",
    "import warnings\n",
    "warnings.filterwarnings(\"ignore\")\n",
    "import pandas as pd\n"
   ]
  },
  {
   "cell_type": "markdown",
   "id": "4c38a0ec",
   "metadata": {},
   "source": [
    "## Goals and Commands\n",
    "\n",
    "#### Goals\n",
    "1. Least-Square Problems\n",
    "2. Applications of QR-fatorization\n",
    "\n",
    "\n",
    "In this set, we will look a some application of QR factorization in Least-Square Problem.\n",
    "\n",
    "#### Example\n",
    "Let $A=\\begin{bmatrix} 1 & 1 & 0 \\\\ 2 & 5 & -1 \\\\ 0 & 1 & 2 \\\\ 1 & 1 & 1 \\\\ 2 & 0 & 3 \\end{bmatrix}$ and ${\\bf b}=\\begin{bmatrix} 10 \\\\ 1 \\\\2 \\\\3 \\\\4\\end{bmatrix}$. Find least-square solution to $A{\\bf x}={\\bf b}$\n",
    "#### Solution\n",
    "\n",
    "We will solve this problem in multiple ways:\n",
    "\n",
    "1. Regular Approach:\n",
    "The solution is ${\\bf \\hat{x}}=(A^TA)^{-1}A^T{\\bf b}$"
   ]
  },
  {
   "cell_type": "code",
   "execution_count": 2,
   "id": "07367e3d",
   "metadata": {},
   "outputs": [],
   "source": [
    "A=np.array([[1,1,0],[2,5,-1],[0,1,2],[1,1,1],[2,0,3]])\n",
    "b=np.array([10,1,2,3,4])"
   ]
  },
  {
   "cell_type": "code",
   "execution_count": 3,
   "id": "5fe9384e",
   "metadata": {},
   "outputs": [
    {
     "data": {
      "text/plain": [
       "array([ 2.65660377, -0.40566038,  0.26037736])"
      ]
     },
     "execution_count": 3,
     "metadata": {},
     "output_type": "execute_result"
    }
   ],
   "source": [
    "xhat=np.linalg.inv(A.T@A)@A.T@b\n",
    "xhat"
   ]
  },
  {
   "cell_type": "markdown",
   "id": "1c3b70dd",
   "metadata": {},
   "source": [
    "2. QR factorization (slower, but more reliable):"
   ]
  },
  {
   "cell_type": "code",
   "execution_count": 4,
   "id": "5cd62489",
   "metadata": {},
   "outputs": [
    {
     "data": {
      "text/plain": [
       "array([ 2.65660377, -0.40566038,  0.26037736])"
      ]
     },
     "execution_count": 4,
     "metadata": {},
     "output_type": "execute_result"
    }
   ],
   "source": [
    "Q, R = np.linalg.qr(A)\n",
    "xhat=np.linalg.inv(R)@Q.T@b\n",
    "xhat"
   ]
  },
  {
   "cell_type": "markdown",
   "id": "2c0cf78f",
   "metadata": {},
   "source": [
    "3. Modified QR factorization approach that doesn't use inverse."
   ]
  },
  {
   "cell_type": "code",
   "execution_count": 5,
   "id": "a0f9d161",
   "metadata": {},
   "outputs": [
    {
     "data": {
      "text/plain": [
       "array([ 2.65660377, -0.40566038,  0.26037736])"
      ]
     },
     "execution_count": 5,
     "metadata": {},
     "output_type": "execute_result"
    }
   ],
   "source": [
    "Q, R = np.linalg.qr(A)\n",
    "np.linalg.solve(R,Q.T@b)"
   ]
  },
  {
   "cell_type": "markdown",
   "id": "d7d7dc59",
   "metadata": {},
   "source": [
    "#### End of solution\n",
    "\n",
    "#### Example\n",
    "Find least square line for given data point : (3,4), (4,4), (1.5,3), (2,4), (3.5,4.5)\n",
    "\n",
    "#### Solution"
   ]
  },
  {
   "cell_type": "code",
   "execution_count": 6,
   "id": "fa0d0ce1",
   "metadata": {},
   "outputs": [
    {
     "data": {
      "text/plain": [
       "array([[1. , 3. ],\n",
       "       [1. , 4. ],\n",
       "       [1. , 1.5],\n",
       "       [1. , 2. ],\n",
       "       [1. , 3.5]])"
      ]
     },
     "execution_count": 6,
     "metadata": {},
     "output_type": "execute_result"
    }
   ],
   "source": [
    "x=np.array([3,4,1.5,2,3.5])\n",
    "y=np.array([4,4,3,4,4.5])\n",
    "X=np.array([x**0, x]).T\n",
    "X"
   ]
  },
  {
   "cell_type": "code",
   "execution_count": 7,
   "id": "801ed49a",
   "metadata": {},
   "outputs": [
    {
     "data": {
      "text/plain": [
       "array([2.8255814 , 0.38372093])"
      ]
     },
     "execution_count": 7,
     "metadata": {},
     "output_type": "execute_result"
    }
   ],
   "source": [
    "line=np.linalg.solve(X.T@X,X.T@y)\n",
    "line"
   ]
  },
  {
   "cell_type": "code",
   "execution_count": 8,
   "id": "0f1a8da8",
   "metadata": {},
   "outputs": [
    {
     "data": {
      "image/png": "[encoded data removed]",
      "text/plain": [
       "<Figure size 640x480 with 1 Axes>"
      ]
     },
     "metadata": {},
     "output_type": "display_data"
    }
   ],
   "source": [
    "# Let's plot our data and a line:\n",
    "\n",
    "xs=np.linspace(1,5,100) \n",
    "ys=line[0]+line[1]*xs\n",
    "plt.plot(xs,ys,'-r')\n",
    "plt.plot(x[:],y[:],'bo')\n",
    "plt.grid()\n",
    "plt.show()"
   ]
  },
  {
   "cell_type": "markdown",
   "id": "cf6913ef",
   "metadata": {},
   "source": [
    "#### End of example\n",
    "\n",
    "For next example we will use the file penguins_size_clean.csv that you should have after doing Files set.\n",
    "\n",
    "#### Example\n",
    "\n",
    "In the Files set we saw that there is a correlation between penguin's flipper length and body mass. Here we will find the regression line using least square problem:\n",
    "\n",
    "1. Find the regression line\n",
    "2. If the flipper lenght is 200mm, what is approximate body mass of the penguin?"
   ]
  },
  {
   "cell_type": "code",
   "execution_count": 10,
   "id": "71141ca9",
   "metadata": {},
   "outputs": [
    {
     "data": {
      "text/html": [
       "<div>\n",
       "<style scoped>\n",
       "    .dataframe tbody tr th:only-of-type {\n",
       "        vertical-align: middle;\n",
       "    }\n",
       "\n",
       "    .dataframe tbody tr th {\n",
       "        vertical-align: top;\n",
       "    }\n",
       "\n",
       "    .dataframe thead th {\n",
       "        text-align: right;\n",
       "    }\n",
       "</style>\n",
       "<table border=\"1\" class=\"dataframe\">\n",
       "  <thead>\n",
       "    <tr style=\"text-align: right;\">\n",
       "      <th></th>\n",
       "      <th>species</th>\n",
       "      <th>island</th>\n",
       "      <th>culmen_length_mm</th>\n",
       "      <th>culmen_depth_mm</th>\n",
       "      <th>flipper_length_mm</th>\n",
       "      <th>body_mass_g</th>\n",
       "      <th>sex</th>\n",
       "    </tr>\n",
       "  </thead>\n",
       "  <tbody>\n",
       "    <tr>\n",
       "      <th>0</th>\n",
       "      <td>Adelie</td>\n",
       "      <td>Torgersen</td>\n",
       "      <td>39.1</td>\n",
       "      <td>18.7</td>\n",
       "      <td>181</td>\n",
       "      <td>3750</td>\n",
       "      <td>MALE</td>\n",
       "    </tr>\n",
       "    <tr>\n",
       "      <th>1</th>\n",
       "      <td>Adelie</td>\n",
       "      <td>Torgersen</td>\n",
       "      <td>39.5</td>\n",
       "      <td>17.4</td>\n",
       "      <td>186</td>\n",
       "      <td>3800</td>\n",
       "      <td>FEMALE</td>\n",
       "    </tr>\n",
       "    <tr>\n",
       "      <th>2</th>\n",
       "      <td>Adelie</td>\n",
       "      <td>Torgersen</td>\n",
       "      <td>40.3</td>\n",
       "      <td>18.0</td>\n",
       "      <td>195</td>\n",
       "      <td>3250</td>\n",
       "      <td>FEMALE</td>\n",
       "    </tr>\n",
       "    <tr>\n",
       "      <th>3</th>\n",
       "      <td>Adelie</td>\n",
       "      <td>Torgersen</td>\n",
       "      <td>36.7</td>\n",
       "      <td>19.3</td>\n",
       "      <td>193</td>\n",
       "      <td>3450</td>\n",
       "      <td>FEMALE</td>\n",
       "    </tr>\n",
       "    <tr>\n",
       "      <th>4</th>\n",
       "      <td>Adelie</td>\n",
       "      <td>Torgersen</td>\n",
       "      <td>39.3</td>\n",
       "      <td>20.6</td>\n",
       "      <td>190</td>\n",
       "      <td>3650</td>\n",
       "      <td>MALE</td>\n",
       "    </tr>\n",
       "    <tr>\n",
       "      <th>...</th>\n",
       "      <td>...</td>\n",
       "      <td>...</td>\n",
       "      <td>...</td>\n",
       "      <td>...</td>\n",
       "      <td>...</td>\n",
       "      <td>...</td>\n",
       "      <td>...</td>\n",
       "    </tr>\n",
       "    <tr>\n",
       "      <th>328</th>\n",
       "      <td>Gentoo</td>\n",
       "      <td>Biscoe</td>\n",
       "      <td>47.2</td>\n",
       "      <td>13.7</td>\n",
       "      <td>214</td>\n",
       "      <td>4925</td>\n",
       "      <td>FEMALE</td>\n",
       "    </tr>\n",
       "    <tr>\n",
       "      <th>329</th>\n",
       "      <td>Gentoo</td>\n",
       "      <td>Biscoe</td>\n",
       "      <td>46.8</td>\n",
       "      <td>14.3</td>\n",
       "      <td>215</td>\n",
       "      <td>4850</td>\n",
       "      <td>FEMALE</td>\n",
       "    </tr>\n",
       "    <tr>\n",
       "      <th>330</th>\n",
       "      <td>Gentoo</td>\n",
       "      <td>Biscoe</td>\n",
       "      <td>50.4</td>\n",
       "      <td>15.7</td>\n",
       "      <td>222</td>\n",
       "      <td>5750</td>\n",
       "      <td>MALE</td>\n",
       "    </tr>\n",
       "    <tr>\n",
       "      <th>331</th>\n",
       "      <td>Gentoo</td>\n",
       "      <td>Biscoe</td>\n",
       "      <td>45.2</td>\n",
       "      <td>14.8</td>\n",
       "      <td>212</td>\n",
       "      <td>5200</td>\n",
       "      <td>FEMALE</td>\n",
       "    </tr>\n",
       "    <tr>\n",
       "      <th>332</th>\n",
       "      <td>Gentoo</td>\n",
       "      <td>Biscoe</td>\n",
       "      <td>49.9</td>\n",
       "      <td>16.1</td>\n",
       "      <td>213</td>\n",
       "      <td>5400</td>\n",
       "      <td>MALE</td>\n",
       "    </tr>\n",
       "  </tbody>\n",
       "</table>\n",
       "<p>333 rows × 7 columns</p>\n",
       "</div>"
      ],
      "text/plain": [
       "    species     island  culmen_length_mm  culmen_depth_mm  flipper_length_mm  \\\n",
       "0    Adelie  Torgersen              39.1             18.7                181   \n",
       "1    Adelie  Torgersen              39.5             17.4                186   \n",
       "2    Adelie  Torgersen              40.3             18.0                195   \n",
       "3    Adelie  Torgersen              36.7             19.3                193   \n",
       "4    Adelie  Torgersen              39.3             20.6                190   \n",
       "..      ...        ...               ...              ...                ...   \n",
       "328  Gentoo     Biscoe              47.2             13.7                214   \n",
       "329  Gentoo     Biscoe              46.8             14.3                215   \n",
       "330  Gentoo     Biscoe              50.4             15.7                222   \n",
       "331  Gentoo     Biscoe              45.2             14.8                212   \n",
       "332  Gentoo     Biscoe              49.9             16.1                213   \n",
       "\n",
       "     body_mass_g     sex  \n",
       "0           3750    MALE  \n",
       "1           3800  FEMALE  \n",
       "2           3250  FEMALE  \n",
       "3           3450  FEMALE  \n",
       "4           3650    MALE  \n",
       "..           ...     ...  \n",
       "328         4925  FEMALE  \n",
       "329         4850  FEMALE  \n",
       "330         5750    MALE  \n",
       "331         5200  FEMALE  \n",
       "332         5400    MALE  \n",
       "\n",
       "[333 rows x 7 columns]"
      ]
     },
     "execution_count": 10,
     "metadata": {},
     "output_type": "execute_result"
    }
   ],
   "source": [
    "df=pd.read_csv('penguins_size_clean.csv')\n",
    "df"
   ]
  },
  {
   "cell_type": "code",
   "execution_count": 11,
   "id": "f4bcf45a",
   "metadata": {},
   "outputs": [
    {
     "data": {
      "text/plain": [
       "array([-5872.09268284,    50.15326594])"
      ]
     },
     "execution_count": 11,
     "metadata": {},
     "output_type": "execute_result"
    }
   ],
   "source": [
    "# Part 1\n",
    "o=np.ones(333)\n",
    "X=(np.vstack((o,df['flipper_length_mm']))).T\n",
    "y=np.array(df['body_mass_g'])\n",
    "line=np.linalg.solve(X.T@X,X.T@y)\n",
    "line           "
   ]
  },
  {
   "cell_type": "code",
   "execution_count": 12,
   "id": "049fb31b",
   "metadata": {},
   "outputs": [
    {
     "data": {
      "image/png": "[encoded data removed]",
      "text/plain": [
       "<Figure size 640x480 with 1 Axes>"
      ]
     },
     "metadata": {},
     "output_type": "display_data"
    }
   ],
   "source": [
    "xs=np.linspace(150,250,1000) \n",
    "ys=line[0]+line[1]*xs\n",
    "plt.plot(xs,ys,'-r')\n",
    "plt.plot(X[:,1],y[:],'bo')\n",
    "plt.grid()\n",
    "plt.show()"
   ]
  },
  {
   "cell_type": "code",
   "execution_count": 13,
   "id": "75899207",
   "metadata": {},
   "outputs": [
    {
     "data": {
      "image/png": "[encoded data removed]",
      "text/latex": [
       "$\\displaystyle 4158.5605056054$"
      ],
      "text/plain": [
       "4158.560505605401"
      ]
     },
     "execution_count": 13,
     "metadata": {},
     "output_type": "execute_result"
    }
   ],
   "source": [
    "# Part 2\n",
    "line[0]+line[1]*200"
   ]
  },
  {
   "cell_type": "markdown",
   "id": "548fb8d2",
   "metadata": {},
   "source": [
    "The mass is about 4158g"
   ]
  },
  {
   "cell_type": "code",
   "execution_count": null,
   "id": "9d229468",
   "metadata": {},
   "outputs": [],
   "source": []
  }
 ],
 "metadata": {
  "kernelspec": {
   "display_name": "Python 3 (ipykernel)",
   "language": "python",
   "name": "python3"
  },
  "language_info": {
   "codemirror_mode": {
    "name": "ipython",
    "version": 3
   },
   "file_extension": ".py",
   "mimetype": "text/x-python",
   "name": "python",
   "nbconvert_exporter": "python",
   "pygments_lexer": "ipython3",
   "version": "3.11.5"
  }
 },
 "nbformat": 4,
 "nbformat_minor": 5
}
