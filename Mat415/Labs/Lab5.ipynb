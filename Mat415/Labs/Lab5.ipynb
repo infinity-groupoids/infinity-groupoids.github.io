{
 "cells": [
  {
   "cell_type": "markdown",
   "id": "33312386-d219-453a-bc75-c0c17d5969a6",
   "metadata": {},
   "source": [
    "## <center> Lab Assignment 5"
   ]
  },
  {
   "cell_type": "code",
   "execution_count": 1,
   "id": "6943fd32-b49f-42d9-a833-f3feb07ae225",
   "metadata": {},
   "outputs": [],
   "source": [
    "import matplotlib.pyplot as plt\n",
    "import numpy as np\n",
    "import sympy as sp\n",
    "from scipy import linalg as la\n",
    "sp.init_printing() \n",
    "import warnings\n",
    "warnings.filterwarnings(\"ignore\")\n",
    "import pandas as pd\n",
    "\n",
    "from sklearn import datasets\n"
   ]
  },
  {
   "cell_type": "markdown",
   "id": "477d0188-bf24-44c1-83b2-6709b8b8ec93",
   "metadata": {},
   "source": [
    "### Problem 1\n",
    "\n",
    "Let $Q({\\bf x})=4x_1^2-6x_1x_2-10x_1x_3-10x_1x_4-6x_2x_3-6x_2x_4-2x_3x_4$\n",
    "\n",
    "   a. Setup the matrix $A$ for which $Q=x^TAx$."
   ]
  },
  {
   "cell_type": "code",
   "execution_count": null,
   "id": "b19fb928-cfbd-4913-a199-27dd9c20502a",
   "metadata": {
    "scrolled": true
   },
   "outputs": [],
   "source": []
  },
  {
   "cell_type": "markdown",
   "id": "23635bc7-a771-440d-87f9-f813b5d4c260",
   "metadata": {},
   "source": [
    "b. Find maximum of $Q$ given $||x||=1$, and a unit vector ${\\bf u}$ where this max is attained."
   ]
  },
  {
   "cell_type": "code",
   "execution_count": null,
   "id": "5ceacb83-1368-47a1-b2c1-c366d21cb036",
   "metadata": {},
   "outputs": [],
   "source": []
  },
  {
   "cell_type": "code",
   "execution_count": null,
   "id": "27e85f06-937e-4221-bef2-ed82467eabb2",
   "metadata": {
    "scrolled": true
   },
   "outputs": [],
   "source": []
  },
  {
   "cell_type": "code",
   "execution_count": null,
   "id": "61d4f6d9-1a71-4265-acb2-a353a8bac35c",
   "metadata": {
    "scrolled": true
   },
   "outputs": [],
   "source": []
  },
  {
   "cell_type": "markdown",
   "id": "3d351de1-6f91-4d75-a414-5282624a89f0",
   "metadata": {},
   "source": [
    "c. Find maximum of $Q$ given $||x||=1$ and $x^Tu=0$"
   ]
  },
  {
   "cell_type": "code",
   "execution_count": null,
   "id": "96ff5488-3caf-4866-93ea-4b386d7ede4f",
   "metadata": {},
   "outputs": [],
   "source": []
  },
  {
   "cell_type": "markdown",
   "id": "d7413c7f-5f06-48e3-96f6-f78e8aeced21",
   "metadata": {},
   "source": [
    "d. Find the minimum of $Q$ given $||x||=1$."
   ]
  },
  {
   "cell_type": "code",
   "execution_count": null,
   "id": "e466eabd-7b8a-4dc8-ae42-f9783a16b1e2",
   "metadata": {},
   "outputs": [],
   "source": []
  },
  {
   "cell_type": "markdown",
   "id": "59c310a7-1ac4-44e7-9e8d-5b40b57eed8f",
   "metadata": {},
   "source": [
    "### Problem 2.\n",
    "\n",
    "A Landsat image with three spectral components was made of Homestead Air Force Base in Florida. The covariance matrix of data is shown below. Find the first principal component of the data, and compute the percentage of the total variance that is contained in this component.\n",
    "\n",
    "   $$S=\\begin{bmatrix} 164.12 & 32.73 &81.04 \\\\ 32.73 &539.44 & 249.13 \\\\ 81.04 & 249.13 & 189.11 \\end{bmatrix}$$"
   ]
  },
  {
   "cell_type": "code",
   "execution_count": 2,
   "id": "ce30d090-b66e-401d-99e9-06b111c4f76a",
   "metadata": {
    "scrolled": true
   },
   "outputs": [],
   "source": [
    "S=np.array([[164.12 , 32.73 ,81.04],[  32.73 ,539.44 , 249.13],[ 81.04 , 249.13 , 189.11]])"
   ]
  },
  {
   "cell_type": "code",
   "execution_count": null,
   "id": "b83470a9-73e5-4242-9b57-ba382882ee3c",
   "metadata": {
    "scrolled": true
   },
   "outputs": [],
   "source": []
  },
  {
   "cell_type": "code",
   "execution_count": null,
   "id": "a0818a4f-e6a2-4402-909b-10e29a1ffc5e",
   "metadata": {},
   "outputs": [],
   "source": []
  },
  {
   "cell_type": "code",
   "execution_count": null,
   "id": "95e5bdc6-e88f-4eda-bf54-8cdba139f99e",
   "metadata": {
    "scrolled": true
   },
   "outputs": [],
   "source": []
  },
  {
   "cell_type": "markdown",
   "id": "fa81f2c6-01c3-4507-99cd-ee82265260c3",
   "metadata": {},
   "source": [
    "### Problem 3\n",
    "\n",
    "a. Upload breast cancer data frame (just like in Lab 4). Normalize it again and save it as $X$.\n"
   ]
  },
  {
   "cell_type": "code",
   "execution_count": null,
   "id": "9910d53e-dec1-4445-be5a-e2c84454bd71",
   "metadata": {},
   "outputs": [],
   "source": []
  },
  {
   "cell_type": "markdown",
   "id": "3a9a56b3-0136-411f-a733-ca447f684930",
   "metadata": {},
   "source": [
    "a. Find SVD of $X$. Then truncate $\\Sigma$ (or $S$) to two components and calculate $U\\Sigma$"
   ]
  },
  {
   "cell_type": "code",
   "execution_count": null,
   "id": "56864137-b418-42e7-9f1c-363d2452eb1c",
   "metadata": {
    "scrolled": true
   },
   "outputs": [],
   "source": []
  },
  {
   "cell_type": "code",
   "execution_count": null,
   "id": "62bb2d85-67fd-47e9-aa57-76ad11438a8d",
   "metadata": {},
   "outputs": [],
   "source": []
  },
  {
   "cell_type": "markdown",
   "id": "c61c1868-df8d-40ed-95e2-f97b02bc8133",
   "metadata": {},
   "source": [
    "c. Consider each row in the matrix from part b as a point. Plot all points coloring them based on targets (just like in lab 4). Compare the graph to the one you got in lab 4."
   ]
  },
  {
   "cell_type": "code",
   "execution_count": null,
   "id": "793dec10-f008-4dc5-b308-a60db6561540",
   "metadata": {},
   "outputs": [],
   "source": []
  },
  {
   "cell_type": "markdown",
   "id": "be4968cc-1101-4cd5-9e5d-0bed14e504aa",
   "metadata": {},
   "source": [
    "**Answer:** "
   ]
  },
  {
   "cell_type": "markdown",
   "id": "02a2ea8a",
   "metadata": {},
   "source": [
    "### Extra Credit\n",
    "\n",
    "Use Digit Data set from SVD-PCA file and apply LDA to reduce dimension to 3. Plot the result."
   ]
  },
  {
   "cell_type": "code",
   "execution_count": null,
   "id": "f63c15b8",
   "metadata": {},
   "outputs": [],
   "source": []
  }
 ],
 "metadata": {
  "kernelspec": {
   "display_name": "Python 3 (ipykernel)",
   "language": "python",
   "name": "python3"
  },
  "language_info": {
   "codemirror_mode": {
    "name": "ipython",
    "version": 3
   },
   "file_extension": ".py",
   "mimetype": "text/x-python",
   "name": "python",
   "nbconvert_exporter": "python",
   "pygments_lexer": "ipython3",
   "version": "3.9.12"
  }
 },
 "nbformat": 4,
 "nbformat_minor": 5
}
