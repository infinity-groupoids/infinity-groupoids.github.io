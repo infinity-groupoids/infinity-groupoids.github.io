{
  "cells": [
    {
      "cell_type": "markdown",
      "id": "9dbed1b1-4174-4628-a9af-35d217790eae",
      "metadata": {
        "id": "9dbed1b1-4174-4628-a9af-35d217790eae"
      },
      "source": [
        "## <center> Lab Assignment 4\n",
        "\n",
        "Add libraries\n"
      ]
    },
    {
      "cell_type": "code",
      "execution_count": null,
      "id": "db80bd74-92c8-4f0b-8f50-bc6e9c0d453d",
      "metadata": {
        "id": "db80bd74-92c8-4f0b-8f50-bc6e9c0d453d"
      },
      "outputs": [],
      "source": []
    },
    {
      "cell_type": "markdown",
      "id": "9891f24b-9c24-403b-a106-1ad514682b11",
      "metadata": {
        "id": "9891f24b-9c24-403b-a106-1ad514682b11"
      },
      "source": [
        "### Problem 1\n",
        "\n",
        "Let $A=\\begin{bmatrix} -6 & 28 & 21 \\\\ 4 & -15 & -12  \\\\ -8 & a & 25   \\end{bmatrix} $.\n",
        "\n",
        "**a.** For each value of $a$ in the set $\\{32, 31.9, 31.8,32.1, 32.2\\}$, compute characteristic polynomial of $A$ and the eigenvalues. In each case, draw the graph of characteristic polynomial for $0 \\leq \\lambda \\leq 3$ in the same coordinate system. Describe how the graphs reveal the changes in the eigenvalues as $a$ changes."
      ]
    },
    {
      "cell_type": "code",
      "execution_count": null,
      "id": "b3a4785a-d3aa-4d53-98f0-98f0e75afc0f",
      "metadata": {
        "id": "b3a4785a-d3aa-4d53-98f0-98f0e75afc0f"
      },
      "outputs": [],
      "source": []
    },
    {
      "cell_type": "code",
      "execution_count": null,
      "id": "c96037ec-72df-468b-ac54-a2d344443e90",
      "metadata": {
        "id": "c96037ec-72df-468b-ac54-a2d344443e90"
      },
      "outputs": [],
      "source": []
    },
    {
      "cell_type": "code",
      "execution_count": null,
      "id": "a086d135-6844-4f5b-ab88-5bbd17e15b3f",
      "metadata": {
        "id": "a086d135-6844-4f5b-ab88-5bbd17e15b3f"
      },
      "outputs": [],
      "source": []
    },
    {
      "cell_type": "code",
      "execution_count": null,
      "id": "fbff9334-7e8a-4f06-be03-e7c12b8972dc",
      "metadata": {
        "id": "fbff9334-7e8a-4f06-be03-e7c12b8972dc"
      },
      "outputs": [],
      "source": []
    },
    {
      "cell_type": "code",
      "execution_count": null,
      "id": "c2ef64ea-06d1-4d7e-bb2d-ecb21f457137",
      "metadata": {
        "id": "c2ef64ea-06d1-4d7e-bb2d-ecb21f457137"
      },
      "outputs": [],
      "source": []
    },
    {
      "cell_type": "code",
      "execution_count": null,
      "id": "56450a9a-a19a-4b49-8b5c-ad44f6a1bb3c",
      "metadata": {
        "id": "56450a9a-a19a-4b49-8b5c-ad44f6a1bb3c"
      },
      "outputs": [],
      "source": []
    },
    {
      "cell_type": "code",
      "execution_count": null,
      "id": "64ea0f4a-97f7-4556-9f05-f8c94f5e71ce",
      "metadata": {
        "id": "64ea0f4a-97f7-4556-9f05-f8c94f5e71ce"
      },
      "outputs": [],
      "source": []
    },
    {
      "cell_type": "markdown",
      "id": "a2fbd48e-9b82-40be-828d-7608ce6bfd5e",
      "metadata": {
        "id": "a2fbd48e-9b82-40be-828d-7608ce6bfd5e"
      },
      "source": [
        "**Answer:**"
      ]
    },
    {
      "cell_type": "markdown",
      "id": "d47360cb-4209-4360-9158-de56dbcf6072",
      "metadata": {
        "id": "d47360cb-4209-4360-9158-de56dbcf6072"
      },
      "source": [
        "**b.** Let $a=32$. Do $A$ and $A^T$ have same eigenvalues? Do they have the same eigenvectors?"
      ]
    },
    {
      "cell_type": "code",
      "execution_count": null,
      "id": "3ca31fea-af5d-4c38-aaf4-935045e4bfca",
      "metadata": {
        "id": "3ca31fea-af5d-4c38-aaf4-935045e4bfca"
      },
      "outputs": [],
      "source": []
    },
    {
      "cell_type": "code",
      "execution_count": null,
      "id": "833189d5-aee5-4c1d-8f10-c2809947c11e",
      "metadata": {
        "id": "833189d5-aee5-4c1d-8f10-c2809947c11e"
      },
      "outputs": [],
      "source": []
    },
    {
      "cell_type": "code",
      "execution_count": null,
      "id": "221d4131-aa50-483f-bec9-378715bbdb35",
      "metadata": {
        "id": "221d4131-aa50-483f-bec9-378715bbdb35"
      },
      "outputs": [],
      "source": []
    },
    {
      "cell_type": "markdown",
      "id": "d3f284e2-e8ce-4069-aa29-79f556f3af87",
      "metadata": {
        "id": "d3f284e2-e8ce-4069-aa29-79f556f3af87"
      },
      "source": [
        "**Answer:**"
      ]
    },
    {
      "cell_type": "markdown",
      "id": "c8c906ec-01a9-4c8d-8473-dfffd76c2500",
      "metadata": {
        "id": "c8c906ec-01a9-4c8d-8473-dfffd76c2500"
      },
      "source": [
        "### Problem 2\n",
        "\n",
        "In this problem we will compare speed of calculating steady-state vector for a large stochastic matrix using two different methods:\n",
        "1. Finding basis for Null Space of $P-I$\n",
        "2. Finding image of $P^k\\bf{v}$ for some large $k$.\n",
        "\n",
        "The code below will generate a random 50 by 50 stochastic matrix for you. (Note: be careful, if you re-run this command in the middle of your editing, it will change the matrix and you will have to rerun the whole problem again)"
      ]
    },
    {
      "cell_type": "code",
      "execution_count": null,
      "id": "3df3454b-41ce-4e88-8227-63f14e777a11",
      "metadata": {
        "scrolled": true,
        "id": "3df3454b-41ce-4e88-8227-63f14e777a11"
      },
      "outputs": [],
      "source": [
        "matrix = np.random.rand(50,50)\n",
        "S=matrix/matrix.sum(axis=0)[:,None]"
      ]
    },
    {
      "cell_type": "markdown",
      "id": "1a073a32-9629-4b37-9ddc-580e3b0bfc1d",
      "metadata": {
        "id": "1a073a32-9629-4b37-9ddc-580e3b0bfc1d"
      },
      "source": [
        "**a.** For generated matrix $S$ find  steady-state vector by finding basis for null_space of $S-I$."
      ]
    },
    {
      "cell_type": "code",
      "execution_count": null,
      "id": "0de5fedd-6c08-4296-9dde-547a417336be",
      "metadata": {
        "id": "0de5fedd-6c08-4296-9dde-547a417336be"
      },
      "outputs": [],
      "source": []
    },
    {
      "cell_type": "markdown",
      "id": "af54e9dd-0557-4a2e-abda-f1f81e585b95",
      "metadata": {
        "id": "af54e9dd-0557-4a2e-abda-f1f81e585b95"
      },
      "source": [
        "**b.** For generated matrix $S$ find steady-state vector by taking the first column $\\bf{v}$ of $S$, and calculating $S^{200}\\bf{v}$. Normalize the vector. By looking at the results, confirm you got the same answer. (Note: the vectors may differ by sign. That is ok)"
      ]
    },
    {
      "cell_type": "code",
      "execution_count": null,
      "id": "180477c6-a497-451c-892e-fb693c6607c4",
      "metadata": {
        "id": "180477c6-a497-451c-892e-fb693c6607c4"
      },
      "outputs": [],
      "source": []
    },
    {
      "cell_type": "markdown",
      "id": "ccc86006-e644-4c3a-b07d-29d0a480f737",
      "metadata": {
        "id": "ccc86006-e644-4c3a-b07d-29d0a480f737"
      },
      "source": [
        "**c.** Rerun both methods again, this time timing them using `%%timeit -n 100 -r 40 `. Which method is faster? Which method do you prefer?"
      ]
    },
    {
      "cell_type": "code",
      "execution_count": null,
      "id": "fe215c00-d53d-4e2f-a704-65f5fb0792ec",
      "metadata": {
        "id": "fe215c00-d53d-4e2f-a704-65f5fb0792ec"
      },
      "outputs": [],
      "source": []
    },
    {
      "cell_type": "code",
      "execution_count": null,
      "id": "95bc7761-2a31-43b7-8379-53d383b3d167",
      "metadata": {
        "id": "95bc7761-2a31-43b7-8379-53d383b3d167"
      },
      "outputs": [],
      "source": []
    },
    {
      "cell_type": "markdown",
      "id": "0006b4ec-54b5-42a6-92eb-af83ae0c04cf",
      "metadata": {
        "id": "0006b4ec-54b5-42a6-92eb-af83ae0c04cf"
      },
      "source": [
        "**Answer:**"
      ]
    },
    {
      "cell_type": "markdown",
      "id": "cdaf3311-ef77-4b70-8270-99723d2cf79e",
      "metadata": {
        "id": "cdaf3311-ef77-4b70-8270-99723d2cf79e"
      },
      "source": [
        "### Problem 3\n",
        "\n",
        "In this problem we will use eigenvectors to look at something we will discuss in more details in the future. We start with uploading a data frame containg a large set of breast cancer patients. For each tumor, we have about 30 different chracteristics and a marker signifying whether the tumor is cancerous or benign (0 is cancerous and 1 is benign)\n",
        "\n",
        "Run the following code to upload the data set. We will save the data frame as `Cancer_feat`. Note the markers are saved automatically as `Cancerdata.target`"
      ]
    },
    {
      "cell_type": "code",
      "execution_count": null,
      "id": "d329734c-5cfd-4f28-a540-32927dd0fb0c",
      "metadata": {
        "id": "d329734c-5cfd-4f28-a540-32927dd0fb0c",
        "outputId": "b6b60d59-a4f6-4de2-d819-0cc6fa3e231c"
      },
      "outputs": [
        {
          "data": {
            "text/html": [
              "<div>\n",
              "<style scoped>\n",
              "    .dataframe tbody tr th:only-of-type {\n",
              "        vertical-align: middle;\n",
              "    }\n",
              "\n",
              "    .dataframe tbody tr th {\n",
              "        vertical-align: top;\n",
              "    }\n",
              "\n",
              "    .dataframe thead th {\n",
              "        text-align: right;\n",
              "    }\n",
              "</style>\n",
              "<table border=\"1\" class=\"dataframe\">\n",
              "  <thead>\n",
              "    <tr style=\"text-align: right;\">\n",
              "      <th></th>\n",
              "      <th>mean radius</th>\n",
              "      <th>mean texture</th>\n",
              "      <th>mean perimeter</th>\n",
              "      <th>mean area</th>\n",
              "      <th>mean smoothness</th>\n",
              "      <th>mean compactness</th>\n",
              "      <th>mean concavity</th>\n",
              "      <th>mean concave points</th>\n",
              "      <th>mean symmetry</th>\n",
              "      <th>mean fractal dimension</th>\n",
              "      <th>...</th>\n",
              "      <th>worst radius</th>\n",
              "      <th>worst texture</th>\n",
              "      <th>worst perimeter</th>\n",
              "      <th>worst area</th>\n",
              "      <th>worst smoothness</th>\n",
              "      <th>worst compactness</th>\n",
              "      <th>worst concavity</th>\n",
              "      <th>worst concave points</th>\n",
              "      <th>worst symmetry</th>\n",
              "      <th>worst fractal dimension</th>\n",
              "    </tr>\n",
              "  </thead>\n",
              "  <tbody>\n",
              "    <tr>\n",
              "      <th>0</th>\n",
              "      <td>17.99</td>\n",
              "      <td>10.38</td>\n",
              "      <td>122.80</td>\n",
              "      <td>1001.0</td>\n",
              "      <td>0.11840</td>\n",
              "      <td>0.27760</td>\n",
              "      <td>0.30010</td>\n",
              "      <td>0.14710</td>\n",
              "      <td>0.2419</td>\n",
              "      <td>0.07871</td>\n",
              "      <td>...</td>\n",
              "      <td>25.380</td>\n",
              "      <td>17.33</td>\n",
              "      <td>184.60</td>\n",
              "      <td>2019.0</td>\n",
              "      <td>0.16220</td>\n",
              "      <td>0.66560</td>\n",
              "      <td>0.7119</td>\n",
              "      <td>0.2654</td>\n",
              "      <td>0.4601</td>\n",
              "      <td>0.11890</td>\n",
              "    </tr>\n",
              "    <tr>\n",
              "      <th>1</th>\n",
              "      <td>20.57</td>\n",
              "      <td>17.77</td>\n",
              "      <td>132.90</td>\n",
              "      <td>1326.0</td>\n",
              "      <td>0.08474</td>\n",
              "      <td>0.07864</td>\n",
              "      <td>0.08690</td>\n",
              "      <td>0.07017</td>\n",
              "      <td>0.1812</td>\n",
              "      <td>0.05667</td>\n",
              "      <td>...</td>\n",
              "      <td>24.990</td>\n",
              "      <td>23.41</td>\n",
              "      <td>158.80</td>\n",
              "      <td>1956.0</td>\n",
              "      <td>0.12380</td>\n",
              "      <td>0.18660</td>\n",
              "      <td>0.2416</td>\n",
              "      <td>0.1860</td>\n",
              "      <td>0.2750</td>\n",
              "      <td>0.08902</td>\n",
              "    </tr>\n",
              "    <tr>\n",
              "      <th>2</th>\n",
              "      <td>19.69</td>\n",
              "      <td>21.25</td>\n",
              "      <td>130.00</td>\n",
              "      <td>1203.0</td>\n",
              "      <td>0.10960</td>\n",
              "      <td>0.15990</td>\n",
              "      <td>0.19740</td>\n",
              "      <td>0.12790</td>\n",
              "      <td>0.2069</td>\n",
              "      <td>0.05999</td>\n",
              "      <td>...</td>\n",
              "      <td>23.570</td>\n",
              "      <td>25.53</td>\n",
              "      <td>152.50</td>\n",
              "      <td>1709.0</td>\n",
              "      <td>0.14440</td>\n",
              "      <td>0.42450</td>\n",
              "      <td>0.4504</td>\n",
              "      <td>0.2430</td>\n",
              "      <td>0.3613</td>\n",
              "      <td>0.08758</td>\n",
              "    </tr>\n",
              "    <tr>\n",
              "      <th>3</th>\n",
              "      <td>11.42</td>\n",
              "      <td>20.38</td>\n",
              "      <td>77.58</td>\n",
              "      <td>386.1</td>\n",
              "      <td>0.14250</td>\n",
              "      <td>0.28390</td>\n",
              "      <td>0.24140</td>\n",
              "      <td>0.10520</td>\n",
              "      <td>0.2597</td>\n",
              "      <td>0.09744</td>\n",
              "      <td>...</td>\n",
              "      <td>14.910</td>\n",
              "      <td>26.50</td>\n",
              "      <td>98.87</td>\n",
              "      <td>567.7</td>\n",
              "      <td>0.20980</td>\n",
              "      <td>0.86630</td>\n",
              "      <td>0.6869</td>\n",
              "      <td>0.2575</td>\n",
              "      <td>0.6638</td>\n",
              "      <td>0.17300</td>\n",
              "    </tr>\n",
              "    <tr>\n",
              "      <th>4</th>\n",
              "      <td>20.29</td>\n",
              "      <td>14.34</td>\n",
              "      <td>135.10</td>\n",
              "      <td>1297.0</td>\n",
              "      <td>0.10030</td>\n",
              "      <td>0.13280</td>\n",
              "      <td>0.19800</td>\n",
              "      <td>0.10430</td>\n",
              "      <td>0.1809</td>\n",
              "      <td>0.05883</td>\n",
              "      <td>...</td>\n",
              "      <td>22.540</td>\n",
              "      <td>16.67</td>\n",
              "      <td>152.20</td>\n",
              "      <td>1575.0</td>\n",
              "      <td>0.13740</td>\n",
              "      <td>0.20500</td>\n",
              "      <td>0.4000</td>\n",
              "      <td>0.1625</td>\n",
              "      <td>0.2364</td>\n",
              "      <td>0.07678</td>\n",
              "    </tr>\n",
              "    <tr>\n",
              "      <th>...</th>\n",
              "      <td>...</td>\n",
              "      <td>...</td>\n",
              "      <td>...</td>\n",
              "      <td>...</td>\n",
              "      <td>...</td>\n",
              "      <td>...</td>\n",
              "      <td>...</td>\n",
              "      <td>...</td>\n",
              "      <td>...</td>\n",
              "      <td>...</td>\n",
              "      <td>...</td>\n",
              "      <td>...</td>\n",
              "      <td>...</td>\n",
              "      <td>...</td>\n",
              "      <td>...</td>\n",
              "      <td>...</td>\n",
              "      <td>...</td>\n",
              "      <td>...</td>\n",
              "      <td>...</td>\n",
              "      <td>...</td>\n",
              "      <td>...</td>\n",
              "    </tr>\n",
              "    <tr>\n",
              "      <th>564</th>\n",
              "      <td>21.56</td>\n",
              "      <td>22.39</td>\n",
              "      <td>142.00</td>\n",
              "      <td>1479.0</td>\n",
              "      <td>0.11100</td>\n",
              "      <td>0.11590</td>\n",
              "      <td>0.24390</td>\n",
              "      <td>0.13890</td>\n",
              "      <td>0.1726</td>\n",
              "      <td>0.05623</td>\n",
              "      <td>...</td>\n",
              "      <td>25.450</td>\n",
              "      <td>26.40</td>\n",
              "      <td>166.10</td>\n",
              "      <td>2027.0</td>\n",
              "      <td>0.14100</td>\n",
              "      <td>0.21130</td>\n",
              "      <td>0.4107</td>\n",
              "      <td>0.2216</td>\n",
              "      <td>0.2060</td>\n",
              "      <td>0.07115</td>\n",
              "    </tr>\n",
              "    <tr>\n",
              "      <th>565</th>\n",
              "      <td>20.13</td>\n",
              "      <td>28.25</td>\n",
              "      <td>131.20</td>\n",
              "      <td>1261.0</td>\n",
              "      <td>0.09780</td>\n",
              "      <td>0.10340</td>\n",
              "      <td>0.14400</td>\n",
              "      <td>0.09791</td>\n",
              "      <td>0.1752</td>\n",
              "      <td>0.05533</td>\n",
              "      <td>...</td>\n",
              "      <td>23.690</td>\n",
              "      <td>38.25</td>\n",
              "      <td>155.00</td>\n",
              "      <td>1731.0</td>\n",
              "      <td>0.11660</td>\n",
              "      <td>0.19220</td>\n",
              "      <td>0.3215</td>\n",
              "      <td>0.1628</td>\n",
              "      <td>0.2572</td>\n",
              "      <td>0.06637</td>\n",
              "    </tr>\n",
              "    <tr>\n",
              "      <th>566</th>\n",
              "      <td>16.60</td>\n",
              "      <td>28.08</td>\n",
              "      <td>108.30</td>\n",
              "      <td>858.1</td>\n",
              "      <td>0.08455</td>\n",
              "      <td>0.10230</td>\n",
              "      <td>0.09251</td>\n",
              "      <td>0.05302</td>\n",
              "      <td>0.1590</td>\n",
              "      <td>0.05648</td>\n",
              "      <td>...</td>\n",
              "      <td>18.980</td>\n",
              "      <td>34.12</td>\n",
              "      <td>126.70</td>\n",
              "      <td>1124.0</td>\n",
              "      <td>0.11390</td>\n",
              "      <td>0.30940</td>\n",
              "      <td>0.3403</td>\n",
              "      <td>0.1418</td>\n",
              "      <td>0.2218</td>\n",
              "      <td>0.07820</td>\n",
              "    </tr>\n",
              "    <tr>\n",
              "      <th>567</th>\n",
              "      <td>20.60</td>\n",
              "      <td>29.33</td>\n",
              "      <td>140.10</td>\n",
              "      <td>1265.0</td>\n",
              "      <td>0.11780</td>\n",
              "      <td>0.27700</td>\n",
              "      <td>0.35140</td>\n",
              "      <td>0.15200</td>\n",
              "      <td>0.2397</td>\n",
              "      <td>0.07016</td>\n",
              "      <td>...</td>\n",
              "      <td>25.740</td>\n",
              "      <td>39.42</td>\n",
              "      <td>184.60</td>\n",
              "      <td>1821.0</td>\n",
              "      <td>0.16500</td>\n",
              "      <td>0.86810</td>\n",
              "      <td>0.9387</td>\n",
              "      <td>0.2650</td>\n",
              "      <td>0.4087</td>\n",
              "      <td>0.12400</td>\n",
              "    </tr>\n",
              "    <tr>\n",
              "      <th>568</th>\n",
              "      <td>7.76</td>\n",
              "      <td>24.54</td>\n",
              "      <td>47.92</td>\n",
              "      <td>181.0</td>\n",
              "      <td>0.05263</td>\n",
              "      <td>0.04362</td>\n",
              "      <td>0.00000</td>\n",
              "      <td>0.00000</td>\n",
              "      <td>0.1587</td>\n",
              "      <td>0.05884</td>\n",
              "      <td>...</td>\n",
              "      <td>9.456</td>\n",
              "      <td>30.37</td>\n",
              "      <td>59.16</td>\n",
              "      <td>268.6</td>\n",
              "      <td>0.08996</td>\n",
              "      <td>0.06444</td>\n",
              "      <td>0.0000</td>\n",
              "      <td>0.0000</td>\n",
              "      <td>0.2871</td>\n",
              "      <td>0.07039</td>\n",
              "    </tr>\n",
              "  </tbody>\n",
              "</table>\n",
              "<p>569 rows × 30 columns</p>\n",
              "</div>"
            ],
            "text/plain": [
              "     mean radius  mean texture  mean perimeter  mean area  mean smoothness  \\\n",
              "0          17.99         10.38          122.80     1001.0          0.11840   \n",
              "1          20.57         17.77          132.90     1326.0          0.08474   \n",
              "2          19.69         21.25          130.00     1203.0          0.10960   \n",
              "3          11.42         20.38           77.58      386.1          0.14250   \n",
              "4          20.29         14.34          135.10     1297.0          0.10030   \n",
              "..           ...           ...             ...        ...              ...   \n",
              "564        21.56         22.39          142.00     1479.0          0.11100   \n",
              "565        20.13         28.25          131.20     1261.0          0.09780   \n",
              "566        16.60         28.08          108.30      858.1          0.08455   \n",
              "567        20.60         29.33          140.10     1265.0          0.11780   \n",
              "568         7.76         24.54           47.92      181.0          0.05263   \n",
              "\n",
              "     mean compactness  mean concavity  mean concave points  mean symmetry  \\\n",
              "0             0.27760         0.30010              0.14710         0.2419   \n",
              "1             0.07864         0.08690              0.07017         0.1812   \n",
              "2             0.15990         0.19740              0.12790         0.2069   \n",
              "3             0.28390         0.24140              0.10520         0.2597   \n",
              "4             0.13280         0.19800              0.10430         0.1809   \n",
              "..                ...             ...                  ...            ...   \n",
              "564           0.11590         0.24390              0.13890         0.1726   \n",
              "565           0.10340         0.14400              0.09791         0.1752   \n",
              "566           0.10230         0.09251              0.05302         0.1590   \n",
              "567           0.27700         0.35140              0.15200         0.2397   \n",
              "568           0.04362         0.00000              0.00000         0.1587   \n",
              "\n",
              "     mean fractal dimension  ...  worst radius  worst texture  \\\n",
              "0                   0.07871  ...        25.380          17.33   \n",
              "1                   0.05667  ...        24.990          23.41   \n",
              "2                   0.05999  ...        23.570          25.53   \n",
              "3                   0.09744  ...        14.910          26.50   \n",
              "4                   0.05883  ...        22.540          16.67   \n",
              "..                      ...  ...           ...            ...   \n",
              "564                 0.05623  ...        25.450          26.40   \n",
              "565                 0.05533  ...        23.690          38.25   \n",
              "566                 0.05648  ...        18.980          34.12   \n",
              "567                 0.07016  ...        25.740          39.42   \n",
              "568                 0.05884  ...         9.456          30.37   \n",
              "\n",
              "     worst perimeter  worst area  worst smoothness  worst compactness  \\\n",
              "0             184.60      2019.0           0.16220            0.66560   \n",
              "1             158.80      1956.0           0.12380            0.18660   \n",
              "2             152.50      1709.0           0.14440            0.42450   \n",
              "3              98.87       567.7           0.20980            0.86630   \n",
              "4             152.20      1575.0           0.13740            0.20500   \n",
              "..               ...         ...               ...                ...   \n",
              "564           166.10      2027.0           0.14100            0.21130   \n",
              "565           155.00      1731.0           0.11660            0.19220   \n",
              "566           126.70      1124.0           0.11390            0.30940   \n",
              "567           184.60      1821.0           0.16500            0.86810   \n",
              "568            59.16       268.6           0.08996            0.06444   \n",
              "\n",
              "     worst concavity  worst concave points  worst symmetry  \\\n",
              "0             0.7119                0.2654          0.4601   \n",
              "1             0.2416                0.1860          0.2750   \n",
              "2             0.4504                0.2430          0.3613   \n",
              "3             0.6869                0.2575          0.6638   \n",
              "4             0.4000                0.1625          0.2364   \n",
              "..               ...                   ...             ...   \n",
              "564           0.4107                0.2216          0.2060   \n",
              "565           0.3215                0.1628          0.2572   \n",
              "566           0.3403                0.1418          0.2218   \n",
              "567           0.9387                0.2650          0.4087   \n",
              "568           0.0000                0.0000          0.2871   \n",
              "\n",
              "     worst fractal dimension  \n",
              "0                    0.11890  \n",
              "1                    0.08902  \n",
              "2                    0.08758  \n",
              "3                    0.17300  \n",
              "4                    0.07678  \n",
              "..                       ...  \n",
              "564                  0.07115  \n",
              "565                  0.06637  \n",
              "566                  0.07820  \n",
              "567                  0.12400  \n",
              "568                  0.07039  \n",
              "\n",
              "[569 rows x 30 columns]"
            ]
          },
          "execution_count": 9,
          "metadata": {},
          "output_type": "execute_result"
        }
      ],
      "source": [
        "Cancerdata=datasets.load_breast_cancer()\n",
        "Cancer_feat=pd.DataFrame(Cancerdata.data, columns=Cancerdata.feature_names)\n",
        "\n",
        "Cancer_feat"
      ]
    },
    {
      "cell_type": "markdown",
      "id": "9354fe3d-18f4-4539-ad6a-6356789b8f75",
      "metadata": {
        "id": "9354fe3d-18f4-4539-ad6a-6356789b8f75"
      },
      "source": [
        "**a.** As you can see each tumor is described by 30 values. We want to reduce this to 2 values without loosing too much information. Before we can do that we need to be able to somehow compare values from different columns. As you can see, right now value differ a lot (for example, look at the columns `mean area` and `mean smoothness`). So, we want to \"normalize\" it somehow. We will use z-score. So now, do the following:\n",
        "\n",
        "Convert data frame to NumPy array, then *standardize* every column. To do that, find mean and standard deviation of every column (NumPy has commands for that). Then subtract mean from column and divide by standard deviation. ( i.e  $\\frac{x-\\mu}{\\sigma}$). Save it as a new array $M$. This is standardized matrix.\n",
        "\n",
        "[Hint: If you have an 2-dim array $A$ with $n$ columns and a vector ${\\bf v}$ with $n$ entries then $A-{\\bf v}$ will subtract each entry of ${\\bf v}$ from all entries of a corresponding column in $A$. Same applies to all other operations.]"
      ]
    },
    {
      "cell_type": "code",
      "execution_count": null,
      "id": "950ab594-f85b-4a25-ade7-a8fab6b4aa98",
      "metadata": {
        "id": "950ab594-f85b-4a25-ade7-a8fab6b4aa98"
      },
      "outputs": [],
      "source": []
    },
    {
      "cell_type": "markdown",
      "id": "f10960b2-c5fc-40cb-9c11-fdeddea77209",
      "metadata": {
        "id": "f10960b2-c5fc-40cb-9c11-fdeddea77209"
      },
      "source": [
        "**b.** Find covariance matrix $C=\\frac{M^TM}{n-1}$, where $n$ is amount of rows in $M$. Then find eigenvalues and eigenvectors of $C$. Save the eigevector corresponding to the largest eigenvalue as $v1$ and the eigenvector corresponding to the second largest eigenvalue as $v2$. Make sure, that norms of $v1$ and $v2$ are 1.\n",
        "\n",
        "Covariance matrix shows you how much your data is spread. Values in the main diagonal of $C$ are just variances of each column of $M$ (see if that makes sense by trying to see the calculation of the first value $c_{1,1}$). Then values of other entries are covariances of corresponding columns of $M$ (this means how much relation is there between those two columns). Knowing this, what do you think $v1$ represents?"
      ]
    },
    {
      "cell_type": "code",
      "execution_count": null,
      "id": "82c9222e-3a88-4f98-bbad-69405ae63efb",
      "metadata": {
        "scrolled": true,
        "id": "82c9222e-3a88-4f98-bbad-69405ae63efb"
      },
      "outputs": [],
      "source": []
    },
    {
      "cell_type": "code",
      "execution_count": null,
      "id": "ef6d3f0f-f2c4-4deb-9546-5d356862384a",
      "metadata": {
        "id": "ef6d3f0f-f2c4-4deb-9546-5d356862384a"
      },
      "outputs": [],
      "source": []
    },
    {
      "cell_type": "code",
      "execution_count": null,
      "id": "55cb192a-17d9-41ae-ba92-73de48127760",
      "metadata": {
        "id": "55cb192a-17d9-41ae-ba92-73de48127760"
      },
      "outputs": [],
      "source": []
    },
    {
      "cell_type": "code",
      "execution_count": null,
      "id": "1fb30f8d-b05b-4341-b84b-982929e5f708",
      "metadata": {
        "id": "1fb30f8d-b05b-4341-b84b-982929e5f708"
      },
      "outputs": [],
      "source": []
    },
    {
      "cell_type": "markdown",
      "id": "1d07635d-c097-4658-bd4d-3a5868320aa8",
      "metadata": {
        "id": "1d07635d-c097-4658-bd4d-3a5868320aa8"
      },
      "source": [
        "**Answer:**"
      ]
    },
    {
      "cell_type": "raw",
      "id": "7b01092e-df96-4998-82f3-21cc0610668e",
      "metadata": {
        "id": "7b01092e-df96-4998-82f3-21cc0610668e"
      },
      "source": []
    },
    {
      "cell_type": "markdown",
      "id": "563af79c-cca2-4d93-a8c2-b504c197526f",
      "metadata": {
        "id": "563af79c-cca2-4d93-a8c2-b504c197526f"
      },
      "source": [
        "**c.** Project all the data points (rows) of $M$ onto a line spanned by $v1$ saving results as $X$ and onto a line spanned by $v2$ saving those as $Y$.\n",
        "(Note: since norms of $v1$ and $v2$ are 1, this is nothing more than matrix vector multiplication.\n",
        "\n",
        "Finally, plot the scatter plot using $X$ as x-coordinates and $Y$ as y-coordinates. Since we want to differentiate between cancerous and benign tumors, let's color points based on that. Before ploting the scatter plot use this `color=np.array(Cancerdata.target)` and use `c=color` or `hue=color` inside scatter plot depending on what you are using to plot scatter plot."
      ]
    },
    {
      "cell_type": "code",
      "execution_count": null,
      "id": "87a86528-0872-4979-8951-282cb972c2b1",
      "metadata": {
        "id": "87a86528-0872-4979-8951-282cb972c2b1"
      },
      "outputs": [],
      "source": []
    },
    {
      "cell_type": "markdown",
      "id": "48945f52-53e5-4077-90c8-7b5f07481d65",
      "metadata": {
        "id": "48945f52-53e5-4077-90c8-7b5f07481d65"
      },
      "source": [
        "**d.** Do you think the $X$ and $Y$ values we got differentiate well between cancerous and benign tumors? Elaborate."
      ]
    },
    {
      "cell_type": "markdown",
      "id": "ab6fc8d6-93c6-44d7-b7a4-3bf4a6c868d1",
      "metadata": {
        "id": "ab6fc8d6-93c6-44d7-b7a4-3bf4a6c868d1"
      },
      "source": [
        "**Answer:**"
      ]
    }
  ],
  "metadata": {
    "kernelspec": {
      "display_name": "Python 3 (ipykernel)",
      "language": "python",
      "name": "python3"
    },
    "language_info": {
      "codemirror_mode": {
        "name": "ipython",
        "version": 3
      },
      "file_extension": ".py",
      "mimetype": "text/x-python",
      "name": "python",
      "nbconvert_exporter": "python",
      "pygments_lexer": "ipython3",
      "version": "3.11.5"
    },
    "colab": {
      "provenance": []
    }
  },
  "nbformat": 4,
  "nbformat_minor": 5
}