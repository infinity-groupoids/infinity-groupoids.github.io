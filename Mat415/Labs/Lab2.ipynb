{
 "cells": [
  {
   "cell_type": "markdown",
   "id": "7c403d44",
   "metadata": {},
   "source": [
    "## <center> Lab Assignment 2"
   ]
  },
  {
   "cell_type": "markdown",
   "id": "227fb0b8",
   "metadata": {},
   "source": [
    "Add needed libraries:"
   ]
  },
  {
   "cell_type": "code",
   "execution_count": null,
   "id": "8be3532b",
   "metadata": {},
   "outputs": [],
   "source": []
  },
  {
   "cell_type": "markdown",
   "id": "5b4b5eaf",
   "metadata": {},
   "source": [
    "### Problem 1\n",
    "\n",
    "Let $A=\\begin{bmatrix} 1/6 & 1/2 & 1/3 \\\\ 1/2 & 1/4 & 1/4 \\\\ 1/3 & 1/4 & 5/12 \\end{bmatrix} $\n",
    "\n",
    "**a.** Find $A^5$, $A^{10}$, $A^{20}$ and $A^{30}$. What does $A^n$ approach as $n$ gets larger? [You can use `np.linalg.power(A,n)` to find powers easier, where n is the power you need]\n"
   ]
  },
  {
   "cell_type": "code",
   "execution_count": null,
   "id": "7a4dc103-c4aa-42bf-b094-22976a02dc88",
   "metadata": {},
   "outputs": [],
   "source": []
  },
  {
   "cell_type": "markdown",
   "id": "78d47a2a",
   "metadata": {},
   "source": [
    "**Answer:** "
   ]
  },
  {
   "cell_type": "markdown",
   "id": "7b5c925d-9b7c-417a-9da5-b471786e739e",
   "metadata": {},
   "source": [
    "\n",
    "**b.** Let $B$ be a matrix to which $A^n$ approaches in part a. Compute $B-I$ and find nullspace of $B-I$.  (I would recommend using SciPy library instead of SymPy, as SymPy may get rounding errors)\n",
    "\n"
   ]
  },
  {
   "cell_type": "code",
   "execution_count": null,
   "id": "5124ecbd",
   "metadata": {},
   "outputs": [],
   "source": []
  },
  {
   "cell_type": "markdown",
   "id": "fd3f718b-c574-4e4e-bd0d-6c37a52fa3d3",
   "metadata": {},
   "source": [
    "**c.** Pick any 3 vectors in the null space of $B-I$ and multiply $A$ by those vectors. What is the relationship between $A$ and vectors from the nullspace of $B-I$?"
   ]
  },
  {
   "cell_type": "code",
   "execution_count": null,
   "id": "fa248108-0878-4c98-b3f2-a755d05f1e84",
   "metadata": {},
   "outputs": [],
   "source": []
  },
  {
   "cell_type": "markdown",
   "id": "a465b27c",
   "metadata": {},
   "source": [
    "**Answer:** "
   ]
  },
  {
   "attachments": {
    "image.png": {
     "image/png": "[encoded data removed]"
    }
   },
   "cell_type": "markdown",
   "id": "d0ec9903",
   "metadata": {},
   "source": [
    "### Problem 2\n",
    "![image.png](attachment:image.png)\n",
    "\n",
    "The solution to a steady state heat flow problem for the plate in the figure above is approximated by the the solution to equation $M{\\bf x}={\\bf b}$, where ${\\bf b}=(5,15,0,10,0,10,20,30)$ and\n",
    "\n",
    " $M=\\begin{bmatrix} \n",
    "    4 & -1 & -1  & & & & & \\\\\n",
    "    -1 & 4 & 0  &-1 & & & & \\\\\n",
    "    -1 & 0  & 4  & -1&-1 & & & \\\\\n",
    "    & -1 &  -1 & 4& 0 & -1& & \\\\\n",
    "    &  & -1  &0 &4 &-1 & -1& \\\\\n",
    "    &  &   & -1& -1& 4&0 & -1\\\\\n",
    "    &  &   & &-1 & 0& 4& -1\\\\\n",
    "    &  &   & & & -1& -1& 4\\\\\n",
    "    \\end{bmatrix} $ with missing values being $0$.\n",
    "    \n",
    "**a.** Find LU-decomposition of $M$. Then compute $LU-M$ to confirm that $M=LU$. (You should use rounding). Did you get a zero matrix or not?\n",
    "\n"
   ]
  },
  {
   "cell_type": "code",
   "execution_count": 2,
   "id": "319c9068",
   "metadata": {},
   "outputs": [],
   "source": [
    "M=np.array([[4 , -1 , -1  ,0,0,0,0,0], \n",
    "    [-1 , 4 , 0  ,-1 ,0,0,0,0], \n",
    "    [-1 , 0  , 4  , -1,-1 ,0,0,0],\n",
    "    [0, -1 ,  -1 , 4, 0 , -1,0,0] ,\n",
    "    [0,0, -1  ,0 ,4 ,-1 , -1,0] ,\n",
    "    [0,0,0,-1, -1, 4,0 , -1],\n",
    "    [0,0,0,0,-1 , 0, 4, -1],\n",
    "    [0,0,0,0,0, -1, -1, 4]])\n",
    "b=np.array([5,15,0,10,0,10,20,30])"
   ]
  },
  {
   "cell_type": "code",
   "execution_count": null,
   "id": "96589f69",
   "metadata": {},
   "outputs": [],
   "source": []
  },
  {
   "cell_type": "markdown",
   "id": "2ac22c8b-65fd-47c2-aea2-7f8e4caeba23",
   "metadata": {},
   "source": [
    "**Answer:**"
   ]
  },
  {
   "cell_type": "markdown",
   "id": "7fe1aa8a-02eb-43be-8bb1-fd423bc778f1",
   "metadata": {},
   "source": [
    "**b.** Use LU-decomposition to solve $M{\\bf x}={\\bf b}$.\n",
    "\n"
   ]
  },
  {
   "cell_type": "code",
   "execution_count": null,
   "id": "f3fa10eb-9fe6-4ec5-ad58-1a6ded57b25d",
   "metadata": {},
   "outputs": [],
   "source": []
  },
  {
   "cell_type": "code",
   "execution_count": null,
   "id": "e97ce258",
   "metadata": {},
   "outputs": [],
   "source": []
  },
  {
   "cell_type": "markdown",
   "id": "56d24bce-ae5b-4968-8062-513259ad5066",
   "metadata": {},
   "source": [
    "**c.** Find $M^{-1}$. Notice that while $M$ has alot of zero entries, $M^{-1}$ doesn't have any. This means $M^{-1}$ takes more space to store and is harder to work with.\n"
   ]
  },
  {
   "cell_type": "code",
   "execution_count": null,
   "id": "c9e80d55",
   "metadata": {},
   "outputs": [],
   "source": []
  },
  {
   "cell_type": "markdown",
   "id": "e8830469-7f34-4c05-8bd2-e19bb6b850a1",
   "metadata": {},
   "source": [
    "\n",
    "**d.** Compute average execution time of solving $M{\\bf x}={\\bf b}$ through LU factorization, through finding an inverse and through using np.solve. Use 50 runs with 500 loops each. Which method gives you best time?"
   ]
  },
  {
   "cell_type": "code",
   "execution_count": null,
   "id": "dae636e5-a580-4539-872c-65ecd6d558e5",
   "metadata": {},
   "outputs": [],
   "source": []
  },
  {
   "cell_type": "markdown",
   "id": "8e819c0c-9ff6-4dd6-b7ef-7b15920cde48",
   "metadata": {},
   "source": [
    "**Answer:**"
   ]
  },
  {
   "cell_type": "markdown",
   "id": "ebebbf22-f14c-4c3b-b673-5c3372f237de",
   "metadata": {},
   "source": [
    "### Problem 3\n",
    "\n",
    "This is a short problem, where we will look at the relationship betweem matrix $A$ and two products $AA^T$ and $A^TA$. Check the \"1.1-1.4\" set on how to create a random matrix. I would also recommend using rounding to 4 or 5 digits for easier read.\n",
    "\n",
    "**a.** Create a random 4x5 matrix $A$ and compute determinant of $AA^T$ and $A^TA$. Run this few times to see what happens to determinants. What can you say about determinants of $AA^T$ and $A^TA$, when $A$ has more columns than rows?"
   ]
  },
  {
   "cell_type": "code",
   "execution_count": null,
   "id": "d8e3cadc-c24e-4d9b-afcb-8934ecfe2780",
   "metadata": {},
   "outputs": [],
   "source": []
  },
  {
   "cell_type": "markdown",
   "id": "205143cc-27a0-4393-9add-3bd812a007a6",
   "metadata": {},
   "source": [
    "**Answer:** "
   ]
  },
  {
   "cell_type": "markdown",
   "id": "979dd7e0-2193-41f3-8318-4d3b525105f1",
   "metadata": {},
   "source": [
    "**b.** Repeat part **a**, but for 5x4 matrix. What can you say about determinants of $AA^T$ and $A^TA$, when $A$ has more rows than columns?"
   ]
  },
  {
   "cell_type": "code",
   "execution_count": null,
   "id": "8143ec25-6be9-49fa-8d93-256690f6dd4b",
   "metadata": {},
   "outputs": [],
   "source": []
  },
  {
   "cell_type": "markdown",
   "id": "1ae4517e-0271-402b-b8cc-048e2c7d5261",
   "metadata": {},
   "source": [
    "**Answer:** "
   ]
  },
  {
   "cell_type": "markdown",
   "id": "55c100c3-5753-4314-b649-54bbb3ae3c7f",
   "metadata": {},
   "source": [
    "**c.** Repeat parts **a**and **b.**, but for 5x5 matrix. What can you say about determinants of $AA^T$ and $A^TA$, when $A$ is a square matrix?"
   ]
  },
  {
   "cell_type": "code",
   "execution_count": null,
   "id": "6cadd889-a15d-46cf-a0b0-c6ee81f05238",
   "metadata": {},
   "outputs": [],
   "source": []
  },
  {
   "cell_type": "markdown",
   "id": "83ca053c-1ce9-454c-9f8c-1a55402be0e4",
   "metadata": {},
   "source": [
    "**Answer:** "
   ]
  },
  {
   "cell_type": "markdown",
   "id": "6e89a904-82a9-4a97-a2cc-232365998db4",
   "metadata": {},
   "source": [
    "**d. Optional Extra Credit.** If you think about it, you should convince yourself that part **a** and part **b** show you the same thing: If $A$ is not a square matrix and you compute $AA^T$ and $A^TA$, then one of those is smaller matrix and the other one is bigger; and the determinant of the bigger matrix gives you the same result. \n",
    "\n",
    "\n",
    "Now the question: Why the determinant of the bigger matrix is like that?"
   ]
  },
  {
   "cell_type": "markdown",
   "id": "9e73b7e1-dfa2-43db-b0df-df65a4e23fd8",
   "metadata": {},
   "source": [
    "**Answer:** "
   ]
  }
 ],
 "metadata": {
  "kernelspec": {
   "display_name": "Python 3 (ipykernel)",
   "language": "python",
   "name": "python3"
  },
  "language_info": {
   "codemirror_mode": {
    "name": "ipython",
    "version": 3
   },
   "file_extension": ".py",
   "mimetype": "text/x-python",
   "name": "python",
   "nbconvert_exporter": "python",
   "pygments_lexer": "ipython3",
   "version": "3.11.9"
  }
 },
 "nbformat": 4,
 "nbformat_minor": 5
}
