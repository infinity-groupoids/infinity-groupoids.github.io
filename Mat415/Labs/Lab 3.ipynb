{
 "cells": [
  {
   "cell_type": "markdown",
   "id": "c163e427-4ea8-4332-9c33-443685aa0aa3",
   "metadata": {},
   "source": [
    "## <center> Lab Assignment 3\n",
    "\n",
    "Add libraries"
   ]
  },
  {
   "cell_type": "code",
   "execution_count": null,
   "id": "c8a1fe25",
   "metadata": {},
   "outputs": [],
   "source": []
  },
  {
   "cell_type": "markdown",
   "id": "d07cf4ca",
   "metadata": {},
   "source": [
    "### Problem 1\n",
    "\n",
    "Let $A=\\begin{bmatrix} -10 & 13 & 7 & -11 \\\\ 2 & 1 & -5 & 3 \\\\ -6 & 3 & 13 & -3 \\\\ 16 & -16 & -2 & 5 \\\\ 2 & 1 & -5 & -7 \\end{bmatrix} $\n",
    "\n",
    "a. Produce orthonormal basis for the column space of $A$ using Gram-Schmidt Process. What is the dimension of $Col(A)$"
   ]
  },
  {
   "cell_type": "code",
   "execution_count": null,
   "id": "b676bfe6",
   "metadata": {},
   "outputs": [],
   "source": []
  },
  {
   "cell_type": "markdown",
   "id": "26788113",
   "metadata": {},
   "source": [
    "**Answer:** "
   ]
  },
  {
   "cell_type": "markdown",
   "id": "3a2f0ae3",
   "metadata": {},
   "source": [
    "b. Produce QR factorization of $A$ using both SymPy and NumPy. (Might be useful to use `np.round(M,3)` for NumPy matricies, where M the the matrix whose values you want to round off)"
   ]
  },
  {
   "cell_type": "code",
   "execution_count": null,
   "id": "70db6f86",
   "metadata": {},
   "outputs": [],
   "source": []
  },
  {
   "cell_type": "code",
   "execution_count": null,
   "id": "1f54e78e",
   "metadata": {},
   "outputs": [],
   "source": []
  },
  {
   "cell_type": "code",
   "execution_count": null,
   "id": "bc96928b",
   "metadata": {},
   "outputs": [],
   "source": []
  },
  {
   "cell_type": "code",
   "execution_count": null,
   "id": "b7e4b409",
   "metadata": {},
   "outputs": [],
   "source": []
  },
  {
   "cell_type": "markdown",
   "id": "0eeb88b5",
   "metadata": {},
   "source": [
    "### Problem 2\n",
    "\n",
    "A simple curve that often makes a good model for a variable cost of a company, as a function of of the sales level $x$, has the form $y=b_1x+b_2x^2+b_3x^3$. There is no constant term because fixed costs are not included.\n",
    "\n",
    "a. Find the least-squares curve of the form given above to fit the data $(4,1.58)$, $(6, 2.08)$, $(8, 2.5)$, $(10,2.8)$, $(12,3.1)$, $(14, 3.4)$, $(16, 3.8)$ and $(18, 4.32)$, with values in thousands. "
   ]
  },
  {
   "cell_type": "code",
   "execution_count": null,
   "id": "ecde713c",
   "metadata": {},
   "outputs": [],
   "source": []
  },
  {
   "cell_type": "code",
   "execution_count": null,
   "id": "a8cbbd46",
   "metadata": {},
   "outputs": [],
   "source": []
  },
  {
   "cell_type": "code",
   "execution_count": null,
   "id": "17e5ea4e",
   "metadata": {},
   "outputs": [],
   "source": []
  },
  {
   "cell_type": "markdown",
   "id": "a82ba483",
   "metadata": {},
   "source": [
    "b. Plot the data and the least-squares curve"
   ]
  },
  {
   "cell_type": "code",
   "execution_count": null,
   "id": "9cf255f4",
   "metadata": {},
   "outputs": [],
   "source": []
  },
  {
   "cell_type": "markdown",
   "id": "a63616f9",
   "metadata": {},
   "source": [
    "c. If machine learned the curve above, what output it would provide for an input $x=9$?"
   ]
  },
  {
   "cell_type": "code",
   "execution_count": null,
   "id": "a9c4e5d2",
   "metadata": {},
   "outputs": [],
   "source": []
  },
  {
   "cell_type": "markdown",
   "id": "58d6163e",
   "metadata": {},
   "source": [
    "### Problem 3\n",
    "\n",
    "For this problem you should review Tutorial 3 (Files). \n",
    "\n",
    "In this problem you are going to upload a simple data set from sklearn, do some visualization and finally use above ideas to draw a regression line. Some of the commands will be provided already for you. I will included needed libraries this time as well.\n",
    "\n",
    "Run the following cell to add libraries and upload Iris Data set from sklearn. We will save our dataframe as df."
   ]
  },
  {
   "cell_type": "code",
   "execution_count": null,
   "id": "1f56eb50",
   "metadata": {},
   "outputs": [],
   "source": [
    "from sklearn import datasets\n",
    "import seaborn as sns\n",
    "\n",
    "Irisdata=datasets.load_iris()\n",
    "df=pd.DataFrame(Irisdata.data, columns=Irisdata.feature_names)\n",
    "\n",
    "df.head()"
   ]
  },
  {
   "cell_type": "markdown",
   "id": "1f1e5209",
   "metadata": {},
   "source": [
    "a. Find the dimension of our dataframe, look at the type of data we have and check that there are no missing values. "
   ]
  },
  {
   "cell_type": "code",
   "execution_count": null,
   "id": "9dfb21b7",
   "metadata": {},
   "outputs": [],
   "source": []
  },
  {
   "cell_type": "code",
   "execution_count": null,
   "id": "9dd768f6",
   "metadata": {},
   "outputs": [],
   "source": []
  },
  {
   "cell_type": "code",
   "execution_count": null,
   "id": "73c314f3",
   "metadata": {},
   "outputs": [],
   "source": []
  },
  {
   "cell_type": "markdown",
   "id": "1e4f6929-dcf7-4b12-a834-8578c86b6474",
   "metadata": {},
   "source": [
    "b. Type `Irisdata.target` in the next cell and execute it to see the values that specify the species of the flowers we dealing with. Notice that all values are numerical. Add target array to our data frame as a new column 'Species', and then rename all values to the following names: `{0:'Setosa',1:'Versicolour',2:'Virginica'}`."
   ]
  },
  {
   "cell_type": "code",
   "execution_count": null,
   "id": "6297355b",
   "metadata": {},
   "outputs": [],
   "source": []
  },
  {
   "cell_type": "code",
   "execution_count": null,
   "id": "f23cbdcc",
   "metadata": {},
   "outputs": [],
   "source": []
  },
  {
   "cell_type": "markdown",
   "id": "97031abf",
   "metadata": {},
   "source": [
    "c. Use seaborne to plot pairwise scatter plots coloring based on species."
   ]
  },
  {
   "cell_type": "code",
   "execution_count": null,
   "id": "e45b1566",
   "metadata": {},
   "outputs": [],
   "source": []
  },
  {
   "cell_type": "markdown",
   "id": "5cd70208",
   "metadata": {},
   "source": [
    "d. Notice we have some correlation between petal length and petal width. Using techniques of above problem find the regresion line using petal length as `X` and petal width as `y`. Plot the scatter plot with the line."
   ]
  },
  {
   "cell_type": "code",
   "execution_count": null,
   "id": "3db13f82",
   "metadata": {},
   "outputs": [],
   "source": []
  },
  {
   "cell_type": "code",
   "execution_count": null,
   "id": "bdd72ead",
   "metadata": {},
   "outputs": [],
   "source": []
  },
  {
   "cell_type": "code",
   "execution_count": null,
   "id": "8fa4f139",
   "metadata": {},
   "outputs": [],
   "source": []
  },
  {
   "cell_type": "code",
   "execution_count": null,
   "id": "04c9d6e9",
   "metadata": {},
   "outputs": [],
   "source": []
  }
 ],
 "metadata": {
  "kernelspec": {
   "display_name": "Python 3 (ipykernel)",
   "language": "python",
   "name": "python3"
  },
  "language_info": {
   "codemirror_mode": {
    "name": "ipython",
    "version": 3
   },
   "file_extension": ".py",
   "mimetype": "text/x-python",
   "name": "python",
   "nbconvert_exporter": "python",
   "pygments_lexer": "ipython3",
   "version": "3.11.5"
  }
 },
 "nbformat": 4,
 "nbformat_minor": 5
}
