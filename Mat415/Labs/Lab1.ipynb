{
 "cells": [
  {
   "cell_type": "markdown",
   "id": "b81983f9",
   "metadata": {},
   "source": [
    "## <center> Lab Assignment 1"
   ]
  },
  {
   "cell_type": "markdown",
   "id": "26182446",
   "metadata": {},
   "source": [
    "Add needed libraries:"
   ]
  },
  {
   "cell_type": "code",
   "execution_count": 1,
   "id": "bf45b0b8",
   "metadata": {},
   "outputs": [],
   "source": [
    "import matplotlib.pyplot as plt\n",
    "import numpy as np\n",
    "import sympy as sp"
   ]
  },
  {
   "cell_type": "markdown",
   "id": "db0cf594",
   "metadata": {},
   "source": [
    "### Problem 1\n",
    "\n",
    "Solve the following linear system using both NumPy and SymPy.\n",
    "    $$2x_1+4x_2-x_3=10$$\n",
    "    $$2x_1-2x_2-2x_3=4$$\n",
    "    $$x_1+2x_2+2x_3=8$$\n"
   ]
  },
  {
   "cell_type": "code",
   "execution_count": null,
   "id": "a57e7005",
   "metadata": {},
   "outputs": [],
   "source": []
  },
  {
   "cell_type": "code",
   "execution_count": null,
   "id": "cc3e05e9",
   "metadata": {},
   "outputs": [],
   "source": []
  },
  {
   "cell_type": "markdown",
   "id": "b70b51a3",
   "metadata": {},
   "source": [
    "### Problem 2\n",
    "\n",
    "In the wind tunnel experiment, the force on projectile due to air resistance was measured at different velocities:\n",
    "\n",
    "$$\n",
    "\\begin{aligned}\n",
    "&\\begin{array}{|c|c|c|c|c|c|c|}\n",
    "\\hline \\hline \n",
    "\\text{Velocity }(100 ft/s) & 0 & 2 & 4 & 6 & 8 & 10 \\\\\n",
    "\\hline \n",
    "\\text{Force }(100 lb) & 0 & 2.9 & 14.8 & 39.6 & 74.3 & 119 \\\\\n",
    "\\hline\n",
    "\\end{array}\n",
    "\\end{aligned}\n",
    "$$\n",
    "\n",
    "**a.** Find the interpolating polynomial for this data and graph the data with the polynomial. Use $p(t)=a_0+a_1t+a_2t^2+a_3t^3+a_4t^4+a_5t^5$"
   ]
  },
  {
   "cell_type": "code",
   "execution_count": null,
   "id": "c5fbae04",
   "metadata": {},
   "outputs": [],
   "source": []
  },
  {
   "cell_type": "code",
   "execution_count": null,
   "id": "08be1490",
   "metadata": {},
   "outputs": [],
   "source": []
  },
  {
   "cell_type": "markdown",
   "id": "6ef4d645-608a-47a7-b27f-e3664eac1349",
   "metadata": {},
   "source": [
    "**b.** Estimate the force on the projectile when the projectile is traveling at $750ft/s$. "
   ]
  },
  {
   "cell_type": "code",
   "execution_count": null,
   "id": "a83e248b",
   "metadata": {},
   "outputs": [],
   "source": []
  },
  {
   "cell_type": "code",
   "execution_count": null,
   "id": "c24bebd9",
   "metadata": {},
   "outputs": [],
   "source": []
  },
  {
   "cell_type": "markdown",
   "id": "592dce40-b566-42ba-8ad1-ca6d1f88f929",
   "metadata": {},
   "source": [
    "**c.** What happens if you try to use cubic polynomial instead?"
   ]
  },
  {
   "cell_type": "code",
   "execution_count": null,
   "id": "8549cc80",
   "metadata": {},
   "outputs": [],
   "source": []
  },
  {
   "cell_type": "code",
   "execution_count": null,
   "id": "0567429b",
   "metadata": {},
   "outputs": [],
   "source": []
  },
  {
   "cell_type": "markdown",
   "id": "2e4a44f0",
   "metadata": {},
   "source": [
    "**Answer:** "
   ]
  },
  {
   "cell_type": "markdown",
   "id": "e7ef41ef",
   "metadata": {},
   "source": [
    "### Problem 3"
   ]
  },
  {
   "cell_type": "markdown",
   "id": "cce1f994",
   "metadata": {},
   "source": [
    "Suppose an economy has four sectors, Agriculture (A), Energy (E), Manufacturing (M), and Transportation (T). Sector\n",
    "A sells 10% of its output to E and 25% to M and retains the\n",
    "rest. Sector E sells 30% of its output to A, 35% to M, and 25%\n",
    "to T and retains the rest. Sector M sells 30% of its output to\n",
    "A, 15% to E, and 40% to T and retains the rest. Sector T sells\n",
    "20% of its output to A, 10% to E, and 30% to M and retains\n",
    "the rest.\n",
    "\n",
    "Find a set of equilibrium prices for the economy. (Drawing a diagram of product movement is helpful)\n",
    "\n",
    "Additonal recommendation:\n",
    "\n",
    "1. Your matrix should contain integers only before you try to find solutions. This will prevent rounding error.\n",
    "\n",
    "2. Set a free variable to 100 for final answer and you should round your result."
   ]
  },
  {
   "cell_type": "code",
   "execution_count": null,
   "id": "220bb744",
   "metadata": {},
   "outputs": [],
   "source": []
  },
  {
   "cell_type": "code",
   "execution_count": null,
   "id": "a8ebcd1b",
   "metadata": {},
   "outputs": [],
   "source": []
  },
  {
   "cell_type": "code",
   "execution_count": null,
   "id": "2738fa8b",
   "metadata": {},
   "outputs": [],
   "source": []
  },
  {
   "cell_type": "code",
   "execution_count": null,
   "id": "a14fb02c",
   "metadata": {},
   "outputs": [],
   "source": []
  },
  {
   "cell_type": "markdown",
   "id": "fc682ce8",
   "metadata": {},
   "source": [
    "### Problem 4"
   ]
  },
  {
   "cell_type": "markdown",
   "id": "8707b0d1",
   "metadata": {},
   "source": [
    "In a certain region, about 7% of a city’s population moves\n",
    "to the surrounding suburbs each year, and about 5% of the\n",
    "suburban population moves into the city. In 2015, there were\n",
    "800,000 residents in the city and 500,000 in the suburbs.\n",
    "(Draw a small diagram on paper to visualize percentage of moving and percentage of staying similar to Problem 3. You should have only two nodes).\n",
    "A matrix describing this migrations (it is called Migration Matrix) is just $M=\\begin{bmatrix} 0.93 & 0.05 \\\\ 0.07 & 0.95 \\end{bmatrix} $\n",
    "\n",
    "(Try to understand what each row and each column reperesents by comparing this matrix to your diagram)\n",
    "\n",
    "**a.** Set up the transformation with this matrix $T({\\bf x})=M \\bf{x}$, a vector consisting of current population ${\\bf{p_0}}$ and calculate $T({\\bf{p_0}})$. (Make sure the values in ${\\bf{p_0}}$ are in correct order. Think of how you would multiply first row of $M$ by ${\\bf{p_0}}$.). What does the result represent?"
   ]
  },
  {
   "cell_type": "code",
   "execution_count": null,
   "id": "86b54021",
   "metadata": {},
   "outputs": [],
   "source": []
  },
  {
   "cell_type": "code",
   "execution_count": null,
   "id": "71b7681a",
   "metadata": {},
   "outputs": [],
   "source": []
  },
  {
   "cell_type": "markdown",
   "id": "5ef7eeb1",
   "metadata": {},
   "source": [
    "**Answer:** "
   ]
  },
  {
   "cell_type": "markdown",
   "id": "32306a1a",
   "metadata": {},
   "source": [
    "**b.** If this trend continues what would be the populations of the city and suburbs in 2020? 2030? 2050? 2080? Do you think it will equalize at some point?"
   ]
  },
  {
   "cell_type": "code",
   "execution_count": null,
   "id": "dc567659",
   "metadata": {},
   "outputs": [],
   "source": []
  },
  {
   "cell_type": "code",
   "execution_count": null,
   "id": "763569ce",
   "metadata": {},
   "outputs": [],
   "source": []
  },
  {
   "cell_type": "code",
   "execution_count": null,
   "id": "e52eba93",
   "metadata": {},
   "outputs": [],
   "source": []
  },
  {
   "cell_type": "code",
   "execution_count": null,
   "id": "1f5124fd",
   "metadata": {},
   "outputs": [],
   "source": []
  },
  {
   "cell_type": "markdown",
   "id": "d8625160",
   "metadata": {},
   "source": [
    "**Answer:** "
   ]
  },
  {
   "cell_type": "markdown",
   "id": "771c02b7",
   "metadata": {},
   "source": [
    "**c.** Let's try to determine the answer about equlibrium point. Think of this problem as if it's a problem of equilibrium point in economics (see Problem 3). Set up two equations just like you would in that problem and add to it one more that represents total population $x_1+x_2=800000+500000$. (In the future (chapter 5) we will have a better approach to this question)"
   ]
  },
  {
   "cell_type": "code",
   "execution_count": null,
   "id": "6ba304db",
   "metadata": {},
   "outputs": [],
   "source": []
  }
 ],
 "metadata": {
  "kernelspec": {
   "display_name": "Python 3 (ipykernel)",
   "language": "python",
   "name": "python3"
  },
  "language_info": {
   "codemirror_mode": {
    "name": "ipython",
    "version": 3
   },
   "file_extension": ".py",
   "mimetype": "text/x-python",
   "name": "python",
   "nbconvert_exporter": "python",
   "pygments_lexer": "ipython3",
   "version": "3.11.5"
  }
 },
 "nbformat": 4,
 "nbformat_minor": 5
}
