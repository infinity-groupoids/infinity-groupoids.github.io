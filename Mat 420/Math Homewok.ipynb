{
 "cells": [
  {
   "cell_type": "markdown",
   "id": "a194aa7e-8cdb-4e07-a392-771c7f14405d",
   "metadata": {},
   "source": [
    "### Linear Algebra homework\n",
    "\n",
    "\n",
    "Let ${\\bf a}=\\begin{bmatrix} 1 \\\\ 2 \\\\ -1 \\end{bmatrix}$, ${\\bf b}=\\begin{bmatrix} -3 \\\\ 0 \\\\ -2 \\end{bmatrix}$ and ${\\bf c}=\\begin{bmatrix} 2 \\\\ 2 \\\\ -3 \\end{bmatrix}$. Compute the following:\n",
    "\n",
    "1. ${\\bf a} +3{\\bf b}$\n",
    "\n",
    "2. $4{\\bf a} - 2{\\bf c}$\n",
    "\n",
    "3. ${\\bf c} \\cdot {\\bf b}$\n",
    "\n",
    "4. $||{\\bf c}||$\n",
    "\n",
    "5. $\\frac{{\\bf a} \\cdot {\\bf b}}{{\\bf b} \\cdot {\\bf b}}$\n",
    "\n",
    "6. Find distance between ${\\bf a}$ and ${\\bf b}$.\n",
    "\n",
    "Let $A=\\begin{bmatrix} 1 & 2 & 2 \\\\ 2 & 0 & -2\\\\ -1 & 3 & -2 \\end{bmatrix}$, $B=\\begin{bmatrix} -3 & 0 \\\\ 1 & 3 \\\\ -2 & 2 \\end{bmatrix}$ and ${\\bf x}=\\begin{bmatrix} 2 \\\\ 2 \\\\ -3 \\end{bmatrix}$. Compute the following:\n",
    "\n",
    "7. $A{\\bf x}$\n",
    "\n",
    "8. $B^T{\\bf x}$\n",
    "\n",
    "9. $AB$\n",
    "\n",
    "10. ${\\bf x}^TA{\\bf x}$\n",
    "\n",
    "11. ${\\bf x}^T{\\bf x} $     ( How does this one relates to #4?)"
   ]
  },
  {
   "cell_type": "markdown",
   "id": "3153eaf8-c712-44f3-8c57-5c57102b2572",
   "metadata": {},
   "source": [
    "### Derivative homework\n",
    "\n",
    "1. Find $ \\frac{d}{dx}  (2x-3)^3 $\n",
    "\n",
    "2. Find $ \\frac{d}{dx} (x + (3a -2x)^2)$\n",
    "\n",
    "3. Find $ \\frac{d}{da} (x + (3a -2x)^2)$\n",
    "\n",
    "4. Let $z=y^2-1$, $y=3x-3$ and $x=t^5$. Find $\\frac{dz}{dt}$\n",
    "\n",
    "5. Let $z=y^2-3x$, $y=3t-3$ and $x=t^5$. Find $\\frac{dz}{dt}$\n",
    "\n",
    "6. Let $f(x, y)= 3x^2 - 4yx + y^2$. Find $\\nabla f$ when $x=1$ and $y=-2$.\n",
    "\n",
    "7. Let $f(x, y)= (3x-2)^2 + (3x^2-y)^2$. Find $\\nabla f$ when $x=1$ and $y=-2$.\n",
    "\n",
    "8. Let $F(x, y)= [ 4x^2-y, 2x+y^3]$. Find Jacobian of $F$ when $x=2$ and $y=-3$.\n",
    "\n",
    "9. Let $F(w, b)=\\sum_{i=1}^{3} (iw+b-i^2)^2$. Find $\\nabla F$\n",
    "\n",
    "10. Let $F(w, b)= \\sum_{i=1}^{3}(wx_i +b-y_i)^2$. Find $\\nabla F$\n",
    "\n",
    "11. Let $F({\\bf x})=||{\\bf x}||^2$. Find $\\frac{dF}{d{\\bf x}}$\n",
    "\n",
    "12. Let $F({\\bf x})={\\bf x} \\cdot {\\bf a}$. Find $\\frac{dF}{d{\\bf x}}$\n",
    "\n",
    "13. Let $F({\\bf x})=A{\\bf x}$. Find $\\frac{dF}{d{\\bf x}}$"
   ]
  },
  {
   "cell_type": "markdown",
   "id": "005b770f-4f88-449f-9ab0-072838971c08",
   "metadata": {},
   "source": [
    "### Extrema and Langrange Multipliers\n",
    "\n",
    "Find extrema:\n",
    "\n",
    "1. Find absolute extrema of $f(x,y)= (9x^2-1)(1+4y)$ on rectangle given by $-2 \\leq x \\leq 3$ and $-1 \\leq y \\leq 4$.\n",
    "\n",
    "2. Find absolute extrema of $f(x,y) = 2x^2-y^2+6y$ on a disk $x^2+y^2 \\leq 16$.\n",
    "\n",
    "   \n",
    "Solve given optimization problems using Lagrange multipliers.\n",
    "\n",
    "1. Find the dimensions of the box with largest volume if the total surface area is 64 $f^2$\n",
    "\n",
    "2. Find the maximum and minimum values of $f(x, y, z)=xyz$ subject to $x+y+z=1$. Assume that $x,y,z \\geq 0$.\n",
    "\n",
    "3. Find maximum and minimum values of $f(x,y)=2x^2+5y^2$ on a disk $x^2+y^2 \\leq 2$\n",
    "\n",
    "4. Find maximum and minimum of $f(x,y,z)=3x^2+y$ subject to constrains $4x-3y=9$ and $x^2+z^2=9$\n",
    "\n",
    "5. Let $F({\\bf w})=\\frac{1}{2}||{\\bf w}||^2$. Find minimum of $F$ subject to constrains ${\\bf w}\\cdot {\\bf v} -1 \\geq 0$ and $-{\\bf w}\\cdot {\\bf u} -1 \\geq 0$, where ${\\bf u}=\\begin{bmatrix} 1 \\\\ 0 \\\\ 0 \\end{bmatrix}$ and ${\\bf v}=\\begin{bmatrix} 0 \\\\ 0 \\\\1 \\end{bmatrix}$.\n",
    "\n",
    "   "
   ]
  },
  {
   "cell_type": "code",
   "execution_count": null,
   "id": "d19ac72b-d324-4a7c-b4d1-a0eb83e005d0",
   "metadata": {},
   "outputs": [],
   "source": []
  }
 ],
 "metadata": {
  "kernelspec": {
   "display_name": "Python 3 (ipykernel)",
   "language": "python",
   "name": "python3"
  },
  "language_info": {
   "codemirror_mode": {
    "name": "ipython",
    "version": 3
   },
   "file_extension": ".py",
   "mimetype": "text/x-python",
   "name": "python",
   "nbconvert_exporter": "python",
   "pygments_lexer": "ipython3",
   "version": "3.11.8"
  }
 },
 "nbformat": 4,
 "nbformat_minor": 5
}
