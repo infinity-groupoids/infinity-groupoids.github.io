{
  "cells": [
    {
      "cell_type": "code",
      "execution_count": 1,
      "id": "c6fb72da-cc79-4f92-abf2-f46a46c16207",
      "metadata": {
        "id": "c6fb72da-cc79-4f92-abf2-f46a46c16207"
      },
      "outputs": [],
      "source": [
        "import numpy as np\n",
        "import matplotlib.pyplot as plt\n",
        "import torch"
      ]
    },
    {
      "cell_type": "markdown",
      "id": "61f077dc-cacb-40fe-a4f2-d54dcd8fd043",
      "metadata": {
        "id": "61f077dc-cacb-40fe-a4f2-d54dcd8fd043"
      },
      "source": [
        "### Creating vectors and matrices.\n",
        "\n",
        "We will use NumPy at the start. Vector is just a 1-dim array (or more precisely, 1-dim tensor). A matrix is a two dimensional array/tensor:"
      ]
    },
    {
      "cell_type": "code",
      "execution_count": 2,
      "id": "85b777cc-e897-4501-8074-2b364a59f1c9",
      "metadata": {
        "id": "85b777cc-e897-4501-8074-2b364a59f1c9"
      },
      "outputs": [],
      "source": [
        "v1 = np.array([2,4,-1])\n",
        "M1=np.array([[1,2,3],[2,3,4]])"
      ]
    },
    {
      "cell_type": "code",
      "execution_count": 3,
      "id": "ba18d89e-c2e6-4bb2-910a-909b9e2e4b0c",
      "metadata": {
        "colab": {
          "base_uri": "https://localhost:8080/"
        },
        "id": "ba18d89e-c2e6-4bb2-910a-909b9e2e4b0c",
        "outputId": "619d1c5c-4c3e-4d42-c3df-f563df708200"
      },
      "outputs": [
        {
          "output_type": "execute_result",
          "data": {
            "text/plain": [
              "array([ 2,  4, -1])"
            ]
          },
          "metadata": {},
          "execution_count": 3
        }
      ],
      "source": [
        "v1"
      ]
    },
    {
      "cell_type": "code",
      "execution_count": 4,
      "id": "c46884e7-ce77-4775-bf2a-0ed1a5ba3a1b",
      "metadata": {
        "colab": {
          "base_uri": "https://localhost:8080/"
        },
        "id": "c46884e7-ce77-4775-bf2a-0ed1a5ba3a1b",
        "outputId": "04ce4b6c-0411-47d9-bcdc-7bb340b6a134"
      },
      "outputs": [
        {
          "output_type": "execute_result",
          "data": {
            "text/plain": [
              "array([[1, 2, 3],\n",
              "       [2, 3, 4]])"
            ]
          },
          "metadata": {},
          "execution_count": 4
        }
      ],
      "source": [
        "M1"
      ]
    },
    {
      "cell_type": "markdown",
      "id": "4077e49b-bc24-497d-8451-43f95e7d4262",
      "metadata": {
        "id": "4077e49b-bc24-497d-8451-43f95e7d4262"
      },
      "source": [
        "### Operations.\n",
        "\n",
        "We can add tensors of the same size (by additng corresponding terms) and we can scale tensors (by multiplying each term by given scalar):"
      ]
    },
    {
      "cell_type": "code",
      "execution_count": 5,
      "id": "a90cd014-3c41-4e8f-89f8-10983ab92ddd",
      "metadata": {
        "id": "a90cd014-3c41-4e8f-89f8-10983ab92ddd"
      },
      "outputs": [],
      "source": [
        "v2=np.array([3,-1,0])\n",
        "M2=np.array([[2,3,3],[5,-2,4]])"
      ]
    },
    {
      "cell_type": "code",
      "execution_count": 6,
      "id": "884f0ea9-b743-45e5-b2ee-fcc6868276c9",
      "metadata": {
        "colab": {
          "base_uri": "https://localhost:8080/"
        },
        "id": "884f0ea9-b743-45e5-b2ee-fcc6868276c9",
        "outputId": "39de6836-f947-4382-edaa-8a285e1d3a88"
      },
      "outputs": [
        {
          "output_type": "execute_result",
          "data": {
            "text/plain": [
              "array([ 5,  3, -1])"
            ]
          },
          "metadata": {},
          "execution_count": 6
        }
      ],
      "source": [
        "v1+v2"
      ]
    },
    {
      "cell_type": "code",
      "execution_count": 7,
      "id": "ca552cc9-f9c1-4b84-a519-892c9090619a",
      "metadata": {
        "colab": {
          "base_uri": "https://localhost:8080/"
        },
        "id": "ca552cc9-f9c1-4b84-a519-892c9090619a",
        "outputId": "7299d00e-517f-4296-dfa5-8b1d32d15229"
      },
      "outputs": [
        {
          "output_type": "execute_result",
          "data": {
            "text/plain": [
              "array([[3, 5, 6],\n",
              "       [7, 1, 8]])"
            ]
          },
          "metadata": {},
          "execution_count": 7
        }
      ],
      "source": [
        "M1+M2"
      ]
    },
    {
      "cell_type": "code",
      "execution_count": 8,
      "id": "efadfca7-a7b5-4dc4-a584-8fa849340b28",
      "metadata": {
        "colab": {
          "base_uri": "https://localhost:8080/"
        },
        "id": "efadfca7-a7b5-4dc4-a584-8fa849340b28",
        "outputId": "048b5fd5-a95d-4706-b07a-f3abfc647a52"
      },
      "outputs": [
        {
          "output_type": "execute_result",
          "data": {
            "text/plain": [
              "array([ 8, 16, -4])"
            ]
          },
          "metadata": {},
          "execution_count": 8
        }
      ],
      "source": [
        "4*v1"
      ]
    },
    {
      "cell_type": "code",
      "execution_count": 9,
      "id": "7509daf7-9d79-4bcd-9b11-3b8896e75e04",
      "metadata": {
        "colab": {
          "base_uri": "https://localhost:8080/"
        },
        "id": "7509daf7-9d79-4bcd-9b11-3b8896e75e04",
        "outputId": "0003acf6-3626-4a9c-dc44-08a41bc0ca3a"
      },
      "outputs": [
        {
          "output_type": "execute_result",
          "data": {
            "text/plain": [
              "array([[ -3,  -6,  -9],\n",
              "       [ -6,  -9, -12]])"
            ]
          },
          "metadata": {},
          "execution_count": 9
        }
      ],
      "source": [
        "-3*M1"
      ]
    },
    {
      "cell_type": "markdown",
      "id": "9e582687-4d9d-444e-8520-71292024ffdb",
      "metadata": {
        "id": "9e582687-4d9d-444e-8520-71292024ffdb"
      },
      "source": [
        "Multiplication is not as nice and we have few types of multiplication depending on type of a tensor.\n",
        "\n",
        "An important product on vectors is dot product ( a.k.a. inner product):\n",
        "$$ \\begin{bmatrix} w_1 \\\\ w_2 \\\\w_3 \\end{bmatrix} \\cdot \\begin{bmatrix} x_1 \\\\ x_2 \\\\x_3 \\end{bmatrix} = w_1 x_1+ w_2 x_2+w_3x_3$$\n",
        "\n",
        "A good way to think about it is to think of one vector as weights and the other as values, then the dot product is like a weighted sum. To perform a dot product we cat use \"@\" operation:\n"
      ]
    },
    {
      "cell_type": "code",
      "execution_count": 10,
      "id": "bc01df8e-8b74-4078-9543-25fe3d1a0c4b",
      "metadata": {
        "colab": {
          "base_uri": "https://localhost:8080/"
        },
        "id": "bc01df8e-8b74-4078-9543-25fe3d1a0c4b",
        "outputId": "137746ac-bc49-4891-e92c-ba7d71944f83"
      },
      "outputs": [
        {
          "output_type": "execute_result",
          "data": {
            "text/plain": [
              "np.int64(2)"
            ]
          },
          "metadata": {},
          "execution_count": 10
        }
      ],
      "source": [
        "v1@v2"
      ]
    },
    {
      "cell_type": "markdown",
      "source": [
        "Another way is to use `np.dot` command:"
      ],
      "metadata": {
        "id": "BgjSV20raPwb"
      },
      "id": "BgjSV20raPwb"
    },
    {
      "cell_type": "code",
      "source": [
        "np.dot(v1,v2)"
      ],
      "metadata": {
        "colab": {
          "base_uri": "https://localhost:8080/"
        },
        "id": "CjHAXr6baPYb",
        "outputId": "816bf86b-f96c-41f3-b2ec-7f23d7c55576"
      },
      "id": "CjHAXr6baPYb",
      "execution_count": 11,
      "outputs": [
        {
          "output_type": "execute_result",
          "data": {
            "text/plain": [
              "np.int64(2)"
            ]
          },
          "metadata": {},
          "execution_count": 11
        }
      ]
    },
    {
      "cell_type": "markdown",
      "id": "0bd75d2d-9c01-4d82-9663-0cb546d16351",
      "metadata": {
        "id": "0bd75d2d-9c01-4d82-9663-0cb546d16351"
      },
      "source": [
        "We can also multiply matricies by performing a dot product of every row of the first matrix by every column of the second one. (Note: this means the the product is not commutative):\n",
        "$$ \\begin{bmatrix} 2 & 3 & 4 \\\\ 5 & 6 & 7 \\end{bmatrix} \\begin{bmatrix} a & b \\\\ c & d \\\\ e & f \\end{bmatrix} = \\begin{bmatrix} 2a+3c+4e & 2b+3d+4f \\\\ 5a+6c+7e & 5b+6d+7f \\end{bmatrix}$$\n",
        "\n",
        "This also means that number of columns of the first matrix must match to number of rows of the second one. To perform this product we can use the same \"@\" operator:"
      ]
    },
    {
      "cell_type": "code",
      "execution_count": 14,
      "id": "c0fe25c4-e4f1-4e00-aa49-050d574bb8f0",
      "metadata": {
        "id": "c0fe25c4-e4f1-4e00-aa49-050d574bb8f0"
      },
      "outputs": [],
      "source": [
        "M3=np.array([[2,3],[3,5], [-2,4]])"
      ]
    },
    {
      "cell_type": "code",
      "execution_count": 15,
      "id": "5a22ba79-4961-48f1-ba6c-3cbce8260ce9",
      "metadata": {
        "colab": {
          "base_uri": "https://localhost:8080/"
        },
        "id": "5a22ba79-4961-48f1-ba6c-3cbce8260ce9",
        "outputId": "e2debcf3-fb79-4f03-95fe-da73a43d8ad4"
      },
      "outputs": [
        {
          "output_type": "execute_result",
          "data": {
            "text/plain": [
              "array([[ 2, 25],\n",
              "       [ 5, 37]])"
            ]
          },
          "metadata": {},
          "execution_count": 15
        }
      ],
      "source": [
        "M1@M3"
      ]
    },
    {
      "cell_type": "markdown",
      "id": "5e3e2f40-47b3-4dd6-a0fc-2a2c4ccdd1a7",
      "metadata": {
        "id": "5e3e2f40-47b3-4dd6-a0fc-2a2c4ccdd1a7"
      },
      "source": [
        "### Other tools\n",
        "\n",
        "Since we can think of vectors as matricies with one column, the dot product is just a matrix product of a transpose of the first vector by the second one. (Transpose is when we swap rows and columns of the matrix.)"
      ]
    },
    {
      "cell_type": "code",
      "execution_count": 16,
      "id": "53c0f130-1da4-4588-a094-e8b8fac3a671",
      "metadata": {
        "colab": {
          "base_uri": "https://localhost:8080/"
        },
        "id": "53c0f130-1da4-4588-a094-e8b8fac3a671",
        "outputId": "835343cd-0444-4b9a-dc4a-ac4d9c68dde1"
      },
      "outputs": [
        {
          "output_type": "execute_result",
          "data": {
            "text/plain": [
              "array([[1, 2],\n",
              "       [2, 3],\n",
              "       [3, 4]])"
            ]
          },
          "metadata": {},
          "execution_count": 16
        }
      ],
      "source": [
        "M1.T"
      ]
    },
    {
      "cell_type": "markdown",
      "id": "358bb41e-b784-4a03-aa85-2d0c4f92da4e",
      "metadata": {
        "id": "358bb41e-b784-4a03-aa85-2d0c4f92da4e"
      },
      "source": [
        "An important value for a vector is a norm. It is the lenght of a vector.\n",
        "$$ ||{\\bf v}||=\\sqrt{{\\bf v} \\cdot {\\bf v}}$$"
      ]
    },
    {
      "cell_type": "code",
      "execution_count": 17,
      "id": "cc4779e2-efde-459a-adae-6f43f6d29518",
      "metadata": {
        "colab": {
          "base_uri": "https://localhost:8080/"
        },
        "id": "cc4779e2-efde-459a-adae-6f43f6d29518",
        "outputId": "adeecd57-fd4b-4432-85c1-e43d9fd37c11"
      },
      "outputs": [
        {
          "output_type": "execute_result",
          "data": {
            "text/plain": [
              "np.float64(4.58257569495584)"
            ]
          },
          "metadata": {},
          "execution_count": 17
        }
      ],
      "source": [
        "np.linalg.norm(v1)"
      ]
    },
    {
      "cell_type": "markdown",
      "id": "376d37b1-74a1-4d71-89ae-b1054b4698b2",
      "metadata": {
        "id": "376d37b1-74a1-4d71-89ae-b1054b4698b2"
      },
      "source": [
        "A unit vector is a vector of lenght one. To normalize a vector means to rescale it so that it is a unit vector. In other words, get a vector of lenght 1 that points in the same direction as your vector. To normalize a vector all we need to do is divide it by its norm:"
      ]
    },
    {
      "cell_type": "code",
      "execution_count": 18,
      "id": "b4803b5f-f079-48dd-b1af-e4ec47d5ce96",
      "metadata": {
        "colab": {
          "base_uri": "https://localhost:8080/"
        },
        "id": "b4803b5f-f079-48dd-b1af-e4ec47d5ce96",
        "outputId": "abee340d-a7f1-4b05-8ef8-73e6a9a2f161"
      },
      "outputs": [
        {
          "output_type": "execute_result",
          "data": {
            "text/plain": [
              "array([ 0.43643578,  0.87287156, -0.21821789])"
            ]
          },
          "metadata": {},
          "execution_count": 18
        }
      ],
      "source": [
        "u1=v1/np.linalg.norm(v1)\n",
        "u1"
      ]
    },
    {
      "cell_type": "code",
      "source": [
        "np.linalg.norm(u1)"
      ],
      "metadata": {
        "colab": {
          "base_uri": "https://localhost:8080/"
        },
        "id": "2qPFUarxa0tW",
        "outputId": "5578bd93-af6a-41fc-f8e4-97ce327ef22c"
      },
      "id": "2qPFUarxa0tW",
      "execution_count": 20,
      "outputs": [
        {
          "output_type": "execute_result",
          "data": {
            "text/plain": [
              "np.float64(1.0)"
            ]
          },
          "metadata": {},
          "execution_count": 20
        }
      ]
    },
    {
      "cell_type": "markdown",
      "id": "fa81d134-9401-459d-9455-28878f57764a",
      "metadata": {
        "id": "fa81d134-9401-459d-9455-28878f57764a"
      },
      "source": [
        "Let's see this graphically:"
      ]
    },
    {
      "cell_type": "code",
      "execution_count": null,
      "id": "5622528d-3a2b-4e43-b653-5cc9166c5648",
      "metadata": {
        "id": "5622528d-3a2b-4e43-b653-5cc9166c5648",
        "outputId": "bdf8aa78-4390-48c8-867c-7f1589e863f5"
      },
      "outputs": [
        {
          "data": {
            "image/png": "[encoded data removed]",
            "text/plain": [
              "<Figure size 1000x500 with 1 Axes>"
            ]
          },
          "metadata": {},
          "output_type": "display_data"
        }
      ],
      "source": [
        "fig, ax = plt.subplots(figsize=(10, 5))\n",
        "ax.set_xlim([-1, 3])\n",
        "ax.set_ylim([-0.5, 4.5])\n",
        "plt.quiver([0,0], [0,0],[v1[0], u1[0]], [v1[1], u1[1]], angles='xy',scale_units='xy',color = ['g','r'], scale=1)\n",
        "plt.grid(alpha=0.6)\n"
      ]
    },
    {
      "cell_type": "markdown",
      "id": "5d0e07c0-a1d6-43f2-a243-2da4627c0446",
      "metadata": {
        "id": "5d0e07c0-a1d6-43f2-a243-2da4627c0446"
      },
      "source": [
        "### Projections\n",
        "\n",
        "A dot product can be also thought of as projection. To understand it, lets look at our vectors ${\\bf v1}$ (in red) and ${\\bf v2}$ (in green)."
      ]
    },
    {
      "cell_type": "code",
      "execution_count": 21,
      "id": "44296dcd-6b03-4001-abb0-3d0cb6aa303a",
      "metadata": {
        "colab": {
          "base_uri": "https://localhost:8080/",
          "height": 445
        },
        "id": "44296dcd-6b03-4001-abb0-3d0cb6aa303a",
        "outputId": "4ea6f6f5-05e5-477c-d86f-2217a9461e48"
      },
      "outputs": [
        {
          "output_type": "display_data",
          "data": {
            "text/plain": [
              "<Figure size 1000x500 with 1 Axes>"
            ],
            "image/png": "[encoded data removed]"
          },
          "metadata": {}
        }
      ],
      "source": [
        "fig, ax = plt.subplots(figsize=(10, 5))\n",
        "ax.set_xlim([-1, 3])\n",
        "ax.set_ylim([-2, 4.5])\n",
        "plt.quiver([0,0], [0,0],[v1[0], v2[0]], [v1[1], v2[1]], angles='xy',scale_units='xy',color = ['g','r'], scale=1)\n",
        "plt.grid(alpha=0.6)"
      ]
    },
    {
      "cell_type": "markdown",
      "id": "eb611aed-9b2d-482c-8dc9-b7b82d4e55f3",
      "metadata": {
        "id": "eb611aed-9b2d-482c-8dc9-b7b82d4e55f3"
      },
      "source": [
        "I want to project green vector onto a red one. This like a \"shadow\" of it on the red vector if the light source is right above the green vector. Manually this is like a finding an intersections of the red vector and the line that goes through the tip of the green vector and is perpendicular to the red one. The dot product is exactly the length of that \"shadow\". So, to find the projection I need to rescale the red vector so that its length equal to the dot product. We can do this by dividing the red vector by its norm to get length 1, and then multiplying by the dot product:"
      ]
    },
    {
      "cell_type": "code",
      "execution_count": 22,
      "id": "c0c05c31-384b-426b-8e9b-329bb2cf57c7",
      "metadata": {
        "id": "c0c05c31-384b-426b-8e9b-329bb2cf57c7"
      },
      "outputs": [],
      "source": [
        "dot_res=v1@v2\n",
        "\n",
        "p=v2*(dot_res/np.linalg.norm(v2))"
      ]
    },
    {
      "cell_type": "code",
      "execution_count": 23,
      "id": "487c3183-b384-4a25-87e4-9e4da8484020",
      "metadata": {
        "colab": {
          "base_uri": "https://localhost:8080/",
          "height": 445
        },
        "id": "487c3183-b384-4a25-87e4-9e4da8484020",
        "outputId": "d2f2b80e-eb25-44c4-836e-78c597652f2c"
      },
      "outputs": [
        {
          "output_type": "display_data",
          "data": {
            "text/plain": [
              "<Figure size 1000x500 with 1 Axes>"
            ],
            "image/png": "[encoded data removed]"
          },
          "metadata": {}
        }
      ],
      "source": [
        "fig, ax = plt.subplots(figsize=(10, 5))\n",
        "ax.set_xlim([-1, 3])\n",
        "ax.set_ylim([-2, 4.5])\n",
        "plt.quiver([0,0,0], [0,0,0],[v1[0], v2[0], p[0]], [v1[1], v2[1],p[1]], angles='xy',scale_units='xy',color = ['g','r','b'], scale=1)\n",
        "plt.plot([ v1[0], p[0]], [ v1[1],p[1]], c='orange')\n",
        "plt.grid(alpha=0.6)"
      ]
    },
    {
      "cell_type": "markdown",
      "id": "a17e98e8-5dba-4ddf-b665-1105747b4a68",
      "metadata": {
        "id": "a17e98e8-5dba-4ddf-b665-1105747b4a68"
      },
      "source": [
        "### Using PyTorch:\n",
        "\n",
        "PyTorch is a nice library that we will use in future when we want to talk about Neural Networks. If we want to use it, we need to define tensors using PyTorch commands. Note it is better to add `dtype=torch.float32` to signify that the entries are real numbers. Certain commands won't work otherwise."
      ]
    },
    {
      "cell_type": "code",
      "execution_count": 24,
      "id": "d744d5ec-bf1a-4878-9dc4-01b1769c956d",
      "metadata": {
        "id": "d744d5ec-bf1a-4878-9dc4-01b1769c956d"
      },
      "outputs": [],
      "source": [
        "v1 = torch.tensor([2,4,-1],dtype=torch.float32)\n",
        "M1=torch.tensor([[1,2,3],[2,3,4]],dtype=torch.float32)\n",
        "v2=torch.tensor([3,-1,0],dtype=torch.float32)\n",
        "M2=torch.tensor([[2,3],[3,5], [-2,4]],dtype=torch.float32)"
      ]
    },
    {
      "cell_type": "code",
      "execution_count": 25,
      "id": "768c62c7-6067-4b46-9c2a-f3e440f46b3a",
      "metadata": {
        "colab": {
          "base_uri": "https://localhost:8080/"
        },
        "id": "768c62c7-6067-4b46-9c2a-f3e440f46b3a",
        "outputId": "69859881-f806-4538-8cca-637ba3166161"
      },
      "outputs": [
        {
          "output_type": "execute_result",
          "data": {
            "text/plain": [
              "tensor([[1., 2., 3.],\n",
              "        [2., 3., 4.]])"
            ]
          },
          "metadata": {},
          "execution_count": 25
        }
      ],
      "source": [
        "M1"
      ]
    },
    {
      "cell_type": "code",
      "execution_count": 26,
      "id": "19136990-3ec4-4603-949f-ceba04e20c8a",
      "metadata": {
        "colab": {
          "base_uri": "https://localhost:8080/"
        },
        "id": "19136990-3ec4-4603-949f-ceba04e20c8a",
        "outputId": "2e1d058b-b09e-4855-bed5-5ef9d476f6d0"
      },
      "outputs": [
        {
          "output_type": "execute_result",
          "data": {
            "text/plain": [
              "tensor(2.)"
            ]
          },
          "metadata": {},
          "execution_count": 26
        }
      ],
      "source": [
        "v1@v2"
      ]
    },
    {
      "cell_type": "code",
      "execution_count": 27,
      "id": "0588f5d2-d42b-471e-b441-360d072a51d5",
      "metadata": {
        "colab": {
          "base_uri": "https://localhost:8080/"
        },
        "id": "0588f5d2-d42b-471e-b441-360d072a51d5",
        "outputId": "4032b21c-3319-4c0d-c1d8-239cc3838dc2"
      },
      "outputs": [
        {
          "output_type": "execute_result",
          "data": {
            "text/plain": [
              "tensor([[ 2., 25.],\n",
              "        [ 5., 37.]])"
            ]
          },
          "metadata": {},
          "execution_count": 27
        }
      ],
      "source": [
        "M1@M2"
      ]
    },
    {
      "cell_type": "markdown",
      "id": "5a4eae80-4751-4723-9241-d63adb3f8c12",
      "metadata": {
        "id": "5a4eae80-4751-4723-9241-d63adb3f8c12"
      },
      "source": [
        "It is worth noting that PyTorch has a built-in method to perform multiplication that is much faster:"
      ]
    },
    {
      "cell_type": "code",
      "execution_count": 28,
      "id": "ce866c12-849f-4d7c-b645-1ae25d7afa69",
      "metadata": {
        "colab": {
          "base_uri": "https://localhost:8080/"
        },
        "id": "ce866c12-849f-4d7c-b645-1ae25d7afa69",
        "outputId": "e44a310b-62c6-4583-dd5e-6e21bc4b87a0"
      },
      "outputs": [
        {
          "output_type": "execute_result",
          "data": {
            "text/plain": [
              "tensor(2.)"
            ]
          },
          "metadata": {},
          "execution_count": 28
        }
      ],
      "source": [
        "torch.matmul(v1, v2)"
      ]
    },
    {
      "cell_type": "code",
      "execution_count": 29,
      "id": "4b2540d7-2caa-42d0-bbd9-3891aa0f2143",
      "metadata": {
        "colab": {
          "base_uri": "https://localhost:8080/"
        },
        "id": "4b2540d7-2caa-42d0-bbd9-3891aa0f2143",
        "outputId": "8642005d-4d05-458b-8d53-fb93bca88c40"
      },
      "outputs": [
        {
          "output_type": "execute_result",
          "data": {
            "text/plain": [
              "tensor([[ 2., 25.],\n",
              "        [ 5., 37.]])"
            ]
          },
          "metadata": {},
          "execution_count": 29
        }
      ],
      "source": [
        "torch.matmul(M1, M2)"
      ]
    },
    {
      "cell_type": "code",
      "execution_count": 30,
      "id": "7c1bdef1-cba3-40fa-8973-942619fee843",
      "metadata": {
        "colab": {
          "base_uri": "https://localhost:8080/"
        },
        "id": "7c1bdef1-cba3-40fa-8973-942619fee843",
        "outputId": "410979d8-f5cf-4dd5-f204-3f26c9b14a69"
      },
      "outputs": [
        {
          "output_type": "execute_result",
          "data": {
            "text/plain": [
              "tensor([[1., 2.],\n",
              "        [2., 3.],\n",
              "        [3., 4.]])"
            ]
          },
          "metadata": {},
          "execution_count": 30
        }
      ],
      "source": [
        "M1.T"
      ]
    },
    {
      "cell_type": "code",
      "source": [],
      "metadata": {
        "id": "mgvM-FM_bI9u"
      },
      "id": "mgvM-FM_bI9u",
      "execution_count": null,
      "outputs": []
    }
  ],
  "metadata": {
    "kernelspec": {
      "display_name": "Python 3 (ipykernel)",
      "language": "python",
      "name": "python3"
    },
    "language_info": {
      "codemirror_mode": {
        "name": "ipython",
        "version": 3
      },
      "file_extension": ".py",
      "mimetype": "text/x-python",
      "name": "python",
      "nbconvert_exporter": "python",
      "pygments_lexer": "ipython3",
      "version": "3.11.8"
    },
    "colab": {
      "provenance": []
    }
  },
  "nbformat": 4,
  "nbformat_minor": 5
}