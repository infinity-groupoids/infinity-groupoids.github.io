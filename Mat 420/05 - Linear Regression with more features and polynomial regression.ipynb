{
 "cells": [
  {
   "cell_type": "code",
   "execution_count": 11,
   "id": "177c078a-c84c-4447-adf1-d23d3bc43df9",
   "metadata": {},
   "outputs": [],
   "source": [
    "import numpy as np\n",
    "import matplotlib.pyplot as plt\n",
    "import torch\n",
    "import torch.nn as nn\n",
    "from sklearn import datasets\n",
    "from sklearn.model_selection import train_test_split\n",
    "import pandas as pd\n",
    "from sklearn.metrics import r2_score\n",
    "from sklearn.preprocessing import PolynomialFeatures\n",
    "from sklearn.linear_model import LinearRegression\n",
    "\n",
    "import warnings\n",
    "warnings.filterwarnings(\"ignore\")\n",
    "\n",
    "pd.options.display.float_format = '{:.3f}'.format"
   ]
  },
  {
   "cell_type": "markdown",
   "id": "53242158-2713-4f6d-adfb-6db988ff3cb8",
   "metadata": {},
   "source": [
    "### Linear Regression with more features."
   ]
  },
  {
   "cell_type": "code",
   "execution_count": 2,
   "id": "2bb2ed08-9587-451b-95dc-c9007dc2eef6",
   "metadata": {},
   "outputs": [],
   "source": [
    "ds=datasets.load_diabetes()"
   ]
  },
  {
   "cell_type": "code",
   "execution_count": 3,
   "id": "2b4f4481-013a-472a-89ca-68652bf03384",
   "metadata": {},
   "outputs": [],
   "source": [
    "df = pd.DataFrame(data=ds.data, columns=ds.feature_names)\n",
    "df['response(y)'] = ds.target"
   ]
  },
  {
   "cell_type": "code",
   "execution_count": 4,
   "id": "a5cafffb-7b30-46f4-b934-8530bcb52dda",
   "metadata": {},
   "outputs": [
    {
     "data": {
      "text/html": [
       "<div>\n",
       "<style scoped>\n",
       "    .dataframe tbody tr th:only-of-type {\n",
       "        vertical-align: middle;\n",
       "    }\n",
       "\n",
       "    .dataframe tbody tr th {\n",
       "        vertical-align: top;\n",
       "    }\n",
       "\n",
       "    .dataframe thead th {\n",
       "        text-align: right;\n",
       "    }\n",
       "</style>\n",
       "<table border=\"1\" class=\"dataframe\">\n",
       "  <thead>\n",
       "    <tr style=\"text-align: right;\">\n",
       "      <th></th>\n",
       "      <th>age</th>\n",
       "      <th>sex</th>\n",
       "      <th>bmi</th>\n",
       "      <th>bp</th>\n",
       "      <th>s1</th>\n",
       "      <th>s2</th>\n",
       "      <th>s3</th>\n",
       "      <th>s4</th>\n",
       "      <th>s5</th>\n",
       "      <th>s6</th>\n",
       "      <th>response(y)</th>\n",
       "    </tr>\n",
       "  </thead>\n",
       "  <tbody>\n",
       "    <tr>\n",
       "      <th>0</th>\n",
       "      <td>0.038</td>\n",
       "      <td>0.051</td>\n",
       "      <td>0.062</td>\n",
       "      <td>0.022</td>\n",
       "      <td>-0.044</td>\n",
       "      <td>-0.035</td>\n",
       "      <td>-0.043</td>\n",
       "      <td>-0.003</td>\n",
       "      <td>0.020</td>\n",
       "      <td>-0.018</td>\n",
       "      <td>151.000</td>\n",
       "    </tr>\n",
       "    <tr>\n",
       "      <th>1</th>\n",
       "      <td>-0.002</td>\n",
       "      <td>-0.045</td>\n",
       "      <td>-0.051</td>\n",
       "      <td>-0.026</td>\n",
       "      <td>-0.008</td>\n",
       "      <td>-0.019</td>\n",
       "      <td>0.074</td>\n",
       "      <td>-0.039</td>\n",
       "      <td>-0.068</td>\n",
       "      <td>-0.092</td>\n",
       "      <td>75.000</td>\n",
       "    </tr>\n",
       "    <tr>\n",
       "      <th>2</th>\n",
       "      <td>0.085</td>\n",
       "      <td>0.051</td>\n",
       "      <td>0.044</td>\n",
       "      <td>-0.006</td>\n",
       "      <td>-0.046</td>\n",
       "      <td>-0.034</td>\n",
       "      <td>-0.032</td>\n",
       "      <td>-0.003</td>\n",
       "      <td>0.003</td>\n",
       "      <td>-0.026</td>\n",
       "      <td>141.000</td>\n",
       "    </tr>\n",
       "    <tr>\n",
       "      <th>3</th>\n",
       "      <td>-0.089</td>\n",
       "      <td>-0.045</td>\n",
       "      <td>-0.012</td>\n",
       "      <td>-0.037</td>\n",
       "      <td>0.012</td>\n",
       "      <td>0.025</td>\n",
       "      <td>-0.036</td>\n",
       "      <td>0.034</td>\n",
       "      <td>0.023</td>\n",
       "      <td>-0.009</td>\n",
       "      <td>206.000</td>\n",
       "    </tr>\n",
       "    <tr>\n",
       "      <th>4</th>\n",
       "      <td>0.005</td>\n",
       "      <td>-0.045</td>\n",
       "      <td>-0.036</td>\n",
       "      <td>0.022</td>\n",
       "      <td>0.004</td>\n",
       "      <td>0.016</td>\n",
       "      <td>0.008</td>\n",
       "      <td>-0.003</td>\n",
       "      <td>-0.032</td>\n",
       "      <td>-0.047</td>\n",
       "      <td>135.000</td>\n",
       "    </tr>\n",
       "  </tbody>\n",
       "</table>\n",
       "</div>"
      ],
      "text/plain": [
       "     age    sex    bmi     bp     s1     s2     s3     s4     s5     s6  \\\n",
       "0  0.038  0.051  0.062  0.022 -0.044 -0.035 -0.043 -0.003  0.020 -0.018   \n",
       "1 -0.002 -0.045 -0.051 -0.026 -0.008 -0.019  0.074 -0.039 -0.068 -0.092   \n",
       "2  0.085  0.051  0.044 -0.006 -0.046 -0.034 -0.032 -0.003  0.003 -0.026   \n",
       "3 -0.089 -0.045 -0.012 -0.037  0.012  0.025 -0.036  0.034  0.023 -0.009   \n",
       "4  0.005 -0.045 -0.036  0.022  0.004  0.016  0.008 -0.003 -0.032 -0.047   \n",
       "\n",
       "   response(y)  \n",
       "0      151.000  \n",
       "1       75.000  \n",
       "2      141.000  \n",
       "3      206.000  \n",
       "4      135.000  "
      ]
     },
     "execution_count": 4,
     "metadata": {},
     "output_type": "execute_result"
    }
   ],
   "source": [
    "df.head()"
   ]
  },
  {
   "cell_type": "code",
   "execution_count": 5,
   "id": "15e19464-a8d6-4732-a2c2-f673081715fd",
   "metadata": {},
   "outputs": [
    {
     "name": "stdout",
     "output_type": "stream",
     "text": [
      ".. _diabetes_dataset:\n",
      "\n",
      "Diabetes dataset\n",
      "----------------\n",
      "\n",
      "Ten baseline variables, age, sex, body mass index, average blood\n",
      "pressure, and six blood serum measurements were obtained for each of n =\n",
      "442 diabetes patients, as well as the response of interest, a\n",
      "quantitative measure of disease progression one year after baseline.\n",
      "\n",
      "**Data Set Characteristics:**\n",
      "\n",
      ":Number of Instances: 442\n",
      "\n",
      ":Number of Attributes: First 10 columns are numeric predictive values\n",
      "\n",
      ":Target: Column 11 is a quantitative measure of disease progression one year after baseline\n",
      "\n",
      ":Attribute Information:\n",
      "    - age     age in years\n",
      "    - sex\n",
      "    - bmi     body mass index\n",
      "    - bp      average blood pressure\n",
      "    - s1      tc, total serum cholesterol\n",
      "    - s2      ldl, low-density lipoproteins\n",
      "    - s3      hdl, high-density lipoproteins\n",
      "    - s4      tch, total cholesterol / HDL\n",
      "    - s5      ltg, possibly log of serum triglycerides level\n",
      "    - s6      glu, blood sugar level\n",
      "\n",
      "Note: Each of these 10 feature variables have been mean centered and scaled by the standard deviation times the square root of `n_samples` (i.e. the sum of squares of each column totals 1).\n",
      "\n",
      "Source URL:\n",
      "https://www4.stat.ncsu.edu/~boos/var.select/diabetes.html\n",
      "\n",
      "For more information see:\n",
      "Bradley Efron, Trevor Hastie, Iain Johnstone and Robert Tibshirani (2004) \"Least Angle Regression,\" Annals of Statistics (with discussion), 407-499.\n",
      "(https://web.stanford.edu/~hastie/Papers/LARS/LeastAngle_2002.pdf)\n",
      "\n"
     ]
    }
   ],
   "source": [
    "print(ds['DESCR'])"
   ]
  },
  {
   "cell_type": "code",
   "execution_count": 6,
   "id": "0959f1de-6474-4e72-8878-fcda14c88997",
   "metadata": {},
   "outputs": [
    {
     "name": "stdout",
     "output_type": "stream",
     "text": [
      "<class 'pandas.core.frame.DataFrame'>\n",
      "RangeIndex: 442 entries, 0 to 441\n",
      "Data columns (total 11 columns):\n",
      " #   Column       Non-Null Count  Dtype  \n",
      "---  ------       --------------  -----  \n",
      " 0   age          442 non-null    float64\n",
      " 1   sex          442 non-null    float64\n",
      " 2   bmi          442 non-null    float64\n",
      " 3   bp           442 non-null    float64\n",
      " 4   s1           442 non-null    float64\n",
      " 5   s2           442 non-null    float64\n",
      " 6   s3           442 non-null    float64\n",
      " 7   s4           442 non-null    float64\n",
      " 8   s5           442 non-null    float64\n",
      " 9   s6           442 non-null    float64\n",
      " 10  response(y)  442 non-null    float64\n",
      "dtypes: float64(11)\n",
      "memory usage: 38.1 KB\n"
     ]
    }
   ],
   "source": [
    "df.info()"
   ]
  },
  {
   "cell_type": "code",
   "execution_count": 7,
   "id": "3987b0f8-38f3-4619-8b82-961d548cb1d5",
   "metadata": {},
   "outputs": [
    {
     "data": {
      "text/html": [
       "<div>\n",
       "<style scoped>\n",
       "    .dataframe tbody tr th:only-of-type {\n",
       "        vertical-align: middle;\n",
       "    }\n",
       "\n",
       "    .dataframe tbody tr th {\n",
       "        vertical-align: top;\n",
       "    }\n",
       "\n",
       "    .dataframe thead th {\n",
       "        text-align: right;\n",
       "    }\n",
       "</style>\n",
       "<table border=\"1\" class=\"dataframe\">\n",
       "  <thead>\n",
       "    <tr style=\"text-align: right;\">\n",
       "      <th></th>\n",
       "      <th>age</th>\n",
       "      <th>sex</th>\n",
       "      <th>bmi</th>\n",
       "      <th>bp</th>\n",
       "      <th>s1</th>\n",
       "      <th>s2</th>\n",
       "      <th>s3</th>\n",
       "      <th>s4</th>\n",
       "      <th>s5</th>\n",
       "      <th>s6</th>\n",
       "      <th>response(y)</th>\n",
       "    </tr>\n",
       "  </thead>\n",
       "  <tbody>\n",
       "    <tr>\n",
       "      <th>count</th>\n",
       "      <td>442.000</td>\n",
       "      <td>442.000</td>\n",
       "      <td>442.000</td>\n",
       "      <td>442.000</td>\n",
       "      <td>442.000</td>\n",
       "      <td>442.000</td>\n",
       "      <td>442.000</td>\n",
       "      <td>442.000</td>\n",
       "      <td>442.000</td>\n",
       "      <td>442.000</td>\n",
       "      <td>442.000</td>\n",
       "    </tr>\n",
       "    <tr>\n",
       "      <th>mean</th>\n",
       "      <td>-0.000</td>\n",
       "      <td>0.000</td>\n",
       "      <td>-0.000</td>\n",
       "      <td>-0.000</td>\n",
       "      <td>-0.000</td>\n",
       "      <td>0.000</td>\n",
       "      <td>-0.000</td>\n",
       "      <td>-0.000</td>\n",
       "      <td>0.000</td>\n",
       "      <td>0.000</td>\n",
       "      <td>152.133</td>\n",
       "    </tr>\n",
       "    <tr>\n",
       "      <th>std</th>\n",
       "      <td>0.048</td>\n",
       "      <td>0.048</td>\n",
       "      <td>0.048</td>\n",
       "      <td>0.048</td>\n",
       "      <td>0.048</td>\n",
       "      <td>0.048</td>\n",
       "      <td>0.048</td>\n",
       "      <td>0.048</td>\n",
       "      <td>0.048</td>\n",
       "      <td>0.048</td>\n",
       "      <td>77.093</td>\n",
       "    </tr>\n",
       "    <tr>\n",
       "      <th>min</th>\n",
       "      <td>-0.107</td>\n",
       "      <td>-0.045</td>\n",
       "      <td>-0.090</td>\n",
       "      <td>-0.112</td>\n",
       "      <td>-0.127</td>\n",
       "      <td>-0.116</td>\n",
       "      <td>-0.102</td>\n",
       "      <td>-0.076</td>\n",
       "      <td>-0.126</td>\n",
       "      <td>-0.138</td>\n",
       "      <td>25.000</td>\n",
       "    </tr>\n",
       "    <tr>\n",
       "      <th>25%</th>\n",
       "      <td>-0.037</td>\n",
       "      <td>-0.045</td>\n",
       "      <td>-0.034</td>\n",
       "      <td>-0.037</td>\n",
       "      <td>-0.034</td>\n",
       "      <td>-0.030</td>\n",
       "      <td>-0.035</td>\n",
       "      <td>-0.039</td>\n",
       "      <td>-0.033</td>\n",
       "      <td>-0.033</td>\n",
       "      <td>87.000</td>\n",
       "    </tr>\n",
       "    <tr>\n",
       "      <th>50%</th>\n",
       "      <td>0.005</td>\n",
       "      <td>-0.045</td>\n",
       "      <td>-0.007</td>\n",
       "      <td>-0.006</td>\n",
       "      <td>-0.004</td>\n",
       "      <td>-0.004</td>\n",
       "      <td>-0.007</td>\n",
       "      <td>-0.003</td>\n",
       "      <td>-0.002</td>\n",
       "      <td>-0.001</td>\n",
       "      <td>140.500</td>\n",
       "    </tr>\n",
       "    <tr>\n",
       "      <th>75%</th>\n",
       "      <td>0.038</td>\n",
       "      <td>0.051</td>\n",
       "      <td>0.031</td>\n",
       "      <td>0.036</td>\n",
       "      <td>0.028</td>\n",
       "      <td>0.030</td>\n",
       "      <td>0.029</td>\n",
       "      <td>0.034</td>\n",
       "      <td>0.032</td>\n",
       "      <td>0.028</td>\n",
       "      <td>211.500</td>\n",
       "    </tr>\n",
       "    <tr>\n",
       "      <th>max</th>\n",
       "      <td>0.111</td>\n",
       "      <td>0.051</td>\n",
       "      <td>0.171</td>\n",
       "      <td>0.132</td>\n",
       "      <td>0.154</td>\n",
       "      <td>0.199</td>\n",
       "      <td>0.181</td>\n",
       "      <td>0.185</td>\n",
       "      <td>0.134</td>\n",
       "      <td>0.136</td>\n",
       "      <td>346.000</td>\n",
       "    </tr>\n",
       "  </tbody>\n",
       "</table>\n",
       "</div>"
      ],
      "text/plain": [
       "          age     sex     bmi      bp      s1      s2      s3      s4      s5  \\\n",
       "count 442.000 442.000 442.000 442.000 442.000 442.000 442.000 442.000 442.000   \n",
       "mean   -0.000   0.000  -0.000  -0.000  -0.000   0.000  -0.000  -0.000   0.000   \n",
       "std     0.048   0.048   0.048   0.048   0.048   0.048   0.048   0.048   0.048   \n",
       "min    -0.107  -0.045  -0.090  -0.112  -0.127  -0.116  -0.102  -0.076  -0.126   \n",
       "25%    -0.037  -0.045  -0.034  -0.037  -0.034  -0.030  -0.035  -0.039  -0.033   \n",
       "50%     0.005  -0.045  -0.007  -0.006  -0.004  -0.004  -0.007  -0.003  -0.002   \n",
       "75%     0.038   0.051   0.031   0.036   0.028   0.030   0.029   0.034   0.032   \n",
       "max     0.111   0.051   0.171   0.132   0.154   0.199   0.181   0.185   0.134   \n",
       "\n",
       "           s6  response(y)  \n",
       "count 442.000      442.000  \n",
       "mean    0.000      152.133  \n",
       "std     0.048       77.093  \n",
       "min    -0.138       25.000  \n",
       "25%    -0.033       87.000  \n",
       "50%    -0.001      140.500  \n",
       "75%     0.028      211.500  \n",
       "max     0.136      346.000  "
      ]
     },
     "execution_count": 7,
     "metadata": {},
     "output_type": "execute_result"
    }
   ],
   "source": [
    "df.describe()"
   ]
  },
  {
   "cell_type": "markdown",
   "id": "867d3833-95f5-40a6-8ef5-3437a1b72726",
   "metadata": {},
   "source": [
    "Note that we have 10 features. If we want to apply linear regression here, we will have 10 parameters (for each feature) and a bias term. $$y^{(i)}={\\bf w} \\cdot {\\bf x^{(i)}} +b$$\n",
    "Here, vector ${\\bf w}$ contains all 10 parameters and vector ${\\bf x^{(i)}}$ is values of $i$-th sample.\n",
    "\n",
    "Let's combine all samples together to get:\n",
    "\n",
    "$$X  {\\bf w} +b = {\\bf y}$$ \n",
    "\n",
    "Now, $X$ is a matrix consisisting of all of our data, where each row corresponds to a single sample and each column is a single feature. Make sure this product makes sense.\n",
    "\n",
    "Finally, the loss function is\n",
    "\n",
    "$$Loss = \\frac{1}{N}||X  {\\bf w} +b -{\\bf y}||^2$$\n",
    "\n",
    "In the code below, when we create a linear model, we feed it number of features parameter, which is 10 in our case. The 1 the we feed it, is how many outputs we get for each sample. It is 1 again, because for each sample, we have a single value $y$ as the output."
   ]
  },
  {
   "cell_type": "code",
   "execution_count": 8,
   "id": "3976294a-99f3-48ae-8f64-006fb1a1de9d",
   "metadata": {},
   "outputs": [],
   "source": [
    "X, y = datasets.load_diabetes(return_X_y=True)"
   ]
  },
  {
   "cell_type": "code",
   "execution_count": 9,
   "id": "3887cb41-bc2e-461d-a8d0-27f76fbd67e8",
   "metadata": {},
   "outputs": [],
   "source": [
    "X_trainN, X_testN, y_trainN, y_testN = train_test_split(X, y, test_size=0.30)\n",
    "\n",
    "X_train=torch.from_numpy(X_trainN.astype(np.float32))\n",
    "y_train=torch.from_numpy(y_trainN.astype(np.float32))\n",
    "X_test=torch.from_numpy(X_testN.astype(np.float32))\n",
    "y_test=torch.from_numpy(y_testN.astype(np.float32))"
   ]
  },
  {
   "cell_type": "code",
   "execution_count": 10,
   "id": "a951a0ee-034f-48c9-bf60-f5b5e7c2850a",
   "metadata": {},
   "outputs": [],
   "source": [
    "n_samples, n_features = X_train.shape\n",
    "y_train=y_train.view(y_train.shape[0], 1) \n",
    "y_test=y_test.view(y_test.shape[0], 1) "
   ]
  },
  {
   "cell_type": "code",
   "execution_count": 11,
   "id": "affe3fd6-6e6d-4c6f-bccb-96c8593bf9d6",
   "metadata": {},
   "outputs": [],
   "source": [
    "model=nn.Linear(n_features, 1)\n",
    "\n",
    "lr=0.5\n",
    "n_epoch=1000\n",
    "\n",
    "lossfunc=nn.MSELoss()\n",
    "optimizer=torch.optim.SGD(model.parameters(), lr=lr)  \n",
    "train_loss=[]\n",
    "test_loss=[]\n",
    "\n",
    "\n",
    "for epoch in range(n_epoch):\n",
    "    model.train()\n",
    "    y_pred=model(X_train)\n",
    "    loss=lossfunc(y_train, y_pred)\n",
    "    loss.backward()   \n",
    "    train_loss.append(loss.item())\n",
    "    optimizer.step()\n",
    "    optimizer.zero_grad()\n",
    "    \n",
    "    [w,b]=model.parameters()\n",
    "\n",
    "    model.eval()\n",
    "    with torch.inference_mode(): \n",
    "        y_test_pred=model(X_test)\n",
    "        lost_test=lossfunc(y_test, y_test_pred)\n",
    "        test_loss.append(lost_test)\n",
    "    \n",
    "    #print(f' epoch {epoch+1}: Train Loss = {loss:.3f}, Test Loss= {lost_test:.3f}')   "
   ]
  },
  {
   "cell_type": "code",
   "execution_count": 12,
   "id": "185f448c-f79b-466a-bbe2-10eb5395921b",
   "metadata": {},
   "outputs": [
    {
     "data": {
      "image/png": "[encoded data removed]",
      "text/plain": [
       "<Figure size 640x480 with 1 Axes>"
      ]
     },
     "metadata": {},
     "output_type": "display_data"
    }
   ],
   "source": [
    "fig=plt.figure()\n",
    "xv=np.arange(1, n_epoch,1)\n",
    "plt.plot(xv,train_loss[1:], 'r', label=\"Train Loss\")\n",
    "plt.plot(xv,test_loss[:-1], 'b', label=\"Test Loss\")\n",
    "plt.xlabel(\"Epoch\")\n",
    "plt.ylabel(\"Loss\")\n",
    "plt.legend()\n",
    "plt.grid()\n",
    "fig.show()"
   ]
  },
  {
   "cell_type": "markdown",
   "id": "351d55da-3d9d-4925-89d3-43d1de4340b5",
   "metadata": {},
   "source": [
    "One way to measure how good is our linear fit is to use $R^2$ score (a.k.a Coefficient of determination or goodness of fit)"
   ]
  },
  {
   "cell_type": "code",
   "execution_count": 13,
   "id": "0ea571f3-1383-42dd-ae95-9e32971074e7",
   "metadata": {},
   "outputs": [
    {
     "name": "stdout",
     "output_type": "stream",
     "text": [
      "Coefficient of determination: 0.56\n"
     ]
    }
   ],
   "source": [
    "with torch.inference_mode(): \n",
    "    y_test_pred=model(X_test)\n",
    "print('Coefficient of determination: %.2f' % r2_score(y_test, y_test_pred))"
   ]
  },
  {
   "cell_type": "markdown",
   "id": "f917e7a3-4966-43a1-ba35-55b99585f227",
   "metadata": {},
   "source": [
    "Let's compare this to Linear Regression found by using build-in sklearn function that uses direct way of computing linear regression."
   ]
  },
  {
   "cell_type": "code",
   "execution_count": 14,
   "id": "97091e8b-aa29-4cd6-87d6-ff67c1db367b",
   "metadata": {},
   "outputs": [
    {
     "name": "stdout",
     "output_type": "stream",
     "text": [
      "Coefficient of determination: 0.57\n"
     ]
    }
   ],
   "source": [
    "\n",
    "\n",
    "regr = LinearRegression()\n",
    "regr.fit(X_train, y_train)\n",
    "pred = regr.predict(X_test)\n",
    "\n",
    "print('Coefficient of determination: %.2f' % r2_score(y_test, pred))"
   ]
  },
  {
   "cell_type": "markdown",
   "id": "fa139b30-73b2-4af0-a884-982e12c4ac9f",
   "metadata": {},
   "source": [
    "### Polynomial Regression\n",
    "\n",
    "Polynomial regression is a generalization of linear regression. Instead of trying to fit a line (which is a degree 1 polynomial), we fit a polynomial  curve of a certain degree: $$y=w_1x+w_2x^2+...+b$$ Notice this is quite similar to multi-feature linear regression: instead of different features we have different powers of $x$. And this is exactly how we are going to look at it. We will convert powers into features using `PolynomialFeatures`. Let's generate a random set and use degree 3 polynomial regression.\n",
    "\n"
   ]
  },
  {
   "cell_type": "code",
   "execution_count": 3,
   "id": "322b32af-2da7-42c4-ab13-97a87c06a559",
   "metadata": {},
   "outputs": [
    {
     "data": {
      "image/png": "[encoded data removed]",
      "text/plain": [
       "<Figure size 640x480 with 1 Axes>"
      ]
     },
     "metadata": {},
     "output_type": "display_data"
    }
   ],
   "source": [
    "n_samples=40\n",
    "X = np.random.rand(n_samples)\n",
    "y=np.cos(1.5 * np.pi * X)+0.5*np.random.rand(n_samples)\n",
    "X=X.reshape(-1,1)\n",
    "\n",
    "fig=plt.figure()\n",
    "plt.scatter(X,y, c='b', s=50, alpha=.5)\n",
    "fig.show()"
   ]
  },
  {
   "cell_type": "code",
   "execution_count": 8,
   "id": "b60a5b93-db10-4a3d-91e7-6c0765790e7e",
   "metadata": {},
   "outputs": [
    {
     "data": {
      "text/plain": [
       "(array([1.        , 0.44936438, 0.20192834, 0.09073941]), array([0.44936438]))"
      ]
     },
     "execution_count": 8,
     "metadata": {},
     "output_type": "execute_result"
    }
   ],
   "source": [
    "poly = PolynomialFeatures(degree=3, include_bias=True)\n",
    "poly_features = poly.fit_transform(X)\n",
    "poly_features[10], X[10]"
   ]
  },
  {
   "cell_type": "code",
   "execution_count": 24,
   "id": "9ae4775c-8569-47a3-9b59-35c6e6edfa03",
   "metadata": {},
   "outputs": [
    {
     "data": {
      "image/png": "[encoded data removed]",
      "text/plain": [
       "<Figure size 800x800 with 1 Axes>"
      ]
     },
     "metadata": {},
     "output_type": "display_data"
    }
   ],
   "source": [
    "#create polynomial regression model\n",
    "poly_model = LinearRegression()\n",
    "poly_model.fit(poly_features, y)\n",
    "\n",
    "\n",
    "#plot\n",
    "fig=plt.figure(figsize=(8,8))\n",
    "\n",
    "#get the regression curve\n",
    "xv=np.linspace(0,1,100).reshape(-1,1)\n",
    "xv_to_poly=poly.transform(xv)\n",
    "y_pred = poly_model.predict(xv_to_poly)\n",
    "plt.plot(xv, y_pred, '-r')\n",
    "\n",
    "#add original data\n",
    "\n",
    "plt.scatter(X,y, c='b', s=50, alpha=.5, edgecolor='k')\n",
    "\n",
    "plt.title('Polynomial Regression')\n",
    "plt.show()"
   ]
  },
  {
   "cell_type": "code",
   "execution_count": null,
   "id": "535cd4d0-70ec-41e1-ac07-13a1f7c4255f",
   "metadata": {},
   "outputs": [],
   "source": []
  }
 ],
 "metadata": {
  "kernelspec": {
   "display_name": "Python 3 (ipykernel)",
   "language": "python",
   "name": "python3"
  },
  "language_info": {
   "codemirror_mode": {
    "name": "ipython",
    "version": 3
   },
   "file_extension": ".py",
   "mimetype": "text/x-python",
   "name": "python",
   "nbconvert_exporter": "python",
   "pygments_lexer": "ipython3",
   "version": "3.11.8"
  }
 },
 "nbformat": 4,
 "nbformat_minor": 5
}
